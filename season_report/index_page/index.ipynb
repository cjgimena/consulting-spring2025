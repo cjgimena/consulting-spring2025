{
 "cells": [
  {
   "cell_type": "markdown",
   "id": "7b0a627e",
   "metadata": {},
   "source": [
    "## Match Index Notebook\n",
    "This Notebook is for the Index Page of the Season Reports"
   ]
  },
  {
   "cell_type": "markdown",
   "id": "42f5a59d",
   "metadata": {},
   "source": [
    "### Load Packages"
   ]
  },
  {
   "cell_type": "code",
   "execution_count": null,
   "id": "9768f1a2",
   "metadata": {},
   "outputs": [],
   "source": [
    "import pandas as pd\n",
    "import re\n",
    "import os\n",
    "\n",
    "import ipywidgets as widgets\n",
    "from IPython.display import display"
   ]
  },
  {
   "cell_type": "markdown",
   "id": "3aa7141f",
   "metadata": {},
   "source": [
    "### Read Data"
   ]
  },
  {
   "cell_type": "code",
   "execution_count": null,
   "id": "fe01331f",
   "metadata": {},
   "outputs": [],
   "source": [
    "# Dropdown with a non-valid default option\n",
    "choose_player_dropdown = widgets.Dropdown(\n",
    "    options=['-- Select --', 'Rudy Quan', 'Emon Van Loben Sels', 'Kaylan Bigun', 'Alexander Hoogmartens', \n",
    "             'Spencer Johnson', 'Aadarsh Tripathi', 'Giacomo Revelli', 'Gianluca Ballotta'],\n",
    "    value='-- Select --',\n",
    "    description='Category:'\n",
    ")\n",
    "\n",
    "display(choose_player_dropdown)\n",
    "\n",
    "# Set School\n",
    "school = 'University of California, Los Angeles'"
   ]
  },
  {
   "cell_type": "code",
   "execution_count": null,
   "id": "e29a8f12",
   "metadata": {},
   "outputs": [],
   "source": [
    "# Check selection before proceeding\n",
    "if choose_player_dropdown.value == '-- Select --':\n",
    "    raise ValueError(\"Please choose a valid category from the dropdown menu in the previous cell before proceeding.\")\n",
    "\n",
    "# If valid, use the value\n",
    "player_name = choose_player_dropdown.value"
   ]
  },
  {
   "cell_type": "code",
   "execution_count": null,
   "id": "7e0648bc",
   "metadata": {},
   "outputs": [],
   "source": [
    "# Subset 2024-2025 Season Matches!\n",
    "matches = pd.read_csv('../../data/mens/mens_results.csv')[:253]\n",
    "\n",
    "# Change Date Format\n",
    "matches['Date'] = pd.to_datetime(matches['Date'])\n",
    "\n",
    "# Function to Filter by Player and School Matches Only\n",
    "def filter_player(data, player_name):\n",
    "\n",
    "    # Filter for player_name\n",
    "    data = data[(data['Player1'] == player_name) | (data['Player2'] == player_name)]\n",
    "\n",
    "    # Filter for only school events\n",
    "    data = data[data['Event Name'].str.startswith(('Dual Match', '2024 ITA', '2024-25 NCAA Division'))]\n",
    "    return data\n",
    "\n",
    "\n",
    "matches = filter_player(matches, player_name)"
   ]
  },
  {
   "cell_type": "code",
   "execution_count": null,
   "id": "0ee62033",
   "metadata": {},
   "outputs": [],
   "source": [
    "matches"
   ]
  },
  {
   "cell_type": "markdown",
   "id": "90836b34",
   "metadata": {},
   "source": [
    "### index_csv() Function"
   ]
  },
  {
   "cell_type": "markdown",
   "id": "290ab1dc",
   "metadata": {},
   "source": [
    "#### Helper Function to Flip Scores"
   ]
  },
  {
   "cell_type": "code",
   "execution_count": null,
   "id": "3f32124a",
   "metadata": {},
   "outputs": [],
   "source": [
    "# Helper function to flip scores like \"7-6(5), 5-7, 6-3\"\n",
    "# Also does not include commas in the final result\n",
    "\n",
    "def flip_score(score_str, player1):\n",
    "\n",
    "    if player1 in player_name:\n",
    "        return score_str.replace(\",\", \"\")\n",
    "\n",
    "    flipped = []\n",
    "    for set_score in score_str.split(', '):\n",
    "        match = re.match(r'(\\d+)-(\\d+)(\\(\\d+\\))?', set_score)\n",
    "        if match:\n",
    "            p1, p2, tiebreak = match.groups()\n",
    "            flipped_score = f\"{p2}-{p1}\"\n",
    "            if tiebreak:\n",
    "                flipped_score += tiebreak\n",
    "            flipped.append(flipped_score)\n",
    "        else:\n",
    "            flipped.append(set_score)  # Preserve unrecognized formats\n",
    "    else: \n",
    "        return ' '.join(flipped)"
   ]
  },
  {
   "cell_type": "code",
   "execution_count": null,
   "id": "e78eaec9",
   "metadata": {},
   "outputs": [],
   "source": [
    "# Make Win and Loss --> \"W\" and \"L\" AND take into account UNFINISHED matches \"UF\"\n",
    "# eg. 6-3 6-3 W  | 3-6 4-6 L  | 2-6 6-5 UF\n",
    "\n",
    "def determine_result(row):\n",
    "    score = row['Score']\n",
    "    if pd.isna(score) or 'UF' in str(score).upper():\n",
    "        return 'UF'\n",
    "\n",
    "    sets = score.split(',')\n",
    "    p1_sets_won = 0\n",
    "    p2_sets_won = 0\n",
    "    valid_sets = 0\n",
    "\n",
    "    for i, set_score in enumerate(sets):\n",
    "        set_score = set_score.strip()\n",
    "\n",
    "        # Special case for 10-point tiebreaker in the third set\n",
    "        if i == len(sets) - 1:  # Check if it is the last set\n",
    "            match_tb = re.match(r'(1-0|0-1)\\((\\d+)\\)', set_score)\n",
    "            if match_tb:\n",
    "                if match_tb.group(1) == '1-0':\n",
    "                    p1_sets_won += 1\n",
    "                else:\n",
    "                    p2_sets_won += 1\n",
    "                valid_sets += 1\n",
    "                continue\n",
    "\n",
    "        # Regular set score matching\n",
    "        match = re.match(r'(\\d+)-(\\d+)(\\(\\d+\\))?', set_score)\n",
    "        if match:\n",
    "            p1_games, p2_games, tiebreak = match.groups()\n",
    "            p1_games, p2_games = int(p1_games), int(p2_games)\n",
    "\n",
    "            # Check if the set is complete (at least 6 games with a difference of 2)\n",
    "            if (p1_games >= 6 or p2_games >= 6) and abs(p1_games - p2_games) >= 2:\n",
    "                valid_sets += 1\n",
    "                if p1_games > p2_games:\n",
    "                    p1_sets_won += 1\n",
    "                else:\n",
    "                    p2_sets_won += 1\n",
    "            # Check for tiebreak set with 7 games (e.g., 7-6)\n",
    "            elif (p1_games == 7 or p2_games == 7) and (p1_games >= 6 and p2_games >= 6):\n",
    "                valid_sets += 1\n",
    "                if p1_games > p2_games:\n",
    "                    p1_sets_won += 1\n",
    "                else:\n",
    "                    p2_sets_won += 1\n",
    "            else:\n",
    "                # Unfinished set if conditions are not met\n",
    "                return 'UF'\n",
    "        else:\n",
    "            # If the format is not recognized, mark as unfinished\n",
    "            return 'UF'\n",
    "\n",
    "    # Check if the match is complete based on valid sets won\n",
    "    if (valid_sets >= 2 and (p1_sets_won == 2 or p2_sets_won == 2)) or (valid_sets >= 3 and (p1_sets_won == 3 or p2_sets_won == 3)):\n",
    "        if row['Player1'] == player_name:\n",
    "            return 'W' if p1_sets_won > p2_sets_won else 'L'\n",
    "        elif row['Player2'] == player_name:\n",
    "            return 'W' if p2_sets_won > p1_sets_won else 'L'\n",
    "    return 'UF'\n"
   ]
  },
  {
   "cell_type": "code",
   "execution_count": null,
   "id": "2ed28326",
   "metadata": {},
   "outputs": [],
   "source": [
    "def index_csv(data, player_name, school):\n",
    "\n",
    "    # Filter for Player\n",
    "    df = data[(data['Player1'] == player_name) | (matches['Player2'] == player_name)].copy()\n",
    "    \n",
    "    # Extract opponent name from 'Event Name'\n",
    "    def get_opponent(event):\n",
    "        if not isinstance(event, str):\n",
    "            return None\n",
    "        teams = re.findall(r'vs\\s(.+)', event)\n",
    "        if school in event and teams:\n",
    "            return teams[0].strip() if school in event.split('vs')[0] else event.split('vs')[0].replace('Dual Match:', '').strip()\n",
    "        return None\n",
    "\n",
    "    # Create opponent_school Column\n",
    "    df['opponent_school'] = df['Event Name'].apply(get_opponent)\n",
    "\n",
    "    # Create opponent Column\n",
    "    df['opponent'] = df.apply(lambda row: row['Player2'] if row['Player1'] in player_name \n",
    "                                    else (row['Player1'] if row['Player2'] in player_name \n",
    "                                    else None\n",
    "                                    ), axis=1\n",
    "                                    )\n",
    "    \n",
    "    # Make all names to where the only the first letter of each name is capitalized\n",
    "    # eg. Aristotelis THANOS --> Aristotelis Thanos\n",
    "    df['opponent'] = df['opponent'].str.title()    \n",
    "\n",
    "    # Flip the score only if Player 2 is a UCLA player\n",
    "    df['Score (UCLA Perspective)'] = df.apply(lambda row: flip_score(row['Score'], row['Player1']),\n",
    "                                                        axis=1)\n",
    "\n",
    "    # Result column\n",
    "    df['ucla_result'] = df.apply(determine_result, axis=1)\n",
    "\n",
    "    # Convert the 'Date' column to datetime format\n",
    "    df['Date'] = pd.to_datetime(df['Date'])\n",
    "    \n",
    "    # Make date column to mm/dd/yy format\n",
    "    # eg. 2025-04-26 --> 04/26/25\n",
    "    df['Date'] = df['Date'].dt.strftime('%m/%d/%y')\n",
    "    \n",
    "    # Final Columns + rename columns\n",
    "    final_df = df[['opponent_school', \n",
    "                   'opponent', \n",
    "                   'Score (UCLA Perspective)', \n",
    "                   'ucla_result',\n",
    "                   'Date']].rename(columns={'Score (UCLA Perspective)': 'score',\n",
    "                                            'ucla_result': 'result',\n",
    "                                            'Date': 'date'\n",
    "                                            })\n",
    "\n",
    "    return final_df"
   ]
  },
  {
   "cell_type": "markdown",
   "id": "fb2a4d04",
   "metadata": {},
   "source": [
    "### Output Function Result"
   ]
  },
  {
   "cell_type": "code",
   "execution_count": null,
   "id": "602dcd05",
   "metadata": {},
   "outputs": [],
   "source": [
    "matches_cleaned = index_csv(matches, player_name, school)\n",
    "matches_cleaned"
   ]
  },
  {
   "cell_type": "code",
   "execution_count": null,
   "id": "38dab7e1",
   "metadata": {},
   "outputs": [],
   "source": [
    "# Output to csv in index_page folder\n",
    "\n",
    "player_name_nospace = player_name.replace(' ', '')\n",
    "\n",
    "# Save the DataFrame to a CSV file\n",
    "matches_cleaned.to_csv(f'{player_name_nospace}_matches.csv', index=False)\n",
    "\n",
    "# Split DataFrame into chunks of 15 rows\n",
    "chunk_size = 15\n",
    "chunks = [matches_cleaned.iloc[i:i + chunk_size] for i in range(0, len(matches_cleaned), chunk_size)]\n",
    "\n",
    "# Save each chunk as a separate CSV file\n",
    "for idx, chunk in enumerate(chunks):\n",
    "    chunk.to_csv(f'{player_name_nospace}_matches{idx+1}.csv', index=False)\n",
    "    print(f'{player_name_nospace}_matches{idx+1}.csv' + ' Saved!')"
   ]
  }
 ],
 "metadata": {
  "kernelspec": {
   "display_name": "base",
   "language": "python",
   "name": "python3"
  },
  "language_info": {
   "codemirror_mode": {
    "name": "ipython",
    "version": 3
   },
   "file_extension": ".py",
   "mimetype": "text/x-python",
   "name": "python",
   "nbconvert_exporter": "python",
   "pygments_lexer": "ipython3",
   "version": "3.11.5"
  }
 },
 "nbformat": 4,
 "nbformat_minor": 5
}
