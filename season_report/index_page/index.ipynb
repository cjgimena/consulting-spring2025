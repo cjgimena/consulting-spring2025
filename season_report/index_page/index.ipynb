{
 "cells": [
  {
   "cell_type": "markdown",
   "id": "7b0a627e",
   "metadata": {},
   "source": [
    "## Match Index Notebook"
   ]
  },
  {
   "cell_type": "code",
   "execution_count": 2,
   "id": "bb23f7f7",
   "metadata": {},
   "outputs": [],
   "source": [
    "import pandas as pd\n",
    "import os"
   ]
  },
  {
   "cell_type": "code",
   "execution_count": 4,
   "id": "b180118d",
   "metadata": {},
   "outputs": [
    {
     "name": "stdout",
     "output_type": "stream",
     "text": [
      "/Users/cjgimena/Desktop/Github/consulting-spring2025\n"
     ]
    }
   ],
   "source": [
    "parent_dir = os.path.abspath('../..') # \"..\" means go back 1 directory!\n",
    "print(parent_dir)"
   ]
  },
  {
   "cell_type": "code",
   "execution_count": 29,
   "id": "e7f26f94",
   "metadata": {},
   "outputs": [
    {
     "data": {
      "text/plain": [
       "'/Users/cjgimena/Desktop/Github/consulting-spring2025/data/mens/mens_results.csv'"
      ]
     },
     "execution_count": 29,
     "metadata": {},
     "output_type": "execute_result"
    }
   ],
   "source": [
    "file_path = os.path.join(parent_dir, 'data/mens/mens_results.csv')\n",
    "file_path\n"
   ]
  },
  {
   "cell_type": "code",
   "execution_count": 30,
   "id": "8b83b351",
   "metadata": {},
   "outputs": [
    {
     "data": {
      "text/html": [
       "<div>\n",
       "<style scoped>\n",
       "    .dataframe tbody tr th:only-of-type {\n",
       "        vertical-align: middle;\n",
       "    }\n",
       "\n",
       "    .dataframe tbody tr th {\n",
       "        vertical-align: top;\n",
       "    }\n",
       "\n",
       "    .dataframe thead th {\n",
       "        text-align: right;\n",
       "    }\n",
       "</style>\n",
       "<table border=\"1\" class=\"dataframe\">\n",
       "  <thead>\n",
       "    <tr style=\"text-align: right;\">\n",
       "      <th></th>\n",
       "      <th>Event Name</th>\n",
       "      <th>Date</th>\n",
       "      <th>Player1</th>\n",
       "      <th>Player1 UTR</th>\n",
       "      <th>Player2</th>\n",
       "      <th>Player2 UTR</th>\n",
       "      <th>Score</th>\n",
       "    </tr>\n",
       "  </thead>\n",
       "  <tbody>\n",
       "    <tr>\n",
       "      <th>0</th>\n",
       "      <td>Dual Match: University of California, Los Ange...</td>\n",
       "      <td>2025-04-26</td>\n",
       "      <td>Emon Van Loben Sels</td>\n",
       "      <td>13.59</td>\n",
       "      <td>Alexander Bernard</td>\n",
       "      <td>13.33</td>\n",
       "      <td>7-6(5), 5-7, 6-3</td>\n",
       "    </tr>\n",
       "    <tr>\n",
       "      <th>1</th>\n",
       "      <td>Dual Match: University of California, Los Ange...</td>\n",
       "      <td>2025-04-26</td>\n",
       "      <td>Alexander Hoogmartens</td>\n",
       "      <td>13.00</td>\n",
       "      <td>Jack Anthrop</td>\n",
       "      <td>13.66</td>\n",
       "      <td>7-5, 0-6, 6-4</td>\n",
       "    </tr>\n",
       "    <tr>\n",
       "      <th>2</th>\n",
       "      <td>Dual Match: University of California, Los Ange...</td>\n",
       "      <td>2025-04-26</td>\n",
       "      <td>Aidan Kim</td>\n",
       "      <td>13.75</td>\n",
       "      <td>Rudy Quan</td>\n",
       "      <td>13.67</td>\n",
       "      <td>7-6(3), 6-2</td>\n",
       "    </tr>\n",
       "    <tr>\n",
       "      <th>3</th>\n",
       "      <td>Dual Match: University of California, Los Ange...</td>\n",
       "      <td>2025-04-26</td>\n",
       "      <td>Preston Stearns</td>\n",
       "      <td>13.08</td>\n",
       "      <td>Aadarsh Tripathi</td>\n",
       "      <td>12.94</td>\n",
       "      <td>6-3, 2-6, 6-2</td>\n",
       "    </tr>\n",
       "    <tr>\n",
       "      <th>4</th>\n",
       "      <td>Dual Match: University of California, Los Ange...</td>\n",
       "      <td>2025-04-26</td>\n",
       "      <td>Kaylan Bigun</td>\n",
       "      <td>13.17</td>\n",
       "      <td>William Jansen</td>\n",
       "      <td>13.24</td>\n",
       "      <td>6-2, 7-5</td>\n",
       "    </tr>\n",
       "  </tbody>\n",
       "</table>\n",
       "</div>"
      ],
      "text/plain": [
       "                                          Event Name        Date  \\\n",
       "0  Dual Match: University of California, Los Ange...  2025-04-26   \n",
       "1  Dual Match: University of California, Los Ange...  2025-04-26   \n",
       "2  Dual Match: University of California, Los Ange...  2025-04-26   \n",
       "3  Dual Match: University of California, Los Ange...  2025-04-26   \n",
       "4  Dual Match: University of California, Los Ange...  2025-04-26   \n",
       "\n",
       "                 Player1  Player1 UTR            Player2  Player2 UTR  \\\n",
       "0    Emon Van Loben Sels        13.59  Alexander Bernard        13.33   \n",
       "1  Alexander Hoogmartens        13.00       Jack Anthrop        13.66   \n",
       "2              Aidan Kim        13.75          Rudy Quan        13.67   \n",
       "3        Preston Stearns        13.08   Aadarsh Tripathi        12.94   \n",
       "4           Kaylan Bigun        13.17     William Jansen        13.24   \n",
       "\n",
       "              Score  \n",
       "0  7-6(5), 5-7, 6-3  \n",
       "1     7-5, 0-6, 6-4  \n",
       "2       7-6(3), 6-2  \n",
       "3     6-3, 2-6, 6-2  \n",
       "4          6-2, 7-5  "
      ]
     },
     "execution_count": 30,
     "metadata": {},
     "output_type": "execute_result"
    }
   ],
   "source": [
    "matches = pd.read_csv(file_path)\n",
    "matches.head()"
   ]
  },
  {
   "cell_type": "code",
   "execution_count": 32,
   "id": "41cd6134",
   "metadata": {},
   "outputs": [
    {
     "data": {
      "text/html": [
       "<div>\n",
       "<style scoped>\n",
       "    .dataframe tbody tr th:only-of-type {\n",
       "        vertical-align: middle;\n",
       "    }\n",
       "\n",
       "    .dataframe tbody tr th {\n",
       "        vertical-align: top;\n",
       "    }\n",
       "\n",
       "    .dataframe thead th {\n",
       "        text-align: right;\n",
       "    }\n",
       "</style>\n",
       "<table border=\"1\" class=\"dataframe\">\n",
       "  <thead>\n",
       "    <tr style=\"text-align: right;\">\n",
       "      <th></th>\n",
       "      <th>school_name</th>\n",
       "      <th>opponent</th>\n",
       "      <th>score</th>\n",
       "      <th>date</th>\n",
       "    </tr>\n",
       "  </thead>\n",
       "  <tbody>\n",
       "    <tr>\n",
       "      <th>0</th>\n",
       "      <td>UCLA</td>\n",
       "      <td>Govind Nanda</td>\n",
       "      <td>7-6(5)</td>\n",
       "      <td>04/25/25</td>\n",
       "    </tr>\n",
       "    <tr>\n",
       "      <th>1</th>\n",
       "      <td>Oregon</td>\n",
       "      <td>Vlad whatever</td>\n",
       "      <td>NaN</td>\n",
       "      <td>03/24/28</td>\n",
       "    </tr>\n",
       "    <tr>\n",
       "      <th>2</th>\n",
       "      <td>Univeristy of Washington</td>\n",
       "      <td>Cesar Bouchelaghem</td>\n",
       "      <td>6-4 7-6(3)</td>\n",
       "      <td>03/24/28</td>\n",
       "    </tr>\n",
       "  </tbody>\n",
       "</table>\n",
       "</div>"
      ],
      "text/plain": [
       "                school_name            opponent       score      date\n",
       "0                      UCLA        Govind Nanda      7-6(5)  04/25/25\n",
       "1                    Oregon       Vlad whatever         NaN  03/24/28\n",
       "2  Univeristy of Washington  Cesar Bouchelaghem  6-4 7-6(3)  03/24/28"
      ]
     },
     "execution_count": 32,
     "metadata": {},
     "output_type": "execute_result"
    }
   ],
   "source": [
    "# Create a function that returns data in this format\n",
    "file_path = os.path.join(parent_dir, 'data/index_sample.csv')\n",
    "sample_output = pd.read_csv(file_path)\n",
    "sample_output"
   ]
  },
  {
   "cell_type": "code",
   "execution_count": null,
   "id": "9a0feb06",
   "metadata": {},
   "outputs": [],
   "source": [
    "# Column Format Guidelines:\n",
    "\n",
    "# school_name: Full School Name\n",
    "# opponent: Full Name\n",
    "# score: Respect to Player we are querying for (switch score if ucla player lost)\n",
    "# date: 00/00/00"
   ]
  },
  {
   "cell_type": "code",
   "execution_count": null,
   "id": "f342ec36",
   "metadata": {},
   "outputs": [],
   "source": []
  },
  {
   "cell_type": "code",
   "execution_count": null,
   "id": "872b4532",
   "metadata": {},
   "outputs": [],
   "source": []
  }
 ],
 "metadata": {
  "kernelspec": {
   "display_name": "base",
   "language": "python",
   "name": "python3"
  },
  "language_info": {
   "codemirror_mode": {
    "name": "ipython",
    "version": 3
   },
   "file_extension": ".py",
   "mimetype": "text/x-python",
   "name": "python",
   "nbconvert_exporter": "python",
   "pygments_lexer": "ipython3",
   "version": "3.11.5"
  }
 },
 "nbformat": 4,
 "nbformat_minor": 5
}
