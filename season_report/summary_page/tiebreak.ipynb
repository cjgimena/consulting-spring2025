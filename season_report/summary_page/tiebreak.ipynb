{
 "cells": [
  {
   "cell_type": "code",
   "execution_count": 8,
   "id": "2b7797e8",
   "metadata": {},
   "outputs": [
    {
     "name": "stdout",
     "output_type": "stream",
     "text": [
      "Gianluca Ballotta: 3 wins, 3 losses\n",
      "Kaylan Bigun: 2 wins, 4 losses\n",
      "Cassius Chinlund: 0 wins, 0 losses\n",
      "Andrei Crabel: 0 wins, 0 losses\n",
      "Alexander Hoogmartens: 2 wins, 1 losses\n",
      "Spencer Johnson: 7 wins, 1 losses\n",
      "Rudy Quan: 1 wins, 5 losses\n",
      "Giacomo Revelli: 3 wins, 1 losses\n",
      "Aadarsh Tripathi: 3 wins, 3 losses\n",
      "Emon Van Loben Sels: 2 wins, 3 losses\n",
      "Leonard Von Bismarck: 0 wins, 0 losses\n"
     ]
    }
   ],
   "source": [
    "import os\n",
    "import pandas as pd \n",
    "\n",
    "parent_dir = os.path.abspath('../..') \n",
    "file_path = os.path.join(parent_dir, 'data/mens/mens_results.csv')\n",
    "file_path\n",
    "matches = pd.read_csv(file_path)\n",
    "\n",
    "\n",
    "def analyze_tiebreak_data(matches, mens_players):\n",
    "    \n",
    "    season_data = matches.iloc[:241]\n",
    "   \n",
    "    tiebreak_data = season_data[season_data['Score'].str.contains(r'6-7\\(|7-6\\(', na=False)]\n",
    "\n",
    "    player_records = {player: {\"wins\": 0, \"losses\": 0} for player in mens_players}\n",
    "\n",
    "  \n",
    "    for _, row in tiebreak_data.iterrows():\n",
    "        player1 = row.get(\"Player1\")\n",
    "        player2 = row.get(\"Player2\")\n",
    "\n",
    "        if player1 in mens_players:\n",
    "            player_records[player1][\"wins\"] += 1\n",
    "\n",
    "        if player2 in mens_players:\n",
    "            player_records[player2][\"losses\"] += 1\n",
    "\n",
    "    return player_records  \n",
    "\n",
    "mens_players = [\n",
    "    \"Gianluca Ballotta\", \"Kaylan Bigun\", \"Cassius Chinlund\", \"Andrei Crabel\",\n",
    "    \"Alexander Hoogmartens\", \"Spencer Johnson\", \"Rudy Quan\", \"Giacomo Revelli\",\n",
    "    \"Aadarsh Tripathi\", \"Emon Van Loben Sels\", \"Leonard Von Bismarck\"\n",
    "]\n",
    "\n",
    "\n",
    "records = analyze_tiebreak_data(matches, mens_players)\n",
    "\n",
    "\n",
    "for player, record in records.items():\n",
    "    print(f\"{player}: {record['wins']} wins, {record['losses']} losses\")\n",
    "\n"
   ]
  }
 ],
 "metadata": {
  "kernelspec": {
   "display_name": ".venv",
   "language": "python",
   "name": "python3"
  },
  "language_info": {
   "codemirror_mode": {
    "name": "ipython",
    "version": 3
   },
   "file_extension": ".py",
   "mimetype": "text/x-python",
   "name": "python",
   "nbconvert_exporter": "python",
   "pygments_lexer": "ipython3",
   "version": "3.13.3"
  }
 },
 "nbformat": 4,
 "nbformat_minor": 5
}
