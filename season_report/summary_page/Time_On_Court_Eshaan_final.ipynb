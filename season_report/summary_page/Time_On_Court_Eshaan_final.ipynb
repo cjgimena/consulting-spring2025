{
 "cells": [
  {
   "cell_type": "code",
   "execution_count": 1,
   "metadata": {},
   "outputs": [
    {
     "data": {
      "text/plain": [
       "'9:12'"
      ]
     },
     "execution_count": 1,
     "metadata": {},
     "output_type": "execute_result"
    }
   ],
   "source": [
    "import pandas as pd\n",
    "\n",
    "def average_court_time(data):\n",
    "    try:\n",
    "        if 'Duration' in data.columns and '__source_file__' in data.columns:\n",
    "            data['Duration'] = pd.to_numeric(data['Duration'], errors='coerce')\n",
    "\n",
    "            match_durations = (\n",
    "                data.groupby('__source_file__')['Duration']\n",
    "                .sum()\n",
    "                .div(60)  # convert to minutes\n",
    "                .round(1)\n",
    "            )\n",
    "\n",
    "            duration_minutes = match_durations.mean()\n",
    "            if pd.notna(duration_minutes):\n",
    "                hours = int(duration_minutes) // 60\n",
    "                mins = int(duration_minutes) % 60\n",
    "                return f\"{hours}:{mins:02d}\"\n",
    "\n",
    "    except Exception as e:\n",
    "        print(f\"Error: {e}\")\n",
    "\n",
    "    return None\n",
    "\n",
    "sets_df = pd.read_excel(\"/Users/eshaan/Desktop/Tennis Scouting/consulting-spring2025/data/mens/Rudy Quan/combined.xlsx\", sheet_name=\"Sets\")\n",
    "final_duration = average_court_time(sets_df)\n",
    "final_duration"
   ]
  }
 ],
 "metadata": {
  "kernelspec": {
   "display_name": "Python 3",
   "language": "python",
   "name": "python3"
  },
  "language_info": {
   "codemirror_mode": {
    "name": "ipython",
    "version": 3
   },
   "file_extension": ".py",
   "mimetype": "text/x-python",
   "name": "python",
   "nbconvert_exporter": "python",
   "pygments_lexer": "ipython3",
   "version": "3.12.7"
  }
 },
 "nbformat": 4,
 "nbformat_minor": 2
}
