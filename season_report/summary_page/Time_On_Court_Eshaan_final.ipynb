{
 "cells": [
  {
   "cell_type": "code",
<<<<<<< HEAD
<<<<<<< HEAD
   "execution_count": 1,
   "metadata": {},
   "outputs": [
    {
     "data": {
      "text/plain": [
       "78"
      ]
     },
     "execution_count": 1,
=======
   "execution_count": 2,
=======
   "execution_count": 1,
>>>>>>> 64e8c70 (updated court time function)
   "metadata": {},
   "outputs": [
    {
     "name": "stdout",
     "output_type": "stream",
     "text": [
      "\n",
      " Valid Match Durations (40–120 minutes):\n",
      "\n",
      "                             Match  Court Time (minutes)\n",
      "   Rudy Quan vs Pepperdine 2/27/25                 107.6\n",
      "     Rudy Quan vs Michigan 4/25/25                  86.0\n",
      "          Rudy Quan vs USC 2/22/25                  79.3\n",
      "     RudyQuan DeaconThomas Indiana                  74.3\n",
      "       Rudy Quan vs Indiana 3/7/25                  74.3\n",
      " Rudy Quan vs FloridaState 9/23/24                  66.6\n",
      "Rudy Quan vs MichiganState 4/13/25                  57.2\n",
      "\n",
      " Flagged Match Durations (outside 40–120 minutes):\n",
      "\n",
      "                    Match  Court Time (minutes)\n",
      " Rudy Quan vs Cal 1/25/25                   0.9\n",
      "Rudy Quan vs TAMU 1/25/25                   0.4\n",
      "\n",
      "Average court time for valid matches: 77.9 minutes\n"
     ]
    },
    {
     "data": {
      "text/plain": [
       "np.float64(77.9)"
      ]
     },
<<<<<<< HEAD
     "execution_count": 2,
>>>>>>> 666b9e7 (final court time)
=======
     "execution_count": 1,
>>>>>>> 64e8c70 (updated court time function)
     "metadata": {},
     "output_type": "execute_result"
    }
   ],
   "source": [
    "import pandas as pd\n",
<<<<<<< HEAD
    "\n",
    "def average_court_time(data):\n",
    "    try:\n",
    "        if 'Duration' in data.columns and '__source_file__' in data.columns:\n",
    "            data['Duration'] = pd.to_numeric(data['Duration'], errors='coerce')\n",
    "            data = data[data['Duration'] < 10000]\n",
    "\n",
    "            match_durations = (\n",
    "                data.groupby('__source_file__')['Duration']\n",
    "                .sum()\n",
    "                .div(60)  # convert to minutes\n",
    "                .round(1)\n",
    "            )\n",
    "\n",
    "            valid_durations = match_durations[(match_durations >= 40) & (match_durations <= 120)]\n",
    "\n",
    "            if not valid_durations.empty:\n",
    "                return round(valid_durations.mean())\n",
    "    except:\n",
    "        pass\n",
    "\n",
    "    return None\n",
    "\n",
    "sets_df = pd.read_excel(\"/Users/eshaan/Desktop/Tennis Scouting/consulting-spring2025/data/mens/Rudy Quan/combined.xlsx\", sheet_name=\"Sets\")\n",
    "average_court_time(sets_df)"
=======
    "import os\n",
    "\n",
    "def average_court_time(data):\n",
    "    valid_games = []\n",
    "    invalid_games = []\n",
    "\n",
    "    try:\n",
    "        if 'Duration' in data.columns and '__source_file__' in data.columns:\n",
    "            data['Duration'] = pd.to_numeric(data['Duration'], errors='coerce')\n",
    "            data = data[data['Duration'] < 10000]\n",
    "\n",
    "            grouped = data.groupby('__source_file__')['Duration'].sum().reset_index()\n",
    "            grouped['Court Time (minutes)'] = (grouped['Duration'] / 60).round(1)\n",
    "\n",
    "            for _, row in grouped.iterrows():\n",
    "                raw_name = os.path.splitext(row['__source_file__'])[0]\n",
    "                parts = raw_name.split('_')\n",
    "                if len(parts) >= 4:\n",
    "                    opponent = parts[1].replace(\"UMichigan\", \"Michigan\")\n",
    "                    date = f\"{parts[2]}/{parts[3]}/{parts[4]}\"\n",
    "                    match_name = f\"Rudy Quan vs {opponent} {date}\"\n",
    "                else:\n",
    "                    match_name = raw_name.replace('_', ' ')\n",
    "\n",
    "                minutes = row['Court Time (minutes)']\n",
    "                match_info = {\n",
    "                    'Match': match_name,\n",
    "                    'Court Time (minutes)': minutes\n",
    "                }\n",
    "\n",
    "                if 40 <= minutes <= 120:\n",
    "                    valid_games.append(match_info)\n",
    "                else:\n",
    "                    invalid_games.append(match_info)\n",
    "\n",
    "    except Exception as e:\n",
    "        print(f\"Error processing data: {e}\")\n",
    "        return None\n",
    "\n",
    "    valid_df = pd.DataFrame(valid_games).sort_values(by='Court Time (minutes)', ascending=False).reset_index(drop=True)\n",
    "    invalid_df = pd.DataFrame(invalid_games).sort_values(by='Court Time (minutes)', ascending=False).reset_index(drop=True)\n",
    "\n",
    "    print(\"\\n Valid Match Durations (40–120 minutes):\\n\")\n",
    "    print(valid_df.to_string(index=False))\n",
    "\n",
    "    print(\"\\n Flagged Match Durations (outside 40–120 minutes):\\n\")\n",
    "    print(invalid_df.to_string(index=False))\n",
    "\n",
    "    if not valid_df.empty:\n",
    "        average_minutes = round(valid_df['Court Time (minutes)'].mean(), 1)\n",
    "        print(f\"\\nAverage court time for valid matches: {average_minutes} minutes\")\n",
    "        return average_minutes\n",
    "    else:\n",
    "        print(\"\\nNo valid matches found.\")\n",
    "        return None\n",
<<<<<<< HEAD
    "average_court_time(\"Rudy Quan\")"
>>>>>>> 666b9e7 (final court time)
=======
    "\n",
    "sets_df = pd.read_excel(\"/Users/eshaan/Desktop/Tennis Scouting/consulting-spring2025/data/mens/Rudy Quan/combined.xlsx\", sheet_name=\"Sets\")\n",
    "average_court_time(sets_df)"
>>>>>>> 64e8c70 (updated court time function)
   ]
  }
 ],
 "metadata": {
  "kernelspec": {
   "display_name": "Python 3",
   "language": "python",
   "name": "python3"
  },
  "language_info": {
   "codemirror_mode": {
    "name": "ipython",
    "version": 3
   },
   "file_extension": ".py",
   "mimetype": "text/x-python",
   "name": "python",
   "nbconvert_exporter": "python",
   "pygments_lexer": "ipython3",
   "version": "3.12.7"
  }
 },
 "nbformat": 4,
 "nbformat_minor": 2
}
