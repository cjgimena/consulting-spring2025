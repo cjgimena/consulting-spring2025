{
 "cells": [
  {
   "cell_type": "code",
<<<<<<< HEAD
   "execution_count": 1,
   "metadata": {},
   "outputs": [
    {
     "data": {
      "text/plain": [
       "78"
      ]
     },
     "execution_count": 1,
=======
   "execution_count": 2,
   "metadata": {},
   "outputs": [
    {
     "name": "stdout",
     "output_type": "stream",
     "text": [
      "\n",
      "✅ Valid Match Durations (40–120 minutes):\n",
      "\n",
      "                                      Match  Court Time (minutes)\n",
      "   Rudy Quan vs RudyQuan Pepperdine 2 27 25                 107.6\n",
      "    Rudy Quan vs RudyQuan UMichigan 4 25 25                  86.0\n",
      "          Rudy Quan vs RudyQuan USC 2 22 25                  79.3\n",
      " Rudy Quan vs RudyQuan DeaconThomas Indiana                  74.3\n",
      "       Rudy Quan vs RudyQuan Indiana 3 7 25                  74.3\n",
      " Rudy Quan vs RudyQuan FloridaState 9 23 24                  66.6\n",
      "Rudy Quan vs RudyQuan MichiganState 4 13 25                  57.2\n",
      "\n",
      "⚠️ Flagged Match Durations (outside 40–120 minutes):\n",
      "\n",
      "                             Match  Court Time (minutes)\n",
      " Rudy Quan vs RudyQuan Cal 1 25 25                   0.9\n",
      "Rudy Quan vs RudyQuan TAMU 1 25 25                   0.4\n",
      "\n",
      "Average court time for valid matches: 77.9 minutes\n"
     ]
    },
    {
     "data": {
      "text/plain": [
       "np.float64(77.9)"
      ]
     },
     "execution_count": 2,
>>>>>>> 666b9e7 (final court time)
     "metadata": {},
     "output_type": "execute_result"
    }
   ],
   "source": [
    "import pandas as pd\n",
<<<<<<< HEAD
    "\n",
    "def average_court_time(data):\n",
    "    try:\n",
    "        if 'Duration' in data.columns and '__source_file__' in data.columns:\n",
    "            data['Duration'] = pd.to_numeric(data['Duration'], errors='coerce')\n",
    "            data = data[data['Duration'] < 10000]\n",
    "\n",
    "            match_durations = (\n",
    "                data.groupby('__source_file__')['Duration']\n",
    "                .sum()\n",
    "                .div(60)  # convert to minutes\n",
    "                .round(1)\n",
    "            )\n",
    "\n",
    "            valid_durations = match_durations[(match_durations >= 40) & (match_durations <= 120)]\n",
    "\n",
    "            if not valid_durations.empty:\n",
    "                return round(valid_durations.mean())\n",
    "    except:\n",
    "        pass\n",
    "\n",
    "    return None\n",
    "\n",
    "sets_df = pd.read_excel(\"/Users/eshaan/Desktop/Tennis Scouting/consulting-spring2025/data/mens/Rudy Quan/combined.xlsx\", sheet_name=\"Sets\")\n",
    "average_court_time(sets_df)"
=======
    "import os\n",
    "\n",
    "def average_court_time(player_name):\n",
    "    file_path = f\"/Users/eshaan/Desktop/Tennis Scouting/consulting-spring2025/data/mens/{player_name}/combined.xlsx\"\n",
    "    \n",
    "    \n",
    "    valid_games = []\n",
    "    invalid_games = []\n",
    "\n",
    "    try:\n",
    "        xls = pd.ExcelFile(file_path)\n",
    "        if 'Sets' in xls.sheet_names:\n",
    "            df = xls.parse('Sets')\n",
    "\n",
    "            if 'Duration' in df.columns and '__source_file__' in df.columns:\n",
    "                df['Duration'] = pd.to_numeric(df['Duration'], errors='coerce')\n",
    "                df = df[df['Duration'] < 10000]\n",
    "\n",
    "                grouped = df.groupby('__source_file__')['Duration'].sum().reset_index()\n",
    "                grouped['Court Time (minutes)'] = (grouped['Duration'] / 60).round(1)\n",
    "\n",
    "                for _, row in grouped.iterrows():\n",
    "                    match_name = os.path.splitext(row['__source_file__'])[0].replace('_', ' ')\n",
    "                    minutes = row['Court Time (minutes)']\n",
    "                    match_info = {\n",
    "                        'Match': f\"{player_name} vs {match_name}\",\n",
    "                        'Court Time (minutes)': minutes\n",
    "                    }\n",
    "\n",
    "                    if 40 <= minutes <= 120:\n",
    "                        valid_games.append(match_info)\n",
    "                    else:\n",
    "                        invalid_games.append(match_info)\n",
    "\n",
    "    except Exception as e:\n",
    "        print(f\"Error processing file for {player_name}: {e}\")\n",
    "        return None\n",
    "\n",
    "    valid_df = pd.DataFrame(valid_games).sort_values(by='Court Time (minutes)', ascending=False).reset_index(drop=True)\n",
    "    invalid_df = pd.DataFrame(invalid_games).sort_values(by='Court Time (minutes)', ascending=False).reset_index(drop=True)\n",
    "\n",
    "    print(\"\\n✅ Valid Match Durations (40–120 minutes):\\n\")\n",
    "    print(valid_df.to_string(index=False))\n",
    "\n",
    "    print(\"\\n⚠️ Flagged Match Durations (outside 40–120 minutes):\\n\")\n",
    "    print(invalid_df.to_string(index=False))\n",
    "\n",
    "    if not valid_df.empty:\n",
    "        average_minutes = round(valid_df['Court Time (minutes)'].mean(), 1)\n",
    "        print(f\"\\nAverage court time for valid matches: {average_minutes} minutes\")\n",
    "        return average_minutes\n",
    "    else:\n",
    "        print(\"\\nNo valid matches found.\")\n",
    "        return None\n",
    "average_court_time(\"Rudy Quan\")"
>>>>>>> 666b9e7 (final court time)
   ]
  }
 ],
 "metadata": {
  "kernelspec": {
   "display_name": "Python 3",
   "language": "python",
   "name": "python3"
  },
  "language_info": {
   "codemirror_mode": {
    "name": "ipython",
    "version": 3
   },
   "file_extension": ".py",
   "mimetype": "text/x-python",
   "name": "python",
   "nbconvert_exporter": "python",
   "pygments_lexer": "ipython3",
   "version": "3.12.7"
  }
 },
 "nbformat": 4,
 "nbformat_minor": 2
}
