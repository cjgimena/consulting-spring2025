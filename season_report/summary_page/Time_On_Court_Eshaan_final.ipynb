{
 "cells": [
  {
   "cell_type": "code",
   "execution_count": 13,
   "metadata": {},
   "outputs": [
    {
     "data": {
      "text/plain": [
       "'9:12'"
      ]
     },
     "execution_count": 13,
     "metadata": {},
     "output_type": "execute_result"
    }
   ],
   "source": [
    "import pandas as pd\n",
    "\n",
    "def average_court_time(file_path):\n",
    "    try:\n",
    "        # Load the 'Sets' sheet into a DataFrame\n",
    "        data = pd.read_excel(file_path, sheet_name=\"Sets\")\n",
    "        \n",
    "        # Ensure required columns exist\n",
    "        if 'Duration' in data.columns and '__source_file__' in data.columns:\n",
    "            # Convert Duration to numeric, drop invalids\n",
    "            data['Duration'] = pd.to_numeric(data['Duration'], errors='coerce')\n",
    "            data = data[data['Duration'].notna()]\n",
    "            \n",
    "            # Sum durations (seconds) by match file, convert to minutes\n",
    "            match_durations = (\n",
    "                data.groupby('__source_file__')['Duration']\n",
    "                .sum()\n",
    "                .div(60)\n",
    "                .round(1)\n",
    "            )\n",
    "            \n",
    "            # Compute overall average in minutes\n",
    "            avg_minutes = match_durations.mean()\n",
    "            if pd.notna(avg_minutes):\n",
    "                hours = int(avg_minutes) // 60\n",
    "                mins = int(avg_minutes) % 60\n",
    "                return f\"{hours}:{mins:02d}\"\n",
    "    except Exception as e:\n",
    "        print(f\"Error: {e}\")\n",
    "    return None\n",
    "\n",
    "\n",
    "file_path = \"/Users/eshaan/Desktop/Tennis Scouting/consulting-spring2025/data/mens/Rudy Quan/combined.xlsx\"\n",
    "duration = average_court_time(file_path)\n",
    "duration\n"
   ]
  }
 ],
 "metadata": {
  "kernelspec": {
   "display_name": "Python 3",
   "language": "python",
   "name": "python3"
  },
  "language_info": {
   "codemirror_mode": {
    "name": "ipython",
    "version": 3
   },
   "file_extension": ".py",
   "mimetype": "text/x-python",
   "name": "python",
   "nbconvert_exporter": "python",
   "pygments_lexer": "ipython3",
   "version": "3.12.7"
  }
 },
 "nbformat": 4,
 "nbformat_minor": 2
}
