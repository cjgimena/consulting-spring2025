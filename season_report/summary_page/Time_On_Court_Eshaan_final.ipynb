{
 "cells": [
  {
   "cell_type": "code",
   "execution_count": 1,
   "metadata": {},
   "outputs": [
    {
     "data": {
      "text/plain": [
       "78"
      ]
     },
     "execution_count": 1,
     "metadata": {},
     "output_type": "execute_result"
    }
   ],
   "source": [
    "import pandas as pd\n",
    "\n",
    "def average_court_time(data):\n",
    "    try:\n",
    "        if 'Duration' in data.columns and '__source_file__' in data.columns:\n",
    "            data['Duration'] = pd.to_numeric(data['Duration'], errors='coerce')\n",
    "            data = data[data['Duration'] < 10000]\n",
    "\n",
    "            match_durations = (\n",
    "                data.groupby('__source_file__')['Duration']\n",
    "                .sum()\n",
    "                .div(60)  # convert to minutes\n",
    "                .round(1)\n",
    "            )\n",
    "\n",
    "            valid_durations = match_durations[(match_durations >= 40) & (match_durations <= 120)]\n",
    "\n",
    "            if not valid_durations.empty:\n",
    "                return round(valid_durations.mean())\n",
    "    except:\n",
    "        pass\n",
    "\n",
    "    return None\n",
    "\n",
    "sets_df = pd.read_excel(\"/Users/eshaan/Desktop/Tennis Scouting/consulting-spring2025/data/mens/Rudy Quan/combined.xlsx\", sheet_name=\"Sets\")\n",
    "average_court_time(sets_df)"
   ]
  }
 ],
 "metadata": {
  "kernelspec": {
   "display_name": "Python 3",
   "language": "python",
   "name": "python3"
  },
  "language_info": {
   "codemirror_mode": {
    "name": "ipython",
    "version": 3
   },
   "file_extension": ".py",
   "mimetype": "text/x-python",
   "name": "python",
   "nbconvert_exporter": "python",
   "pygments_lexer": "ipython3",
   "version": "3.12.7"
  }
 },
 "nbformat": 4,
 "nbformat_minor": 2
}
