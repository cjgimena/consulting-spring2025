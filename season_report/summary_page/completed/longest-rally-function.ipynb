{
 "cells": [
  {
   "cell_type": "markdown",
   "id": "17301c1d",
   "metadata": {},
   "source": [
    "# Summary Statistics Notebook"
   ]
  },
  {
   "cell_type": "code",
   "execution_count": 15,
   "id": "5994c346",
   "metadata": {},
   "outputs": [
    {
     "name": "stdout",
     "output_type": "stream",
     "text": [
      "Index(['Player', 'Shot', 'Type', 'Stroke', 'Spin', 'Speed (MPH)', 'Point',\n",
      "       'Game', 'Set', 'Bounce Depth', 'Bounce Zone', 'Bounce Side',\n",
      "       'Bounce (x)', 'Bounce (y)', 'Hit Depth', 'Hit Zone', 'Hit Side',\n",
      "       'Hit (x)', 'Hit (y)', 'Hit (z)', 'Direction', 'Result', 'Favorited',\n",
      "       'Start Time', 'Video Time', '__source_file__'],\n",
      "      dtype='object')\n",
      "Player                                  Youcef Rihane\n",
      "Shot                                               32\n",
      "Type                                          in_play\n",
      "Stroke                                       Forehand\n",
      "Spin                                            Slice\n",
      "Speed (MPH)                                 75.817757\n",
      "Point                                              65\n",
      "Game                                               13\n",
      "Set                                                 2\n",
      "Bounce Depth                                    short\n",
      "Bounce Zone                                     deuce\n",
      "Bounce Side                                      near\n",
      "Bounce (x)                                   3.471736\n",
      "Bounce (y)                                   5.842364\n",
      "Hit Depth                                         out\n",
      "Hit Zone                                        deuce\n",
      "Hit Side                                         near\n",
      "Hit (x)                                      3.471736\n",
      "Hit (y)                                     -1.345431\n",
      "Hit (z)                                      0.735907\n",
      "Direction                                 cross court\n",
      "Result                                            Net\n",
      "Favorited                                       False\n",
      "Start Time                                   21:57:10\n",
      "Video Time                                2645.919922\n",
      "__source_file__    RudyQuan_FloridaState_9_23_24.xlsx\n",
      "Name: 1880, dtype: object\n"
     ]
    }
   ],
   "source": [
    "import pandas as pd\n",
    "\n",
    "def get_longest_rally_row():\n",
    "    df = pd.read_excel(\n",
    "        r\"/Users/kevinc./Documents/tennisconsulting/consulting-spring2025/data/mens/Rudy Quan/combined.xlsx\",\n",
    "        sheet_name=\"Shots\")\n",
    "    print(df.columns)  # 👈 This line will show us the actual column names\n",
    "    if \"Shot\" not in df.columns:\n",
    "        raise ValueError(\"The column 'Shot' was not found in the 'Shots' sheet.\")\n",
    "    \n",
    "    idx = df[\"Shot\"].idxmax()  # Finds the index of the max Shot value\n",
    "    return df.loc[idx]         # Returns the full row of that max\n",
    "\n",
    "print(get_longest_rally_row())\n",
    "\n",
    "    \n"
   ]
  },
  {
   "cell_type": "markdown",
   "id": "efeefd45",
   "metadata": {},
   "source": []
  }
 ],
 "metadata": {
  "kernelspec": {
   "display_name": "base",
   "language": "python",
   "name": "python3"
  },
  "language_info": {
   "codemirror_mode": {
    "name": "ipython",
    "version": 3
   },
   "file_extension": ".py",
   "mimetype": "text/x-python",
   "name": "python",
   "nbconvert_exporter": "python",
   "pygments_lexer": "ipython3",
   "version": "3.12.7"
  }
 },
 "nbformat": 4,
 "nbformat_minor": 5
}
