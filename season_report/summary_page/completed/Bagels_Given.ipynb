{
 "cells": [
  {
   "cell_type": "code",
   "execution_count": 8,
   "id": "12b7ad3a",
   "metadata": {},
   "outputs": [
    {
     "name": "stdout",
     "output_type": "stream",
     "text": [
      "                   Player  Bagels_Given\n",
      "0               Rudy Quan           173\n",
      "1     Emon Van Loben Sels            97\n",
      "2            Kaylan Bigun            94\n",
      "3         Spencer Johnson            91\n",
      "9        Cassius Chinlund            84\n",
      "10          Andrei Crabel            72\n",
      "4        Aadarsh Tripathi            56\n",
      "5         Giacomo Revelli            56\n",
      "8       Gianluca Ballotta            39\n",
      "6   Alexander Hoogmartens            23\n",
      "7    Leonard Von Bismarck             7\n"
     ]
    }
   ],
   "source": [
    "import pandas as pd\n",
    "\n",
    "def bagels_summary():\n",
    "    path = \"~/Documents/tennisconsulting/consulting-spring2025/data/mens/mens_results.csv\"\n",
    "    df = pd.read_csv(path)\n",
    "\n",
    "    ucla_players = ['Rudy Quan', 'Emon Van Loben Sels', 'Kaylan Bigun', 'Spencer Johnson', 'Aadarsh Tripathi',\n",
    "                    'Giacomo Revelli', 'Alexander Hoogmartens', 'Leonard Von Bismarck', 'Gianluca Ballotta',\n",
    "                    'Cassius Chinlund', 'Andrei Crabel']\n",
    "    \n",
    "    bagel_counts = {player: 0 for player in ucla_players}\n",
    "\n",
    "    for i in range(len(df)):\n",
    "        p1 = df.loc[i, 'Player1']\n",
    "        p2 = df.loc[i, 'Player2']\n",
    "        score = str(df.loc[i, 'Score'])  # make sure it's a string\n",
    "        sets = [s.strip() for s in score.split(',')]\n",
    "\n",
    "        for player in ucla_players:\n",
    "            if p1 == player:\n",
    "                bagel_counts[player] += sets.count('6-0')\n",
    "            elif p2 == player:\n",
    "                bagel_counts[player] += sets.count('0-6')\n",
    "\n",
    "    bagel_df = pd.DataFrame({\n",
    "        'Player': list(bagel_counts.keys()),\n",
    "        'Bagels_Given': list(bagel_counts.values())\n",
    "    }).sort_values(by='Bagels_Given', ascending=False)\n",
    "\n",
    "    return bagel_df\n",
    "\n",
    "print(bagels_summary())"
   ]
  }
 ],
 "metadata": {
  "kernelspec": {
   "display_name": "base",
   "language": "python",
   "name": "python3"
  },
  "language_info": {
   "codemirror_mode": {
    "name": "ipython",
    "version": 3
   },
   "file_extension": ".py",
   "mimetype": "text/x-python",
   "name": "python",
   "nbconvert_exporter": "python",
   "pygments_lexer": "ipython3",
   "version": "3.12.7"
  }
 },
 "nbformat": 4,
 "nbformat_minor": 5
}
