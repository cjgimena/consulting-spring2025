{
 "cells": [
  {
   "cell_type": "code",
   "execution_count": null,
   "id": "76716540",
   "metadata": {},
   "outputs": [
    {
     "name": "stdout",
     "output_type": "stream",
     "text": [
      "Rudy Quan: 3 wins, 4 losses\n"
     ]
    }
   ],
   "source": [
    "import os\n",
    "import pandas as pd\n",
    "\n",
    "parent_dir = os.path.abspath('../..')\n",
    "file_path = os.path.join(parent_dir, 'data/mens/mens_results.csv')\n",
    "file_path\n",
    "matches = pd.read_csv(file_path)\n",
    "\n",
    "def tiebreak_data(matches, mens_players, player_name=\"\"):\n",
    "\n",
    "    season_data = matches.iloc[:241]\n",
    "\n",
    "    tiebreak_data = season_data[season_data['Score'].str.contains(r'6-7\\(|7-6\\(|1-0', na=False)]\n",
    "\n",
    "    player_records = {player: {\"wins\": 0, \"losses\": 0} for player in mens_players}\n",
    "\n",
    "    for _, row in tiebreak_data.iterrows():\n",
    "        player1 = row.get(\"Player1\")\n",
    "        player2 = row.get(\"Player2\")\n",
    "        score = row.get(\"Score\")\n",
    "\n",
    "        if player1 in mens_players:\n",
    "            player1_wins = score.count(\"7-6(\") + score.count(\"1-0\")\n",
    "            player1_losses = score.count(\"6-7(\")\n",
    "            player_records[player1][\"wins\"] += player1_wins\n",
    "            player_records[player1][\"losses\"] += player1_losses\n",
    "\n",
    "        if player2 in mens_players:\n",
    "            player2_wins = score.count(\"6-7(\")\n",
    "            player2_losses = score.count(\"7-6(\") + score.count(\"1-0\")\n",
    "            player_records[player2][\"wins\"] += player2_wins\n",
    "            player_records[player2][\"losses\"] += player2_losses\n",
    "\n",
    "    if player_name in player_records:\n",
    "        win = player_records[player_name][\"wins\"]\n",
    "        loss = player_records[player_name][\"losses\"]\n",
    "        return win, loss\n",
    "\n",
    "    return player_records\n",
    "\n",
    "mens_players = [\n",
    "    \"Gianluca Ballotta\", \"Kaylan Bigun\", \"Cassius Chinlund\", \"Andrei Crabel\",\n",
    "    \"Alexander Hoogmartens\", \"Spencer Johnson\", \"Rudy Quan\", \"Giacomo Revelli\",\n",
    "    \"Aadarsh Tripathi\", \"Emon Van Loben Sels\", \"Leonard Von Bismarck\"\n",
    "]\n",
    "\n",
    "# Specific Player Record\n",
    "player_name = \"Rudy Quan\"\n",
    "win, loss = tiebreak_data(matches, mens_players, player_name)\n",
    "print(f\"{player_name}: {win} wins, {loss} losses\")"
   ]
  },
  {
   "cell_type": "code",
   "execution_count": null,
   "id": "eab9b26b",
   "metadata": {},
   "outputs": [],
   "source": []
  }
 ],
 "metadata": {
  "kernelspec": {
   "display_name": ".venv",
   "language": "python",
   "name": "python3"
  },
  "language_info": {
   "codemirror_mode": {
    "name": "ipython",
    "version": 3
   },
   "file_extension": ".py",
   "mimetype": "text/x-python",
   "name": "python",
   "nbconvert_exporter": "python",
   "pygments_lexer": "ipython3",
   "version": "3.13.3"
  }
 },
 "nbformat": 4,
 "nbformat_minor": 5
}
