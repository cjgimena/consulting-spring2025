{
 "cells": [
  {
   "cell_type": "code",
   "execution_count": null,
   "metadata": {},
   "outputs": [],
   "source": [
    "import pandas as pd\n",
    "import os\n",
    "import re"
   ]
  },
  {
   "cell_type": "code",
   "execution_count": null,
   "metadata": {},
   "outputs": [],
   "source": [
    "file_path = '../../data/mens/mens_results.csv'"
   ]
  },
  {
   "cell_type": "code",
   "execution_count": null,
   "metadata": {},
   "outputs": [],
   "source": [
    "matches = pd.read_csv(file_path)\n",
    "matches"
   ]
  },
  {
   "cell_type": "code",
   "execution_count": null,
   "metadata": {},
   "outputs": [],
   "source": [
    "# Set Player Name!\n",
    "player_name = 'Rudy Quan'\n",
    "school = \"University of California, Los Angeles\""
   ]
  },
  {
   "cell_type": "markdown",
   "metadata": {},
   "source": [
    "#### Helper Function to Flip Scores"
   ]
  },
  {
   "cell_type": "code",
   "execution_count": null,
   "metadata": {},
   "outputs": [],
   "source": [
    "# Helper function to flip scores like \"7-6(5), 5-7, 6-3\"\n",
    "# Also does not include commas in the final result\n",
    "\n",
    "def flip_score(score_str, player1):\n",
    "\n",
    "    if player1 in player_name:\n",
    "        return score_str.replace(\",\", \"\")\n",
    "\n",
    "    flipped = []\n",
    "    for set_score in score_str.split(', '):\n",
    "        match = re.match(r'(\\d+)-(\\d+)(\\(\\d+\\))?', set_score)\n",
    "        if match:\n",
    "            p1, p2, tiebreak = match.groups()\n",
    "            flipped_score = f\"{p2}-{p1}\"\n",
    "            if tiebreak:\n",
    "                flipped_score += tiebreak\n",
    "            flipped.append(flipped_score)\n",
    "        else:\n",
    "            flipped.append(set_score)  # Preserve unrecognized formats\n",
    "    else: \n",
    "        return ' '.join(flipped)"
   ]
  },
  {
   "cell_type": "code",
   "execution_count": null,
   "metadata": {},
   "outputs": [],
   "source": [
    "# Make Win and Loss --> \"W\" and \"L\" AND take into account UNFINISHED matches \"UF\"\n",
    "# eg. 6-3 6-3 W  | 3-6 4-6 L  | 2-6 6-5 UF\n",
    "\n",
    "def determine_result(row):\n",
    "    score = row['Score']\n",
    "    if pd.isna(score) or 'UF' in str(score).upper():\n",
    "        return 'UF'\n",
    "\n",
    "    sets = score.split(',')\n",
    "    p1_sets_won = 0\n",
    "    p2_sets_won = 0\n",
    "    valid_sets = 0\n",
    "\n",
    "    for i, set_score in enumerate(sets):\n",
    "        set_score = set_score.strip()\n",
    "\n",
    "        # Special case for 10-point tiebreaker in the third set\n",
    "        if i == len(sets) - 1:  # Check if it is the last set\n",
    "            match_tb = re.match(r'(1-0|0-1)\\((\\d+)\\)', set_score)\n",
    "            if match_tb:\n",
    "                if match_tb.group(1) == '1-0':\n",
    "                    p1_sets_won += 1\n",
    "                else:\n",
    "                    p2_sets_won += 1\n",
    "                valid_sets += 1\n",
    "                continue\n",
    "\n",
    "        # Regular set score matching\n",
    "        match = re.match(r'(\\d+)-(\\d+)(\\(\\d+\\))?', set_score)\n",
    "        if match:\n",
    "            p1_games, p2_games, tiebreak = match.groups()\n",
    "            p1_games, p2_games = int(p1_games), int(p2_games)\n",
    "\n",
    "            # Check if the set is complete (at least 6 games with a difference of 2)\n",
    "            if (p1_games >= 6 or p2_games >= 6) and abs(p1_games - p2_games) >= 2:\n",
    "                valid_sets += 1\n",
    "                if p1_games > p2_games:\n",
    "                    p1_sets_won += 1\n",
    "                else:\n",
    "                    p2_sets_won += 1\n",
    "            # Check for tiebreak set with 7 games (e.g., 7-6)\n",
    "            elif (p1_games == 7 or p2_games == 7) and (p1_games >= 6 and p2_games >= 6):\n",
    "                valid_sets += 1\n",
    "                if p1_games > p2_games:\n",
    "                    p1_sets_won += 1\n",
    "                else:\n",
    "                    p2_sets_won += 1\n",
    "            else:\n",
    "                # Unfinished set if conditions are not met\n",
    "                return 'UF'\n",
    "        else:\n",
    "            # If the format is not recognized, mark as unfinished\n",
    "            return 'UF'\n",
    "\n",
    "    # Check if the match is complete based on valid sets won\n",
    "    if (valid_sets >= 2 and (p1_sets_won == 2 or p2_sets_won == 2)) or (valid_sets >= 3 and (p1_sets_won == 3 or p2_sets_won == 3)):\n",
    "        if row['Player1'] == player_name:\n",
    "            return 'W' if p1_sets_won > p2_sets_won else 'L'\n",
    "        elif row['Player2'] == player_name:\n",
    "            return 'W' if p2_sets_won > p1_sets_won else 'L'\n",
    "    return 'UF'\n"
   ]
  },
  {
   "cell_type": "code",
   "execution_count": null,
   "metadata": {},
   "outputs": [],
   "source": [
    "pd.set_option('display.max_rows', None)"
   ]
  },
  {
   "cell_type": "code",
   "execution_count": null,
   "metadata": {},
   "outputs": [],
   "source": [
    "def index_csv(data, player_name):\n",
    "\n",
    "    # Filter for Player\n",
    "    df = data[(data['Player1'] == player_name) | (matches['Player2'] == player_name)].copy()\n",
    "\n",
    "    # Result column\n",
    "    df['ucla_result'] = df.apply(determine_result, axis=1)\n",
    "\n",
    "    unfinished_matches = df['ucla_result'].value_counts().get('UF', 0)\n",
    "\n",
    "    return df"
   ]
  },
  {
   "cell_type": "code",
   "execution_count": null,
   "metadata": {},
   "outputs": [],
   "source": [
    "index_csv(matches, player_name)"
   ]
  },
  {
   "cell_type": "code",
   "execution_count": null,
   "metadata": {},
   "outputs": [],
   "source": [
    "edited = index_csv(matches, player_name)\n",
    "\n",
    "unfinished = edited[edited[\"ucla_result\"] == \"UF\"]\n",
    "\n",
    "len(unfinished)"
   ]
  }
 ],
 "metadata": {
  "kernelspec": {
   "display_name": "base",
   "language": "python",
   "name": "python3"
  },
  "language_info": {
   "codemirror_mode": {
    "name": "ipython",
    "version": 3
   },
   "file_extension": ".py",
   "mimetype": "text/x-python",
   "name": "python",
   "nbconvert_exporter": "python",
   "pygments_lexer": "ipython3",
   "version": "3.11.5"
  }
 },
 "nbformat": 4,
 "nbformat_minor": 2
}
