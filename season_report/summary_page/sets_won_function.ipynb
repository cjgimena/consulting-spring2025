{
 "cells": [
  {
   "cell_type": "markdown",
   "id": "d09dbd08",
   "metadata": {},
   "source": [
    "## Sets Won Function"
   ]
  },
  {
   "cell_type": "code",
   "execution_count": null,
   "id": "0d1912b5",
   "metadata": {},
   "outputs": [
    {
     "name": "stdout",
     "output_type": "stream",
     "text": [
      "{'Player': 'Rudy Quan', 'Sets_Won_This_Season': 33}\n",
      "{'Player': 'Kaylan Bigun', 'Sets_Won_This_Season': 30}\n",
      "{'Player': 'Emon Van Loben Sels', 'Sets_Won_This_Season': 44}\n",
      "{'Player': 'Alexander Hoogmartens', 'Sets_Won_This_Season': 36}\n",
      "{'Player': 'Spencer Johnson', 'Sets_Won_This_Season': 11}\n",
      "{'Player': 'Aadarsh Tripathi', 'Sets_Won_This_Season': 27}\n",
      "{'Player': 'Giacomo Revelli', 'Sets_Won_This_Season': 18}\n",
      "{'Player': 'Gianluca Ballotta', 'Sets_Won_This_Season': 13}\n",
      "{'Player': 'Leonard Von Bismarck', 'Sets_Won_This_Season': 0}\n"
     ]
    }
   ],
   "source": [
    "import pandas as pd\n",
    "\n",
    "df = pd.read_csv(\"/Users/chloechoe/Desktop/github/consulting-spring2025/data/mens/mens_results.csv\")\n",
    "\n",
    "def get_sets_won(player_name, season_year=2025):\n",
    "    df['Date'] = pd.to_datetime(df['Date'], errors='coerce')\n",
    "    season_matches = df[df['Date'].dt.year == season_year]\n",
    "    player_matches = season_matches[(season_matches['Player1'] == player_name) | \n",
    "                                    (season_matches['Player2'] == player_name)].copy()\n",
    "    sets_won = 0\n",
    "    for _, row in player_matches.iterrows():\n",
    "        if pd.isna(row['Score']) or row['Score'].strip() == \"\":\n",
    "            continue\n",
    "        sets = row['Score'].split(\", \")\n",
    "\n",
    "        for set_score in sets:\n",
    "            if \"-\" not in set_score:\n",
    "                continue\n",
    "\n",
    "            try:\n",
    "                player1_score = int(set_score.split(\"-\")[0].split(\"(\")[0].strip())\n",
    "                player2_score = int(set_score.split(\"-\")[1].split(\"(\")[0].strip())\n",
    "            except ValueError:\n",
    "                continue\n",
    "\n",
    "            # Needs to account for unfinished sets (Matches that dont end with 6-*, 7-5, 7-6) - Cj\n",
    "\n",
    "            \n",
    "\n",
    "            if row['Player1'] == player_name and player1_score > player2_score:\n",
    "                sets_won += 1\n",
    "            elif row['Player2'] == player_name and player2_score > player1_score:\n",
    "                sets_won += 1\n",
    "\n",
    "    return {\"Player\": player_name, \"Sets_Won_This_Season\": sets_won}\n",
    "\n",
    "print(get_sets_won(\"Rudy Quan\"))\n",
    "print(get_sets_won(\"Kaylan Bigun\"))\n",
    "print(get_sets_won(\"Emon Van Loben Sels\"))\n",
    "print(get_sets_won(\"Alexander Hoogmartens\"))\n",
    "print(get_sets_won(\"Spencer Johnson\"))\n",
    "print(get_sets_won(\"Aadarsh Tripathi\"))\n",
    "print(get_sets_won(\"Giacomo Revelli\"))\n",
    "print(get_sets_won(\"Gianluca Ballotta\"))\n",
    "print(get_sets_won(\"Leonard Von Bismarck\"))"
   ]
  },
  {
   "cell_type": "code",
   "execution_count": null,
   "id": "4ac6f8f7",
   "metadata": {},
   "outputs": [],
   "source": []
  }
 ],
 "metadata": {
  "kernelspec": {
   "display_name": "base",
   "language": "python",
   "name": "python3"
  },
  "language_info": {
   "codemirror_mode": {
    "name": "ipython",
    "version": 3
   },
   "file_extension": ".py",
   "mimetype": "text/x-python",
   "name": "python",
   "nbconvert_exporter": "python",
   "pygments_lexer": "ipython3",
   "version": "3.12.7"
  }
 },
 "nbformat": 4,
 "nbformat_minor": 5
}
