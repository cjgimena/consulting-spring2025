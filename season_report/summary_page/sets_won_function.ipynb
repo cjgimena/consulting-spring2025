{
 "cells": [
  {
   "cell_type": "markdown",
   "id": "d09dbd08",
   "metadata": {},
   "source": [
    "## Sets Won Function"
   ]
  },
  {
   "cell_type": "code",
   "execution_count": 7,
   "id": "0d1912b5",
   "metadata": {},
   "outputs": [
    {
     "name": "stdout",
     "output_type": "stream",
     "text": [
      "Index(['Set', 'Host Score', 'Guest Score', 'Host Tiebreak Score',\n",
      "       'Guest Tiebreak Score', 'Set Winner', 'Super Tiebreak', 'Start Time',\n",
      "       'Video Time', 'Duration', '__source_file__'],\n",
      "      dtype='object')\n",
      "{'Player': 'Rudy Quan', 'Sets_Won': 15}\n"
     ]
    }
   ],
   "source": [
    "import pandas as pd\n",
    "\n",
    "def get_sets_won(player_name):\n",
    "    base_path = f\"/Users/chloechoe/Desktop/github/consulting-spring2025/data/mens/{player_name}/combined.xlsx\"\n",
    "\n",
    "    df = pd.read_excel(base_path, sheet_name=\"Sets\")\n",
    "    print(df.columns)\n",
    "\n",
    "    if \"Set Winner\" not in df.columns:\n",
    "        raise ValueError(\"The column 'Set Winner' was not found in the 'Sets' sheet.\")\n",
    "\n",
    "    sets_won = df[\"Set Winner\"].value_counts().get(\"host\", 0)\n",
    "    \n",
    "    return {\"Player\": player_name, \"Sets_Won\": sets_won}\n",
    "\n",
    "print(get_sets_won(\"Rudy Quan\"))"
   ]
  },
  {
   "cell_type": "code",
   "execution_count": null,
   "id": "4ac6f8f7",
   "metadata": {},
   "outputs": [],
   "source": []
  }
 ],
 "metadata": {
  "kernelspec": {
   "display_name": "base",
   "language": "python",
   "name": "python3"
  },
  "language_info": {
   "codemirror_mode": {
    "name": "ipython",
    "version": 3
   },
   "file_extension": ".py",
   "mimetype": "text/x-python",
   "name": "python",
   "nbconvert_exporter": "python",
   "pygments_lexer": "ipython3",
   "version": "3.12.7"
  }
 },
 "nbformat": 4,
 "nbformat_minor": 5
}
