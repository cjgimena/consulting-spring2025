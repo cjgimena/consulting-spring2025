{
 "cells": [
  {
   "cell_type": "markdown",
   "id": "17301c1d",
   "metadata": {},
   "source": [
    "# Summary Statistics Notebook"
   ]
  },
  {
   "cell_type": "markdown",
   "id": "ee2b44f0",
   "metadata": {},
   "source": [
    "### Load Packages"
   ]
  },
  {
   "cell_type": "code",
   "execution_count": 1,
   "id": "0bc3667a",
   "metadata": {},
   "outputs": [
    {
     "data": {
      "text/plain": [
       "'/Users/cjgimena/Desktop/Github/consulting-spring2025/season_report/summary_page'"
      ]
     },
     "execution_count": 1,
     "metadata": {},
     "output_type": "execute_result"
    }
   ],
   "source": [
    "import pandas as pd\n",
    "import os\n",
    "\n",
    "os.getcwd() # Print current working directory"
   ]
  },
  {
   "cell_type": "code",
   "execution_count": 2,
   "id": "b29babf7",
   "metadata": {},
   "outputs": [
    {
     "data": {
      "text/plain": [
       "'/Users/cjgimena/Desktop/Github/consulting-spring2025'"
      ]
     },
     "execution_count": 2,
     "metadata": {},
     "output_type": "execute_result"
    }
   ],
   "source": [
    "os.chdir('../..') # go back two directories\n",
    "os.getcwd()"
   ]
  },
  {
   "cell_type": "markdown",
   "id": "1392cb6e",
   "metadata": {},
   "source": [
    "### Read Data"
   ]
  },
  {
   "cell_type": "code",
   "execution_count": 19,
   "id": "efeefd45",
   "metadata": {},
   "outputs": [],
   "source": [
    "combined_data_shots = pd.read_excel('data/mens/Rudy Quan/combined.xlsx', sheet_name='Shots')\n",
    "combined_data_sets = pd.read_excel('data/mens/Rudy Quan/combined.xlsx', sheet_name='Sets')\n",
    "\n",
    "mens_results = pd.read_csv('data/mens/mens_results.csv')"
   ]
  },
  {
   "cell_type": "code",
   "execution_count": null,
   "id": "c16d8d34",
   "metadata": {},
   "outputs": [],
   "source": []
  },
  {
   "cell_type": "markdown",
   "id": "9585a69f",
   "metadata": {},
   "source": [
    "### Longest Rally Function"
   ]
  },
  {
   "cell_type": "code",
   "execution_count": 15,
   "id": "157c8953",
   "metadata": {},
   "outputs": [],
   "source": [
    "def longest_rally(data):\n",
    "\n",
    "    # Error Check\n",
    "    if \"Shot\" not in data.columns:\n",
    "        raise ValueError(\"The column 'Shot' was not found in the 'Shots' sheet.\")\n",
    "    \n",
    "    # Find the index of the max shot value\n",
    "    max_rally_length = data[\"Shot\"].max()  \n",
    "\n",
    "    # Return the value of the max shot\n",
    "    return max_rally_length"
   ]
  },
  {
   "cell_type": "code",
   "execution_count": 17,
   "id": "709e43ad",
   "metadata": {},
   "outputs": [
    {
     "data": {
      "text/plain": [
       "32"
      ]
     },
     "execution_count": 17,
     "metadata": {},
     "output_type": "execute_result"
    }
   ],
   "source": [
    "longest_rally_length = longest_rally(combined_data_shots)\n",
    "longest_rally_length"
   ]
  },
  {
   "cell_type": "markdown",
   "id": "58f7d27f",
   "metadata": {},
   "source": [
    "### Average Time On Court"
   ]
  },
  {
   "cell_type": "code",
   "execution_count": null,
   "id": "82ac742c",
   "metadata": {},
   "outputs": [],
   "source": [
    "def average_court_time(data):\n",
    "    \n",
    "    if 'Duration' not in df.columns:\n",
    "        raise ValueError(\"The column 'Duration' was not found in the 'Sets' sheet.\")\n",
    "    \n",
    "    data['Duration'] = pd.to_numeric(data['Duration'], errors='coerce')\n",
    "    \n",
    "\n",
    "    return value\n",
    "\n",
    "\n"
   ]
  },
  {
   "cell_type": "code",
   "execution_count": null,
   "id": "8d15760b",
   "metadata": {},
   "outputs": [
    {
     "data": {
      "text/html": [
       "<div>\n",
       "<style scoped>\n",
       "    .dataframe tbody tr th:only-of-type {\n",
       "        vertical-align: middle;\n",
       "    }\n",
       "\n",
       "    .dataframe tbody tr th {\n",
       "        vertical-align: top;\n",
       "    }\n",
       "\n",
       "    .dataframe thead th {\n",
       "        text-align: right;\n",
       "    }\n",
       "</style>\n",
       "<table border=\"1\" class=\"dataframe\">\n",
       "  <thead>\n",
       "    <tr style=\"text-align: right;\">\n",
       "      <th></th>\n",
       "      <th>Duration</th>\n",
       "    </tr>\n",
       "    <tr>\n",
       "      <th>__source_file__</th>\n",
       "      <th></th>\n",
       "    </tr>\n",
       "  </thead>\n",
       "  <tbody>\n",
       "    <tr>\n",
       "      <th>RudyQuan_Cal_1_25_25.xlsx</th>\n",
       "      <td>254570.653126</td>\n",
       "    </tr>\n",
       "    <tr>\n",
       "      <th>RudyQuan_DeaconThomas_Indiana.xlsx</th>\n",
       "      <td>4458.089844</td>\n",
       "    </tr>\n",
       "    <tr>\n",
       "      <th>RudyQuan_FloridaState_9_23_24.xlsx</th>\n",
       "      <td>3997.400024</td>\n",
       "    </tr>\n",
       "    <tr>\n",
       "      <th>RudyQuan_Indiana_3_7_25.xlsx</th>\n",
       "      <td>4458.089844</td>\n",
       "    </tr>\n",
       "    <tr>\n",
       "      <th>RudyQuan_MichiganState_4_13_25.xlsx</th>\n",
       "      <td>3434.000000</td>\n",
       "    </tr>\n",
       "    <tr>\n",
       "      <th>RudyQuan_Pepperdine_2_27_25.xlsx</th>\n",
       "      <td>6454.719970</td>\n",
       "    </tr>\n",
       "    <tr>\n",
       "      <th>RudyQuan_TAMU_1_25_25.xlsx</th>\n",
       "      <td>10989.980117</td>\n",
       "    </tr>\n",
       "    <tr>\n",
       "      <th>RudyQuan_UMichigan_4_25_25.xlsx</th>\n",
       "      <td>5159.780029</td>\n",
       "    </tr>\n",
       "    <tr>\n",
       "      <th>RudyQuan_USC_2_22_25.xlsx</th>\n",
       "      <td>4758.250000</td>\n",
       "    </tr>\n",
       "  </tbody>\n",
       "</table>\n",
       "</div>"
      ],
      "text/plain": [
       "                                          Duration\n",
       "__source_file__                                   \n",
       "RudyQuan_Cal_1_25_25.xlsx            254570.653126\n",
       "RudyQuan_DeaconThomas_Indiana.xlsx     4458.089844\n",
       "RudyQuan_FloridaState_9_23_24.xlsx     3997.400024\n",
       "RudyQuan_Indiana_3_7_25.xlsx           4458.089844\n",
       "RudyQuan_MichiganState_4_13_25.xlsx    3434.000000\n",
       "RudyQuan_Pepperdine_2_27_25.xlsx       6454.719970\n",
       "RudyQuan_TAMU_1_25_25.xlsx            10989.980117\n",
       "RudyQuan_UMichigan_4_25_25.xlsx        5159.780029\n",
       "RudyQuan_USC_2_22_25.xlsx              4758.250000"
      ]
     },
     "execution_count": 27,
     "metadata": {},
     "output_type": "execute_result"
    }
   ],
   "source": [
    "combined_data_sets.groupby('__source_file__')[['Duration']].sum()\n",
    "\n",
    "# Take the mean of the duration column\n",
    "\n",
    "# Convert to Hour:Minutes format (0:00)\n",
    "\n",
    "# output value as string"
   ]
  },
  {
   "cell_type": "code",
   "execution_count": null,
   "id": "7a2ab565",
   "metadata": {},
   "outputs": [],
   "source": []
  },
  {
   "cell_type": "code",
   "execution_count": null,
   "id": "c86c7164",
   "metadata": {},
   "outputs": [],
   "source": []
  },
  {
   "cell_type": "code",
   "execution_count": null,
   "id": "ff1fb5ab",
   "metadata": {},
   "outputs": [],
   "source": []
  },
  {
   "cell_type": "markdown",
   "id": "2ac51f78",
   "metadata": {},
   "source": [
    "### Output Csv"
   ]
  },
  {
   "cell_type": "markdown",
   "id": "c3f23c85",
   "metadata": {},
   "source": []
  }
 ],
 "metadata": {
  "kernelspec": {
   "display_name": "base",
   "language": "python",
   "name": "python3"
  },
  "language_info": {
   "codemirror_mode": {
    "name": "ipython",
    "version": 3
   },
   "file_extension": ".py",
   "mimetype": "text/x-python",
   "name": "python",
   "nbconvert_exporter": "python",
   "pygments_lexer": "ipython3",
   "version": "3.11.5"
  }
 },
 "nbformat": 4,
 "nbformat_minor": 5
}
