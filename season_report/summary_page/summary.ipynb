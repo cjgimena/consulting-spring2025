{
 "cells": [
  {
   "cell_type": "markdown",
   "id": "784d4de8",
   "metadata": {},
   "source": [
    "# Summary Statistics Notebook"
   ]
  },
  {
   "cell_type": "code",
   "execution_count": 1,
   "id": "23e372d1",
   "metadata": {},
   "outputs": [],
   "source": [
    "import pandas as pd\n",
    "import os"
   ]
  },
  {
   "cell_type": "markdown",
   "id": "9b6f0f64",
   "metadata": {},
   "source": [
    "### Read Data"
   ]
  },
  {
   "cell_type": "code",
   "execution_count": null,
   "id": "e1d38ef0",
   "metadata": {},
   "outputs": [],
   "source": [
    "parent_dir = os.path.abspath('../..') # \"..\" means go back 1 directory!\n",
    "print(parent_dir)"
   ]
  },
  {
   "cell_type": "code",
   "execution_count": null,
   "id": "371fbf70",
   "metadata": {},
   "outputs": [],
   "source": [
    "file_path = os.path.join(parent_dir, 'data/mens/mens_results.csv') # Change this\n",
    "file_path"
   ]
  },
  {
   "cell_type": "code",
   "execution_count": null,
   "id": "1713ccfd",
   "metadata": {},
   "outputs": [],
   "source": []
  },
  {
   "cell_type": "code",
   "execution_count": null,
   "id": "89a3f58c",
   "metadata": {},
   "outputs": [],
   "source": []
  },
  {
   "cell_type": "markdown",
   "id": "d8f61254",
   "metadata": {},
   "source": [
    "### Average Court Time"
   ]
  },
  {
   "cell_type": "code",
   "execution_count": null,
   "id": "2234571c",
   "metadata": {},
   "outputs": [],
   "source": [
    "# save stat as avg_court_duration\n",
    "\n",
    "def average_court_time():\n",
    "    # access all the files within data/mens/Rudy Quan/Rudy Quan\n",
    "    # read_xlsx(, sheet = )"
   ]
  },
  {
   "cell_type": "code",
   "execution_count": null,
   "id": "7be02b2e",
   "metadata": {},
   "outputs": [],
   "source": []
  },
  {
   "cell_type": "code",
   "execution_count": null,
   "id": "d245b645",
   "metadata": {},
   "outputs": [],
   "source": []
  }
 ],
 "metadata": {
  "kernelspec": {
   "display_name": "base",
   "language": "python",
   "name": "python3"
  },
  "language_info": {
   "codemirror_mode": {
    "name": "ipython",
    "version": 3
   },
   "file_extension": ".py",
   "mimetype": "text/x-python",
   "name": "python",
   "nbconvert_exporter": "python",
   "pygments_lexer": "ipython3",
   "version": "3.11.5"
  }
 },
 "nbformat": 4,
 "nbformat_minor": 5
}
