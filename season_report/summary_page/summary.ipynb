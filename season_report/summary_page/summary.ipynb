{
 "cells": [
  {
   "cell_type": "markdown",
   "id": "17301c1d",
   "metadata": {},
   "source": [
    "# Summary Statistics Notebook"
   ]
  },
  {
   "cell_type": "markdown",
   "id": "dff3bfc5",
   "metadata": {},
   "source": [
    "### Load Packages"
   ]
  },
  {
   "cell_type": "code",
   "execution_count": null,
   "id": "3851c0f9",
   "metadata": {},
   "outputs": [],
   "source": [
    "import pandas as pd\n",
    "import re\n",
    "import json\n",
    "import ipywidgets as widgets\n",
    "from IPython.display import display"
   ]
  },
  {
   "cell_type": "markdown",
   "id": "82b606e1",
   "metadata": {},
   "source": [
    "### Read Data"
   ]
  },
  {
   "cell_type": "code",
   "execution_count": null,
   "id": "8fe9b0a7",
   "metadata": {},
   "outputs": [],
   "source": [
    "# Dropdown with a non-valid default option\n",
    "choose_player_dropdown = widgets.Dropdown(\n",
    "    options=['-- Select --', 'Rudy Quan', 'Emon Van Loben Sels', 'Kaylan Bigun', 'Alexander Hoogmartens', \n",
    "             'Spencer Johnson', 'Aadarsh Tripathi', 'Giacomo Revelli', 'Gianluca Ballotta'],\n",
    "    value='-- Select --',\n",
    "    description='Category:'\n",
    ")\n",
    "\n",
    "display(choose_player_dropdown)"
   ]
  },
  {
   "cell_type": "code",
   "execution_count": null,
   "id": "4bb75393",
   "metadata": {},
   "outputs": [],
   "source": [
    "# Check selection before proceeding\n",
    "if choose_player_dropdown.value == '-- Select --':\n",
    "    raise ValueError(\"Please choose a valid category from the dropdown menu in the previous cell before proceeding.\")\n",
    "\n",
    "# If valid, use the value\n",
    "player_name = choose_player_dropdown.value"
   ]
  },
  {
   "cell_type": "code",
   "execution_count": null,
   "id": "354700f9",
   "metadata": {},
   "outputs": [],
   "source": [
    "combined_data_shots = pd.read_excel(f'../../data/mens/{player_name}/combined.xlsx', sheet_name='Shots')\n",
    "combined_data_points = pd.read_excel(f'../../data/mens/{player_name}/combined.xlsx', sheet_name='Points')\n",
    "combined_data_games = pd.read_excel(f'../../data/mens/{player_name}/combined.xlsx', sheet_name='Games')\n",
    "combined_data_sets = pd.read_excel(f'../../data/mens/{player_name}/combined.xlsx', sheet_name='Sets')\n",
    "combined_data_stats = pd.read_excel(f'../../data/mens/{player_name}/combined.xlsx', sheet_name='Stats')\n",
    "combined_data_settings = pd.read_excel(f'../../data/mens/{player_name}/combined.xlsx', sheet_name='Settings')"
   ]
  },
  {
   "cell_type": "code",
   "execution_count": null,
   "id": "988481be",
   "metadata": {},
   "outputs": [],
   "source": [
    "# Subset 2024-2025 Season Matches!\n",
    "mens_results = pd.read_csv('../../data/mens/mens_results.csv')[:253]\n",
    "\n",
    "# Change Date Format\n",
    "mens_results['Date'] = pd.to_datetime(mens_results['Date'])\n",
    "\n",
    "# Function to Filter by Player and School Matches Only\n",
    "def filter_player(data, player_name):\n",
    "\n",
    "    # Filter for player_name\n",
    "    data = data[(data['Player1'] == player_name) | (data['Player2'] == player_name)]\n",
    "\n",
    "    # Filter for only school events\n",
    "    data = data[data['Event Name'].str.startswith(('Dual Match', '2024 ITA', '2024-25 NCAA Division'))]\n",
    "    return data\n",
    "\n",
    "\n",
    "mens_results_player = filter_player(mens_results, player_name).drop_duplicates().reset_index()"
   ]
  },
  {
   "cell_type": "code",
   "execution_count": null,
   "id": "6e2f9af5",
   "metadata": {},
   "outputs": [],
   "source": [
    "mens_results_player.head()"
   ]
  },
  {
   "cell_type": "markdown",
   "id": "9585a69f",
   "metadata": {},
   "source": [
    "### Longest Rally Function"
   ]
  },
  {
   "cell_type": "code",
   "execution_count": null,
   "id": "157c8953",
   "metadata": {},
   "outputs": [],
   "source": [
    "def longest_rally(data):\n",
    "\n",
    "    # Error Check\n",
    "    if \"Shot\" not in data.columns:\n",
    "        raise ValueError(\"The column 'Shot' was not found in the 'Shots' sheet.\")\n",
    "    \n",
    "    # Find the index of the max shot value\n",
    "    max_rally_length = data[\"Shot\"].max()  \n",
    "\n",
    "    # Return the value of the max shot\n",
    "    return max_rally_length"
   ]
  },
  {
   "cell_type": "code",
   "execution_count": null,
   "id": "709e43ad",
   "metadata": {},
   "outputs": [],
   "source": [
    "longest_rally_length = longest_rally(combined_data_shots)\n",
    "print(f\"Longest Rally Length: {longest_rally_length} shots\")"
   ]
  },
  {
   "cell_type": "markdown",
   "id": "58f7d27f",
   "metadata": {},
   "source": [
    "### Average Time On Court"
   ]
  },
  {
   "cell_type": "code",
   "execution_count": null,
   "id": "82ac742c",
   "metadata": {},
   "outputs": [],
   "source": [
    "def average_court_time(data):\n",
    "    \n",
    "    if 'Duration' not in data.columns:\n",
    "        raise ValueError(\"The column 'Duration' was not found in the 'Sets' sheet.\")\n",
    "    \n",
    "    if '__source_file__' not in data.columns:\n",
    "        raise ValueError(\"The column '__source_file__' was not found in the 'Sets' sheet.\")\n",
    "    \n",
    "    # Make sure the column values are Numeric | errors argument sets not numerics to NA\n",
    "    data['Duration'] = pd.to_numeric(data['Duration'], errors='coerce')\n",
    "\n",
    "    # Create Boolean Mask to filter out NA values\n",
    "    data = data[data['Duration'].notna()]\n",
    "\n",
    "    # Group by 'Duration' and sum values then convert to minutes\n",
    "    match_durations = (\n",
    "                        data.groupby('__source_file__')['Duration']\n",
    "                        .sum()\n",
    "                        .div(60)\n",
    "                        .round(1)\n",
    "                        )\n",
    "    \n",
    "    # Compute overall average in minutes\n",
    "    avg_minutes = match_durations.mean()\n",
    "    if pd.notna(avg_minutes):\n",
    "        hours = int(avg_minutes) // 60\n",
    "        mins = int(avg_minutes) % 60            \n",
    "\n",
    "    duration = f\"{hours}:{mins:02d}\"\n",
    "    \n",
    "    return duration"
   ]
  },
  {
   "cell_type": "code",
   "execution_count": null,
   "id": "c86c7164",
   "metadata": {},
   "outputs": [],
   "source": [
    "average_time_on_court = average_court_time(combined_data_sets)\n",
    "\n",
    "hours, minutes = map(int, average_time_on_court.split(\":\"))\n",
    "print(f\"Average Time on Court: {hours} hr {minutes} min\")"
   ]
  },
  {
   "cell_type": "markdown",
   "id": "ff1fb5ab",
   "metadata": {},
   "source": [
    "### Tiebreak Wins"
   ]
  },
  {
   "cell_type": "code",
   "execution_count": null,
   "id": "a26984bc",
   "metadata": {},
   "outputs": [],
   "source": [
    "def analyze_tiebreak_data(data, player_name):\n",
    "\n",
    "    # Subset data to only include matches with tiebreaker sets\n",
    "    tiebreak_data = data[data['Score'].str.contains(r'6-7\\(|7-6\\(|1-0|0-1', na=False)].reset_index(drop=True)\n",
    "\n",
    "    # Function to use in apply function\n",
    "    def tiebreaker_win_loss(score, player1, player2, player_name):\n",
    "        if player1 == player_name:\n",
    "            win = score.count(\"7-6(\") + score.count('1-0')\n",
    "            loss = score.count(\"6-7(\") + score.count('0-1')\n",
    "        elif player2 == player_name:\n",
    "            win = score.count(\"6-7(\") + score.count('0-1')\n",
    "            loss = score.count(\"7-6(\") + score.count('1-0')\n",
    "        else:\n",
    "            pass\n",
    "        return win, loss\n",
    "\n",
    "    # Use the apply function to create tiebreake win/loss count columsn\n",
    "    tiebreak_data[['win', 'loss']] = tiebreak_data.apply(lambda x:tiebreaker_win_loss(x['Score'], \n",
    "                                                                                      x['Player1'], \n",
    "                                                                                      x['Player2'], \n",
    "                                                                                      player_name), axis=1).apply(pd.Series)\n",
    "    \n",
    "    # Assign tiebreaker sets wins and losses to respective variables\n",
    "    total_wins = tiebreak_data['win'].sum()\n",
    "    total_losses = tiebreak_data['loss'].sum()\n",
    "\n",
    "\n",
    "    return total_wins, total_losses\n"
   ]
  },
  {
   "cell_type": "code",
   "execution_count": null,
   "id": "cffd52e0",
   "metadata": {},
   "outputs": [],
   "source": [
    "# Output tiebreaker wins\n",
    "tiebreaker_wins = analyze_tiebreak_data(mens_results_player, player_name)[0]\n",
    "tiebreaker_losses = analyze_tiebreak_data(mens_results_player, player_name)[1]\n",
    "\n",
    "print(f\"Tiebreak Record: {tiebreaker_wins}-{tiebreaker_losses} (W–L)\")"
   ]
  },
  {
   "cell_type": "markdown",
   "id": "3891bfc3",
   "metadata": {},
   "source": [
    "### Average Winners"
   ]
  },
  {
   "cell_type": "code",
   "execution_count": null,
   "id": "f304b6a7",
   "metadata": {},
   "outputs": [],
   "source": [
    "def get_average_winners(data):\n",
    "\n",
    "    # Find the number of matches\n",
    "    num_matches = len(data['__source_file__'].value_counts())\n",
    "\n",
    "    # Subset the data for all the points that our player hits\n",
    "    host_wins = data[data['Point Winner'] == 'host']\n",
    "    \n",
    "    # Find the counts of Total Winners overall (Forehand + Backhand)\n",
    "    total_winners = host_wins['Detail'].value_counts()['Forehand Winner'] + host_wins['Detail'].value_counts()['Backhand Winner']\n",
    "\n",
    "    # Return value\n",
    "    return int(round(total_winners / num_matches, 1))"
   ]
  },
  {
   "cell_type": "code",
   "execution_count": null,
   "id": "23a120ef",
   "metadata": {},
   "outputs": [],
   "source": [
    "# Output Average Winners\n",
    "average_winners = get_average_winners(combined_data_points)\n",
    "print(f\"Average Winners per Match: {average_winners}\")"
   ]
  },
  {
   "cell_type": "markdown",
   "id": "8e8c7135",
   "metadata": {},
   "source": [
    "### Sets Won"
   ]
  },
  {
   "cell_type": "markdown",
   "id": "e11ec5e9",
   "metadata": {},
   "source": [
    "##### Helper Functions"
   ]
  },
  {
   "cell_type": "code",
   "execution_count": null,
   "id": "7edf24d4",
   "metadata": {},
   "outputs": [],
   "source": [
    "def count_sets_won(sets, player_name, player1, player2):\n",
    "    sets_won = 0\n",
    "    for set_score in sets:\n",
    "        if \"-\" not in set_score:\n",
    "            continue\n",
    "\n",
    "        try:\n",
    "            # Check for 10-point tiebreaker format (e.g., \"1-0(3)\" or \"0-1(7)\")\n",
    "            if \"(\" in set_score:\n",
    "                tie_split = set_score.split(\"(\")[0]  # Get the part before \"(\"\n",
    "                player1_score = int(tie_split.split(\"-\")[0].strip())\n",
    "                player2_score = int(tie_split.split(\"-\")[1].strip())\n",
    "                \n",
    "                # A valid 10-point tiebreaker should have a 1-0 or 0-1 structure\n",
    "                if (player1_score == 1 and player2_score == 0) or (player1_score == 0 and player2_score == 1):\n",
    "                    if player1 == player_name and player1_score == 1:\n",
    "                        sets_won += 1\n",
    "                    elif player2 == player_name and player2_score == 1:\n",
    "                        sets_won += 1\n",
    "                    continue\n",
    "            \n",
    "            # Standard set format (e.g., \"6-4\", \"7-6\")\n",
    "            player1_score = int(set_score.split(\"-\")[0].split(\"(\")[0].strip())\n",
    "            player2_score = int(set_score.split(\"-\")[1].split(\"(\")[0].strip())\n",
    "        except ValueError:\n",
    "            continue\n",
    "\n",
    "        # Check for valid set completion\n",
    "        if ((player1_score >= 6 or player2_score >= 6) and abs(player1_score - player2_score) >= 2) or \\\n",
    "           ((player1_score == 7 and player2_score == 6) or (player1_score == 6 and player2_score == 7)):\n",
    "            if player1 == player_name and player1_score > player2_score:\n",
    "                sets_won += 1\n",
    "            elif player2 == player_name and player2_score > player1_score:\n",
    "                sets_won += 1\n",
    "\n",
    "    return sets_won\n"
   ]
  },
  {
   "cell_type": "markdown",
   "id": "34c6ba88",
   "metadata": {},
   "source": [
    "##### Sets Won Function"
   ]
  },
  {
   "cell_type": "code",
   "execution_count": null,
   "id": "f535d36d",
   "metadata": {},
   "outputs": [],
   "source": [
    "def get_sets_won(df, player_name):\n",
    "\n",
    "    # Apply the function to the 'Score' column\n",
    "    df.loc[:, 'Sets'] = df['Score'].str.split(\", \")\n",
    "\n",
    "    # Apply the function to the DataFrame\n",
    "    df.loc[:, 'sets_won'] = df.apply(lambda row: count_sets_won(row['Sets'], player_name, row['Player1'], row['Player2']), axis=1).copy()\n",
    "    \n",
    "    return df['sets_won'].sum()"
   ]
  },
  {
   "cell_type": "code",
   "execution_count": null,
   "id": "8389f580",
   "metadata": {},
   "outputs": [],
   "source": [
    "# Output Sets Won\n",
    "sets_won = get_sets_won(mens_results_player, player_name)\n",
    "print(f\"Total Sets Won: {sets_won}\")"
   ]
  },
  {
   "cell_type": "markdown",
   "id": "b2e58a86",
   "metadata": {},
   "source": [
    "### Three Set Matches Won"
   ]
  },
  {
   "cell_type": "markdown",
   "id": "08518fea",
   "metadata": {},
   "source": [
    "##### Helper Function"
   ]
  },
  {
   "cell_type": "code",
   "execution_count": null,
   "id": "d0cc8bf5",
   "metadata": {},
   "outputs": [],
   "source": [
    "# Helper function to create column third_set_wins\n",
    "\n",
    "def find_threeSet_matchWins(sets, player_name, player1):\n",
    "    # Set wins\n",
    "    wins = 0\n",
    "\n",
    "    # Filter only 3-set games\n",
    "    if len(sets) == 3:\n",
    "        \n",
    "        UCLA_wins = 0\n",
    "        for i, set_score in enumerate(sets):\n",
    "            # Skip if the set score is not in the correct format\n",
    "            if \"-\" not in set_score:\n",
    "                continue\n",
    "\n",
    "            try:\n",
    "                # Handle 10-point tiebreaker format (e.g., \"1-0(3)\" or \"0-1(7)\")\n",
    "                if \"(\" in set_score:\n",
    "                    tie_split = set_score.split(\"(\")[0]  # Get the part before \"(\"\n",
    "                    player1_score = int(tie_split.split(\"-\")[0].strip())\n",
    "                    player2_score = int(tie_split.split(\"-\")[1].strip())\n",
    "\n",
    "                    # Check if it is a valid 10-point tiebreaker set\n",
    "                    if (player1_score == 1 and player2_score == 0) or (player1_score == 0 and player2_score == 1):\n",
    "                        if player1 == player_name and player1_score == 1:\n",
    "                            UCLA_wins += 1\n",
    "                        elif player1 != player_name and player2_score == 1:\n",
    "                            UCLA_wins += 1\n",
    "                        continue\n",
    "\n",
    "                # Standard set format (e.g., \"6-4\", \"7-6\")\n",
    "                player1_score = int(set_score.split(\"-\")[0].split(\"(\")[0].strip())\n",
    "                player2_score = int(set_score.split(\"-\")[1].split(\"(\")[0].strip())\n",
    "            except ValueError:\n",
    "                # Skip invalid scores or unfinished sets\n",
    "                continue\n",
    "\n",
    "            # Check for unfinished third set (does not meet valid set criteria)\n",
    "            if i == 2:  # Checking the third set specifically\n",
    "                if not ((player1_score >= 6 or player2_score >= 6) and abs(player1_score - player2_score) >= 2) and \\\n",
    "                   not ((player1_score == 7 and player2_score == 6) or (player1_score == 6 and player2_score == 7)):\n",
    "                    continue  # Unfinished set, skip\n",
    "\n",
    "            # Check valid set completion for standard sets\n",
    "            if ((player1_score >= 6 or player2_score >= 6) and abs(player1_score - player2_score) >= 2) or \\\n",
    "               ((player1_score == 7 and player2_score == 6) or (player1_score == 6 and player2_score == 7)):\n",
    "                if player1 == player_name and player1_score > player2_score:\n",
    "                    UCLA_wins += 1\n",
    "                elif player1 != player_name and player2_score > player1_score:\n",
    "                    UCLA_wins += 1\n",
    "\n",
    "        # Check if UCLA won at least 2 sets\n",
    "        if UCLA_wins >= 2:\n",
    "            wins += 1\n",
    "\n",
    "    return wins"
   ]
  },
  {
   "cell_type": "markdown",
   "id": "56f41227",
   "metadata": {},
   "source": [
    "##### Three Set Wins Function"
   ]
  },
  {
   "cell_type": "code",
   "execution_count": null,
   "id": "eabe15c1",
   "metadata": {},
   "outputs": [],
   "source": [
    "def count_threeSet_wins(df, player_name):\n",
    "\n",
    "    # Split the score column into sets\n",
    "    df.loc[:, 'sets'] = df['Score'].str.split(\", \")\n",
    "\n",
    "    # Apply the function to calculate three-set match wins\n",
    "    df.loc[:, 'third_set_wins'] = df.apply(lambda row: find_threeSet_matchWins(row['sets'], player_name, row['Player1']), \n",
    "                                            axis=1\n",
    "                                            )\n",
    "    \n",
    "    return df['third_set_wins'].sum()"
   ]
  },
  {
   "cell_type": "code",
   "execution_count": null,
   "id": "aa72b991",
   "metadata": {},
   "outputs": [],
   "source": [
    "# Output 3 Set Wins\n",
    "threeSet_wins = count_threeSet_wins(mens_results_player, player_name)\n",
    "print(f\"3-Set Match Wins: {threeSet_wins}\")\n"
   ]
  },
  {
   "cell_type": "markdown",
   "id": "24b24c98",
   "metadata": {},
   "source": [
    "#### Three Set Matches Lost"
   ]
  },
  {
   "cell_type": "markdown",
   "id": "3b94bc8d",
   "metadata": {},
   "source": [
    "##### Helper Function"
   ]
  },
  {
   "cell_type": "code",
   "execution_count": null,
   "id": "870b4bbb",
   "metadata": {},
   "outputs": [],
   "source": [
    "def find_threeSet_matchLosses(sets, player_name, player1):\n",
    "    losses = 0\n",
    "\n",
    "    if len(sets) == 3:\n",
    "        opponent_wins = 0\n",
    "\n",
    "        for i, set_score in enumerate(sets):\n",
    "            if \"-\" not in set_score:\n",
    "                continue\n",
    "\n",
    "            try:\n",
    "                if \"(\" in set_score:\n",
    "                    tie_split = set_score.split(\"(\")[0]\n",
    "                    player1_score = int(tie_split.split(\"-\")[0].strip())\n",
    "                    player2_score = int(tie_split.split(\"-\")[1].strip())\n",
    "\n",
    "                    if (player1_score == 1 and player2_score == 0) or (player1_score == 0 and player2_score == 1):\n",
    "                        if player1 == player_name and player2_score == 1:\n",
    "                            opponent_wins += 1\n",
    "                        elif player1 != player_name and player1_score == 1:\n",
    "                            opponent_wins += 1\n",
    "                        continue\n",
    "\n",
    "                player1_score = int(set_score.split(\"-\")[0].split(\"(\")[0].strip())\n",
    "                player2_score = int(set_score.split(\"-\")[1].split(\"(\")[0].strip())\n",
    "            except ValueError:\n",
    "                continue\n",
    "\n",
    "            if i == 2:\n",
    "                if not ((player1_score >= 6 or player2_score >= 6) and abs(player1_score - player2_score) >= 2) and \\\n",
    "                   not ((player1_score == 7 and player2_score == 6) or (player1_score == 6 and player2_score == 7)):\n",
    "                    continue\n",
    "\n",
    "            if ((player1_score >= 6 or player2_score >= 6) and abs(player1_score - player2_score) >= 2) or \\\n",
    "               ((player1_score == 7 and player2_score == 6) or (player1_score == 6 and player2_score == 7)):\n",
    "                if player1 == player_name and player1_score < player2_score:\n",
    "                    opponent_wins += 1\n",
    "                elif player1 != player_name and player2_score < player1_score:\n",
    "                    opponent_wins += 1\n",
    "\n",
    "        if opponent_wins >= 2:\n",
    "            losses += 1\n",
    "\n",
    "    return losses\n"
   ]
  },
  {
   "cell_type": "markdown",
   "id": "211dd8b7",
   "metadata": {},
   "source": [
    "##### Three Set Losses Function"
   ]
  },
  {
   "cell_type": "code",
   "execution_count": null,
   "id": "8b185417",
   "metadata": {},
   "outputs": [],
   "source": [
    "def count_threeSet_losses(df, player_name):\n",
    "    df.loc[:, 'sets'] = df['Score'].str.split(\", \")\n",
    "    df.loc[:, 'third_set_losses'] = df.apply(\n",
    "        lambda row: find_threeSet_matchLosses(row['sets'], player_name, row['Player1']),\n",
    "        axis=1\n",
    "    )\n",
    "    return df['third_set_losses'].sum()\n"
   ]
  },
  {
   "cell_type": "code",
   "execution_count": null,
   "id": "0769be8a",
   "metadata": {},
   "outputs": [],
   "source": [
    "# Output 3 Set Losses\n",
    "threeSet_losses = count_threeSet_losses(mens_results_player, player_name)\n",
    "print(f\"3-Set Match Losses: {threeSet_losses}\")"
   ]
  },
  {
   "cell_type": "markdown",
   "id": "9663fed6",
   "metadata": {},
   "source": [
    "### Overall Record and Singles Record"
   ]
  },
  {
   "cell_type": "markdown",
   "id": "45e05296",
   "metadata": {},
   "source": [
    "##### Helper Functions"
   ]
  },
  {
   "cell_type": "code",
   "execution_count": null,
   "id": "803b8171",
   "metadata": {},
   "outputs": [],
   "source": [
    "# Helper Function: Count Sets Won\n",
    "def count_sets_won(score_str):\n",
    "    if not isinstance(score_str, str):\n",
    "        return 0, 0\n",
    "    \n",
    "    p1_sets = p2_sets = 0\n",
    "\n",
    "    sets = [s.strip() for s in score_str.split(',') if s.strip()]  # Clean and split sets\n",
    "    \n",
    "    for i, s in enumerate(sets):\n",
    "        parts = s.split('-')\n",
    "        \n",
    "        # Check for valid score format\n",
    "        if len(parts) < 2:\n",
    "            continue\n",
    "\n",
    "        try:\n",
    "            # Extract the player scores, ignoring tiebreaker details\n",
    "            p1 = int(parts[0].split('(')[0].strip())\n",
    "            p2 = int(parts[1].split('(')[0].strip())\n",
    "        except ValueError:\n",
    "            continue\n",
    "\n",
    "        # Check for 10-point tiebreaker format (e.g., \"1-0(7)\" or \"0-1(3)\")\n",
    "        if len(sets) == 3 and i == 2 and \"(\" in s:\n",
    "            if (p1 == 1 and p2 == 0) or (p1 == 0 and p2 == 1):\n",
    "                if p1 == 1:\n",
    "                    p1_sets += 1\n",
    "                else:\n",
    "                    p2_sets += 1\n",
    "            continue\n",
    "\n",
    "        # Check for standard set completion\n",
    "        valid_standard_set = ((p1 >= 6 or p2 >= 6) and abs(p1 - p2) >= 2) or \\\n",
    "                             ((p1 == 7 and p2 == 6) or (p1 == 6 and p2 == 7))\n",
    "\n",
    "        # If the set is unfinished, skip counting\n",
    "        if not valid_standard_set:\n",
    "            continue\n",
    "        \n",
    "        # Count the set win for the respective player\n",
    "        if p1 > p2:\n",
    "            p1_sets += 1\n",
    "        else:\n",
    "            p2_sets += 1\n",
    "            \n",
    "    return p1_sets, p2_sets"
   ]
  },
  {
   "cell_type": "code",
   "execution_count": null,
   "id": "8b30e297",
   "metadata": {},
   "outputs": [],
   "source": [
    "# Helper Function: Determine Winner\n",
    "def get_winner(row):\n",
    "    \n",
    "    p1_sets, p2_sets = count_sets_won(row['Score'])\n",
    "\n",
    "    # Output Winner of match or 'Unfinisihed'\n",
    "    if p1_sets == 2:\n",
    "        return row['Player1']\n",
    "    elif p2_sets == 2:\n",
    "        return row['Player2']\n",
    "    else:\n",
    "        return 'Unfinished'"
   ]
  },
  {
   "cell_type": "code",
   "execution_count": null,
   "id": "09657f23",
   "metadata": {},
   "outputs": [],
   "source": [
    "# Set Conference Start and End Dates\n",
    "conf_start = pd.Timestamp('2025-03-06')\n",
    "conf_end = pd.Timestamp('2025-04-20')"
   ]
  },
  {
   "cell_type": "markdown",
   "id": "fd0ceef1",
   "metadata": {},
   "source": [
    "##### Singles Record Function"
   ]
  },
  {
   "cell_type": "code",
   "execution_count": null,
   "id": "4cd0fbcd",
   "metadata": {},
   "outputs": [],
   "source": [
    "def player_records(data, conf_start, conf_end):\n",
    "\n",
    "    # Create Columns to count how many sets each player has won\n",
    "    data[['player1_sets', 'player2_sets']] = data['Score'].apply(count_sets_won).apply(pd.Series)\n",
    "\n",
    "    # Create 'result' Column with player1, player2, or Unfinished\n",
    "    data['result'] = data.apply(get_winner, axis=1)\n",
    "\n",
    "    player_conf_matches = data[(data['Date'] >= conf_start) & \n",
    "                                (data['Date'] <= conf_end\n",
    "                                    )]\n",
    "\n",
    "    # Calculate Overall Wins/Losses\n",
    "    overall_wins = (data['result'] == player_name).sum()\n",
    "    overall_losses = ((data['result'] != player_name) & \n",
    "                    (data['result'] != 'Unfinished')).sum()\n",
    "    overall_unfished = (data['result'] == 'Unfinished').sum()\n",
    "\n",
    "    # Calculate Overall Wins/Losses (Conference)\n",
    "    conf_wins = (player_conf_matches['result'] == player_name).sum()\n",
    "    conf_losses = ((player_conf_matches['result'] != player_name) & \n",
    "                (player_conf_matches['result'] != 'Unfinished')).sum()\n",
    "    conf_unfinished = (player_conf_matches['result'] == 'Unfinished').sum()\n",
    "\n",
    "    # Put in string\n",
    "    overall_record = f\"{overall_wins}-{overall_losses}\"\n",
    "    conference_record = f\"{conf_wins}-{conf_losses}\"\n",
    "\n",
    "    # Prepare records for JSON\n",
    "    records = {\n",
    "        \"records\": [\n",
    "            {\n",
    "                \"type\": \"Overall Record\",\n",
    "                \"total\": int(overall_wins + overall_losses),\n",
    "                \"won\": int(overall_wins),\n",
    "                \"lost\": int(overall_losses)\n",
    "            },\n",
    "            {\n",
    "                \"type\": \"Conference Record\",\n",
    "                \"total\": int(conf_wins + conf_losses),\n",
    "                \"won\": int(conf_wins),\n",
    "                \"lost\": int(conf_losses)\n",
    "            }\n",
    "        ]\n",
    "    }\n",
    "\n",
    "    # Output to JSON file in correct structure\n",
    "    filename = \"singles_record.json\"\n",
    "    with open(filename, \"w\") as f:\n",
    "        json.dump(records, f, indent=4)\n",
    "\n",
    "    return overall_record, conference_record, overall_unfished, conf_unfinished, records"
   ]
  },
  {
   "cell_type": "code",
   "execution_count": null,
   "id": "073e6933",
   "metadata": {},
   "outputs": [],
   "source": [
    "# Output Records\n",
    "overall_record, conference_record, overall_unfished, conf_unfinished, records_json = player_records(mens_results_player, conf_start, conf_end)\n",
    "print(f\"Overall Record: {overall_record} (W–L)\")\n",
    "print(f\"Conference Record: {conference_record} (W–L)\")"
   ]
  },
  {
   "cell_type": "markdown",
   "id": "d5a7504d",
   "metadata": {},
   "source": [
    "### Winstreak"
   ]
  },
  {
   "cell_type": "code",
   "execution_count": null,
   "id": "66581ea0",
   "metadata": {},
   "outputs": [],
   "source": [
    "def winstreak(data, player_name):\n",
    "    \n",
    "    data['Winner'] = data.apply(get_winner, axis=1)\n",
    "    data = data[data['Winner'] != 'Unfinished']\n",
    "    data = data.sort_values(by='Date', ascending=True)\n",
    "\n",
    "\n",
    "    # Only mark streaks where the name is Player\n",
    "    is_player_name = data['Winner'] == player_name\n",
    "\n",
    "    # Create groups where Player streaks are separated\n",
    "    groups = (is_player_name != is_player_name.shift()).cumsum()\n",
    "\n",
    "    column_name = f'{player_name}_streak'\n",
    "\n",
    "    # Apply cumulative count within Player streaks\n",
    "    data[column_name] = is_player_name.groupby(groups).cumcount() + 1\n",
    "\n",
    "    # Zero out streak values that aren't Player\n",
    "    data.loc[~is_player_name, column_name] = 0\n",
    "\n",
    "    return data[column_name].max()\n",
    "\n",
    "winstreak(mens_results_player, player_name)\n"
   ]
  },
  {
   "cell_type": "code",
   "execution_count": null,
   "id": "0c73d371",
   "metadata": {},
   "outputs": [],
   "source": [
    "streak = winstreak(mens_results_player, player_name)\n",
    "\n",
    "print(f\"{player_name}'s longest win streak: {streak}\")"
   ]
  },
  {
   "cell_type": "markdown",
   "id": "f3028cf2",
   "metadata": {},
   "source": [
    "### Unfinished Matches"
   ]
  },
  {
   "cell_type": "markdown",
   "id": "c7bae2ea",
   "metadata": {},
   "source": [
    "##### Helper Function"
   ]
  },
  {
   "cell_type": "code",
   "execution_count": null,
   "id": "d618abfc",
   "metadata": {},
   "outputs": [],
   "source": [
    "# Helper Function: Determine Result (Borrowed from index.ipynb)\n",
    "# Make Win and Loss --> \"W\" and \"L\" AND take into account UNFINISHED matches \"UF\"\n",
    "# eg. 6-3 6-3 W  | 3-6 4-6 L  | 2-6 6-5 UF\n",
    "def determine_result(row):\n",
    "    score = row['Score']\n",
    "    if pd.isna(score) or 'UF' in str(score).upper():\n",
    "        return 'UF'\n",
    "\n",
    "    sets = score.split(',')\n",
    "    p1_sets_won = 0\n",
    "    p2_sets_won = 0\n",
    "    valid_sets = 0\n",
    "\n",
    "    for i, set_score in enumerate(sets):\n",
    "        set_score = set_score.strip()\n",
    "\n",
    "        # Special case for 10-point tiebreaker in the third set\n",
    "        if i == len(sets) - 1:  # Check if it is the last set\n",
    "            match_tb = re.match(r'(1-0|0-1)\\((\\d+)\\)', set_score)\n",
    "            if match_tb:\n",
    "                if match_tb.group(1) == '1-0':\n",
    "                    p1_sets_won += 1\n",
    "                else:\n",
    "                    p2_sets_won += 1\n",
    "                valid_sets += 1\n",
    "                continue\n",
    "\n",
    "        # Regular set score matching\n",
    "        match = re.match(r'(\\d+)-(\\d+)(\\(\\d+\\))?', set_score)\n",
    "        if match:\n",
    "            p1_games, p2_games, tiebreak = match.groups()\n",
    "            p1_games, p2_games = int(p1_games), int(p2_games)\n",
    "\n",
    "            # Check if the set is complete (at least 6 games with a difference of 2)\n",
    "            if (p1_games >= 6 or p2_games >= 6) and abs(p1_games - p2_games) >= 2:\n",
    "                valid_sets += 1\n",
    "                if p1_games > p2_games:\n",
    "                    p1_sets_won += 1\n",
    "                else:\n",
    "                    p2_sets_won += 1\n",
    "            # Check for tiebreak set with 7 games (e.g., 7-6)\n",
    "            elif (p1_games == 7 or p2_games == 7) and (p1_games >= 6 and p2_games >= 6):\n",
    "                valid_sets += 1\n",
    "                if p1_games > p2_games:\n",
    "                    p1_sets_won += 1\n",
    "                else:\n",
    "                    p2_sets_won += 1\n",
    "            else:\n",
    "                # Unfinished set if conditions are not met\n",
    "                return 'UF'\n",
    "        else:\n",
    "            # If the format is not recognized, mark as unfinished\n",
    "            return 'UF'\n",
    "\n",
    "    # Check if the match is complete based on valid sets won\n",
    "    if (valid_sets >= 2 and (p1_sets_won == 2 or p2_sets_won == 2)) or (valid_sets >= 3 and (p1_sets_won == 3 or p2_sets_won == 3)):\n",
    "        if row['Player1'] == player_name:\n",
    "            return 'W' if p1_sets_won > p2_sets_won else 'L'\n",
    "        elif row['Player2'] == player_name:\n",
    "            return 'W' if p2_sets_won > p1_sets_won else 'L'\n",
    "    return 'UF'\n"
   ]
  },
  {
   "cell_type": "markdown",
   "id": "69eb7cda",
   "metadata": {},
   "source": [
    "##### Unfinished Matches Total Function"
   ]
  },
  {
   "cell_type": "code",
   "execution_count": null,
   "id": "56d01a8c",
   "metadata": {},
   "outputs": [],
   "source": [
    "def index_csv(data, player_name):\n",
    "\n",
    "    # Filter for Player\n",
    "    df = data[(data['Player1'] == player_name) | (data['Player2'] == player_name)].copy()\n",
    "\n",
    "    # Result column\n",
    "    df['ucla_result'] = df.apply(determine_result, axis=1)\n",
    "\n",
    "    unfinished_matches = df['ucla_result'].value_counts().get('UF', 0)\n",
    "\n",
    "    return unfinished_matches"
   ]
  },
  {
   "cell_type": "code",
   "execution_count": null,
   "id": "c3b4bf84",
   "metadata": {},
   "outputs": [],
   "source": [
    "unfinished_matches = index_csv(mens_results_player, player_name)\n",
    "print(f\"Unfinished Matches: {unfinished_matches}\")"
   ]
  },
  {
   "cell_type": "markdown",
   "id": "a6398d21",
   "metadata": {},
   "source": [
    "### Bagels Served"
   ]
  },
  {
   "cell_type": "code",
   "execution_count": null,
   "id": "a5455bcf",
   "metadata": {},
   "outputs": [],
   "source": [
    "# Number of Bagels Given\n",
    "\n",
    "def bagels_summary(df, player_name):\n",
    "\n",
    "    bagel_count = 0\n",
    "\n",
    "    for i in range(len(df)):\n",
    "        p1 = df.loc[i, 'Player1']\n",
    "        p2 = df.loc[i, 'Player2']\n",
    "        score = str(df.loc[i, 'Score'])  # make sure it's a string\n",
    "        sets = [s.strip() for s in score.split(',')]\n",
    "\n",
    "        if p1 == player_name:\n",
    "            bagel_count += sets.count('6-0')\n",
    "        elif p2 == player_name:\n",
    "            bagel_count += sets.count('0-6')\n",
    "\n",
    "    return bagel_count\n"
   ]
  },
  {
   "cell_type": "code",
   "execution_count": null,
   "id": "bc6d5ae8",
   "metadata": {},
   "outputs": [],
   "source": [
    "bagels_total = bagels_summary(mens_results_player, player_name)\n",
    "print(f\"Total Bagels Served: {bagels_total}\")"
   ]
  },
  {
   "cell_type": "markdown",
   "id": "2c73326d",
   "metadata": {},
   "source": [
    "## Performance Ratings"
   ]
  },
  {
   "cell_type": "markdown",
   "id": "150d9136",
   "metadata": {},
   "source": [
    "##### Total Matches"
   ]
  },
  {
   "cell_type": "code",
   "execution_count": null,
   "id": "7139e11a",
   "metadata": {},
   "outputs": [],
   "source": [
    "total_matches = len(combined_data_settings.groupby('__source_file__'))\n",
    "total_matches"
   ]
  },
  {
   "cell_type": "markdown",
   "id": "3d378614",
   "metadata": {},
   "source": [
    "##### Helper Functions"
   ]
  },
  {
   "cell_type": "code",
   "execution_count": null,
   "id": "0acb9efe",
   "metadata": {},
   "outputs": [],
   "source": [
    "# Helper Function: Grabs total of Specified Stat\n",
    "def get_total(df, stat_name):\n",
    "    rows = df[df['Stat Name'] == stat_name]\n",
    "    if rows.empty: # UPDATE Throw an error?\n",
    "        return 0\n",
    "    total = 0\n",
    "    for col in rows.columns:\n",
    "        if col.startswith('Host Set'):\n",
    "            numeric_vals = pd.to_numeric(rows[col], errors='coerce')\n",
    "            total += numeric_vals.sum()  # Ignores NaNs automatically # UPDATE: throw an error? because this means that the data is bad?\n",
    "    return total\n",
    "    # return rows"
   ]
  },
  {
   "cell_type": "code",
   "execution_count": null,
   "id": "cbd08327",
   "metadata": {},
   "outputs": [],
   "source": [
    "# Helper Function: Calculate Service Games Won Percentage\n",
    "\n",
    "def calculate_service_games_won(df):\n",
    "    # Filter the DataFrame for host server and non-draw game winner\n",
    "    host_service_games = df[(df['Server'] == 'host') & (df['Game Winner'] != 'draw')]\n",
    "    \n",
    "    # Filter for games where host won\n",
    "    host_service_games_won = host_service_games[host_service_games['Game Winner'] == 'host']\n",
    "    \n",
    "    service_games_won_percentage = len(host_service_games_won) / len(host_service_games) \n",
    "    \n",
    "    return service_games_won_percentage"
   ]
  },
  {
   "cell_type": "code",
   "execution_count": null,
   "id": "a4c0f00b",
   "metadata": {},
   "outputs": [],
   "source": [
    "# Helper Function: Calculate Double Faults\n",
    "\n",
    "def calculate_double_faults(df):\n",
    "    double_fault_total = df[(df['Match Server'] == 'host') & \n",
    "                                   (df['Detail'] == 'Double Fault')].shape[0]\n",
    "    return double_fault_total"
   ]
  },
  {
   "cell_type": "code",
   "execution_count": null,
   "id": "ea5f3d3e",
   "metadata": {},
   "outputs": [],
   "source": [
    "# Helper Function: Caluclate Return Games Won \n",
    "\n",
    "def calculate_return_games_won(df):\n",
    "    # Filter the DataFrame for guest server and non-draw game winner\n",
    "    guest_service_games = df[(df['Server'] == 'guest') & (df['Game Winner'] != 'draw')]\n",
    "    \n",
    "    # Filter for games where host won (since return games won means host wins)\n",
    "    guest_return_games_won = guest_service_games[guest_service_games['Game Winner'] == 'host']\n",
    "\n",
    "    return_games_won_percentage = len(guest_return_games_won) / len(guest_service_games) \n",
    "    \n",
    "    return return_games_won_percentage"
   ]
  },
  {
   "cell_type": "markdown",
   "id": "aadd64d3",
   "metadata": {},
   "source": [
    "### Serve Rating"
   ]
  },
  {
   "cell_type": "code",
   "execution_count": null,
   "id": "57bc81ce",
   "metadata": {},
   "outputs": [],
   "source": [
    "# 1st Serve In Percentage\n",
    "first_serve_in_percentage = ((get_total(combined_data_stats, '1st Serves In') / get_total(combined_data_stats, '1st Serves')) * 100).round(2)\n",
    "\n",
    "# 1st Serve Points Won Percentage\n",
    "first_serve_won_percentage = ((get_total(combined_data_stats, '1st Serves Won') / get_total(combined_data_stats, '1st Serves In')) * 100).round(2)\n",
    "\n",
    "# 2nd Serve Points Won Percentage\n",
    "second_serve_won_percentage = ((get_total(combined_data_stats, '2nd Serves Won') / get_total(combined_data_stats, '2nd Serves In')) * 100).round(2)\n",
    "\n",
    "# Service Games Won Percentage\n",
    "service_games_won_percentage = round(calculate_service_games_won(combined_data_games) * 100, 2)\n",
    "\n",
    "# Average Aces per Match Percentagae\n",
    "aces_average = ((get_total(combined_data_stats, 'Aces') / total_matches)).round(2)\n",
    "\n",
    "# Average Double Faults per Match Percentage\n",
    "doubleFaults_average = round(calculate_double_faults(combined_data_points) / total_matches, 2)"
   ]
  },
  {
   "cell_type": "code",
   "execution_count": null,
   "id": "2c2a8ec2",
   "metadata": {},
   "outputs": [],
   "source": [
    "# Calculate Serve Rating\n",
    "serve_rating = round(first_serve_in_percentage + first_serve_won_percentage + second_serve_won_percentage + service_games_won_percentage - doubleFaults_average, 1)\n",
    "\n",
    "# Print All Calculations\n",
    "print(f\"First Serve In %: {first_serve_in_percentage:.2f}%\")\n",
    "print(f\"First Serve Points Won %: {first_serve_won_percentage:.2f}%\")\n",
    "print(f\"Second Serve Points Won %: {second_serve_won_percentage:.2f}%\")\n",
    "print(f\"Service Games Won %: {service_games_won_percentage:.2f}%\")\n",
    "print(f\"Aces per Match: {aces_average:.2f}\")\n",
    "print(f\"Double Faults per Match: {doubleFaults_average:.2f}\")\n",
    "print(f\"Serve Rating: {serve_rating:.1f}\")"
   ]
  },
  {
   "cell_type": "markdown",
   "id": "debd0ed7",
   "metadata": {},
   "source": [
    "### Return Rating"
   ]
  },
  {
   "cell_type": "code",
   "execution_count": null,
   "id": "6f37e096",
   "metadata": {},
   "outputs": [],
   "source": [
    "# 1st Serve Return Points Won Percentage\n",
    "first_serve_returns_won = ((get_total(combined_data_stats, '1st Returns Won') / get_total(combined_data_stats, '1st Returns')) * 100).round(2)\n",
    "\n",
    "# 2nd Serve Return Points Won Percentage\n",
    "second_serve_returns_won = ((get_total(combined_data_stats, '2nd Returns Won') / get_total(combined_data_stats, '2nd Returns')) * 100).round(2)\n",
    "\n",
    "# Return Games Won Percentage\n",
    "return_games_won_percentage = round(calculate_return_games_won(combined_data_games) * 100, 2)\n",
    "\n",
    "# % Break Points Converted Percentage\n",
    "break_points_converted_percentage = ((get_total(combined_data_stats, 'Break Points Won') / get_total(combined_data_stats, 'Break Point Opportunities')) * 100).round(2)"
   ]
  },
  {
   "cell_type": "code",
   "execution_count": null,
   "id": "c4f6e1bd",
   "metadata": {},
   "outputs": [],
   "source": [
    "# Calculate Return Rating\n",
    "return_rating = round(first_serve_returns_won + second_serve_returns_won + return_games_won_percentage + break_points_converted_percentage, 1)\n",
    "\n",
    "# Print Calculations\n",
    "print(f\"First Serve Return Points Won %: {first_serve_returns_won:.2f}%\")\n",
    "print(f\"Second Serve Return Points Won %: {second_serve_returns_won:.2f}%\")\n",
    "print(f\"Return Games Won %: {return_games_won_percentage:.2f}%\")\n",
    "print(f\"Break Points Converted %: {break_points_converted_percentage:.2f}%\")\n",
    "print(f\"Return Rating: {return_rating:.1f}\")\n"
   ]
  },
  {
   "cell_type": "markdown",
   "id": "324d877f",
   "metadata": {},
   "source": [
    "### Under Pressure Rating"
   ]
  },
  {
   "cell_type": "code",
   "execution_count": null,
   "id": "7f49204c",
   "metadata": {},
   "outputs": [],
   "source": [
    "# % Break Points Converted Percentage\n",
    "break_points_converted_percentage = ((get_total(combined_data_stats, 'Break Points Won') / get_total(combined_data_stats, 'Break Point Opportunities')) * 100).round(2)\n",
    "\n",
    "# Break Points Saved Percentage\n",
    "break_points_saved_percentage = ((get_total(combined_data_stats, 'Break Points Saved') / get_total(combined_data_stats, 'Break Points')) * 100).round(2)\n",
    "\n",
    "# Tie Breaks Won Percentage\n",
    "tiebreaks_won_percentage = (tiebreaker_wins / (tiebreaker_wins + tiebreaker_losses) * 100).round(2)\n",
    "\n",
    "# Deciding Sets Won Percentage\n",
    "deciding_sets_won_percentage = ((threeSet_wins / (threeSet_wins + threeSet_losses)) * 100).round(2)"
   ]
  },
  {
   "cell_type": "code",
   "execution_count": null,
   "id": "9671b8d3",
   "metadata": {},
   "outputs": [],
   "source": [
    "# Calculate Under Pressure Rating\n",
    "under_pressure_rating = round(break_points_converted_percentage + break_points_saved_percentage + tiebreaks_won_percentage + deciding_sets_won_percentage, 1)\n",
    "\n",
    "# Print Calculations\n",
    "print(f\"Break Points Converted %: {break_points_converted_percentage:.2f}%\")\n",
    "print(f\"Break Points Saved %: {break_points_saved_percentage:.2f}%\")\n",
    "print(f\"Tiebreaks Won %: {tiebreaks_won_percentage:.2f}%\")\n",
    "print(f\"Deciding Sets Won %: {deciding_sets_won_percentage:.2f}%\")\n",
    "print(f\"Under Pressure Rating: {under_pressure_rating:.1f}\")"
   ]
  },
  {
   "cell_type": "markdown",
   "id": "2ac51f78",
   "metadata": {},
   "source": [
    "### Output Csv"
   ]
  },
  {
   "cell_type": "code",
   "execution_count": null,
   "id": "8e19365d",
   "metadata": {},
   "outputs": [],
   "source": [
    "first_name, last_name = player_name.split(' ')"
   ]
  },
  {
   "cell_type": "code",
   "execution_count": null,
   "id": "c3f23c85",
   "metadata": {},
   "outputs": [],
   "source": [
    "# Current Statistics\n",
    "row = {\n",
    "    \"first_name\": first_name,\n",
    "    \"last_name\": last_name,\n",
    "    \"matches_clinched\": 'N/A',\n",
    "    \"average_court_time\": average_time_on_court,\n",
    "    \"serve_rating\": serve_rating,\n",
    "    \"return_rating\": return_rating,\n",
    "    \"under_pressure_rating\": under_pressure_rating,\n",
    "    \"singles_record\": overall_record,\n",
    "    \"conference_record\": conference_record,\n",
    "    \"sets_won\": sets_won,\n",
    "    \"tiebreakers_won\": tiebreaker_wins,\n",
    "    \"three_set_matches_won\": threeSet_wins,\n",
    "    \"longest_rally_length\": longest_rally_length,\n",
    "    \"average_winners\": average_winners,\n",
    "    \"unfinished_matches\": unfinished_matches,\n",
    "    \"longest_win_streak\": streak,\n",
    "    \"bagels_served\": bagels_total,\n",
    "}"
   ]
  },
  {
   "cell_type": "code",
   "execution_count": null,
   "id": "496cb932",
   "metadata": {},
   "outputs": [],
   "source": [
    "# Create the DataFrame\n",
    "df_summary = pd.DataFrame([row])\n",
    "\n",
    "# Save to CSV\n",
    "filename = f\"{player_name}_summary.csv\"\n",
    "df_summary.to_csv(filename, index=False)"
   ]
  },
  {
   "cell_type": "code",
   "execution_count": null,
   "id": "6fc041f0",
   "metadata": {},
   "outputs": [],
   "source": []
  },
  {
   "cell_type": "code",
   "execution_count": null,
   "id": "0956279d",
   "metadata": {},
   "outputs": [],
   "source": []
  },
  {
   "cell_type": "markdown",
   "id": "8f4bbd57",
   "metadata": {},
   "source": [
    "### Rahul Section: Winners and Errors"
   ]
  },
  {
   "cell_type": "code",
   "execution_count": null,
   "id": "4e0b0120",
   "metadata": {},
   "outputs": [],
   "source": [
    "def get_average_winners(data, stroke_type=None):\n",
    "    # Find number of matches\n",
    "    num_matches = len(data['__source_file__'].value_counts())\n",
    "\n",
    "    # Subset: only points where host wins\n",
    "    host_wins = data[data['Point Winner'] == 'host']\n",
    "    \n",
    "    # Count stroke-specific winners\n",
    "    detail_counts = host_wins['Detail'].value_counts()\n",
    "\n",
    "    if stroke_type == \"Forehand\":\n",
    "        total_winners = detail_counts.get('Forehand Winner', 0)\n",
    "    elif stroke_type == \"Backhand\":\n",
    "        total_winners = detail_counts.get('Backhand Winner', 0)\n",
    "    else:\n",
    "        # Default: total of both\n",
    "        total_winners = detail_counts.get('Forehand Winner', 0) + detail_counts.get('Backhand Winner', 0)\n",
    "\n",
    "    return round(total_winners / num_matches, 1) if num_matches > 0 else 0\n"
   ]
  },
  {
   "cell_type": "code",
   "execution_count": null,
   "id": "e686f491",
   "metadata": {},
   "outputs": [],
   "source": [
    "# # Output Average Winners\n",
    "# average_winners = get_average_winners(combined_data_points)\n",
    "# print(f\"Average Winners per Match: {average_winners}\")\n",
    "\n",
    "# average_forehand_winners = get_average_winners(combined_data_points, stroke_type=\"Forehand\")\n",
    "# print(f\"Average Forehand Winners per Match: {average_forehand_winners}\")\n",
    "\n",
    "# average_backhand_winners = get_average_winners(combined_data_points, stroke_type=\"Backhand\")\n",
    "# print(f\"Average Backhand Winners per Match: {average_backhand_winners}\")\n"
   ]
  },
  {
   "cell_type": "code",
   "execution_count": null,
   "id": "b775550b",
   "metadata": {},
   "outputs": [],
   "source": [
    "def get_average_unforced_errors(data, stroke_type=None):\n",
    "    # Find number of matches\n",
    "    num_matches = len(data['__source_file__'].value_counts())\n",
    "\n",
    "    # Subset: only points where host wins\n",
    "    host_wins = data[data['Point Winner'] == 'guest']\n",
    "    \n",
    "    # Count stroke-specific winners\n",
    "    detail_counts = host_wins['Detail'].value_counts()\n",
    "\n",
    "    if stroke_type == \"Forehand\":\n",
    "        total_unforced_errors = detail_counts.get('Forehand Unforced Error', 0)\n",
    "    elif stroke_type == \"Backhand\":\n",
    "        total_unforced_errors = detail_counts.get('Backhand Unforced Error', 0)\n",
    "    else:\n",
    "        # Default: total of both\n",
    "        total_unforced_errors = detail_counts.get('Forehand Unforced Error', 0) + detail_counts.get('Backhand Unforced Error', 0)\n",
    "\n",
    "    return round(total_unforced_errors / num_matches, 1) if num_matches > 0 else 0\n"
   ]
  },
  {
   "cell_type": "code",
   "execution_count": null,
   "id": "24f97abd",
   "metadata": {},
   "outputs": [],
   "source": [
    "# Output Average Unforced Errors\n",
    "average_unforced_errors = get_average_unforced_errors(combined_data_points)\n",
    "print(f\"Average Unforced Errors  per Match: {average_unforced_errors}\")\n",
    "\n",
    "average_forehand_unforced_errors = get_average_unforced_errors(combined_data_points, stroke_type=\"Forehand\")\n",
    "print(f\"Average Forehand Unforced Errors per Match: {average_forehand_unforced_errors}\")\n",
    "\n",
    "average_backhand_unforced_errors = get_average_unforced_errors(combined_data_points, stroke_type=\"Backhand\")\n",
    "print(f\"Average Backhand Unforced Errors  per Match: {average_backhand_unforced_errors}\")\n"
   ]
  },
  {
   "cell_type": "markdown",
   "id": "df79ad8c",
   "metadata": {},
   "source": [
    "### Forehand and Backhand Rating (WIP)"
   ]
  },
  {
   "cell_type": "code",
   "execution_count": null,
   "id": "d47b9184",
   "metadata": {},
   "outputs": [],
   "source": [
    "def stroke_accuracy(df, player_name, stroke_type):\n",
    "    # Filter by player and stroke\n",
    "    player_strokes = df[(df['Player'] == player_name) & (df['Stroke'] == stroke_type)]\n",
    "    total_attempted = len(player_strokes)\n",
    "    if total_attempted == 0:\n",
    "        return 0\n",
    "\n",
    "    total_made = len(player_strokes[player_strokes['Result'] == 'In'])\n",
    "    return total_made / total_attempted"
   ]
  },
  {
   "cell_type": "code",
   "execution_count": null,
   "id": "83ed0b82",
   "metadata": {},
   "outputs": [],
   "source": [
    "# Output Stroke Accuracy\n",
    "forehand_accuracy = (stroke_accuracy(combined_data_shots, player_name, 'Forehand'))\n",
    "backhand_accuracy = stroke_accuracy(combined_data_shots, player_name, 'Backhand')\n",
    "\n",
    "print(f\"Forehand accuracy: {forehand_accuracy:.2%}\")\n",
    "print(f\"Backhand accuracy: {backhand_accuracy:.2%}\")"
   ]
  },
  {
   "cell_type": "code",
   "execution_count": null,
   "id": "52d48b64",
   "metadata": {},
   "outputs": [],
   "source": [
    "forehand_net_winner_error_metric = average_forehand_winners - average_forehand_unforced_errors\n",
    "backhand_net_winner_error_metric = average_backhand_winners - average_backhand_unforced_errors\n",
    "print(f\"Forehand Net Winner-Error Rate: {forehand_net_winner_error_metric}\")\n",
    "print(f\"Backhand Net Winner-Error Rate: {backhand_net_winner_error_metric}\")"
   ]
  },
  {
   "cell_type": "code",
   "execution_count": null,
   "id": "1d0ec7fe",
   "metadata": {},
   "outputs": [],
   "source": [
    "def net_before_winner_error_metric(df, player_name, stroke_type):\n",
    "    df = df.copy()  # To avoid SettingWithCopyWarning\n",
    "    df['Next_Result'] = df['Result'].shift(-1)\n",
    "    df['Next2_Result'] = df['Result'].shift(-2)\n",
    "    \n",
    "    player_strokes_in = df[(df['Player'] == player_name) & \n",
    "                           (df['Stroke'] == stroke_type) & \n",
    "                           (df['Result'] == 'In')]\n",
    "    \n",
    "    leading_to_error = player_strokes_in[player_strokes_in['Next_Result'].isin(['Out', 'Net'])]\n",
    "    leading_to_winner = player_strokes_in[\n",
    "        (player_strokes_in['Next_Result'] == 'In') & \n",
    "        (player_strokes_in['Next2_Result'].isin(['Out', 'Net']))\n",
    "    ]\n",
    "    \n",
    "    num_matches = len(df['__source_file__'].value_counts())\n",
    "    \n",
    "    avg_leading_to_error = len(leading_to_error) / num_matches\n",
    "    avg_leading_to_winner = len(leading_to_winner) / num_matches\n",
    "    \n",
    "    return avg_leading_to_error - avg_leading_to_winner\n"
   ]
  },
  {
   "cell_type": "code",
   "execution_count": null,
   "id": "0d7ef359",
   "metadata": {},
   "outputs": [],
   "source": [
    "forehand_before_net_winner_error_rate = net_before_winner_error_metric(combined_data_shots, player_name, 'Forehand')\n",
    "backhand_before_net_winner_error_rate = net_before_winner_error_metric(combined_data_shots, player_name, 'Backhand')\n",
    "\n",
    "print(f\"Forehand Before Net Winner-Error Rate: {forehand_before_net_winner_error_rate}\")\n",
    "print(f\"Backhand Before Net Winner-Error Rate: {backhand_before_net_winner_error_rate}\")"
   ]
  },
  {
   "cell_type": "code",
   "execution_count": null,
   "id": "28167606",
   "metadata": {},
   "outputs": [],
   "source": [
    "def serve_plus_one_point_won(df, player_name, stroke_type):\n",
    "    serve_plus_one_strokes = df[\n",
    "        (df['Player'] == player_name) &\n",
    "        (df['Type'] == 'serve_plus_one') &\n",
    "        (df['Stroke'] == stroke_type)\n",
    "    ]\n",
    "    total_attempted = len(serve_plus_one_strokes)\n",
    "    if total_attempted == 0:\n",
    "        return 0\n",
    "\n",
    "    points_won = 0\n",
    "\n",
    "    for idx in serve_plus_one_strokes.index:\n",
    "        # Consider current row and all following rows\n",
    "        future_rows = df.loc[idx:]\n",
    "\n",
    "        # Find first row with Out or Net\n",
    "        first_error = future_rows[future_rows['Result'].isin(['Out', 'Net'])]\n",
    "        if first_error.empty:\n",
    "            continue  # No error found, skip\n",
    "\n",
    "        first_error_row = first_error.iloc[0]\n",
    "\n",
    "        # Count if error is by opponent\n",
    "        if first_error_row['Player'] != player_name:\n",
    "            points_won += 1\n",
    "\n",
    "    return points_won / total_attempted\n"
   ]
  },
  {
   "cell_type": "code",
   "execution_count": null,
   "id": "0d9228bc",
   "metadata": {},
   "outputs": [],
   "source": [
    "serve_plus_one_forehand_win_pct = round(serve_plus_one_point_won(combined_data_shots, player_name, 'Forehand') * 100, 2)\n",
    "serve_plus_one_backhand_win_pct = round(serve_plus_one_point_won(combined_data_shots, player_name, 'Backhand') * 100, 2)\n",
    "\n",
    "print(f\"Serve +1 Forehand Win %: {serve_plus_one_forehand_win_pct}%\")\n",
    "print(f\"Serve +1 Backhand Win %: {serve_plus_one_backhand_win_pct}%\")"
   ]
  },
  {
   "cell_type": "code",
   "execution_count": null,
   "id": "bdbdcfc4",
   "metadata": {},
   "outputs": [],
   "source": [
    "serve_plus_one_forehand_win_pct"
   ]
  },
  {
   "cell_type": "code",
   "execution_count": null,
   "id": "a1761f52",
   "metadata": {},
   "outputs": [],
   "source": [
    "# Calculate Forehand Rating\n",
    "forehand_rating = round(forehand_accuracy * 100 + forehand_net_winner_error_metric + forehand_before_net_winner_error_rate + serve_plus_one_forehand_win_pct, 1)\n",
    "\n",
    "# Print Calculations\n",
    "print(f\"Forehand Accuracy %: {forehand_accuracy:.2%}\")\n",
    "print(f\"Forehand Net Winner Error Metric: {forehand_net_winner_error_metric}\")\n",
    "print(f\"Forehand Before Net Winner Error Rate: {forehand_before_net_winner_error_rate}\")\n",
    "print(f\"Serve +1 Forehand Win %: {serve_plus_one_forehand_win_pct}%\")\n",
    "print(f\"Forehand Rating: {forehand_rating:.1f}\")"
   ]
  }
 ],
 "metadata": {
  "kernelspec": {
   "display_name": "base",
   "language": "python",
   "name": "python3"
  },
  "language_info": {
   "codemirror_mode": {
    "name": "ipython",
    "version": 3
   },
   "file_extension": ".py",
   "mimetype": "text/x-python",
   "name": "python",
   "nbconvert_exporter": "python",
   "pygments_lexer": "ipython3",
   "version": "3.11.5"
  }
 },
 "nbformat": 4,
 "nbformat_minor": 5
}
