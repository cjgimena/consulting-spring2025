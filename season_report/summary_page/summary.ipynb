{
 "cells": [
  {
   "cell_type": "markdown",
   "id": "17301c1d",
   "metadata": {},
   "source": [
    "# Summary Statistics Notebook"
   ]
  },
  {
   "cell_type": "markdown",
   "id": "ee2b44f0",
   "metadata": {},
   "source": [
    "### Load Packages"
   ]
  },
  {
   "cell_type": "code",
   "execution_count": 1,
   "id": "0bc3667a",
   "metadata": {},
   "outputs": [
    {
     "data": {
      "text/plain": [
       "'/Users/cjgimena/Desktop/Github/consulting-spring2025/season_report/summary_page'"
      ]
     },
     "execution_count": 1,
     "metadata": {},
     "output_type": "execute_result"
    }
   ],
   "source": [
    "import pandas as pd\n",
    "import os\n",
    "\n",
    "os.getcwd() # Print current working directory"
   ]
  },
  {
   "cell_type": "code",
   "execution_count": 2,
   "id": "b29babf7",
   "metadata": {},
   "outputs": [
    {
     "data": {
      "text/plain": [
       "'/Users/cjgimena/Desktop/Github/consulting-spring2025'"
      ]
     },
     "execution_count": 2,
     "metadata": {},
     "output_type": "execute_result"
    }
   ],
   "source": [
    "os.chdir('../..') # go back two directories\n",
    "os.getcwd()"
   ]
  },
  {
   "cell_type": "markdown",
   "id": "1392cb6e",
   "metadata": {},
   "source": [
    "### Read Data"
   ]
  },
  {
   "cell_type": "code",
   "execution_count": 3,
   "id": "0c70a4a7",
   "metadata": {},
   "outputs": [],
   "source": [
    "# USER INPUT: Specify Player!\n",
    "player_name = 'Rudy Quan'"
   ]
  },
  {
   "cell_type": "code",
   "execution_count": 17,
   "id": "efeefd45",
   "metadata": {},
   "outputs": [],
   "source": [
    "combined_data_shots = pd.read_excel(f'data/mens/{player_name}/combined.xlsx', sheet_name='Shots')\n",
    "combined_data_points = pd.read_excel(f'data/mens/{player_name}/combined.xlsx', sheet_name='Points')\n",
    "combined_data_sets = pd.read_excel(f'data/mens/{player_name}/combined.xlsx', sheet_name='Sets')"
   ]
  },
  {
   "cell_type": "code",
   "execution_count": 5,
   "id": "bee25874",
   "metadata": {},
   "outputs": [],
   "source": [
    "# Subset 2024-2025 Season Matches!\n",
    "mens_results = pd.read_csv('data/mens/mens_results.csv')[:229]\n",
    "\n",
    "def filter_player(data, player_name):\n",
    "    data = data[(data['Player1'] == player_name) | (data['Player2'] == player_name)]\n",
    "\n",
    "    data = data[data['Event Name'].str.startswith(('Dual Match', '2024 ITA'))]\n",
    "    return data\n",
    "\n",
    "mens_results = filter_player(mens_results, player_name)"
   ]
  },
  {
   "cell_type": "markdown",
   "id": "9585a69f",
   "metadata": {},
   "source": [
    "### Longest Rally Function"
   ]
  },
  {
   "cell_type": "code",
   "execution_count": 6,
   "id": "157c8953",
   "metadata": {},
   "outputs": [],
   "source": [
    "def longest_rally(data):\n",
    "\n",
    "    # Error Check\n",
    "    if \"Shot\" not in data.columns:\n",
    "        raise ValueError(\"The column 'Shot' was not found in the 'Shots' sheet.\")\n",
    "    \n",
    "    # Find the index of the max shot value\n",
    "    max_rally_length = data[\"Shot\"].max()  \n",
    "\n",
    "    # Return the value of the max shot\n",
    "    return max_rally_length"
   ]
  },
  {
   "cell_type": "code",
   "execution_count": 7,
   "id": "709e43ad",
   "metadata": {},
   "outputs": [
    {
     "data": {
      "text/plain": [
       "32"
      ]
     },
     "execution_count": 7,
     "metadata": {},
     "output_type": "execute_result"
    }
   ],
   "source": [
    "longest_rally_length = longest_rally(combined_data_shots)\n",
    "longest_rally_length"
   ]
  },
  {
   "cell_type": "markdown",
   "id": "58f7d27f",
   "metadata": {},
   "source": [
    "### Average Time On Court"
   ]
  },
  {
   "cell_type": "code",
   "execution_count": 8,
   "id": "82ac742c",
   "metadata": {},
   "outputs": [],
   "source": [
    "def average_court_time(data):\n",
    "    \n",
    "    if 'Duration' not in data.columns:\n",
    "        raise ValueError(\"The column 'Duration' was not found in the 'Sets' sheet.\")\n",
    "    \n",
    "    if '__source_file__' not in data.columns:\n",
    "        raise ValueError(\"The column '__source_file__' was not found in the 'Sets' sheet.\")\n",
    "    \n",
    "    # Make sure the column values are Numeric | errors argument sets not numerics to NA\n",
    "    data['Duration'] = pd.to_numeric(data['Duration'], errors='coerce')\n",
    "\n",
    "    # Create Boolean Mask to filter out NA values\n",
    "    data = data[data['Duration'].notna()]\n",
    "\n",
    "    # Group by 'Duration' and sum values then convert to minutes\n",
    "    match_durations = (\n",
    "                        data.groupby('__source_file__')['Duration']\n",
    "                        .sum()\n",
    "                        .div(60)\n",
    "                        .round(1)\n",
    "                        )\n",
    "    \n",
    "    # Compute overall average in minutes\n",
    "    avg_minutes = match_durations.mean()\n",
    "    if pd.notna(avg_minutes):\n",
    "        hours = int(avg_minutes) // 60\n",
    "        mins = int(avg_minutes) % 60            \n",
    "\n",
    "    duration = f\"{hours}:{mins:02d}\"\n",
    "    \n",
    "    return duration"
   ]
  },
  {
   "cell_type": "code",
   "execution_count": 9,
   "id": "c86c7164",
   "metadata": {},
   "outputs": [
    {
     "data": {
      "text/plain": [
       "'9:12'"
      ]
     },
     "execution_count": 9,
     "metadata": {},
     "output_type": "execute_result"
    }
   ],
   "source": [
    "average_time_on_court = average_court_time(combined_data_sets)\n",
    "average_time_on_court"
   ]
  },
  {
   "cell_type": "markdown",
   "id": "ff1fb5ab",
   "metadata": {},
   "source": [
    "### Tiebreak Wins"
   ]
  },
  {
   "cell_type": "code",
   "execution_count": 15,
   "id": "9e1b985d",
   "metadata": {},
   "outputs": [
    {
     "data": {
      "text/html": [
       "<div>\n",
       "<style scoped>\n",
       "    .dataframe tbody tr th:only-of-type {\n",
       "        vertical-align: middle;\n",
       "    }\n",
       "\n",
       "    .dataframe tbody tr th {\n",
       "        vertical-align: top;\n",
       "    }\n",
       "\n",
       "    .dataframe thead th {\n",
       "        text-align: right;\n",
       "    }\n",
       "</style>\n",
       "<table border=\"1\" class=\"dataframe\">\n",
       "  <thead>\n",
       "    <tr style=\"text-align: right;\">\n",
       "      <th></th>\n",
       "      <th>Event Name</th>\n",
       "      <th>Date</th>\n",
       "      <th>Player1</th>\n",
       "      <th>Player1 UTR</th>\n",
       "      <th>Player2</th>\n",
       "      <th>Player2 UTR</th>\n",
       "      <th>Score</th>\n",
       "    </tr>\n",
       "  </thead>\n",
       "  <tbody>\n",
       "    <tr>\n",
       "      <th>0</th>\n",
       "      <td>Dual Match: University of California, Los Ange...</td>\n",
       "      <td>2025-04-26</td>\n",
       "      <td>Aidan Kim</td>\n",
       "      <td>13.75</td>\n",
       "      <td>Rudy Quan</td>\n",
       "      <td>13.67</td>\n",
       "      <td>7-6(3), 6-2</td>\n",
       "    </tr>\n",
       "    <tr>\n",
       "      <th>1</th>\n",
       "      <td>Dual Match: Ohio State University vs Universit...</td>\n",
       "      <td>2025-04-03</td>\n",
       "      <td>Alexander Bernard</td>\n",
       "      <td>13.33</td>\n",
       "      <td>Rudy Quan</td>\n",
       "      <td>13.67</td>\n",
       "      <td>7-6(5), 0-6</td>\n",
       "    </tr>\n",
       "    <tr>\n",
       "      <th>2</th>\n",
       "      <td>Dual Match: University of California, Los Ange...</td>\n",
       "      <td>2025-04-03</td>\n",
       "      <td>Alexander Bernard</td>\n",
       "      <td>13.33</td>\n",
       "      <td>Rudy Quan</td>\n",
       "      <td>13.67</td>\n",
       "      <td>7-6(5), 0-6, 3-1</td>\n",
       "    </tr>\n",
       "    <tr>\n",
       "      <th>3</th>\n",
       "      <td>Dual Match: University of California, Los Ange...</td>\n",
       "      <td>2025-03-20</td>\n",
       "      <td>Kenta Miyoshi</td>\n",
       "      <td>13.92</td>\n",
       "      <td>Rudy Quan</td>\n",
       "      <td>13.67</td>\n",
       "      <td>7-6(5), 5-1</td>\n",
       "    </tr>\n",
       "    <tr>\n",
       "      <th>4</th>\n",
       "      <td>Dual Match: Purdue University vs University of...</td>\n",
       "      <td>2025-03-08</td>\n",
       "      <td>Rudy Quan</td>\n",
       "      <td>13.67</td>\n",
       "      <td>Aleksa Krivokapic</td>\n",
       "      <td>12.00</td>\n",
       "      <td>4-6, 6-3, 1-0(3)</td>\n",
       "    </tr>\n",
       "    <tr>\n",
       "      <th>5</th>\n",
       "      <td>Dual Match: University of California, Berkeley...</td>\n",
       "      <td>2025-01-31</td>\n",
       "      <td>Carl Emil Overbeck</td>\n",
       "      <td>13.49</td>\n",
       "      <td>Rudy Quan</td>\n",
       "      <td>13.67</td>\n",
       "      <td>6-7(7), 6-3, 6-4</td>\n",
       "    </tr>\n",
       "    <tr>\n",
       "      <th>6</th>\n",
       "      <td>Dual Match: University of San Diego vs Univers...</td>\n",
       "      <td>2025-01-19</td>\n",
       "      <td>Rudy Quan</td>\n",
       "      <td>13.67</td>\n",
       "      <td>Iiro Vasa</td>\n",
       "      <td>12.90</td>\n",
       "      <td>6-3, 7-6(5)</td>\n",
       "    </tr>\n",
       "  </tbody>\n",
       "</table>\n",
       "</div>"
      ],
      "text/plain": [
       "                                          Event Name        Date  \\\n",
       "0  Dual Match: University of California, Los Ange...  2025-04-26   \n",
       "1  Dual Match: Ohio State University vs Universit...  2025-04-03   \n",
       "2  Dual Match: University of California, Los Ange...  2025-04-03   \n",
       "3  Dual Match: University of California, Los Ange...  2025-03-20   \n",
       "4  Dual Match: Purdue University vs University of...  2025-03-08   \n",
       "5  Dual Match: University of California, Berkeley...  2025-01-31   \n",
       "6  Dual Match: University of San Diego vs Univers...  2025-01-19   \n",
       "\n",
       "              Player1  Player1 UTR            Player2  Player2 UTR  \\\n",
       "0           Aidan Kim        13.75          Rudy Quan        13.67   \n",
       "1   Alexander Bernard        13.33          Rudy Quan        13.67   \n",
       "2   Alexander Bernard        13.33          Rudy Quan        13.67   \n",
       "3       Kenta Miyoshi        13.92          Rudy Quan        13.67   \n",
       "4           Rudy Quan        13.67  Aleksa Krivokapic        12.00   \n",
       "5  Carl Emil Overbeck        13.49          Rudy Quan        13.67   \n",
       "6           Rudy Quan        13.67          Iiro Vasa        12.90   \n",
       "\n",
       "              Score  \n",
       "0       7-6(3), 6-2  \n",
       "1       7-6(5), 0-6  \n",
       "2  7-6(5), 0-6, 3-1  \n",
       "3       7-6(5), 5-1  \n",
       "4  4-6, 6-3, 1-0(3)  \n",
       "5  6-7(7), 6-3, 6-4  \n",
       "6       6-3, 7-6(5)  "
      ]
     },
     "execution_count": 15,
     "metadata": {},
     "output_type": "execute_result"
    }
   ],
   "source": [
    "# Work\n",
    "tiebreak_data = mens_results[mens_results['Score'].str.contains(r'6-7\\(|7-6\\(|1-0|0-1', na=False)].reset_index(drop=True)\n",
    "tiebreak_data"
   ]
  },
  {
   "cell_type": "code",
   "execution_count": null,
   "id": "7f851f89",
   "metadata": {},
   "outputs": [
    {
     "data": {
      "text/plain": [
       "1"
      ]
     },
     "execution_count": 11,
     "metadata": {},
     "output_type": "execute_result"
    }
   ],
   "source": [
    "# Work\n",
    "score = tiebreak_data.loc[1, 'Score']\n",
    "score.count(\"7-6(\") + score.count('1-0')"
   ]
  },
  {
   "cell_type": "code",
   "execution_count": 16,
   "id": "cb9e0377",
   "metadata": {},
   "outputs": [
    {
     "data": {
      "text/plain": [
       "win     3\n",
       "loss    4\n",
       "dtype: int64"
      ]
     },
     "execution_count": 16,
     "metadata": {},
     "output_type": "execute_result"
    }
   ],
   "source": [
    "# Work\n",
    "def tiebreaker_win_loss(score, player1, player2, player_name):\n",
    "# def tiebreaker_win_loss(score):\n",
    "    if player1 == player_name:\n",
    "        win = score.count(\"7-6(\") + score.count('1-0')\n",
    "        loss = score.count(\"6-7(\") + score.count('0-1')\n",
    "    elif player2 == player_name:\n",
    "        win = score.count(\"6-7(\") + score.count('0-1')\n",
    "        loss = score.count(\"7-6(\") + score.count('1-0')\n",
    "    else:\n",
    "        pass\n",
    "    return win, loss\n",
    "\n",
    "\n",
    "tiebreak_data[['win', 'loss']] = tiebreak_data.apply(lambda x:tiebreaker_win_loss(x['Score'], x['Player1'], x['Player2'], player_name), axis=1).apply(pd.Series)\n",
    "tiebreak_data[['win', 'loss']].sum()"
   ]
  },
  {
   "cell_type": "code",
   "execution_count": 37,
   "id": "a26984bc",
   "metadata": {},
   "outputs": [],
   "source": [
    "def analyze_tiebreak_data(data, player_name):\n",
    "\n",
    "    # Subset data to only include matches with tiebreaker sets\n",
    "    tiebreak_data = data[data['Score'].str.contains(r'6-7\\(|7-6\\(|1-0|0-1', na=False)].reset_index(drop=True)\n",
    "\n",
    "    # Function to use in apply function\n",
    "    def tiebreaker_win_loss(score, player1, player2, player_name):\n",
    "        if player1 == player_name:\n",
    "            win = score.count(\"7-6(\") + score.count('1-0')\n",
    "            loss = score.count(\"6-7(\") + score.count('0-1')\n",
    "        elif player2 == player_name:\n",
    "            win = score.count(\"6-7(\") + score.count('0-1')\n",
    "            loss = score.count(\"7-6(\") + score.count('1-0')\n",
    "        else:\n",
    "            pass\n",
    "        return win, loss\n",
    "\n",
    "    # Use the apply function to create tiebreake win/loss count columsn\n",
    "    tiebreak_data[['win', 'loss']] = tiebreak_data.apply(lambda x:tiebreaker_win_loss(x['Score'], \n",
    "                                                                                      x['Player1'], \n",
    "                                                                                      x['Player2'], \n",
    "                                                                                      player_name), axis=1).apply(pd.Series)\n",
    "    \n",
    "    # Assign tiebreaker sets wins and losses to respective variables\n",
    "    total_wins = tiebreak_data['win'].sum()\n",
    "    total_losses = tiebreak_data['loss'].sum()\n",
    "\n",
    "\n",
    "    return total_wins, total_losses\n"
   ]
  },
  {
   "cell_type": "code",
   "execution_count": 36,
   "id": "cffd52e0",
   "metadata": {},
   "outputs": [
    {
     "data": {
      "text/plain": [
       "3"
      ]
     },
     "execution_count": 36,
     "metadata": {},
     "output_type": "execute_result"
    }
   ],
   "source": [
    "# Output tiebreaker wins\n",
    "tiebreaker_wins = analyze_tiebreak_data(mens_results, player_name)[0]\n",
    "tiebreaker_wins"
   ]
  },
  {
   "cell_type": "markdown",
   "id": "3891bfc3",
   "metadata": {},
   "source": [
    "### Average Winners"
   ]
  },
  {
   "cell_type": "code",
   "execution_count": 35,
   "id": "f304b6a7",
   "metadata": {},
   "outputs": [],
   "source": [
    "def get_average_winners(data):\n",
    "\n",
    "    # Find the number of matches\n",
    "    num_matches = len(data['__source_file__'].value_counts())\n",
    "\n",
    "    # Subset the data for all the points that our player hits\n",
    "    host_wins = data[data['Point Winner'] == 'host']\n",
    "    \n",
    "    # Find the counts of Total Winners overall (Forehand + Backhand)\n",
    "    total_winners = host_wins['Detail'].value_counts()['Forehand Winner'] + host_wins['Detail'].value_counts()['Backhand Winner']\n",
    "\n",
    "    # Return value\n",
    "    return total_winners // num_matches"
   ]
  },
  {
   "cell_type": "code",
   "execution_count": 34,
   "id": "23a120ef",
   "metadata": {},
   "outputs": [
    {
     "data": {
      "text/plain": [
       "12"
      ]
     },
     "execution_count": 34,
     "metadata": {},
     "output_type": "execute_result"
    }
   ],
   "source": [
    "# Output Average Winners\n",
    "average_winners = get_average_winners(combined_data_points)\n",
    "average_winners"
   ]
  },
  {
   "cell_type": "code",
   "execution_count": null,
   "id": "8e8c7135",
   "metadata": {},
   "outputs": [],
   "source": []
  },
  {
   "cell_type": "code",
   "execution_count": null,
   "id": "2272e1ce",
   "metadata": {},
   "outputs": [],
   "source": []
  },
  {
   "cell_type": "code",
   "execution_count": null,
   "id": "6e311193",
   "metadata": {},
   "outputs": [],
   "source": []
  },
  {
   "cell_type": "markdown",
   "id": "b2e58a86",
   "metadata": {},
   "source": [
    "### Three Set Matches Won"
   ]
  },
  {
   "cell_type": "code",
   "execution_count": null,
   "id": "086ceb23",
   "metadata": {},
   "outputs": [],
   "source": []
  },
  {
   "cell_type": "markdown",
   "id": "2ac51f78",
   "metadata": {},
   "source": [
    "### Output Csv"
   ]
  },
  {
   "cell_type": "markdown",
   "id": "c3f23c85",
   "metadata": {},
   "source": []
  }
 ],
 "metadata": {
  "kernelspec": {
   "display_name": "base",
   "language": "python",
   "name": "python3"
  },
  "language_info": {
   "codemirror_mode": {
    "name": "ipython",
    "version": 3
   },
   "file_extension": ".py",
   "mimetype": "text/x-python",
   "name": "python",
   "nbconvert_exporter": "python",
   "pygments_lexer": "ipython3",
   "version": "3.11.5"
  }
 },
 "nbformat": 4,
 "nbformat_minor": 5
}
