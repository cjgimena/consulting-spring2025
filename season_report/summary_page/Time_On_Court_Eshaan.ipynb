{
 "cells": [
  {
   "cell_type": "code",
   "execution_count": 8,
   "metadata": {},
   "outputs": [
    {
     "name": "stdout",
     "output_type": "stream",
     "text": [
      "                                               match      duration\n",
      "0  (REVISED) Rudy_Quan_Edward_Winter_Pepperdine.xlsx   6454.719970\n",
      "1            Rudy_Quan_Ozan_Baris_MichiganState.xlsx   3434.000000\n",
      "2               Rudy_Quan_Will_Cooksey_Michigan.xlsx   5159.780029\n",
      "3                 RudyQuan_DeaconThomas_Indiana.xlsx   4458.089844\n",
      "4                 RudyQuan_FloridaState_9_23_24.xlsx   3997.400024\n",
      "5                       RudyQuan_Indiana_3_7_25.xlsx   4458.089844\n",
      "6                       RudyQuan_JCRoddick_TAMU.xlsx  10989.980117\n",
      "Average court time per match: 5564.579975428571\n"
     ]
    }
   ],
   "source": [
    "import pandas as pd\n",
    "import os\n",
    "\n",
    "# List of file paths\n",
    "file_paths = [\n",
    "    \"data/mens/Rudy Quan/(REVISED) Rudy_Quan_Edward_Winter_Pepperdine.xlsx\",\n",
    "    \"data/mens/Rudy Quan/Rudy_Quan_Ozan_Baris_MichiganState.xlsx\",\n",
    "    \"data/mens/Rudy Quan/Rudy_Quan_Will_Cooksey_Michigan.xlsx\",\n",
    "    \"data/mens/Rudy Quan/RudyQuan_DeaconThomas_Indiana.xlsx\",\n",
    "    \"data/mens/Rudy Quan/RudyQuan_FloridaState_9_23_24.xlsx\",\n",
    "    \"data/mens/Rudy Quan/RudyQuan_Indiana_3_7_25.xlsx\",\n",
    "    \"data/mens/Rudy Quan/RudyQuan_JCRoddick_TAMU.xlsx\",\n",
    "    \"data/mens/Rudy Quan/RudyQuan-Purdue.xlsx\"\n",
    "]\n",
    "\n",
    "# Create list to hold match data\n",
    "duration_data = []\n",
    "\n",
    "# Loop through each Excel file\n",
    "for file_path in file_paths:\n",
    "    try:\n",
    "        xls = pd.ExcelFile(file_path)\n",
    "        if 'Sets' in xls.sheet_names:\n",
    "            df = xls.parse('Sets')\n",
    "            if 'Duration' in df.columns:\n",
    "                df['Duration'] = pd.to_numeric(df['Duration'], errors='coerce')\n",
    "                total_duration = df['Duration'].sum()\n",
    "                duration_data.append({\n",
    "                    'match': os.path.basename(file_path),\n",
    "                    'duration': total_duration\n",
    "                })\n",
    "    except:\n",
    "        pass\n",
    "\n",
    "# Create DataFrame from results\n",
    "duration_df = pd.DataFrame(duration_data)\n",
    "\n",
    "# Print the DataFrame\n",
    "print(duration_df)\n",
    "\n",
    "# Calculate and print average duration\n",
    "average_duration = duration_df['duration'].mean()\n",
    "print(\"Average court time per match:\", average_duration)\n"
   ]
  }
 ],
 "metadata": {
  "kernelspec": {
   "display_name": "Python 3",
   "language": "python",
   "name": "python3"
  },
  "language_info": {
   "codemirror_mode": {
    "name": "ipython",
    "version": 3
   },
   "file_extension": ".py",
   "mimetype": "text/x-python",
   "name": "python",
   "nbconvert_exporter": "python",
   "pygments_lexer": "ipython3",
   "version": "3.12.7"
  }
 },
 "nbformat": 4,
 "nbformat_minor": 2
}
