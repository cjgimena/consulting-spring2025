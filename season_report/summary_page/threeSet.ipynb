{
 "cells": [
  {
   "cell_type": "code",
   "execution_count": 1,
   "metadata": {},
   "outputs": [],
   "source": [
    "import pandas as pd\n",
    "import re"
   ]
  },
  {
   "cell_type": "code",
   "execution_count": 2,
   "metadata": {},
   "outputs": [],
   "source": [
    "url = \"https://raw.githubusercontent.com/cjgimena/consulting-spring2025/refs/heads/main/data/mens/mens_results.csv\"\n",
    "df = pd.read_csv(url)"
   ]
  },
  {
   "cell_type": "code",
   "execution_count": 5,
   "metadata": {},
   "outputs": [
    {
     "name": "stdout",
     "output_type": "stream",
     "text": [
      "1026\n"
     ]
    }
   ],
   "source": [
    "def count_threeSet_wins(df):\n",
    "    count = 0\n",
    "\n",
    "    #loop through non NaN rows\n",
    "    for s in df['Score'].dropna():\n",
    "        #convert string scores to number scores\n",
    "        sets = re.findall(r'(\\d+)-(\\d+)', s)\n",
    "\n",
    "        #filter only 3 set games\n",
    "        if len(sets) == 3:\n",
    "            ucla_set_wins = 0\n",
    "            ucla_set_wins = sum(int(u) > int(o) for u, o in sets)\n",
    "            #count ucla wins\n",
    "            if ucla_set_wins >= 2:\n",
    "                count += 1\n",
    "\n",
    "    return count\n",
    "\n",
    "n = count_threeSet_wins(df)\n",
    "print(n)"
   ]
  }
 ],
 "metadata": {
  "kernelspec": {
   "display_name": "Python 3",
   "language": "python",
   "name": "python3"
  },
  "language_info": {
   "codemirror_mode": {
    "name": "ipython",
    "version": 3
   },
   "file_extension": ".py",
   "mimetype": "text/x-python",
   "name": "python",
   "nbconvert_exporter": "python",
   "pygments_lexer": "ipython3",
   "version": "3.13.2"
  }
 },
 "nbformat": 4,
 "nbformat_minor": 2
}
