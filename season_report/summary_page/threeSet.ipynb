{
 "cells": [
  {
   "cell_type": "code",
   "execution_count": 22,
   "metadata": {},
   "outputs": [],
   "source": [
    "import pandas as pd\n",
    "import re"
   ]
  },
  {
   "cell_type": "code",
   "execution_count": 23,
   "metadata": {},
   "outputs": [
    {
     "data": {
      "text/html": [
       "<div>\n",
       "<style scoped>\n",
       "    .dataframe tbody tr th:only-of-type {\n",
       "        vertical-align: middle;\n",
       "    }\n",
       "\n",
       "    .dataframe tbody tr th {\n",
       "        vertical-align: top;\n",
       "    }\n",
       "\n",
       "    .dataframe thead th {\n",
       "        text-align: right;\n",
       "    }\n",
       "</style>\n",
       "<table border=\"1\" class=\"dataframe\">\n",
       "  <thead>\n",
       "    <tr style=\"text-align: right;\">\n",
       "      <th></th>\n",
       "      <th>Event Name</th>\n",
       "      <th>Date</th>\n",
       "      <th>Player1</th>\n",
       "      <th>Player1 UTR</th>\n",
       "      <th>Player2</th>\n",
       "      <th>Player2 UTR</th>\n",
       "      <th>Score</th>\n",
       "    </tr>\n",
       "  </thead>\n",
       "  <tbody>\n",
       "    <tr>\n",
       "      <th>0</th>\n",
       "      <td>Dual Match: University of California, Los Ange...</td>\n",
       "      <td>2025-04-26</td>\n",
       "      <td>Emon Van Loben Sels</td>\n",
       "      <td>13.59</td>\n",
       "      <td>Alexander Bernard</td>\n",
       "      <td>13.33</td>\n",
       "      <td>7-6(5), 5-7, 6-3</td>\n",
       "    </tr>\n",
       "    <tr>\n",
       "      <th>1</th>\n",
       "      <td>Dual Match: University of California, Los Ange...</td>\n",
       "      <td>2025-04-26</td>\n",
       "      <td>Alexander Hoogmartens</td>\n",
       "      <td>13.00</td>\n",
       "      <td>Jack Anthrop</td>\n",
       "      <td>13.66</td>\n",
       "      <td>7-5, 0-6, 6-4</td>\n",
       "    </tr>\n",
       "    <tr>\n",
       "      <th>2</th>\n",
       "      <td>Dual Match: University of California, Los Ange...</td>\n",
       "      <td>2025-04-26</td>\n",
       "      <td>Aidan Kim</td>\n",
       "      <td>13.75</td>\n",
       "      <td>Rudy Quan</td>\n",
       "      <td>13.67</td>\n",
       "      <td>7-6(3), 6-2</td>\n",
       "    </tr>\n",
       "    <tr>\n",
       "      <th>3</th>\n",
       "      <td>Dual Match: University of California, Los Ange...</td>\n",
       "      <td>2025-04-26</td>\n",
       "      <td>Preston Stearns</td>\n",
       "      <td>13.08</td>\n",
       "      <td>Aadarsh Tripathi</td>\n",
       "      <td>12.94</td>\n",
       "      <td>6-3, 2-6, 6-2</td>\n",
       "    </tr>\n",
       "    <tr>\n",
       "      <th>4</th>\n",
       "      <td>Dual Match: University of California, Los Ange...</td>\n",
       "      <td>2025-04-26</td>\n",
       "      <td>Kaylan Bigun</td>\n",
       "      <td>13.17</td>\n",
       "      <td>William Jansen</td>\n",
       "      <td>13.24</td>\n",
       "      <td>6-2, 7-5</td>\n",
       "    </tr>\n",
       "  </tbody>\n",
       "</table>\n",
       "</div>"
      ],
      "text/plain": [
       "                                          Event Name        Date  \\\n",
       "0  Dual Match: University of California, Los Ange...  2025-04-26   \n",
       "1  Dual Match: University of California, Los Ange...  2025-04-26   \n",
       "2  Dual Match: University of California, Los Ange...  2025-04-26   \n",
       "3  Dual Match: University of California, Los Ange...  2025-04-26   \n",
       "4  Dual Match: University of California, Los Ange...  2025-04-26   \n",
       "\n",
       "                 Player1  Player1 UTR            Player2  Player2 UTR  \\\n",
       "0    Emon Van Loben Sels        13.59  Alexander Bernard        13.33   \n",
       "1  Alexander Hoogmartens        13.00       Jack Anthrop        13.66   \n",
       "2              Aidan Kim        13.75          Rudy Quan        13.67   \n",
       "3        Preston Stearns        13.08   Aadarsh Tripathi        12.94   \n",
       "4           Kaylan Bigun        13.17     William Jansen        13.24   \n",
       "\n",
       "              Score  \n",
       "0  7-6(5), 5-7, 6-3  \n",
       "1     7-5, 0-6, 6-4  \n",
       "2       7-6(3), 6-2  \n",
       "3     6-3, 2-6, 6-2  \n",
       "4          6-2, 7-5  "
      ]
     },
     "execution_count": 23,
     "metadata": {},
     "output_type": "execute_result"
    }
   ],
   "source": [
    "url = \"https://raw.githubusercontent.com/cjgimena/consulting-spring2025/refs/heads/main/data/mens/mens_results.csv\"\n",
    "df = pd.read_csv(url)\n",
    "df.head()"
   ]
  },
  {
   "cell_type": "code",
   "execution_count": 34,
   "metadata": {},
   "outputs": [
    {
     "name": "stdout",
     "output_type": "stream",
     "text": [
      "Number of matches with three set wins: 1041\n"
     ]
    }
   ],
   "source": [
    "def count_threeSet_wins(df):\n",
    "    count = 0\n",
    "    for s in df['Score'].dropna():\n",
    "        #ignor NaN values\n",
    "        if not isinstance(s, str):\n",
    "            continue\n",
    "        #convert string scores to number scores\n",
    "        sets = re.findall(r'(\\d)+(-\\d)+', s)\n",
    "        \n",
    "        if len(sets) != 3:\n",
    "            continue\n",
    "\n",
    "        ucla_set_wins = 0\n",
    "        ucla_set_wins = sum(int(u) > int(o) for u, o in sets)\n",
    "        #count ucla wins\n",
    "        if ucla_set_wins >= 2:\n",
    "            count += 1\n",
    "\n",
    "    return count\n",
    "\n",
    "n = count_threeSet_wins(df)\n",
    "print(f\"Number of matches with three set wins: {n}\")"
   ]
  }
 ],
 "metadata": {
  "kernelspec": {
   "display_name": "tennis",
   "language": "python",
   "name": "python3"
  },
  "language_info": {
   "codemirror_mode": {
    "name": "ipython",
    "version": 3
   },
   "file_extension": ".py",
   "mimetype": "text/x-python",
   "name": "python",
   "nbconvert_exporter": "python",
   "pygments_lexer": "ipython3",
   "version": "3.13.2"
  }
 },
 "nbformat": 4,
 "nbformat_minor": 2
}
