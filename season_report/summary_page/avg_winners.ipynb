{
 "cells": [
  {
   "cell_type": "code",
   "execution_count": null,
   "id": "8a1267b3",
   "metadata": {},
   "outputs": [],
   "source": [
    "import pandas as pd"
   ]
  },
  {
   "cell_type": "code",
   "execution_count": 2,
   "id": "e6475631",
   "metadata": {},
   "outputs": [],
   "source": [
    "def get_average_winners(data):\n",
    "    num_matches = len(data['__source_file__'].value_counts())\n",
    "    host_wins = data[data['Point Winner'] == 'host']\n",
    "    total_winners = host_wins['Detail'].value_counts()['Forehand Winner'] + host_wins['Detail'].value_counts()['Backhand Winner']\n",
    "    return total_winners // num_matches"
   ]
  },
  {
   "cell_type": "code",
   "execution_count": 3,
   "id": "b9e075a4",
   "metadata": {},
   "outputs": [
    {
     "data": {
      "text/plain": [
       "np.int64(12)"
      ]
     },
     "execution_count": 3,
     "metadata": {},
     "output_type": "execute_result"
    }
   ],
   "source": [
    "path = '../../data/mens/Rudy Quan/combined.xlsx'\n",
    "points_data = pd.read_excel(path, sheet_name='Points')\n",
    "get_average_winners(points_data)"
   ]
  }
 ],
 "metadata": {
  "kernelspec": {
   "display_name": "blog_loneliness",
   "language": "python",
   "name": "python3"
  },
  "language_info": {
   "codemirror_mode": {
    "name": "ipython",
    "version": 3
   },
   "file_extension": ".py",
   "mimetype": "text/x-python",
   "name": "python",
   "nbconvert_exporter": "python",
   "pygments_lexer": "ipython3",
   "version": "3.12.5"
  }
 },
 "nbformat": 4,
 "nbformat_minor": 5
}
