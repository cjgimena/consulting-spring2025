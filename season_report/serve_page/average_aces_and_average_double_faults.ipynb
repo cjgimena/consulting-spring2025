{
 "cells": [
  {
   "cell_type": "code",
   "execution_count": null,
   "id": "35efe8cb",
   "metadata": {},
   "outputs": [],
   "source": [
    "import pandas as pd\n",
    "\n",
    "combined_data = 'data/mens/Rudy Quan/combined.xlsx'\n",
    "sheet_name = 'Stats'\n",
    "\n",
    "def average_host_aces_per_match(combined_data, sheet_name):\n",
    "    # Read the sheet with proper headers and first column as index\n",
    "    df = pd.read_excel(combined_data, sheet_name=sheet_name, header=0)\n",
    "\n",
    "    # Filter for the row where 'Stat Name' is 'Aces'\n",
    "    aces_row = df[df['Stat Name'] == 'Aces']\n",
    "\n",
    "    if aces_row.empty:\n",
    "        print(\"No 'Aces' row found.\")\n",
    "        return None\n",
    "\n",
    "    # Columns that contain the per-set values\n",
    "    set_columns = [col for col in df.columns if 'Host Set' in col]\n",
    "\n",
    "    # Extract ace counts per match from those columns\n",
    "    aces_per_match = aces_row[set_columns].sum(axis=1)\n",
    "\n",
    "    # Calculate and return the average\n",
    "    average = aces_per_match.mean()\n",
    "    return average"
   ]
  },
  {
   "cell_type": "code",
   "execution_count": null,
   "id": "085789a5",
   "metadata": {},
   "outputs": [],
   "source": [
    "avg_host_aces = average_host_aces_per_match(combined_data, sheet_name)\n",
    "print(f\"{avg_host_aces:.2f}\")"
   ]
  },
  {
   "cell_type": "code",
   "execution_count": null,
   "id": "b1aa0260",
   "metadata": {},
   "outputs": [
    {
     "name": "stdout",
     "output_type": "stream",
     "text": [
      "1.88\n"
     ]
    }
   ],
   "source": [
    "import pandas as pd\n",
    "\n",
    "combined_data = 'data/mens/Rudy Quan/combined.xlsx'\n",
    "sheet_name = 'Stats'\n",
    "\n",
    "def average_host_double_faults_per_match(combined_data, sheet_name):\n",
    "    df = pd.read_excel(combined_data, sheet_name=sheet_name, header=0)\n",
    "\n",
    "    # Identify host set columns\n",
    "    host_set_columns = [col for col in df.columns if 'Host Set' in col]\n",
    "\n",
    "    # Filter only rows with Stat Name = '2nd Serves' and '2nd Serves In'\n",
    "    ss_all = df[df['Stat Name'].str.strip() == '2nd Serves'].copy()\n",
    "    ss_in_all = df[df['Stat Name'].str.strip() == '2nd Serves In'].copy()\n",
    "\n",
    "    # Auto-detect host rows: any row that has nonzero values in Host Set columns\n",
    "    ss_host = ss_all[ss_all[host_set_columns].notna().any(axis=1)].reset_index(drop=True)\n",
    "    ss_in_host = ss_in_all[ss_in_all[host_set_columns].notna().any(axis=1)].reset_index(drop=True)\n",
    "\n",
    "    # Convert data to numeric\n",
    "    ss_host_vals = ss_host[host_set_columns].apply(pd.to_numeric, errors='coerce')\n",
    "    ss_in_host_vals = ss_in_host[host_set_columns].apply(pd.to_numeric, errors='coerce')\n",
    "\n",
    "    # Compute double faults per match\n",
    "    double_faults_per_match = (ss_host_vals - ss_in_host_vals).sum(axis=1)\n",
    "\n",
    "    # Return average\n",
    "    return double_faults_per_match.mean()"
   ]
  },
  {
   "cell_type": "code",
   "execution_count": null,
   "id": "15cfb675",
   "metadata": {},
   "outputs": [],
   "source": [
    "avg_host_dfs = average_host_double_faults_per_match(combined_data, sheet_name)\n",
    "print(f\"{avg_host_dfs:.2f}\")"
   ]
  }
 ],
 "metadata": {
  "kernelspec": {
   "display_name": "Python 3",
   "language": "python",
   "name": "python3"
  },
  "language_info": {
   "codemirror_mode": {
    "name": "ipython",
    "version": 3
   },
   "file_extension": ".py",
   "mimetype": "text/x-python",
   "name": "python",
   "nbconvert_exporter": "python",
   "pygments_lexer": "ipython3",
   "version": "3.11.9"
  }
 },
 "nbformat": 4,
 "nbformat_minor": 5
}
