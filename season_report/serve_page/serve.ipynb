{
 "cells": [
  {
   "cell_type": "markdown",
   "id": "17301c1d",
   "metadata": {},
   "source": [
    "# Serve Statistics Notebook"
   ]
  },
  {
   "cell_type": "markdown",
   "id": "8849fc5c",
   "metadata": {},
   "source": [
    "### Load Packages"
   ]
  },
  {
   "cell_type": "code",
   "execution_count": 43,
   "id": "1de2a1dd",
   "metadata": {},
   "outputs": [],
   "source": [
    "import pandas as pd\n",
    "import ipywidgets as widgets\n",
    "from IPython.display import display"
   ]
  },
  {
   "cell_type": "markdown",
   "id": "faf99d05",
   "metadata": {},
   "source": [
    "### Read Data"
   ]
  },
  {
   "cell_type": "code",
   "execution_count": 44,
   "id": "259f386a",
   "metadata": {},
   "outputs": [
    {
     "data": {
      "application/vnd.jupyter.widget-view+json": {
       "model_id": "4601f2b1f5024071a2915c2bc249c10c",
       "version_major": 2,
       "version_minor": 0
      },
      "text/plain": [
       "Dropdown(description='Category:', options=('-- Select --', 'Rudy Quan', 'Emon Van Loben Sels', 'Kaylan Bigun',…"
      ]
     },
     "metadata": {},
     "output_type": "display_data"
    }
   ],
   "source": [
    "# Dropdown with a non-valid default option\n",
    "choose_player_dropdown = widgets.Dropdown(\n",
    "    options=['-- Select --', 'Rudy Quan', 'Emon Van Loben Sels', 'Kaylan Bigun', 'Alexander Hoogmartens', \n",
    "             'Spencer Johnson', 'Aadarsh Tripathi', 'Giacomo Revelli', 'Gianluca Ballotta'],\n",
    "    value='-- Select --',\n",
    "    description='Category:'\n",
    ")\n",
    "\n",
    "display(choose_player_dropdown)"
   ]
  },
  {
   "cell_type": "code",
   "execution_count": 45,
   "id": "0b43605d",
   "metadata": {},
   "outputs": [],
   "source": [
    "# Check selection before proceeding\n",
    "if choose_player_dropdown.value == '-- Select --':\n",
    "    raise ValueError(\"Please choose a valid category from the dropdown menu in the previous cell before proceeding.\")\n",
    "\n",
    "# If valid, use the value\n",
    "player_name = choose_player_dropdown.value"
   ]
  },
  {
   "cell_type": "code",
   "execution_count": 46,
   "id": "89bfbdb6",
   "metadata": {},
   "outputs": [],
   "source": [
    "combined_data_shots = pd.read_excel(f'../../data/mens/{player_name}/combined.xlsx', sheet_name='Shots')\n",
    "combined_data_points = pd.read_excel(f'../../data/mens/{player_name}/combined.xlsx', sheet_name='Points')\n",
    "combined_data_games = pd.read_excel(f'../../data/mens/{player_name}/combined.xlsx', sheet_name='Games')\n",
    "combined_data_sets = pd.read_excel(f'../../data/mens/{player_name}/combined.xlsx', sheet_name='Sets')\n",
    "combined_data_stats = pd.read_excel(f'../../data/mens/{player_name}/combined.xlsx', sheet_name='Stats')"
   ]
  },
  {
   "cell_type": "markdown",
   "id": "ff368fb7",
   "metadata": {},
   "source": [
    "### Average Service Game Duration"
   ]
  },
  {
   "cell_type": "code",
   "execution_count": 47,
   "id": "ad09defa",
   "metadata": {},
   "outputs": [],
   "source": [
    "def average_service_time(data):\n",
    "\n",
    "    # Use combined_data_games \n",
    "    # Subset 'Server' column name for only host (host is always UCLA player)\n",
    "    # find the mean of the 'Duration' Column\n",
    "\n",
    "    avg_seconds = data[data['Server'] == 'host']['Duration'].mean() # Automatically coerces NA\n",
    "    total = int(round(avg_seconds))\n",
    "    mins, secs = divmod(total, 60)    \n",
    "\n",
    "    return f\"{mins}:{secs:02d}\""
   ]
  },
  {
   "cell_type": "code",
   "execution_count": 48,
   "id": "9cdfae6e",
   "metadata": {},
   "outputs": [
    {
     "data": {
      "text/plain": [
       "'4:18'"
      ]
     },
     "execution_count": 48,
     "metadata": {},
     "output_type": "execute_result"
    }
   ],
   "source": [
    "# Output Average Service Game Duration\n",
    "avg_service_game_duration = average_service_time(combined_data_games)\n",
    "avg_service_game_duration"
   ]
  },
  {
   "cell_type": "markdown",
   "id": "b4397236",
   "metadata": {},
   "source": [
    "### Average Games Held Percentage"
   ]
  },
  {
   "cell_type": "code",
   "execution_count": 49,
   "id": "39b65e39",
   "metadata": {},
   "outputs": [],
   "source": [
    "def service_games_won_percentage(df):\n",
    "    \n",
    "    # Subset Dataframe to only be UCLA Player serving\n",
    "    service_games = df[df[\"Server\"] == \"host\"]\n",
    "\n",
    "    # Subset to only complete games\n",
    "    service_games = service_games[service_games[\"Game Winner\"] != \"draw\"]\n",
    "\n",
    "    # Find the percentage of the \"Game Winner\" column everytime the value is \"host\"\n",
    "    percentage = service_games[\"Game Winner\"].value_counts(normalize=True).get('host', 0) * 100\n",
    "\n",
    "    # Round and make number into an integer\n",
    "    percentage = int(round(percentage, 0))\n",
    "\n",
    "    return percentage"
   ]
  },
  {
   "cell_type": "code",
   "execution_count": 50,
   "id": "8ad85bda",
   "metadata": {},
   "outputs": [
    {
     "data": {
      "text/plain": [
       "71"
      ]
     },
     "execution_count": 50,
     "metadata": {},
     "output_type": "execute_result"
    }
   ],
   "source": [
    "average_games_held = service_games_won_percentage(combined_data_games)\n",
    "average_games_held"
   ]
  },
  {
   "cell_type": "markdown",
   "id": "232588fa",
   "metadata": {},
   "source": [
    "### Average Breakpoints Saved"
   ]
  },
  {
   "cell_type": "code",
   "execution_count": 51,
   "id": "9f2d7ce6",
   "metadata": {},
   "outputs": [],
   "source": [
    "def breakpoints_saved_function(data):\n",
    "\n",
    "    # Filter Data\n",
    "    filtered_data = data[(data['Match Server'] == 'host') & \n",
    "                         (data['Break Point'] == True)\n",
    "                         ].copy()\n",
    "\n",
    "    percentage = (filtered_data['Point Winner'].value_counts(normalize=True).get('host', 0) * 100).round(2)\n",
    "\n",
    "    return percentage"
   ]
  },
  {
   "cell_type": "code",
   "execution_count": 52,
   "id": "5a808779",
   "metadata": {},
   "outputs": [
    {
     "data": {
      "text/plain": [
       "50.0"
      ]
     },
     "execution_count": 52,
     "metadata": {},
     "output_type": "execute_result"
    }
   ],
   "source": [
    "breakpoints_saved_percentage = breakpoints_saved_function(combined_data_points)\n",
    "breakpoints_saved_percentage"
   ]
  },
  {
   "cell_type": "markdown",
   "id": "a63c1b9b",
   "metadata": {},
   "source": [
    "### Average Aces"
   ]
  },
  {
   "cell_type": "code",
   "execution_count": 53,
   "id": "c43cdc2f",
   "metadata": {},
   "outputs": [],
   "source": [
    "def average_aces(df):\n",
    "\n",
    "    # Filter for the row where 'Stat Name' is 'Aces'\n",
    "    aces_row = df[df['Stat Name'] == 'Aces']\n",
    "\n",
    "    if aces_row.empty:\n",
    "        print(\"No 'Aces' row found.\")\n",
    "        return None\n",
    "    \n",
    "    # Columns that contain the per-set values\n",
    "    set_columns = [col for col in df.columns if 'Host Set' in col]\n",
    "\n",
    "    # Extract ace counts per match from those columns\n",
    "    aces_per_match = aces_row[set_columns].sum(axis=1)\n",
    "    \n",
    "    # Calculate and return the average\n",
    "    average = aces_per_match.mean()\n",
    "    return round(average, 1)"
   ]
  },
  {
   "cell_type": "code",
   "execution_count": 54,
   "id": "cd3ec4eb",
   "metadata": {},
   "outputs": [
    {
     "data": {
      "text/plain": [
       "0.5"
      ]
     },
     "execution_count": 54,
     "metadata": {},
     "output_type": "execute_result"
    }
   ],
   "source": [
    "# Output Average Aces\n",
    "average_aces = average_aces(combined_data_stats)\n",
    "average_aces"
   ]
  },
  {
   "cell_type": "markdown",
   "id": "b51dc0fa",
   "metadata": {},
   "source": [
    "### Average Double Faults"
   ]
  },
  {
   "cell_type": "code",
   "execution_count": 55,
   "id": "6e3dca23",
   "metadata": {},
   "outputs": [],
   "source": [
    "def average_doubleFaults(df):\n",
    "\n",
    "    # Filter only rows with Stat Name = '2nd Serves' and '2nd Serves In'\n",
    "    second_serves = df[df['Stat Name'].str.strip() == '2nd Serves'].copy()\n",
    "    second_serves_in = df[df['Stat Name'].str.strip() == '2nd Serves In'].copy()\n",
    "\n",
    "    set_columns = [col for col in df.columns if 'Host Set' in col]\n",
    "\n",
    "    second_serves_vals = second_serves[set_columns].sum(axis=1).reset_index(drop=True)\n",
    "    second_serves_in_vals = second_serves_in[set_columns].sum(axis=1).reset_index(drop=True)\n",
    "    average_double_faults = (second_serves_vals - second_serves_in_vals).mean()\n",
    "\n",
    "    # Return average\n",
    "    return average_double_faults"
   ]
  },
  {
   "cell_type": "code",
   "execution_count": 56,
   "id": "121f093f",
   "metadata": {},
   "outputs": [
    {
     "data": {
      "text/plain": [
       "1.3636363636363635"
      ]
     },
     "execution_count": 56,
     "metadata": {},
     "output_type": "execute_result"
    }
   ],
   "source": [
    "average_double_faults = average_doubleFaults(combined_data_stats)\n",
    "average_double_faults"
   ]
  },
  {
   "cell_type": "markdown",
   "id": "092911bd",
   "metadata": {},
   "source": [
    "### Serve In/Won Percentages"
   ]
  },
  {
   "cell_type": "code",
   "execution_count": 61,
   "id": "5cab44c6",
   "metadata": {},
   "outputs": [],
   "source": [
    "# Helper Function\n",
    "def find_stat(df, stat_name):\n",
    "    # Subset to only get rows of specified Statistic\n",
    "    stat_total = df.loc[df['Stat Name'] == stat_name]\n",
    "\n",
    "    # Grab column names\n",
    "    column_names = stat_total.columns \n",
    "\n",
    "    # Subset column names that only start with 'Host Set'\n",
    "    column_names_subset = column_names[column_names.str.startswith('Host Set')]\n",
    "\n",
    "    # \n",
    "    stat_total_value = stat_total[column_names_subset].sum().sum()\n",
    "    return stat_total_value"
   ]
  },
  {
   "cell_type": "code",
   "execution_count": 71,
   "id": "8209fa65",
   "metadata": {},
   "outputs": [],
   "source": [
    "first_serves = find_stat(combined_data_stats, '1st Serves')   \n",
    "first_serves_in = find_stat(combined_data_stats, '1st Serves In') \n",
    "first_serves_won = find_stat(combined_data_stats, '1st Serves Won')   \n",
    "\n",
    "second_serves = find_stat(combined_data_stats, '2nd Serves')   \n",
    "second_serves_in = find_stat(combined_data_stats, '2nd Serves In') \n",
    "second_serves_won = find_stat(combined_data_stats, '2nd Serves Won')   "
   ]
  },
  {
   "cell_type": "code",
   "execution_count": 74,
   "id": "e1c58e4f",
   "metadata": {},
   "outputs": [
    {
     "name": "stdout",
     "output_type": "stream",
     "text": [
      "Serve Performance Summary for Rudy Quan:\n",
      "\n",
      "  1st Serve In %:        72%\n",
      "  1st Serve Won %:       65%\n",
      "  2nd Serve In %:        88%\n",
      "  2nd Serve Won %:       55%\n"
     ]
    }
   ],
   "source": [
    "first_serve_in_percentage = int(round((first_serves_in / first_serves) * 100, 0))\n",
    "first_serve_won_percentage = int(round((first_serves_won / first_serves_in) * 100, 0))\n",
    "second_serve_in_percentage = int(round((second_serves_in / second_serves) * 100, 0))\n",
    "second_serve_won_percentage = int(round((second_serves_won / second_serves_in) * 100, 0))\n",
    "\n",
    "print(f\"Serve Performance Summary for {player_name}:\\n\")\n",
    "print(f\"  1st Serve In %:        {first_serve_in_percentage}%\")\n",
    "print(f\"  1st Serve Won %:       {first_serve_won_percentage}%\")\n",
    "print(f\"  2nd Serve In %:        {second_serve_in_percentage}%\")\n",
    "print(f\"  2nd Serve Won %:       {second_serve_won_percentage}%\")\n"
   ]
  },
  {
   "cell_type": "markdown",
   "id": "23eb87d7",
   "metadata": {},
   "source": [
    "### Serve Zone Distribution"
   ]
  },
  {
   "cell_type": "markdown",
   "id": "e8647003",
   "metadata": {},
   "source": [
    "##### Helper Function"
   ]
  },
  {
   "cell_type": "code",
   "execution_count": 15,
   "id": "baac0eba",
   "metadata": {},
   "outputs": [],
   "source": [
    "# Helper Function: Classify Zones borrowed from swingvison_transformation.ipynb\n",
    "\n",
    "def classify_zone(df):\n",
    "    x = df['x_coord']\n",
    "    y = df['y_coord']\n",
    "    sign = x * y # if sign is pos, it's on ad side, if neg, it's deuce\n",
    "\n",
    "    if (x < -105) or (x > 105):\n",
    "        if sign > 0:\n",
    "            return 'Ad Wide'\n",
    "        else:\n",
    "            return 'Deuce Wide'\n",
    "    elif (-105 <= x <= -52.5) or (52.5 <= x <= 105):\n",
    "        if sign > 0:\n",
    "            return 'Ad Body'\n",
    "        else:\n",
    "            return 'Deuce Body'\n",
    "    elif -52.5 < x < 52.5:\n",
    "        if sign > 0:\n",
    "            return 'Ad T'\n",
    "        else:\n",
    "            return 'Deuce T'\n",
    "    else:\n",
    "        return np.nan"
   ]
  },
  {
   "cell_type": "code",
   "execution_count": 16,
   "id": "58d57ac9",
   "metadata": {},
   "outputs": [],
   "source": [
    "def serve_zone_distribution(df_shots, df_points):\n",
    "\n",
    "    # only use matches with complete data\n",
    "    df_shots = df_shots[df_shots['__source_file__'].isin(df_points['__source_file__'])] # UPDATE: Temporary fix\n",
    "\n",
    "    # add column for winner of the point\n",
    "    combined = pd.merge(df_shots, df_points[['Point', 'Game', 'Set', 'Point Winner', 'Match Server', '__source_file__']], on=['Point', 'Game', 'Set', '__source_file__'], how='left')\n",
    "\n",
    "    serves = combined[(combined['Stroke'] == 'Serve') & (combined['Match Server'] == 'host')] # Added Player Name Filter\n",
    "    serves_in = serves[serves['Result'] == 'In'].copy()\n",
    "\n",
    "    # zone classification\n",
    "    serves_in.loc[:, 'x_coord'] = serves_in['Bounce (x)'] * 38.2764654418\n",
    "    serves_in.loc[:, 'y_coord'] = (serves_in['Bounce (y)'] - 11.8872) * 38.2764654418\n",
    "    serves_in['Zone'] = serves_in.apply(classify_zone, axis=1)\n",
    "\n",
    "    # get win proportions and convert to json\n",
    "    zones = serves_in.groupby('Zone')['Point Winner'].value_counts().unstack()\n",
    "    zones['Win Proportion'] = zones['host'].astype(str) + '/' + (zones['host'] + zones['guest']).astype(str)\n",
    "    zones.reset_index(inplace=True)\n",
    "    zones.columns.name = None\n",
    "    zones = zones[['Zone', 'Win Proportion']]\n",
    "    zones.to_json('serve_dist.json', orient='records')"
   ]
  },
  {
   "cell_type": "code",
   "execution_count": 17,
   "id": "8f962346",
   "metadata": {},
   "outputs": [],
   "source": [
    "serve_zone_distribution(combined_data_shots, combined_data_points)"
   ]
  },
  {
   "cell_type": "code",
   "execution_count": null,
   "id": "0cf0ca79",
   "metadata": {},
   "outputs": [],
   "source": []
  }
 ],
 "metadata": {
  "kernelspec": {
   "display_name": "base",
   "language": "python",
   "name": "python3"
  },
  "language_info": {
   "codemirror_mode": {
    "name": "ipython",
    "version": 3
   },
   "file_extension": ".py",
   "mimetype": "text/x-python",
   "name": "python",
   "nbconvert_exporter": "python",
   "pygments_lexer": "ipython3",
   "version": "3.11.5"
  }
 },
 "nbformat": 4,
 "nbformat_minor": 5
}
