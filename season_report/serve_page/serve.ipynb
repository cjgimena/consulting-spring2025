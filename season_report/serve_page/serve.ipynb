{
 "cells": [
  {
   "cell_type": "markdown",
   "id": "17301c1d",
   "metadata": {},
   "source": [
    "# Serve Statistics Notebook"
   ]
  },
  {
   "cell_type": "markdown",
   "id": "8849fc5c",
   "metadata": {},
   "source": [
    "### Load Packages"
   ]
  },
  {
   "cell_type": "code",
   "execution_count": 1,
   "id": "1de2a1dd",
   "metadata": {},
   "outputs": [],
   "source": [
    "import pandas as pd\n",
    "import numpy as np\n",
    "import json\n",
    "import ipywidgets as widgets\n",
    "from IPython.display import display"
   ]
  },
  {
   "cell_type": "markdown",
   "id": "faf99d05",
   "metadata": {},
   "source": [
    "### Read Data"
   ]
  },
  {
   "cell_type": "code",
   "execution_count": 2,
   "id": "259f386a",
   "metadata": {},
   "outputs": [
    {
     "data": {
      "application/vnd.jupyter.widget-view+json": {
       "model_id": "1abca3ae31e34687b3ab2181b4a9ab9f",
       "version_major": 2,
       "version_minor": 0
      },
      "text/plain": [
       "Dropdown(description='Category:', options=('-- Select --', 'Rudy Quan', 'Emon Van Loben Sels', 'Kaylan Bigun',…"
      ]
     },
     "metadata": {},
     "output_type": "display_data"
    }
   ],
   "source": [
    "# Dropdown with a non-valid default option\n",
    "choose_player_dropdown = widgets.Dropdown(\n",
    "    options=['-- Select --', 'Rudy Quan', 'Emon Van Loben Sels', 'Kaylan Bigun', 'Alexander Hoogmartens', \n",
    "             'Spencer Johnson', 'Aadarsh Tripathi', 'Giacomo Revelli', 'Gianluca Ballotta'],\n",
    "    value='-- Select --',\n",
    "    description='Category:'\n",
    ")\n",
    "\n",
    "display(choose_player_dropdown)"
   ]
  },
  {
   "cell_type": "code",
   "execution_count": 3,
   "id": "0b43605d",
   "metadata": {},
   "outputs": [],
   "source": [
    "# Check selection before proceeding\n",
    "if choose_player_dropdown.value == '-- Select --':\n",
    "    raise ValueError(\"Please choose a valid category from the dropdown menu in the previous cell before proceeding.\")\n",
    "\n",
    "# If valid, use the value\n",
    "player_name = choose_player_dropdown.value"
   ]
  },
  {
   "cell_type": "code",
   "execution_count": 4,
   "id": "89bfbdb6",
   "metadata": {},
   "outputs": [],
   "source": [
    "combined_data_shots = pd.read_excel(f'../../data/mens/{player_name}/combined.xlsx', sheet_name='Shots')\n",
    "combined_data_points = pd.read_excel(f'../../data/mens/{player_name}/combined.xlsx', sheet_name='Points')\n",
    "combined_data_games = pd.read_excel(f'../../data/mens/{player_name}/combined.xlsx', sheet_name='Games')\n",
    "combined_data_sets = pd.read_excel(f'../../data/mens/{player_name}/combined.xlsx', sheet_name='Sets')\n",
    "combined_data_stats = pd.read_excel(f'../../data/mens/{player_name}/combined.xlsx', sheet_name='Stats')"
   ]
  },
  {
   "cell_type": "markdown",
   "id": "ff368fb7",
   "metadata": {},
   "source": [
    "### Average Service Game Duration"
   ]
  },
  {
   "cell_type": "code",
   "execution_count": 5,
   "id": "ad09defa",
   "metadata": {},
   "outputs": [],
   "source": [
    "def average_service_time(data):\n",
    "\n",
    "    # Use combined_data_games \n",
    "    # Subset 'Server' column name for only host (host is always UCLA player)\n",
    "    # find the mean of the 'Duration' Column\n",
    "\n",
    "    avg_seconds = data[data['Server'] == 'host']['Duration'].mean() # Automatically coerces NA\n",
    "    total = int(round(avg_seconds))\n",
    "    mins, secs = divmod(total, 60)    \n",
    "\n",
    "    return f\"{mins}:{secs:02d}\""
   ]
  },
  {
   "cell_type": "code",
   "execution_count": 6,
   "id": "9cdfae6e",
   "metadata": {},
   "outputs": [
    {
     "data": {
      "text/plain": [
       "('4', '18')"
      ]
     },
     "execution_count": 6,
     "metadata": {},
     "output_type": "execute_result"
    }
   ],
   "source": [
    "# Output Average Service Game Duration\n",
    "avg_service_game_duration = average_service_time(combined_data_games)\n",
    "min, sec = avg_service_game_duration.split(':')\n",
    "min, sec"
   ]
  },
  {
   "cell_type": "markdown",
   "id": "b4397236",
   "metadata": {},
   "source": [
    "### Average Games Held Percentage"
   ]
  },
  {
   "cell_type": "code",
   "execution_count": 7,
   "id": "39b65e39",
   "metadata": {},
   "outputs": [],
   "source": [
    "def service_games_won_percentage(df):\n",
    "    \n",
    "    # Subset Dataframe to only be UCLA Player serving\n",
    "    service_games = df[df[\"Server\"] == \"host\"]\n",
    "\n",
    "    # Subset to only complete games\n",
    "    service_games = service_games[service_games[\"Game Winner\"] != \"draw\"]\n",
    "\n",
    "    # Find the percentage of the \"Game Winner\" column everytime the value is \"host\"\n",
    "    percentage = service_games[\"Game Winner\"].value_counts(normalize=True).get('host', 0) * 100\n",
    "\n",
    "    # Round and make number into an integer\n",
    "    percentage = int(round(percentage, 0))\n",
    "\n",
    "    return percentage"
   ]
  },
  {
   "cell_type": "code",
   "execution_count": 8,
   "id": "8ad85bda",
   "metadata": {},
   "outputs": [
    {
     "data": {
      "text/plain": [
       "'71%'"
      ]
     },
     "execution_count": 8,
     "metadata": {},
     "output_type": "execute_result"
    }
   ],
   "source": [
    "average_games_held = str(service_games_won_percentage(combined_data_games)) + '%'\n",
    "average_games_held"
   ]
  },
  {
   "cell_type": "markdown",
   "id": "232588fa",
   "metadata": {},
   "source": [
    "### Average Breakpoints Saved"
   ]
  },
  {
   "cell_type": "code",
   "execution_count": 9,
   "id": "9f2d7ce6",
   "metadata": {},
   "outputs": [],
   "source": [
    "def breakpoints_saved_function(data):\n",
    "\n",
    "    # Filter Data\n",
    "    filtered_data = data[(data['Match Server'] == 'host') & \n",
    "                         (data['Break Point'] == True)\n",
    "                         ].copy()\n",
    "\n",
    "    percentage = int(round(filtered_data['Point Winner'].value_counts(normalize=True).get('host', 0) * 100, 0))\n",
    "\n",
    "    return percentage"
   ]
  },
  {
   "cell_type": "code",
   "execution_count": 10,
   "id": "5a808779",
   "metadata": {},
   "outputs": [
    {
     "data": {
      "text/plain": [
       "'50%'"
      ]
     },
     "execution_count": 10,
     "metadata": {},
     "output_type": "execute_result"
    }
   ],
   "source": [
    "breakpoints_saved_percentage = str(breakpoints_saved_function(combined_data_points)) + '%'\n",
    "breakpoints_saved_percentage"
   ]
  },
  {
   "cell_type": "markdown",
   "id": "a63c1b9b",
   "metadata": {},
   "source": [
    "### Average Aces"
   ]
  },
  {
   "cell_type": "code",
   "execution_count": 11,
   "id": "c43cdc2f",
   "metadata": {},
   "outputs": [],
   "source": [
    "def average_aces(df):\n",
    "\n",
    "    # Filter for the row where 'Stat Name' is 'Aces'\n",
    "    aces_row = df[df['Stat Name'] == 'Aces']\n",
    "\n",
    "    if aces_row.empty:\n",
    "        print(\"No 'Aces' row found.\")\n",
    "        return None\n",
    "    \n",
    "    # Columns that contain the per-set values\n",
    "    set_columns = [col for col in df.columns if 'Host Set' in col]\n",
    "\n",
    "    # Extract ace counts per match from those columns\n",
    "    aces_per_match = aces_row[set_columns].sum(axis=1)\n",
    "    \n",
    "    # Calculate and return the average\n",
    "    average = aces_per_match.mean()\n",
    "    return round(average, 1)"
   ]
  },
  {
   "cell_type": "code",
   "execution_count": 12,
   "id": "cd3ec4eb",
   "metadata": {},
   "outputs": [
    {
     "data": {
      "text/plain": [
       "0.5"
      ]
     },
     "execution_count": 12,
     "metadata": {},
     "output_type": "execute_result"
    }
   ],
   "source": [
    "# Output Average Aces\n",
    "average_aces = average_aces(combined_data_stats)\n",
    "average_aces"
   ]
  },
  {
   "cell_type": "markdown",
   "id": "b51dc0fa",
   "metadata": {},
   "source": [
    "### Average Double Faults"
   ]
  },
  {
   "cell_type": "code",
   "execution_count": 13,
   "id": "6e3dca23",
   "metadata": {},
   "outputs": [],
   "source": [
    "def average_doubleFaults(df):\n",
    "\n",
    "    # Filter only rows with Stat Name = '2nd Serves' and '2nd Serves In'\n",
    "    second_serves = df[df['Stat Name'].str.strip() == '2nd Serves'].copy()\n",
    "    second_serves_in = df[df['Stat Name'].str.strip() == '2nd Serves In'].copy()\n",
    "\n",
    "    set_columns = [col for col in df.columns if 'Host Set' in col]\n",
    "\n",
    "    second_serves_vals = second_serves[set_columns].sum(axis=1).reset_index(drop=True)\n",
    "    second_serves_in_vals = second_serves_in[set_columns].sum(axis=1).reset_index(drop=True)\n",
    "    average_double_faults = (second_serves_vals - second_serves_in_vals).mean()\n",
    "\n",
    "    # Return average\n",
    "    return round(average_double_faults, 1)"
   ]
  },
  {
   "cell_type": "code",
   "execution_count": 14,
   "id": "121f093f",
   "metadata": {},
   "outputs": [
    {
     "data": {
      "text/plain": [
       "1.4"
      ]
     },
     "execution_count": 14,
     "metadata": {},
     "output_type": "execute_result"
    }
   ],
   "source": [
    "average_double_faults = average_doubleFaults(combined_data_stats)\n",
    "average_double_faults"
   ]
  },
  {
   "cell_type": "markdown",
   "id": "092911bd",
   "metadata": {},
   "source": [
    "### Serve In/Won Percentages"
   ]
  },
  {
   "cell_type": "code",
   "execution_count": 15,
   "id": "5cab44c6",
   "metadata": {},
   "outputs": [],
   "source": [
    "# Helper Function\n",
    "def find_stat(df, stat_name):\n",
    "    # Subset to only get rows of specified Statistic\n",
    "    stat_total = df.loc[df['Stat Name'] == stat_name]\n",
    "\n",
    "    # Grab column names\n",
    "    column_names = stat_total.columns \n",
    "\n",
    "    # Subset column names that only start with 'Host Set'\n",
    "    column_names_subset = column_names[column_names.str.startswith('Host Set')]\n",
    "\n",
    "    # \n",
    "    stat_total_value = stat_total[column_names_subset].sum().sum()\n",
    "    return stat_total_value"
   ]
  },
  {
   "cell_type": "code",
   "execution_count": 16,
   "id": "8209fa65",
   "metadata": {},
   "outputs": [],
   "source": [
    "first_serves = find_stat(combined_data_stats, '1st Serves')   \n",
    "first_serves_in = find_stat(combined_data_stats, '1st Serves In') \n",
    "first_serves_won = find_stat(combined_data_stats, '1st Serves Won')   \n",
    "\n",
    "second_serves = find_stat(combined_data_stats, '2nd Serves')   \n",
    "second_serves_in = find_stat(combined_data_stats, '2nd Serves In') \n",
    "second_serves_won = find_stat(combined_data_stats, '2nd Serves Won')   "
   ]
  },
  {
   "cell_type": "code",
   "execution_count": 17,
   "id": "e1c58e4f",
   "metadata": {},
   "outputs": [
    {
     "name": "stdout",
     "output_type": "stream",
     "text": [
      "Serve Performance Summary for Rudy Quan:\n",
      "\n",
      "  1st Serve In %:        72%\n",
      "  1st Serve Won %:       65%\n",
      "  2nd Serve In %:        88%\n",
      "  2nd Serve Won %:       55%\n"
     ]
    }
   ],
   "source": [
    "first_serve_in_percentage = int(round((first_serves_in / first_serves) * 100, 0))\n",
    "first_serve_won_percentage = int(round((first_serves_won / first_serves_in) * 100, 0))\n",
    "second_serve_in_percentage = int(round((second_serves_in / second_serves) * 100, 0))\n",
    "second_serve_won_percentage = int(round((second_serves_won / second_serves_in) * 100, 0))\n",
    "\n",
    "print(f\"Serve Performance Summary for {player_name}:\\n\")\n",
    "print(f\"  1st Serve In %:        {first_serve_in_percentage}%\")\n",
    "print(f\"  1st Serve Won %:       {first_serve_won_percentage}%\")\n",
    "print(f\"  2nd Serve In %:        {second_serve_in_percentage}%\")\n",
    "print(f\"  2nd Serve Won %:       {second_serve_won_percentage}%\")\n"
   ]
  },
  {
   "cell_type": "markdown",
   "id": "218c24f2",
   "metadata": {},
   "source": [
    "### Total Serve Points Won"
   ]
  },
  {
   "cell_type": "code",
   "execution_count": 18,
   "id": "c6dedffb",
   "metadata": {},
   "outputs": [
    {
     "data": {
      "text/plain": [
       "60"
      ]
     },
     "execution_count": 18,
     "metadata": {},
     "output_type": "execute_result"
    }
   ],
   "source": [
    "total_serves = combined_data_points[combined_data_points['Match Server'] == 'host'].shape[0]\n",
    "# total_serves = find_stat(combined_data_stats, '1st Serves') # OR this too\n",
    "serve_points_won = combined_data_points[combined_data_points['Match Server'] == 'host']['Point Winner'].value_counts().get(0, 'host')\n",
    "\n",
    "total_serve_points_won = int(round((serve_points_won / total_serves) * 100, 0))\n",
    "total_serve_points_won"
   ]
  },
  {
   "cell_type": "markdown",
   "id": "7b447916",
   "metadata": {},
   "source": [
    "##### Output Json"
   ]
  },
  {
   "cell_type": "code",
   "execution_count": 19,
   "id": "b091f858",
   "metadata": {},
   "outputs": [
    {
     "name": "stdout",
     "output_type": "stream",
     "text": [
      "Saved to data/total_serves.json\n"
     ]
    }
   ],
   "source": [
    "# Build dictionary\n",
    "serve_json = {\n",
    "    \"type\": \"Total Serve Points Won\",\n",
    "    \"total\": int(total_serves),\n",
    "    \"won\": int(serve_points_won)\n",
    "}\n",
    "\n",
    "# Write to JSON\n",
    "with open(\"data/total_serves.json\", \"w\") as f:\n",
    "    json.dump(serve_json, f, indent=4)\n",
    "\n",
    "print(\"Saved to data/total_serves.json\")"
   ]
  },
  {
   "cell_type": "markdown",
   "id": "b4505c2b",
   "metadata": {},
   "source": [
    "### Fastest Serve"
   ]
  },
  {
   "cell_type": "code",
   "execution_count": 20,
   "id": "bc468c7c",
   "metadata": {},
   "outputs": [],
   "source": [
    "def fastest_serve(data):\n",
    "    max_serve = combined_data_shots[combined_data_shots['Type'].isin(['first_serve', 'second_serve'])]['Speed (MPH)'].max()\n",
    "    return int(round(max_serve, 0))"
   ]
  },
  {
   "cell_type": "code",
   "execution_count": 21,
   "id": "4317b57e",
   "metadata": {},
   "outputs": [
    {
     "data": {
      "text/plain": [
       "131"
      ]
     },
     "execution_count": 21,
     "metadata": {},
     "output_type": "execute_result"
    }
   ],
   "source": [
    "fastest_serve = fastest_serve(combined_data_shots)\n",
    "fastest_serve"
   ]
  },
  {
   "cell_type": "markdown",
   "id": "0c526a66",
   "metadata": {},
   "source": [
    "### Favorite Serve"
   ]
  },
  {
   "cell_type": "markdown",
   "id": "a85dd87a",
   "metadata": {},
   "source": [
    "##### Helper Function"
   ]
  },
  {
   "cell_type": "code",
   "execution_count": 68,
   "id": "3f52dfac",
   "metadata": {},
   "outputs": [],
   "source": [
    "# Helper Function: Classify Zones borrowed from swingvison_transformation.ipynb\n",
    "\n",
    "def classify_zone(df):\n",
    "    x = df['x_coord']\n",
    "    y = df['y_coord']\n",
    "    sign = x * y # if sign is pos, it's on ad side, if neg, it's deuce\n",
    "\n",
    "    if (x < -105) or (x > 105):\n",
    "        if sign > 0:\n",
    "            side, zone = 'Ad', 'Wide'\n",
    "        else:\n",
    "            side, zone = 'Deuce', 'Wide'\n",
    "    elif (-105 <= x <= -52.5) or (52.5 <= x <= 105):\n",
    "        if sign > 0:\n",
    "            side, zone = 'Ad', 'Body'\n",
    "        else:\n",
    "            side, zone = 'Deuce', 'Body'\n",
    "    elif -52.5 < x < 52.5:\n",
    "        if sign > 0:\n",
    "            side, zone = 'Ad', 'T'\n",
    "        else:\n",
    "            side, zone = 'Deuce', 'T'\n",
    "    else:\n",
    "        side, zone = np.nan, np.nan\n",
    "    \n",
    "    return pd.Series({'side': side, 'Zone': zone})"
   ]
  },
  {
   "cell_type": "code",
   "execution_count": 69,
   "id": "174ca83b",
   "metadata": {},
   "outputs": [],
   "source": [
    "def favorite_serve(df_shots, df_points):\n",
    "\n",
    "    df_shots = df_shots[df_shots['__source_file__'].isin(df_points['__source_file__'])] # UPDATE: Temporary fix\n",
    "\n",
    "    combined = pd.merge(df_shots, df_points[['Point', 'Game', 'Set', 'Point Winner', 'Match Server', '__source_file__']], on=['Point', 'Game', 'Set', '__source_file__'], how='left')\n",
    "\n",
    "    serves = combined[(combined['Stroke'] == 'Serve') & (combined['Match Server'] == 'host')] # Added Player Name Filter\n",
    "    serves_in = serves[serves['Result'] == 'In'].copy()\n",
    "\n",
    "    serves_in.loc[:, 'x_coord'] = serves_in['Bounce (x)'] * 38.2764654418\n",
    "    serves_in.loc[:, 'y_coord'] = (serves_in['Bounce (y)'] - 11.8872) * 38.2764654418\n",
    "    serves_in[['side', 'serve_zone']] = serves_in.apply(classify_zone, axis=1)\n",
    "    favorite_serve = serves_in['serve_zone'].value_counts().idxmax()\n",
    "\n",
    "    return favorite_serve"
   ]
  },
  {
   "cell_type": "code",
   "execution_count": null,
   "id": "dcac6aa9",
   "metadata": {},
   "outputs": [
    {
     "data": {
      "text/plain": [
       "'Body'"
      ]
     },
     "execution_count": 70,
     "metadata": {},
     "output_type": "execute_result"
    }
   ],
   "source": [
    "favorite_serve = favorite_serve(combined_data_shots, combined_data_points)\n",
    "favorite_serve"
   ]
  },
  {
   "cell_type": "markdown",
   "id": "1d95c414",
   "metadata": {},
   "source": [
    "### Best Serve"
   ]
  },
  {
   "cell_type": "code",
   "execution_count": 89,
   "id": "14d56f9e",
   "metadata": {},
   "outputs": [],
   "source": [
    "def best_serve(df_shots, df_points, serve_type):\n",
    "    # only use matches with complete data\n",
    "    df_shots = df_shots[df_shots['__source_file__'].isin(df_points['__source_file__'])] # UPDATE: Temporary fix\n",
    "\n",
    "    # add column for winner of the point\n",
    "    combined = pd.merge(df_shots, df_points[['Point', 'Game', 'Set', 'Point Winner', 'Match Server', '__source_file__']], on=['Point', 'Game', 'Set', '__source_file__'], how='left')\n",
    "\n",
    "    serves = combined[(combined['Stroke'] == 'Serve') & (combined['Match Server'] == 'host')] # Added Player Name Filter\n",
    "    serves_in = serves[serves['Result'] == 'In'].copy()\n",
    "\n",
    "    # zone classification\n",
    "    serves_in.loc[:, 'x_coord'] = serves_in['Bounce (x)'] * 38.2764654418\n",
    "    serves_in.loc[:, 'y_coord'] = (serves_in['Bounce (y)'] - 11.8872) * 38.2764654418\n",
    "    serves_in[['side', 'serve_zone']] = serves_in.apply(classify_zone, axis=1)\n",
    "\n",
    "    # Subset by First or Second Serve\n",
    "    serves_in = serves_in[(serves_in['Type'] == serve_type) & (serves_in['Point Winner'] == 'host')]\n",
    "    best_serve = serves_in['serve_zone'].value_counts().idxmax()\n",
    "    return best_serve"
   ]
  },
  {
   "cell_type": "code",
   "execution_count": null,
   "id": "19a3828d",
   "metadata": {},
   "outputs": [
    {
     "data": {
      "text/plain": [
       "'Body'"
      ]
     },
     "execution_count": 93,
     "metadata": {},
     "output_type": "execute_result"
    }
   ],
   "source": [
    "best_first_serve = best_serve(combined_data_shots, combined_data_points, 'first_serve')\n",
    "best_second_serve = best_serve(combined_data_shots, combined_data_points, 'second_serve')"
   ]
  },
  {
   "cell_type": "markdown",
   "id": "4f6a5bf8",
   "metadata": {},
   "source": [
    "### Serve Zone Distribution Bars"
   ]
  },
  {
   "cell_type": "markdown",
   "id": "518cc517",
   "metadata": {},
   "source": [
    "##### Helper Function"
   ]
  },
  {
   "cell_type": "code",
   "execution_count": 26,
   "id": "7c7f111d",
   "metadata": {},
   "outputs": [],
   "source": [
    "def classify_zone(df):\n",
    "    x = df['x_coord']\n",
    "    y = df['y_coord']\n",
    "    sign = x * y # if sign is pos, it's on ad side, if neg, it's deuce\n",
    "\n",
    "    if (x < -105) or (x > 105):\n",
    "        if sign > 0:\n",
    "            side, zone = 'Ad', 'Wide'\n",
    "        else:\n",
    "            side, zone = 'Deuce', 'Wide'\n",
    "    elif (-105 <= x <= -52.5) or (52.5 <= x <= 105):\n",
    "        if sign > 0:\n",
    "            side, zone = 'Ad', 'Body'\n",
    "        else:\n",
    "            side, zone = 'Deuce', 'Body'\n",
    "    elif -52.5 < x < 52.5:\n",
    "        if sign > 0:\n",
    "            side, zone = 'Ad', 'T'\n",
    "        else:\n",
    "            side, zone = 'Deuce', 'T'\n",
    "    else:\n",
    "        side, zone = np.nan, np.nan\n",
    "    \n",
    "    return pd.Series({'side': side, 'Zone': zone})"
   ]
  },
  {
   "cell_type": "code",
   "execution_count": 134,
   "id": "6234058a",
   "metadata": {},
   "outputs": [],
   "source": [
    "def serve_zone_bar(df, player_name):\n",
    "    # Keep Player's Serve\n",
    "    serves = df[(df['Player'] == player_name) & (df['Type'].isin(['first_serve', 'second_serve']))]\n",
    "\n",
    "    # Keep only Serves In\n",
    "    serves_in = serves[serves['Result'] == 'In'].copy()\n",
    "\n",
    "    # Transform Coordinates\n",
    "    serves_in.loc[:, 'x_coord'] = serves_in['Bounce (x)'] * 38.2764654418\n",
    "    serves_in.loc[:, 'y_coord'] = (serves_in['Bounce (y)'] - 11.8872) * 38.2764654418\n",
    "\n",
    "    # Create \"side\" and \"serve_zone\" columns\n",
    "    serves_in[['side', 'serve_zone']] = serves_in.apply(classify_zone, axis=1)\n",
    "\n",
    "\n",
    "    serves_in[['Type', 'side', 'serve_zone']].value_counts()\n",
    "\n",
    "    # Step 1: Get the counts\n",
    "    counts = serves_in[['Type', 'side', 'serve_zone']].value_counts().reset_index(name='count')\n",
    "\n",
    "    # Step 2: Initialize output structure\n",
    "    output = {'serves': []}\n",
    "\n",
    "    # Step 3: Iterate through serve types\n",
    "    for serve_type in counts['Type'].unique():\n",
    "        serve_dict = {\n",
    "            'type': 'First Serve' if serve_type == 'first_serve' else 'Second Serve',\n",
    "            'sides': {\n",
    "                'deuce': {'wide': 0, 'body': 0, 't': 0},\n",
    "                'ad': {'wide': 0, 'body': 0, 't': 0}\n",
    "            }\n",
    "        }\n",
    "        \n",
    "        # Filter for this serve type\n",
    "        subset = counts[counts['Type'] == serve_type]\n",
    "        \n",
    "        for _, row in subset.iterrows():\n",
    "            side = row['side'].lower()     # 'Deuce' -> 'deuce'\n",
    "            zone = row['serve_zone'].lower()  # 'Wide' -> 'wide'\n",
    "            serve_dict['sides'][side][zone] = int(row['count'])\n",
    "        \n",
    "        output['serves'].append(serve_dict)\n",
    "\n",
    "    # Save to current directory\n",
    "    with open('data/serve_zones.json', 'w') as f:\n",
    "        json.dump(output, f, indent=4)\n",
    "\n",
    "    return serves_in.shape"
   ]
  },
  {
   "cell_type": "code",
   "execution_count": 135,
   "id": "970f4d71",
   "metadata": {},
   "outputs": [
    {
     "data": {
      "text/plain": [
       "(512, 30)"
      ]
     },
     "execution_count": 135,
     "metadata": {},
     "output_type": "execute_result"
    }
   ],
   "source": [
    "serve_zone_bar(combined_data_shots, player_name)"
   ]
  },
  {
   "cell_type": "markdown",
   "id": "23eb87d7",
   "metadata": {},
   "source": [
    "### Serve Zone Distribution Court Visual (WIP)"
   ]
  },
  {
   "cell_type": "code",
   "execution_count": 136,
   "id": "ae71a7b1",
   "metadata": {},
   "outputs": [],
   "source": [
    "df_shots = combined_data_shots\n",
    "df_points = combined_data_points\n",
    "\n",
    "\n",
    "def serve_placement_labels(df_shots, df_points, serve_type):\n",
    "    # only use matches with complete data\n",
    "    # df_shots = df_shots[df_shots['__source_file__'].isin(df_points['__source_file__'])] # UPDATE: Temporary fix\n",
    "\n",
    "    # add column for winner of the point\n",
    "    combined = pd.merge(df_shots, df_points[['Point', 'Game', 'Set', 'Point Winner', 'Match Server', '__source_file__']], on=['Point', 'Game', 'Set', '__source_file__'], how='left')\n",
    "\n",
    "    serves = combined[(combined['Stroke'] == 'Serve') & (combined['Match Server'] == 'host')] # Added Player Name Filter\n",
    "    # serves = combined[(combined['Stroke'] == 'Serve') & (combined['Player'] == player_name)] # Added Player Name Filter\n",
    "    #  serves = combined[(combined['Type'].isin(['first_serve', 'second_serve'])) & (combined['Match Server'] == 'host')]\n",
    "    serves_in = serves[serves['Result'] == 'In'].copy()\n",
    "\n",
    "    # zone classification\n",
    "    serves_in.loc[:, 'x_coord'] = serves_in['Bounce (x)'] * 38.2764654418\n",
    "    serves_in.loc[:, 'y_coord'] = (serves_in['Bounce (y)'] - 11.8872) * 38.2764654418\n",
    "    serves_in[['side', 'serve_zone']] = serves_in.apply(classify_zone, axis=1)\n",
    "\n",
    "    # Subset by First or Second Serve\n",
    "    serves_in = serves_in[(serves_in['Type'] == serve_type)]\n",
    "    \n",
    "    # Step 1: Get the counts for each side/zone combination\n",
    "    # Chat Gpt this shi\n",
    "    counts = serves_in[['side', 'serve_zone', 'Point Winner']].value_counts().reset_index(name='count')\n",
    "\n",
    "    # Step 2: Group by side and zone, calculate total serves and number of wins\n",
    "    summary = (\n",
    "        counts\n",
    "        .groupby(['side', 'serve_zone'])\n",
    "        .apply(lambda df: pd.Series({\n",
    "            'total': df['count'].sum(),\n",
    "            'won': df[df['Point Winner'] == 'host']['count'].sum()\n",
    "        }))\n",
    "        .reset_index()\n",
    "    )\n",
    "\n",
    "    # Step 3: Add win percentage column\n",
    "    summary['win_percentage'] = (summary['won'] / summary['total'] * 100).round(1)\n",
    "\n",
    "    # Step 4: Extract into variables\n",
    "    # Initialize dictionaries to hold count and win %\n",
    "    zone_counts = {}\n",
    "    zone_win_percentages = {}\n",
    "\n",
    "    for _, row in summary.iterrows():\n",
    "        key = f\"{row['side'].lower()}_{row['serve_zone'].lower()}\"\n",
    "        zone_counts[key] = row['total']\n",
    "        zone_win_percentages[key] = row['win_percentage']\n",
    "\n",
    "\n",
    "\n",
    "    \n",
    "    # return zone_counts, zone_win_percentages\n",
    "    return serves_in.shape"
   ]
  },
  {
   "cell_type": "code",
   "execution_count": 137,
   "id": "ee63ded5",
   "metadata": {},
   "outputs": [
    {
     "data": {
      "text/plain": [
       "102"
      ]
     },
     "execution_count": 137,
     "metadata": {},
     "output_type": "execute_result"
    }
   ],
   "source": [
    "first_serve_counts, first_serve_won = serve_placement_labels(combined_data_shots, combined_data_points, 'second_serve')\n",
    "first_serve_counts"
   ]
  },
  {
   "cell_type": "code",
   "execution_count": 100,
   "id": "58d57ac9",
   "metadata": {},
   "outputs": [],
   "source": [
    "def serve_zone_distribution(df_shots, df_points):\n",
    "    # only use matches with complete data\n",
    "    df_shots = df_shots[df_shots['__source_file__'].isin(df_points['__source_file__'])] # UPDATE: Temporary fix\n",
    "\n",
    "    # add column for winner of the point\n",
    "    combined = pd.merge(df_shots, df_points[['Point', 'Game', 'Set', 'Point Winner', 'Match Server', '__source_file__']], on=['Point', 'Game', 'Set', '__source_file__'], how='left')\n",
    "\n",
    "    serves = combined[(combined['Stroke'] == 'Serve') & (combined['Match Server'] == 'host')] # Added Player Name Filter\n",
    "    serves_in = serves[serves['Result'] == 'In'].copy()\n",
    "\n",
    "    # zone classification\n",
    "    serves_in.loc[:, 'x_coord'] = serves_in['Bounce (x)'] * 38.2764654418\n",
    "    serves_in.loc[:, 'y_coord'] = (serves_in['Bounce (y)'] - 11.8872) * 38.2764654418\n",
    "    serves_in[['side', 'serve_zone']] = serves_in.apply(classify_zone, axis=1)\n",
    "    favorite_serve = serves_in['serve_zone'].value_counts().idxmax()\n",
    "\n",
    "    # get win proportions and convert to json\n",
    "    zones = serves_in.groupby('Zone')['Point Winner'].value_counts().unstack()\n",
    "    return zones\n",
    "\n",
    "\n",
    "\n",
    "\n",
    "    # zones['Win Proportion'] = zones['host'].astype(str) + '/' + (zones['host'] + zones['guest']).astype(str)\n",
    "    # zones.reset_index(inplace=True)\n",
    "    # zones.columns.name = None\n",
    "    # zones = zones[['Zone', 'Win Proportion']]\n",
    "    # zones.to_json('serve_dist.json', orient='records')"
   ]
  },
  {
   "cell_type": "code",
   "execution_count": 67,
   "id": "8f962346",
   "metadata": {},
   "outputs": [
    {
     "data": {
      "text/html": [
       "<div>\n",
       "<style scoped>\n",
       "    .dataframe tbody tr th:only-of-type {\n",
       "        vertical-align: middle;\n",
       "    }\n",
       "\n",
       "    .dataframe tbody tr th {\n",
       "        vertical-align: top;\n",
       "    }\n",
       "\n",
       "    .dataframe thead th {\n",
       "        text-align: right;\n",
       "    }\n",
       "</style>\n",
       "<table border=\"1\" class=\"dataframe\">\n",
       "  <thead>\n",
       "    <tr style=\"text-align: right;\">\n",
       "      <th>Point Winner</th>\n",
       "      <th>guest</th>\n",
       "      <th>host</th>\n",
       "    </tr>\n",
       "    <tr>\n",
       "      <th>Zone</th>\n",
       "      <th></th>\n",
       "      <th></th>\n",
       "    </tr>\n",
       "  </thead>\n",
       "  <tbody>\n",
       "    <tr>\n",
       "      <th>Ad Body</th>\n",
       "      <td>23</td>\n",
       "      <td>52</td>\n",
       "    </tr>\n",
       "    <tr>\n",
       "      <th>Ad T</th>\n",
       "      <td>34</td>\n",
       "      <td>37</td>\n",
       "    </tr>\n",
       "    <tr>\n",
       "      <th>Ad Wide</th>\n",
       "      <td>18</td>\n",
       "      <td>29</td>\n",
       "    </tr>\n",
       "    <tr>\n",
       "      <th>Deuce Body</th>\n",
       "      <td>34</td>\n",
       "      <td>47</td>\n",
       "    </tr>\n",
       "    <tr>\n",
       "      <th>Deuce T</th>\n",
       "      <td>22</td>\n",
       "      <td>50</td>\n",
       "    </tr>\n",
       "    <tr>\n",
       "      <th>Deuce Wide</th>\n",
       "      <td>24</td>\n",
       "      <td>34</td>\n",
       "    </tr>\n",
       "  </tbody>\n",
       "</table>\n",
       "</div>"
      ],
      "text/plain": [
       "Point Winner  guest  host\n",
       "Zone                     \n",
       "Ad Body          23    52\n",
       "Ad T             34    37\n",
       "Ad Wide          18    29\n",
       "Deuce Body       34    47\n",
       "Deuce T          22    50\n",
       "Deuce Wide       24    34"
      ]
     },
     "execution_count": 67,
     "metadata": {},
     "output_type": "execute_result"
    }
   ],
   "source": [
    "serve_zone_distribution(combined_data_shots, combined_data_points)"
   ]
  },
  {
   "cell_type": "markdown",
   "id": "0cf0ca79",
   "metadata": {},
   "source": [
    "### Serve Placement (WIP)"
   ]
  },
  {
   "cell_type": "markdown",
   "id": "6bec2753",
   "metadata": {},
   "source": [
    "##### Helper Functions"
   ]
  },
  {
   "cell_type": "code",
   "execution_count": 32,
   "id": "f7274ab9",
   "metadata": {},
   "outputs": [],
   "source": [
    "# splits zone into two columns\n",
    "def classify_zone_split(df):\n",
    "    x = df['x']\n",
    "    y = df['y']\n",
    "    sign = x * y # if sign is pos, it's on ad side, if neg, it's deuce\n",
    "\n",
    "    if (x < -105) or (x > 105):\n",
    "        if sign > 0:\n",
    "            return pd.Series(['Ad', 'Wide'])\n",
    "        else:\n",
    "            return pd.Series(['Deuce', 'Wide'])\n",
    "    elif (-105 <= x <= -52.5) or (52.5 <= x <= 105):\n",
    "        if sign > 0:\n",
    "            return pd.Series(['Ad', 'Body'])\n",
    "        else:\n",
    "            return pd.Series(['Deuce', 'Body'])\n",
    "    elif -52.5 < x < 52.5:\n",
    "        if sign > 0:\n",
    "            return pd.Series(['Ad', 'T'])\n",
    "        else:\n",
    "            return pd.Series(['Deuce', 'T'])\n",
    "    else:\n",
    "        return pd.Series([np.nan, np.nan])"
   ]
  },
  {
   "cell_type": "code",
   "execution_count": 33,
   "id": "769be651",
   "metadata": {},
   "outputs": [],
   "source": [
    "def generate_placement_jsons(df_shots, df_points):\n",
    "    # only use matches with complete data\n",
    "    df_shots = df_shots[df_shots['__source_file__'].isin(df_points['__source_file__'])]\n",
    "\n",
    "    # add column for winner of the point\n",
    "    combined = pd.merge(df_shots, df_points[['Point', 'Game', 'Set', 'Point Winner', 'Match Server', 'Detail', '__source_file__']], on=['Point', 'Game', 'Set', '__source_file__'], how='left')\n",
    "\n",
    "    serves = combined[(combined['Stroke'] == 'Serve') & (combined['Match Server'] == 'host')]\n",
    "    serves_in = serves[serves['Result'] == 'In'].copy()\n",
    "\n",
    "    # zone classification\n",
    "    serves_in.loc[:, 'x'] = serves_in['Bounce (x)'] * 38.2764654418\n",
    "    serves_in.loc[:, 'y'] = (serves_in['Bounce (y)'] - 11.8872) * 38.2764654418\n",
    "    serves_in[['side', 'serveInPlacement']] = serves_in.apply(classify_zone_split, axis=1)\n",
    "\n",
    "    # modify coordinates based on the y-value\n",
    "    serves_in['x'] = np.where(serves_in['y'] < 0, -serves_in['x'], serves_in['x'])\n",
    "    serves_in['y'] = np.where(serves_in['y'] < 0, -serves_in['y'], serves_in['y'])\n",
    "\n",
    "    # add serve outcome\n",
    "    serves_in['serveOutcome'] = serves_in['Point Winner'].apply(lambda x: 'Won' if x == 'host' else 'Lost')\n",
    "    serves_in['serveOutcome'] = np.where(serves_in['Detail'] == 'Ace', 'Ace', serves_in['serveOutcome'])\n",
    "\n",
    "    # rename some columns to match json\n",
    "    serves_in = serves_in.rename(columns={'Point': 'pointNumber', 'Player': 'serverName'})\n",
    "\n",
    "    # only get required columns\n",
    "    placement = serves_in[['pointNumber', 'serverName', 'x', 'y', 'side', 'serveInPlacement', 'serveOutcome']]\n",
    "    placement.to_json('data/serve_place.json', orient='records') # save json\n",
    "\n",
    "\n",
    "\n",
    "    # LABELS JSON\n",
    "\n",
    "    # group by side and serveInPlacement, and calculate count and serves won\n",
    "    distribution = serves_in.groupby(['side', 'serveInPlacement']).agg(\n",
    "        count=('pointNumber', 'size'),\n",
    "        serves_won=('Point Winner', lambda x: (x == 'host').sum())\n",
    "    ).reset_index()\n",
    "\n",
    "    # calculate the win percentage (proportion)\n",
    "    distribution['proportion'] = distribution['serves_won'] / distribution['count']\n",
    "\n",
    "    # find the min and max proportions\n",
    "    min_proportion = distribution['proportion'].min()\n",
    "    max_proportion = distribution['proportion'].max()\n",
    "\n",
    "    # create labels df and determine if each value is max, min, or neither\n",
    "    labels = distribution.copy()\n",
    "    labels['proportion_label'] = (labels['proportion'] * 100).round(1).astype(str) + \"%\"\n",
    "    labels['count_label'] = labels['count']\n",
    "\n",
    "    labels['x'] = np.where(\n",
    "        (labels['side'] == 'Ad') & (labels['serveInPlacement'] == 'Wide'), 131.25,\n",
    "        np.where(\n",
    "            (labels['side'] == 'Ad') & (labels['serveInPlacement'] == 'Body'), 78.75,\n",
    "            np.where(\n",
    "                (labels['side'] == 'Ad') & (labels['serveInPlacement'] == 'T'), 26.25,\n",
    "                np.where(\n",
    "                    (labels['side'] == 'Deuce') & (labels['serveInPlacement'] == 'T'), -26.25,\n",
    "                    np.where(\n",
    "                        (labels['side'] == 'Deuce') & (labels['serveInPlacement'] == 'Body'), -78.75,\n",
    "                        np.where(\n",
    "                            (labels['side'] == 'Deuce') & (labels['serveInPlacement'] == 'Wide'), -131.25,\n",
    "                            np.nan\n",
    "                        )\n",
    "                    )\n",
    "                )\n",
    "            )\n",
    "        )\n",
    "    )\n",
    "\n",
    "    # determine max/min status\n",
    "    labels['max_min'] = np.where(\n",
    "        labels['proportion'] == max_proportion, \"max\",\n",
    "        np.where(labels['proportion'] == min_proportion, \"min\", \"no\")\n",
    "    )\n",
    "\n",
    "    # save labels to json\n",
    "    labels.to_json('data/serve_place_labels.json', orient='records')\n",
    "\n",
    "    return"
   ]
  },
  {
   "cell_type": "code",
   "execution_count": 34,
   "id": "6caf1d19",
   "metadata": {},
   "outputs": [],
   "source": [
    "generate_placement_jsons(combined_data_shots, combined_data_points)"
   ]
  },
  {
   "cell_type": "markdown",
   "id": "ba228c3c",
   "metadata": {},
   "source": [
    "### Serve Ratings"
   ]
  },
  {
   "cell_type": "markdown",
   "id": "daf0dedb",
   "metadata": {},
   "source": [
    "##### Helper Functions"
   ]
  },
  {
   "cell_type": "code",
   "execution_count": 35,
   "id": "2f9f9fa9",
   "metadata": {},
   "outputs": [],
   "source": [
    "# Helper Function: Grabs total of Specified Stat\n",
    "def get_total(df, stat_name):\n",
    "    rows = df[df['Stat Name'] == stat_name]\n",
    "    if rows.empty: # UPDATE Throw an error?\n",
    "        return 0\n",
    "    total = 0\n",
    "    for col in rows.columns:\n",
    "        if col.startswith('Host Set'):\n",
    "            numeric_vals = pd.to_numeric(rows[col], errors='coerce')\n",
    "            total += numeric_vals.sum()  # Ignores NaNs automatically # UPDATE: throw an error? because this means that the data is bad?\n",
    "    return total\n",
    "    # return rows"
   ]
  },
  {
   "cell_type": "code",
   "execution_count": 36,
   "id": "68194d89",
   "metadata": {},
   "outputs": [],
   "source": [
    "# Helper Function: Calculate Service Games Won Percentage\n",
    "\n",
    "def calculate_service_games_won(df):\n",
    "    # Filter the DataFrame for host server and non-draw game winner\n",
    "    host_service_games = df[(df['Server'] == 'host') & (df['Game Winner'] != 'draw')]\n",
    "    \n",
    "    # Filter for games where host won\n",
    "    host_service_games_won = host_service_games[host_service_games['Game Winner'] == 'host']\n",
    "    \n",
    "    service_games_won_percentage = len(host_service_games_won) / len(host_service_games) \n",
    "    \n",
    "    return service_games_won_percentage"
   ]
  },
  {
   "cell_type": "code",
   "execution_count": 37,
   "id": "39863cd1",
   "metadata": {},
   "outputs": [],
   "source": [
    "# Helper Function: Calculate Double Faults\n",
    "\n",
    "def calculate_double_faults(df):\n",
    "    double_fault_total = df[(df['Match Server'] == 'host') & \n",
    "                                   (df['Detail'] == 'Double Fault')].shape[0]\n",
    "    return double_fault_total"
   ]
  },
  {
   "cell_type": "markdown",
   "id": "48783183",
   "metadata": {},
   "source": [
    "##### Serve Rating Calculation"
   ]
  },
  {
   "cell_type": "code",
   "execution_count": 38,
   "id": "926c1da0",
   "metadata": {},
   "outputs": [],
   "source": [
    "# Total Matches in dataset\n",
    "total_matches = len(combined_data_stats.groupby('__source_file__'))\n",
    "\n",
    "# 1st Serve In Percentage\n",
    "first_serve_in_percentage_rating = ((get_total(combined_data_stats, '1st Serves In') / get_total(combined_data_stats, '1st Serves')) * 100).round(1)\n",
    "\n",
    "# 1st Serve Points Won Percentage\n",
    "first_serve_won_percentage_rating = ((get_total(combined_data_stats, '1st Serves Won') / get_total(combined_data_stats, '1st Serves In')) * 100).round(1)\n",
    "\n",
    "# 2nd Serve Points Won Percentage\n",
    "second_serve_won_percentage_rating = ((get_total(combined_data_stats, '2nd Serves Won') / get_total(combined_data_stats, '2nd Serves In')) * 100).round(1)\n",
    "\n",
    "# Service Games Won Percentage\n",
    "service_games_won_percentage_rating = round(calculate_service_games_won(combined_data_games) * 100, 1)\n",
    "\n",
    "# Average Aces per Match Percentagae\n",
    "aces_average_rating = ((get_total(combined_data_stats, 'Aces') / total_matches)).round(1)\n",
    "\n",
    "# Average Double Faults per Match Percentage\n",
    "doubleFaults_average_rating = round(calculate_double_faults(combined_data_points) / total_matches, 1)"
   ]
  },
  {
   "cell_type": "code",
   "execution_count": 39,
   "id": "a78c695b",
   "metadata": {},
   "outputs": [
    {
     "name": "stdout",
     "output_type": "stream",
     "text": [
      "First Serve In %: 71.7%\n",
      "First Serve Points Won %: 65.1%\n",
      "Second Serve Points Won %: 55.2%\n",
      "Service Games Won %: 71.1%\n",
      "Aces per Match: 0.5\n",
      "Double Faults per Match: 1.4\n",
      "Serve Rating: 262.2\n"
     ]
    }
   ],
   "source": [
    "# Calculate Serve Rating\n",
    "serve_rating = round(first_serve_in_percentage_rating + first_serve_won_percentage_rating + second_serve_won_percentage_rating + service_games_won_percentage_rating + aces_average_rating - doubleFaults_average_rating, 1)\n",
    "\n",
    "# Print All Calculations\n",
    "print(f\"First Serve In %: {first_serve_in_percentage_rating}%\")\n",
    "print(f\"First Serve Points Won %: {first_serve_won_percentage_rating}%\")\n",
    "print(f\"Second Serve Points Won %: {second_serve_won_percentage_rating}%\")\n",
    "print(f\"Service Games Won %: {service_games_won_percentage_rating}%\")\n",
    "print(f\"Aces per Match: {aces_average_rating}\")\n",
    "print(f\"Double Faults per Match: {doubleFaults_average_rating}\")\n",
    "print(f\"Serve Rating: {serve_rating}\")"
   ]
  },
  {
   "cell_type": "code",
   "execution_count": null,
   "id": "ddd3aa09",
   "metadata": {},
   "outputs": [],
   "source": []
  },
  {
   "cell_type": "code",
   "execution_count": null,
   "id": "45dec823",
   "metadata": {},
   "outputs": [],
   "source": []
  },
  {
   "cell_type": "code",
   "execution_count": null,
   "id": "d4c7ba5f",
   "metadata": {},
   "outputs": [],
   "source": []
  },
  {
   "cell_type": "markdown",
   "id": "fae25f92",
   "metadata": {},
   "source": [
    "### Output CSV"
   ]
  },
  {
   "cell_type": "code",
   "execution_count": null,
   "id": "ce37f1cf",
   "metadata": {},
   "outputs": [],
   "source": [
    "# Formatted ratings\n",
    "first_serve_in_percentage_rating_updated = '+' + str(first_serve_in_percentage_rating) + '%'\n",
    "first_serve_won_percentage_rating_updated = '+' + str(first_serve_won_percentage_rating) + '%'\n",
    "second_serve_won_percentage_rating_updated = '+' + str(second_serve_won_percentage_rating) + '%'\n",
    "service_games_won_percentage_rating_updated = '+' + str(service_games_won_percentage_rating) + '%'\n",
    "aces_average_rating_updated = '+' + str(aces_average_rating)\n",
    "doubleFaults_average_rating_updated = '+' + str(doubleFaults_average_rating)"
   ]
  },
  {
   "cell_type": "code",
   "execution_count": 59,
   "id": "4aab3b59",
   "metadata": {},
   "outputs": [],
   "source": [
    "serve_summary = {\n",
    "    \"fastest_serve\": [fastest_serve],\n",
    "    \"favorite_serve\": favorite_serve,\n",
    "    \"breakpoints_saved\": breakpoints_saved_percentage,\n",
    "    \"min\": min,\n",
    "    \"sec\": sec,\n",
    "    \"first_serve_in\": first_serve_in_percentage_rating_updated,\n",
    "    \"first_serve_won\": first_serve_won_percentage_rating_updated,\n",
    "    \"second_serve_won\": second_serve_won_percentage_rating_updated,\n",
    "    \"service_games_won\": service_games_won_percentage_rating_updated,\n",
    "    \"average_aces\": aces_average_rating_updated,\n",
    "    \"average_double_faults\": doubleFaults_average_rating_updated,\n",
    "    \"serve_rating\": serve_rating,\n",
    "    \"total_serves_won\": total_serve_points_won\n",
    "}\n",
    "\n",
    "df = pd.DataFrame(serve_summary)\n",
    "\n",
    "\n",
    "# Output to CSV\n",
    "output_path = f\"data/{player_name.replace(' ', '_')}_overall_serve.csv\"\n",
    "df.to_csv(output_path, index=False)\n"
   ]
  },
  {
   "cell_type": "code",
   "execution_count": 97,
   "id": "256e37e2",
   "metadata": {},
   "outputs": [
    {
     "data": {
      "text/plain": [
       "'Body'"
      ]
     },
     "execution_count": 97,
     "metadata": {},
     "output_type": "execute_result"
    }
   ],
   "source": [
    "best_second_serve"
   ]
  },
  {
   "cell_type": "code",
   "execution_count": 98,
   "id": "086374b5",
   "metadata": {},
   "outputs": [],
   "source": [
    "first_serve_summary = {\n",
    "    \"first_serve_in\": str(first_serve_in_percentage) + '%',\n",
    "    \"first_serve_won\": str(first_serve_won_percentage) + '%',\n",
    "    \"best_first_serve\": [best_first_serve],\n",
    "    \"average_aces\": average_aces\n",
    "\n",
    "}\n",
    "\n",
    "df = pd.DataFrame(first_serve_summary)\n",
    "\n",
    "\n",
    "# Output to CSV\n",
    "output_path = f\"data/{player_name.replace(' ', '_')}_first_serve.csv\"\n",
    "df.to_csv(output_path, index=False)\n"
   ]
  },
  {
   "cell_type": "code",
   "execution_count": null,
   "id": "d98b8fc3",
   "metadata": {},
   "outputs": [],
   "source": []
  }
 ],
 "metadata": {
  "kernelspec": {
   "display_name": "base",
   "language": "python",
   "name": "python3"
  },
  "language_info": {
   "codemirror_mode": {
    "name": "ipython",
    "version": 3
   },
   "file_extension": ".py",
   "mimetype": "text/x-python",
   "name": "python",
   "nbconvert_exporter": "python",
   "pygments_lexer": "ipython3",
   "version": "3.11.5"
  }
 },
 "nbformat": 4,
 "nbformat_minor": 5
}
