{
 "cells": [
  {
   "cell_type": "markdown",
   "id": "17301c1d",
   "metadata": {},
   "source": [
    "# Serve Statistics Notebook"
   ]
  },
  {
   "cell_type": "markdown",
   "id": "8849fc5c",
   "metadata": {},
   "source": [
    "### Load Packages"
   ]
  },
  {
   "cell_type": "code",
   "execution_count": null,
   "id": "1de2a1dd",
   "metadata": {},
   "outputs": [],
   "source": [
    "import pandas as pd\n",
    "import re\n",
    "import os\n",
    "import ipywidgets as widgets\n",
    "from IPython.display import display"
   ]
  },
  {
   "cell_type": "markdown",
   "id": "faf99d05",
   "metadata": {},
   "source": [
    "### Read Data"
   ]
  },
  {
   "cell_type": "code",
   "execution_count": null,
   "id": "259f386a",
   "metadata": {},
   "outputs": [],
   "source": [
    "# Dropdown with a non-valid default option\n",
    "choose_player_dropdown = widgets.Dropdown(\n",
    "    options=['-- Select --', 'Rudy Quan', 'Emon Van Loben Sels', 'Kaylan Bigun', 'Alexander Hoogmartens', \n",
    "             'Spencer Johnson', 'Aadarsh Tripathi', 'Giacomo Revelli', 'Gianluca Ballotta'],\n",
    "    value='-- Select --',\n",
    "    description='Category:'\n",
    ")\n",
    "\n",
    "display(choose_player_dropdown)"
   ]
  },
  {
   "cell_type": "code",
   "execution_count": null,
   "id": "0b43605d",
   "metadata": {},
   "outputs": [],
   "source": [
    "# Check selection before proceeding\n",
    "if choose_player_dropdown.value == '-- Select --':\n",
    "    raise ValueError(\"Please choose a valid category from the dropdown menu in the previous cell before proceeding.\")\n",
    "\n",
    "# If valid, use the value\n",
    "player_name = choose_player_dropdown.value"
   ]
  },
  {
   "cell_type": "code",
   "execution_count": null,
   "id": "89bfbdb6",
   "metadata": {},
   "outputs": [],
   "source": [
    "combined_data_shots = pd.read_excel(f'../../data/mens/{player_name}/combined.xlsx', sheet_name='Shots')\n",
    "combined_data_points = pd.read_excel(f'../../data/mens/{player_name}/combined.xlsx', sheet_name='Points')\n",
    "combined_data_games = pd.read_excel(f'../../data/mens/{player_name}/combined.xlsx', sheet_name='Games')\n",
    "combined_data_sets = pd.read_excel(f'../../data/mens/{player_name}/combined.xlsx', sheet_name='Sets')\n",
    "combined_data_stats = pd.read_excel(f'../../data/mens/{player_name}/combined.xlsx', sheet_name='Stats')"
   ]
  },
  {
   "cell_type": "code",
   "execution_count": null,
   "id": "f9d30a4c",
   "metadata": {},
   "outputs": [],
   "source": [
    "# Subset 2024-2025 Season Matches!\n",
    "mens_results = pd.read_csv('../../data/mens/mens_results.csv')[:229]\n",
    "\n",
    "# Change Date Format\n",
    "mens_results['Date'] = pd.to_datetime(mens_results['Date'])\n",
    "\n",
    "# Function to Filter by Player and School Matches Only\n",
    "def filter_player(data, player_name):\n",
    "\n",
    "    # Filter for player_name\n",
    "    data = data[(data['Player1'] == player_name) | (data['Player2'] == player_name)]\n",
    "\n",
    "    # Filter for only school events\n",
    "    data = data[data['Event Name'].str.startswith(('Dual Match', '2024 ITA', '2024-25 NCAA Division'))]\n",
    "    return data\n",
    "\n",
    "\n",
    "mens_results_player = filter_player(mens_results, player_name)"
   ]
  },
  {
   "cell_type": "code",
   "execution_count": null,
   "id": "c057d418",
   "metadata": {},
   "outputs": [],
   "source": [
    "mens_results_player"
   ]
  },
  {
   "cell_type": "markdown",
   "id": "ff368fb7",
   "metadata": {},
   "source": [
    "### Average Service Game Duration"
   ]
  },
  {
   "cell_type": "code",
   "execution_count": null,
   "id": "ad09defa",
   "metadata": {},
   "outputs": [],
   "source": [
    "def average_service_time(data):\n",
    "\n",
    "    # Use combined_data_games \n",
    "    # Subset 'Server' column name for only host (host is always UCLA player)\n",
    "    # find the mean of the 'Duration' Column\n",
    "\n",
    "    avg_seconds = data[data['Server'] == 'host']['Duration'].mean() # Automatically coerces NA\n",
    "    total = int(round(avg_seconds))\n",
    "    mins, secs = divmod(total, 60)    \n",
    "\n",
    "    return f\"{mins}:{secs:02d}\""
   ]
  },
  {
   "cell_type": "code",
   "execution_count": null,
   "id": "9cdfae6e",
   "metadata": {},
   "outputs": [],
   "source": [
    "# Output Average Service Game Duration\n",
    "avg_service_game_duration = average_service_time(combined_data_games)\n",
    "avg_service_game_duration"
   ]
  },
  {
   "cell_type": "markdown",
   "id": "b4397236",
   "metadata": {},
   "source": [
    "### Average Games Held Percentage"
   ]
  },
  {
   "cell_type": "code",
   "execution_count": null,
   "id": "39b65e39",
   "metadata": {},
   "outputs": [],
   "source": [
    "def service_games_won_percentage(df):\n",
    "    \n",
    "    # Subset Dataframe to only be UCLA Player serving\n",
    "    service_games = df[df[\"Server\"] == \"host\"]\n",
    "\n",
    "    # Find the percentage of the \"Game Winner\" column everytime the value is \"host\"\n",
    "    percentage = service_games[\"Game Winner\"].value_counts(normalize=True).get('host', 0) * 100\n",
    "\n",
    "    # Round and make number into an integer\n",
    "    percentage = int(round(percentage, 0))\n",
    "\n",
    "    return percentage"
   ]
  },
  {
   "cell_type": "code",
   "execution_count": null,
   "id": "8ad85bda",
   "metadata": {},
   "outputs": [],
   "source": [
    "average_games_held = service_games_won_percentage(combined_data_games)\n",
    "average_games_held"
   ]
  },
  {
   "cell_type": "markdown",
   "id": "232588fa",
   "metadata": {},
   "source": [
    "### Breakpoints Saved (WIP)"
   ]
  },
  {
   "cell_type": "code",
   "execution_count": null,
   "id": "9f2d7ce6",
   "metadata": {},
   "outputs": [],
   "source": []
  }
 ],
 "metadata": {
  "kernelspec": {
   "display_name": "base",
   "language": "python",
   "name": "python3"
  },
  "language_info": {
   "codemirror_mode": {
    "name": "ipython",
    "version": 3
   },
   "file_extension": ".py",
   "mimetype": "text/x-python",
   "name": "python",
   "nbconvert_exporter": "python",
   "pygments_lexer": "ipython3",
   "version": "3.11.5"
  }
 },
 "nbformat": 4,
 "nbformat_minor": 5
}
