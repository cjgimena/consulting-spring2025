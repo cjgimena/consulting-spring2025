{
 "cells": [
  {
   "cell_type": "markdown",
   "id": "17301c1d",
   "metadata": {},
   "source": [
    "# Serve Statistics Notebook"
   ]
  },
  {
   "cell_type": "markdown",
   "id": "8849fc5c",
   "metadata": {},
   "source": [
    "### Load Packages"
   ]
  },
  {
   "cell_type": "code",
   "execution_count": 1,
   "id": "1de2a1dd",
   "metadata": {},
   "outputs": [],
   "source": [
    "import pandas as pd\n",
    "import json\n",
    "import ipywidgets as widgets\n",
    "from IPython.display import display"
   ]
  },
  {
   "cell_type": "markdown",
   "id": "faf99d05",
   "metadata": {},
   "source": [
    "### Read Data"
   ]
  },
  {
   "cell_type": "code",
   "execution_count": 2,
   "id": "259f386a",
   "metadata": {},
   "outputs": [
    {
     "data": {
      "application/vnd.jupyter.widget-view+json": {
       "model_id": "e1098925cd264b1fa3785d038336dbb7",
       "version_major": 2,
       "version_minor": 0
      },
      "text/plain": [
       "Dropdown(description='Category:', options=('-- Select --', 'Rudy Quan', 'Emon Van Loben Sels', 'Kaylan Bigun',…"
      ]
     },
     "metadata": {},
     "output_type": "display_data"
    }
   ],
   "source": [
    "# Dropdown with a non-valid default option\n",
    "choose_player_dropdown = widgets.Dropdown(\n",
    "    options=['-- Select --', 'Rudy Quan', 'Emon Van Loben Sels', 'Kaylan Bigun', 'Alexander Hoogmartens', \n",
    "             'Spencer Johnson', 'Aadarsh Tripathi', 'Giacomo Revelli', 'Gianluca Ballotta'],\n",
    "    value='-- Select --',\n",
    "    description='Category:'\n",
    ")\n",
    "\n",
    "display(choose_player_dropdown)"
   ]
  },
  {
   "cell_type": "code",
   "execution_count": 3,
   "id": "0b43605d",
   "metadata": {},
   "outputs": [],
   "source": [
    "# Check selection before proceeding\n",
    "if choose_player_dropdown.value == '-- Select --':\n",
    "    raise ValueError(\"Please choose a valid category from the dropdown menu in the previous cell before proceeding.\")\n",
    "\n",
    "# If valid, use the value\n",
    "player_name = choose_player_dropdown.value"
   ]
  },
  {
   "cell_type": "code",
   "execution_count": 4,
   "id": "89bfbdb6",
   "metadata": {},
   "outputs": [],
   "source": [
    "combined_data_shots = pd.read_excel(f'../../data/mens/{player_name}/combined.xlsx', sheet_name='Shots')\n",
    "combined_data_points = pd.read_excel(f'../../data/mens/{player_name}/combined.xlsx', sheet_name='Points')\n",
    "combined_data_games = pd.read_excel(f'../../data/mens/{player_name}/combined.xlsx', sheet_name='Games')\n",
    "combined_data_sets = pd.read_excel(f'../../data/mens/{player_name}/combined.xlsx', sheet_name='Sets')\n",
    "combined_data_stats = pd.read_excel(f'../../data/mens/{player_name}/combined.xlsx', sheet_name='Stats')"
   ]
  },
  {
<<<<<<< HEAD
   "cell_type": "code",
   "execution_count": null,
   "id": "f9d30a4c",
   "metadata": {},
   "outputs": [],
   "source": [
    "# Subset 2024-2025 Season Matches!\n",
    "mens_results = pd.read_csv('../../data/mens/mens_results.csv')[:229]\n",
    "\n",
    "# Change Date Format\n",
    "mens_results['Date'] = pd.to_datetime(mens_results['Date'])\n",
    "\n",
    "# Function to Filter by Player and School Matches Only\n",
    "def filter_player(data, player_name):\n",
    "\n",
    "    # Filter for player_name\n",
    "    data = data[(data['Player1'] == player_name) | (data['Player2'] == player_name)]\n",
    "\n",
    "    # Filter for only school events\n",
    "    data = data[data['Event Name'].str.startswith(('Dual Match', '2024 ITA', '2024-25 NCAA Division'))]\n",
    "    return data\n",
    "\n",
    "\n",
    "mens_results_player = filter_player(mens_results, player_name)"
   ]
  },
  {
   "cell_type": "code",
   "execution_count": 6,
   "id": "c057d418",
   "metadata": {},
   "outputs": [
    {
     "data": {
      "text/html": [
       "<div>\n",
       "<style scoped>\n",
       "    .dataframe tbody tr th:only-of-type {\n",
       "        vertical-align: middle;\n",
       "    }\n",
       "\n",
       "    .dataframe tbody tr th {\n",
       "        vertical-align: top;\n",
       "    }\n",
       "\n",
       "    .dataframe thead th {\n",
       "        text-align: right;\n",
       "    }\n",
       "</style>\n",
       "<table border=\"1\" class=\"dataframe\">\n",
       "  <thead>\n",
       "    <tr style=\"text-align: right;\">\n",
       "      <th></th>\n",
       "      <th>Event Name</th>\n",
       "      <th>Date</th>\n",
       "      <th>Player1</th>\n",
       "      <th>Player1 UTR</th>\n",
       "      <th>Player2</th>\n",
       "      <th>Player2 UTR</th>\n",
       "      <th>Score</th>\n",
       "    </tr>\n",
       "  </thead>\n",
       "  <tbody>\n",
       "    <tr>\n",
       "      <th>2</th>\n",
       "      <td>Dual Match: University of California, Los Ange...</td>\n",
       "      <td>2025-04-26</td>\n",
       "      <td>Aidan Kim</td>\n",
       "      <td>13.75</td>\n",
       "      <td>Rudy Quan</td>\n",
       "      <td>13.67</td>\n",
       "      <td>7-6(3), 6-2</td>\n",
       "    </tr>\n",
       "    <tr>\n",
       "      <th>10</th>\n",
       "      <td>Dual Match: Michigan State University vs Unive...</td>\n",
       "      <td>2025-04-25</td>\n",
       "      <td>Rudy Quan</td>\n",
       "      <td>13.67</td>\n",
       "      <td>Aristotelis THANOS</td>\n",
       "      <td>13.61</td>\n",
       "      <td>4-6, 3-1</td>\n",
       "    </tr>\n",
       "    <tr>\n",
       "      <th>17</th>\n",
       "      <td>Dual Match: University of Michigan vs Universi...</td>\n",
       "      <td>2025-04-24</td>\n",
       "      <td>Rudy Quan</td>\n",
       "      <td>13.67</td>\n",
       "      <td>William Cooksey</td>\n",
       "      <td>12.00</td>\n",
       "      <td>6-3, 5-6</td>\n",
       "    </tr>\n",
       "    <tr>\n",
       "      <th>23</th>\n",
       "      <td>Dual Match: University of California, Los Ange...</td>\n",
       "      <td>2025-04-19</td>\n",
       "      <td>Rudy Quan</td>\n",
       "      <td>13.67</td>\n",
       "      <td>Calvin MUELLER</td>\n",
       "      <td>13.00</td>\n",
       "      <td>3-6, 6-3, 6-1</td>\n",
       "    </tr>\n",
       "    <tr>\n",
       "      <th>25</th>\n",
       "      <td>Dual Match: University of California, Los Ange...</td>\n",
       "      <td>2025-04-17</td>\n",
       "      <td>Michael Minasyan</td>\n",
       "      <td>12.00</td>\n",
       "      <td>Rudy Quan</td>\n",
       "      <td>13.67</td>\n",
       "      <td>2-6, 6-3</td>\n",
       "    </tr>\n",
       "    <tr>\n",
       "      <th>32</th>\n",
       "      <td>Dual Match: Michigan State University vs Unive...</td>\n",
       "      <td>2025-04-12</td>\n",
       "      <td>Rudy Quan</td>\n",
       "      <td>13.67</td>\n",
       "      <td>Ozan Baris</td>\n",
       "      <td>13.83</td>\n",
       "      <td>6-1, 6-2</td>\n",
       "    </tr>\n",
       "    <tr>\n",
       "      <th>36</th>\n",
       "      <td>Dual Match: University of California, Los Ange...</td>\n",
       "      <td>2025-04-10</td>\n",
       "      <td>Rudy Quan</td>\n",
       "      <td>13.67</td>\n",
       "      <td>William Cooksey</td>\n",
       "      <td>12.00</td>\n",
       "      <td>6-3, 6-3</td>\n",
       "    </tr>\n",
       "    <tr>\n",
       "      <th>44</th>\n",
       "      <td>Dual Match: University of California, Los Ange...</td>\n",
       "      <td>2025-04-05</td>\n",
       "      <td>Rudy Quan</td>\n",
       "      <td>13.67</td>\n",
       "      <td>Charl Morgan</td>\n",
       "      <td>12.00</td>\n",
       "      <td>6-3, 6-3</td>\n",
       "    </tr>\n",
       "    <tr>\n",
       "      <th>48</th>\n",
       "      <td>Dual Match: Ohio State University vs Universit...</td>\n",
       "      <td>2025-04-03</td>\n",
       "      <td>Alexander Bernard</td>\n",
       "      <td>13.33</td>\n",
       "      <td>Rudy Quan</td>\n",
       "      <td>13.67</td>\n",
       "      <td>7-6(5), 0-6</td>\n",
       "    </tr>\n",
       "    <tr>\n",
       "      <th>52</th>\n",
       "      <td>Dual Match: University of California, Los Ange...</td>\n",
       "      <td>2025-04-03</td>\n",
       "      <td>Alexander Bernard</td>\n",
       "      <td>13.33</td>\n",
       "      <td>Rudy Quan</td>\n",
       "      <td>13.67</td>\n",
       "      <td>7-6(5), 0-6, 3-1</td>\n",
       "    </tr>\n",
       "    <tr>\n",
       "      <th>57</th>\n",
       "      <td>Dual Match: University of California, Los Ange...</td>\n",
       "      <td>2025-03-31</td>\n",
       "      <td>Makk Peter</td>\n",
       "      <td>13.70</td>\n",
       "      <td>Rudy Quan</td>\n",
       "      <td>13.67</td>\n",
       "      <td>6-4, 6-4</td>\n",
       "    </tr>\n",
       "    <tr>\n",
       "      <th>61</th>\n",
       "      <td>Dual Match: University of Washington vs Univer...</td>\n",
       "      <td>2025-03-29</td>\n",
       "      <td>Rudy Quan</td>\n",
       "      <td>13.67</td>\n",
       "      <td>César BOUCHELAGHEM</td>\n",
       "      <td>13.50</td>\n",
       "      <td>6-4, 4-4</td>\n",
       "    </tr>\n",
       "    <tr>\n",
       "      <th>69</th>\n",
       "      <td>Dual Match: University of Oregon vs University...</td>\n",
       "      <td>2025-03-28</td>\n",
       "      <td>Rudy Quan</td>\n",
       "      <td>13.67</td>\n",
       "      <td>Lenn Luemkemann</td>\n",
       "      <td>12.00</td>\n",
       "      <td>6-3, 5-3</td>\n",
       "    </tr>\n",
       "    <tr>\n",
       "      <th>75</th>\n",
       "      <td>Dual Match: University of California, Los Ange...</td>\n",
       "      <td>2025-03-22</td>\n",
       "      <td>Saiprakash Goli</td>\n",
       "      <td>12.00</td>\n",
       "      <td>Rudy Quan</td>\n",
       "      <td>13.67</td>\n",
       "      <td>7-5, 3-3</td>\n",
       "    </tr>\n",
       "    <tr>\n",
       "      <th>82</th>\n",
       "      <td>Dual Match: University of California, Los Ange...</td>\n",
       "      <td>2025-03-20</td>\n",
       "      <td>Kenta Miyoshi</td>\n",
       "      <td>13.92</td>\n",
       "      <td>Rudy Quan</td>\n",
       "      <td>13.67</td>\n",
       "      <td>7-6(5), 5-1</td>\n",
       "    </tr>\n",
       "    <tr>\n",
       "      <th>87</th>\n",
       "      <td>Dual Match: Purdue University vs University of...</td>\n",
       "      <td>2025-03-08</td>\n",
       "      <td>Rudy Quan</td>\n",
       "      <td>13.67</td>\n",
       "      <td>Aleksa Krivokapic</td>\n",
       "      <td>12.00</td>\n",
       "      <td>4-6, 6-3, 1-0(3)</td>\n",
       "    </tr>\n",
       "    <tr>\n",
       "      <th>90</th>\n",
       "      <td>Dual Match: Indiana University vs University o...</td>\n",
       "      <td>2025-03-06</td>\n",
       "      <td>Rudy Quan</td>\n",
       "      <td>13.67</td>\n",
       "      <td>Deacon Thomas</td>\n",
       "      <td>12.00</td>\n",
       "      <td>6-2, 6-4</td>\n",
       "    </tr>\n",
       "    <tr>\n",
       "      <th>104</th>\n",
       "      <td>Dual Match: University of Southern California ...</td>\n",
       "      <td>2025-02-21</td>\n",
       "      <td>Rudy Quan</td>\n",
       "      <td>13.67</td>\n",
       "      <td>Makk Peter</td>\n",
       "      <td>13.70</td>\n",
       "      <td>6-2, 6-3</td>\n",
       "    </tr>\n",
       "    <tr>\n",
       "      <th>107</th>\n",
       "      <td>Dual Match: Pepperdine University vs Universit...</td>\n",
       "      <td>2025-02-15</td>\n",
       "      <td>Edward Winter</td>\n",
       "      <td>13.45</td>\n",
       "      <td>Rudy Quan</td>\n",
       "      <td>13.67</td>\n",
       "      <td>4-6, 6-0, 6-2</td>\n",
       "    </tr>\n",
       "    <tr>\n",
       "      <th>123</th>\n",
       "      <td>Dual Match: University of California, Berkeley...</td>\n",
       "      <td>2025-01-31</td>\n",
       "      <td>Carl Emil Overbeck</td>\n",
       "      <td>13.49</td>\n",
       "      <td>Rudy Quan</td>\n",
       "      <td>13.67</td>\n",
       "      <td>6-7(7), 6-3, 6-4</td>\n",
       "    </tr>\n",
       "    <tr>\n",
       "      <th>129</th>\n",
       "      <td>Dual Match: University of Georgia vs Universit...</td>\n",
       "      <td>2025-01-25</td>\n",
       "      <td>Rudy Quan</td>\n",
       "      <td>13.67</td>\n",
       "      <td>Ryan Colby</td>\n",
       "      <td>13.30</td>\n",
       "      <td>6-2, 6-3</td>\n",
       "    </tr>\n",
       "    <tr>\n",
       "      <th>133</th>\n",
       "      <td>Dual Match: University of California, Los Ange...</td>\n",
       "      <td>2025-01-24</td>\n",
       "      <td>Jerry Roddick</td>\n",
       "      <td>13.00</td>\n",
       "      <td>Rudy Quan</td>\n",
       "      <td>13.67</td>\n",
       "      <td>6-3, 2-6, 6-3</td>\n",
       "    </tr>\n",
       "    <tr>\n",
       "      <th>140</th>\n",
       "      <td>Dual Match: University of San Diego vs Univers...</td>\n",
       "      <td>2025-01-19</td>\n",
       "      <td>Rudy Quan</td>\n",
       "      <td>13.67</td>\n",
       "      <td>Iiro Vasa</td>\n",
       "      <td>12.90</td>\n",
       "      <td>6-3, 7-6(5)</td>\n",
       "    </tr>\n",
       "    <tr>\n",
       "      <th>145</th>\n",
       "      <td>Dual Match: University of California, Los Ange...</td>\n",
       "      <td>2025-01-16</td>\n",
       "      <td>Rudy Quan</td>\n",
       "      <td>13.67</td>\n",
       "      <td>Andy Nguyen</td>\n",
       "      <td>13.13</td>\n",
       "      <td>6-4, 6-3</td>\n",
       "    </tr>\n",
       "    <tr>\n",
       "      <th>214</th>\n",
       "      <td>2024 ITA Men's All-American Championships</td>\n",
       "      <td>2024-09-28</td>\n",
       "      <td>Rudy Quan</td>\n",
       "      <td>13.67</td>\n",
       "      <td>Youcef RIHANE</td>\n",
       "      <td>12.00</td>\n",
       "      <td>6-4, 6-2</td>\n",
       "    </tr>\n",
       "    <tr>\n",
       "      <th>219</th>\n",
       "      <td>2024 ITA Men's All-American Championships</td>\n",
       "      <td>2024-09-28</td>\n",
       "      <td>Rudy Quan</td>\n",
       "      <td>13.67</td>\n",
       "      <td>Adit Sinha</td>\n",
       "      <td>13.32</td>\n",
       "      <td>7-5, 6-0</td>\n",
       "    </tr>\n",
       "    <tr>\n",
       "      <th>220</th>\n",
       "      <td>2024 ITA Men's All-American Championships</td>\n",
       "      <td>2024-09-28</td>\n",
       "      <td>Rudy Quan</td>\n",
       "      <td>13.67</td>\n",
       "      <td>Aristotelis THANOS</td>\n",
       "      <td>13.61</td>\n",
       "      <td>6-3, 7-5</td>\n",
       "    </tr>\n",
       "    <tr>\n",
       "      <th>221</th>\n",
       "      <td>2024 ITA Men's All-American Championships</td>\n",
       "      <td>2024-09-28</td>\n",
       "      <td>Jay Dylan Hara Friend</td>\n",
       "      <td>13.00</td>\n",
       "      <td>Rudy Quan</td>\n",
       "      <td>13.67</td>\n",
       "      <td>5-7, 6-3, 6-0</td>\n",
       "    </tr>\n",
       "  </tbody>\n",
       "</table>\n",
       "</div>"
      ],
      "text/plain": [
       "                                            Event Name       Date  \\\n",
       "2    Dual Match: University of California, Los Ange... 2025-04-26   \n",
       "10   Dual Match: Michigan State University vs Unive... 2025-04-25   \n",
       "17   Dual Match: University of Michigan vs Universi... 2025-04-24   \n",
       "23   Dual Match: University of California, Los Ange... 2025-04-19   \n",
       "25   Dual Match: University of California, Los Ange... 2025-04-17   \n",
       "32   Dual Match: Michigan State University vs Unive... 2025-04-12   \n",
       "36   Dual Match: University of California, Los Ange... 2025-04-10   \n",
       "44   Dual Match: University of California, Los Ange... 2025-04-05   \n",
       "48   Dual Match: Ohio State University vs Universit... 2025-04-03   \n",
       "52   Dual Match: University of California, Los Ange... 2025-04-03   \n",
       "57   Dual Match: University of California, Los Ange... 2025-03-31   \n",
       "61   Dual Match: University of Washington vs Univer... 2025-03-29   \n",
       "69   Dual Match: University of Oregon vs University... 2025-03-28   \n",
       "75   Dual Match: University of California, Los Ange... 2025-03-22   \n",
       "82   Dual Match: University of California, Los Ange... 2025-03-20   \n",
       "87   Dual Match: Purdue University vs University of... 2025-03-08   \n",
       "90   Dual Match: Indiana University vs University o... 2025-03-06   \n",
       "104  Dual Match: University of Southern California ... 2025-02-21   \n",
       "107  Dual Match: Pepperdine University vs Universit... 2025-02-15   \n",
       "123  Dual Match: University of California, Berkeley... 2025-01-31   \n",
       "129  Dual Match: University of Georgia vs Universit... 2025-01-25   \n",
       "133  Dual Match: University of California, Los Ange... 2025-01-24   \n",
       "140  Dual Match: University of San Diego vs Univers... 2025-01-19   \n",
       "145  Dual Match: University of California, Los Ange... 2025-01-16   \n",
       "214          2024 ITA Men's All-American Championships 2024-09-28   \n",
       "219          2024 ITA Men's All-American Championships 2024-09-28   \n",
       "220          2024 ITA Men's All-American Championships 2024-09-28   \n",
       "221          2024 ITA Men's All-American Championships 2024-09-28   \n",
       "\n",
       "                   Player1  Player1 UTR             Player2  Player2 UTR  \\\n",
       "2                Aidan Kim        13.75           Rudy Quan        13.67   \n",
       "10               Rudy Quan        13.67  Aristotelis THANOS        13.61   \n",
       "17               Rudy Quan        13.67     William Cooksey        12.00   \n",
       "23               Rudy Quan        13.67      Calvin MUELLER        13.00   \n",
       "25        Michael Minasyan        12.00           Rudy Quan        13.67   \n",
       "32               Rudy Quan        13.67          Ozan Baris        13.83   \n",
       "36               Rudy Quan        13.67     William Cooksey        12.00   \n",
       "44               Rudy Quan        13.67        Charl Morgan        12.00   \n",
       "48       Alexander Bernard        13.33           Rudy Quan        13.67   \n",
       "52       Alexander Bernard        13.33           Rudy Quan        13.67   \n",
       "57              Makk Peter        13.70           Rudy Quan        13.67   \n",
       "61               Rudy Quan        13.67  César BOUCHELAGHEM        13.50   \n",
       "69               Rudy Quan        13.67     Lenn Luemkemann        12.00   \n",
       "75         Saiprakash Goli        12.00           Rudy Quan        13.67   \n",
       "82           Kenta Miyoshi        13.92           Rudy Quan        13.67   \n",
       "87               Rudy Quan        13.67   Aleksa Krivokapic        12.00   \n",
       "90               Rudy Quan        13.67       Deacon Thomas        12.00   \n",
       "104              Rudy Quan        13.67          Makk Peter        13.70   \n",
       "107          Edward Winter        13.45           Rudy Quan        13.67   \n",
       "123     Carl Emil Overbeck        13.49           Rudy Quan        13.67   \n",
       "129              Rudy Quan        13.67          Ryan Colby        13.30   \n",
       "133          Jerry Roddick        13.00           Rudy Quan        13.67   \n",
       "140              Rudy Quan        13.67           Iiro Vasa        12.90   \n",
       "145              Rudy Quan        13.67         Andy Nguyen        13.13   \n",
       "214              Rudy Quan        13.67       Youcef RIHANE        12.00   \n",
       "219              Rudy Quan        13.67          Adit Sinha        13.32   \n",
       "220              Rudy Quan        13.67  Aristotelis THANOS        13.61   \n",
       "221  Jay Dylan Hara Friend        13.00           Rudy Quan        13.67   \n",
       "\n",
       "                Score  \n",
       "2         7-6(3), 6-2  \n",
       "10           4-6, 3-1  \n",
       "17           6-3, 5-6  \n",
       "23      3-6, 6-3, 6-1  \n",
       "25           2-6, 6-3  \n",
       "32           6-1, 6-2  \n",
       "36           6-3, 6-3  \n",
       "44           6-3, 6-3  \n",
       "48        7-6(5), 0-6  \n",
       "52   7-6(5), 0-6, 3-1  \n",
       "57           6-4, 6-4  \n",
       "61           6-4, 4-4  \n",
       "69           6-3, 5-3  \n",
       "75           7-5, 3-3  \n",
       "82        7-6(5), 5-1  \n",
       "87   4-6, 6-3, 1-0(3)  \n",
       "90           6-2, 6-4  \n",
       "104          6-2, 6-3  \n",
       "107     4-6, 6-0, 6-2  \n",
       "123  6-7(7), 6-3, 6-4  \n",
       "129          6-2, 6-3  \n",
       "133     6-3, 2-6, 6-3  \n",
       "140       6-3, 7-6(5)  \n",
       "145          6-4, 6-3  \n",
       "214          6-4, 6-2  \n",
       "219          7-5, 6-0  \n",
       "220          6-3, 7-5  \n",
       "221     5-7, 6-3, 6-0  "
      ]
     },
     "execution_count": 6,
     "metadata": {},
     "output_type": "execute_result"
    }
   ],
   "source": [
    "mens_results_player"
   ]
  },
  {
=======
>>>>>>> 1a8b38e37f0fc5af6734fe73fae849a987260246
   "cell_type": "markdown",
   "id": "ff368fb7",
   "metadata": {},
   "source": [
    "### Average Service Game Duration"
   ]
  },
  {
   "cell_type": "code",
   "execution_count": 5,
   "id": "ad09defa",
   "metadata": {},
   "outputs": [],
   "source": [
    "def average_service_time(data):\n",
    "\n",
    "    # Use combined_data_games \n",
    "    # Subset 'Server' column name for only host (host is always UCLA player)\n",
    "    # find the mean of the 'Duration' Column\n",
    "\n",
    "    avg_seconds = data[data['Server'] == 'host']['Duration'].mean() # Automatically coerces NA\n",
    "    total = int(round(avg_seconds))\n",
    "    mins, secs = divmod(total, 60)    \n",
    "\n",
    "    return f\"{mins}:{secs:02d}\""
   ]
  },
  {
   "cell_type": "code",
   "execution_count": 6,
   "id": "9cdfae6e",
   "metadata": {},
   "outputs": [
    {
     "data": {
      "text/plain": [
       "('4', '18')"
      ]
     },
     "execution_count": 6,
     "metadata": {},
     "output_type": "execute_result"
    }
   ],
   "source": [
    "# Output Average Service Game Duration\n",
    "avg_service_game_duration = average_service_time(combined_data_games)\n",
    "min, sec = avg_service_game_duration.split(':')\n",
    "min, sec"
   ]
  },
  {
   "cell_type": "markdown",
   "id": "b4397236",
   "metadata": {},
   "source": [
    "### Average Games Held Percentage"
   ]
  },
  {
   "cell_type": "code",
   "execution_count": 7,
   "id": "39b65e39",
   "metadata": {},
   "outputs": [],
   "source": [
    "def service_games_won_percentage(df):\n",
    "    \n",
    "    # Subset Dataframe to only be UCLA Player serving\n",
    "    service_games = df[df[\"Server\"] == \"host\"]\n",
    "\n",
    "    # Subset to only complete games\n",
    "    service_games = service_games[service_games[\"Game Winner\"] != \"draw\"]\n",
    "\n",
    "    # Find the percentage of the \"Game Winner\" column everytime the value is \"host\"\n",
    "    percentage = service_games[\"Game Winner\"].value_counts(normalize=True).get('host', 0) * 100\n",
    "\n",
    "    # Round and make number into an integer\n",
    "    percentage = int(round(percentage, 0))\n",
    "\n",
    "    return percentage"
   ]
  },
  {
   "cell_type": "code",
   "execution_count": 8,
   "id": "8ad85bda",
   "metadata": {},
   "outputs": [
    {
     "data": {
      "text/plain": [
       "'71%'"
      ]
     },
     "execution_count": 8,
     "metadata": {},
     "output_type": "execute_result"
    }
   ],
   "source": [
    "average_games_held = str(service_games_won_percentage(combined_data_games)) + '%'\n",
    "average_games_held"
   ]
  },
  {
   "cell_type": "markdown",
   "id": "232588fa",
   "metadata": {},
   "source": [
    "### Average Breakpoints Saved"
   ]
  },
  {
   "cell_type": "code",
   "execution_count": 9,
   "id": "9f2d7ce6",
   "metadata": {},
   "outputs": [],
   "source": [
    "def breakpoints_saved_function(data):\n",
    "\n",
    "    # Filter Data\n",
    "    filtered_data = data[(data['Match Server'] == 'host') & \n",
    "                         (data['Break Point'] == True)\n",
    "                         ].copy()\n",
    "\n",
    "    percentage = int(round(filtered_data['Point Winner'].value_counts(normalize=True).get('host', 0) * 100, 0))\n",
    "\n",
    "    return percentage"
   ]
  },
  {
   "cell_type": "code",
   "execution_count": 10,
   "id": "5a808779",
   "metadata": {},
   "outputs": [
    {
     "data": {
      "text/plain": [
       "'50%'"
      ]
     },
     "execution_count": 10,
     "metadata": {},
     "output_type": "execute_result"
    }
   ],
   "source": [
    "breakpoints_saved_percentage = str(breakpoints_saved_function(combined_data_points)) + '%'\n",
    "breakpoints_saved_percentage"
   ]
  },
  {
   "cell_type": "markdown",
   "id": "a63c1b9b",
   "metadata": {},
   "source": [
    "### Average Aces"
   ]
  },
  {
   "cell_type": "code",
   "execution_count": 11,
   "id": "c43cdc2f",
   "metadata": {},
   "outputs": [],
   "source": [
    "def average_aces(df):\n",
    "\n",
    "    # Filter for the row where 'Stat Name' is 'Aces'\n",
    "    aces_row = df[df['Stat Name'] == 'Aces']\n",
    "\n",
    "    if aces_row.empty:\n",
    "        print(\"No 'Aces' row found.\")\n",
    "        return None\n",
    "    \n",
    "    # Columns that contain the per-set values\n",
    "    set_columns = [col for col in df.columns if 'Host Set' in col]\n",
    "\n",
    "    # Extract ace counts per match from those columns\n",
    "    aces_per_match = aces_row[set_columns].sum(axis=1)\n",
    "    \n",
    "    # Calculate and return the average\n",
    "    average = aces_per_match.mean()\n",
    "    return round(average, 1)"
   ]
  },
  {
   "cell_type": "code",
   "execution_count": 12,
   "id": "cd3ec4eb",
   "metadata": {},
   "outputs": [
    {
     "data": {
      "text/plain": [
       "0.5"
      ]
     },
     "execution_count": 12,
     "metadata": {},
     "output_type": "execute_result"
    }
   ],
   "source": [
    "# Output Average Aces\n",
    "average_aces = average_aces(combined_data_stats)\n",
    "average_aces"
   ]
  },
  {
   "cell_type": "markdown",
   "id": "b51dc0fa",
   "metadata": {},
   "source": [
    "### Average Double Faults"
   ]
  },
  {
   "cell_type": "code",
   "execution_count": 13,
   "id": "6e3dca23",
   "metadata": {},
   "outputs": [],
   "source": [
    "def average_doubleFaults(df):\n",
    "\n",
    "    # Filter only rows with Stat Name = '2nd Serves' and '2nd Serves In'\n",
    "    second_serves = df[df['Stat Name'].str.strip() == '2nd Serves'].copy()\n",
    "    second_serves_in = df[df['Stat Name'].str.strip() == '2nd Serves In'].copy()\n",
    "\n",
    "    set_columns = [col for col in df.columns if 'Host Set' in col]\n",
    "\n",
    "    second_serves_vals = second_serves[set_columns].sum(axis=1).reset_index(drop=True)\n",
    "    second_serves_in_vals = second_serves_in[set_columns].sum(axis=1).reset_index(drop=True)\n",
    "    average_double_faults = (second_serves_vals - second_serves_in_vals).mean()\n",
    "\n",
    "    # Return average\n",
    "    return round(average_double_faults, 1)"
   ]
  },
  {
   "cell_type": "code",
   "execution_count": 14,
   "id": "121f093f",
   "metadata": {},
   "outputs": [
    {
     "data": {
      "text/plain": [
       "1.4"
      ]
     },
     "execution_count": 14,
     "metadata": {},
     "output_type": "execute_result"
    }
   ],
   "source": [
    "average_double_faults = average_doubleFaults(combined_data_stats)\n",
    "average_double_faults"
   ]
  },
  {
   "cell_type": "markdown",
   "id": "092911bd",
   "metadata": {},
   "source": [
    "### Serve In/Won Percentages"
   ]
  },
  {
   "cell_type": "code",
   "execution_count": 15,
   "id": "5cab44c6",
   "metadata": {},
   "outputs": [],
   "source": [
    "# Helper Function\n",
    "def find_stat(df, stat_name):\n",
    "    # Subset to only get rows of specified Statistic\n",
    "    stat_total = df.loc[df['Stat Name'] == stat_name]\n",
    "\n",
    "    # Grab column names\n",
    "    column_names = stat_total.columns \n",
    "\n",
    "    # Subset column names that only start with 'Host Set'\n",
    "    column_names_subset = column_names[column_names.str.startswith('Host Set')]\n",
    "\n",
    "    # \n",
    "    stat_total_value = stat_total[column_names_subset].sum().sum()\n",
    "    return stat_total_value"
   ]
  },
  {
   "cell_type": "code",
   "execution_count": 16,
   "id": "8209fa65",
   "metadata": {},
   "outputs": [],
   "source": [
    "first_serves = find_stat(combined_data_stats, '1st Serves')   \n",
    "first_serves_in = find_stat(combined_data_stats, '1st Serves In') \n",
    "first_serves_won = find_stat(combined_data_stats, '1st Serves Won')   \n",
    "\n",
    "second_serves = find_stat(combined_data_stats, '2nd Serves')   \n",
    "second_serves_in = find_stat(combined_data_stats, '2nd Serves In') \n",
    "second_serves_won = find_stat(combined_data_stats, '2nd Serves Won')   "
   ]
  },
  {
   "cell_type": "code",
   "execution_count": 17,
   "id": "e1c58e4f",
   "metadata": {},
   "outputs": [
    {
     "name": "stdout",
     "output_type": "stream",
     "text": [
      "Serve Performance Summary for Rudy Quan:\n",
      "\n",
      "  1st Serve In %:        72%\n",
      "  1st Serve Won %:       65%\n",
      "  2nd Serve In %:        88%\n",
      "  2nd Serve Won %:       55%\n"
     ]
    }
   ],
   "source": [
    "first_serve_in_percentage = int(round((first_serves_in / first_serves) * 100, 0))\n",
    "first_serve_won_percentage = int(round((first_serves_won / first_serves_in) * 100, 0))\n",
    "second_serve_in_percentage = int(round((second_serves_in / second_serves) * 100, 0))\n",
    "second_serve_won_percentage = int(round((second_serves_won / second_serves_in) * 100, 0))\n",
    "\n",
    "print(f\"Serve Performance Summary for {player_name}:\\n\")\n",
    "print(f\"  1st Serve In %:        {first_serve_in_percentage}%\")\n",
    "print(f\"  1st Serve Won %:       {first_serve_won_percentage}%\")\n",
    "print(f\"  2nd Serve In %:        {second_serve_in_percentage}%\")\n",
    "print(f\"  2nd Serve Won %:       {second_serve_won_percentage}%\")\n"
   ]
  },
  {
   "cell_type": "markdown",
   "id": "218c24f2",
   "metadata": {},
   "source": [
    "### Total Serve Points Won"
   ]
  },
  {
   "cell_type": "code",
   "execution_count": 18,
   "id": "c6dedffb",
   "metadata": {},
   "outputs": [
    {
     "data": {
      "text/plain": [
       "60"
      ]
     },
     "execution_count": 18,
     "metadata": {},
     "output_type": "execute_result"
    }
   ],
   "source": [
    "total_serves = combined_data_points[combined_data_points['Match Server'] == 'host'].shape[0]\n",
    "# total_serves = find_stat(combined_data_stats, '1st Serves') # OR this too\n",
    "serve_points_won = combined_data_points[combined_data_points['Match Server'] == 'host']['Point Winner'].value_counts().get(0, 'host')\n",
    "\n",
    "total_serve_points_won = int(round((serve_points_won / total_serves) * 100, 0))\n",
    "total_serve_points_won"
   ]
  },
  {
   "cell_type": "markdown",
   "id": "7b447916",
   "metadata": {},
   "source": [
    "##### Output Json"
   ]
  },
  {
   "cell_type": "code",
   "execution_count": 19,
   "id": "b091f858",
   "metadata": {},
   "outputs": [
    {
     "name": "stdout",
     "output_type": "stream",
     "text": [
      "Saved to data/total_serves.json\n"
     ]
    }
   ],
   "source": [
    "# Build dictionary\n",
    "serve_json = {\n",
    "    \"type\": \"Total Serve Points Won\",\n",
    "    \"total\": int(total_serves),\n",
    "    \"won\": int(serve_points_won)\n",
    "}\n",
    "\n",
    "# Write to JSON\n",
    "with open(\"data/total_serves.json\", \"w\") as f:\n",
    "    json.dump(serve_json, f, indent=4)\n",
    "\n",
    "print(\"Saved to data/total_serves.json\")"
   ]
  },
  {
   "cell_type": "markdown",
   "id": "b4505c2b",
   "metadata": {},
   "source": [
    "### Fastest Serve"
   ]
  },
  {
   "cell_type": "code",
   "execution_count": 20,
   "id": "bc468c7c",
   "metadata": {},
   "outputs": [],
   "source": [
    "def fastest_serve(data):\n",
    "    max_serve = combined_data_shots[combined_data_shots['Type'].isin(['first_serve', 'second_serve'])]['Speed (MPH)'].max()\n",
    "    return int(round(max_serve, 0))"
   ]
  },
  {
   "cell_type": "code",
   "execution_count": 21,
   "id": "4317b57e",
   "metadata": {},
   "outputs": [
    {
     "data": {
      "text/plain": [
       "131"
      ]
     },
     "execution_count": 21,
     "metadata": {},
     "output_type": "execute_result"
    }
   ],
   "source": [
    "fastest_serve = fastest_serve(combined_data_shots)\n",
    "fastest_serve"
   ]
  },
  {
   "cell_type": "markdown",
   "id": "0c526a66",
   "metadata": {},
   "source": [
    "### Favorite Serve"
   ]
  },
  {
   "cell_type": "markdown",
   "id": "a85dd87a",
   "metadata": {},
   "source": [
    "##### Helper Function"
   ]
  },
  {
   "cell_type": "code",
   "execution_count": 22,
   "id": "3f52dfac",
   "metadata": {},
   "outputs": [],
   "source": [
    "# Helper Function: Classify Zones borrowed from swingvison_transformation.ipynb\n",
    "\n",
    "def classify_zone(df):\n",
    "    x = df['x_coord']\n",
    "    y = df['y_coord']\n",
    "    sign = x * y # if sign is pos, it's on ad side, if neg, it's deuce\n",
    "\n",
    "    if (x < -105) or (x > 105):\n",
    "        if sign > 0:\n",
    "            side, zone = 'Ad', 'Wide'\n",
    "        else:\n",
    "            side, zone = 'Deuce', 'Wide'\n",
    "    elif (-105 <= x <= -52.5) or (52.5 <= x <= 105):\n",
    "        if sign > 0:\n",
    "            side, zone = 'Ad', 'Body'\n",
    "        else:\n",
    "            side, zone = 'Deuce', 'Body'\n",
    "    elif -52.5 < x < 52.5:\n",
    "        if sign > 0:\n",
    "            side, zone = 'Ad', 'T'\n",
    "        else:\n",
    "            side, zone = 'Deuce', 'T'\n",
    "    else:\n",
    "        side, zone = np.nan, np.nan\n",
    "    \n",
    "    return pd.Series({'side': side, 'Zone': zone})"
   ]
  },
  {
   "cell_type": "code",
   "execution_count": 23,
   "id": "174ca83b",
   "metadata": {},
   "outputs": [],
   "source": [
    "def favorite_serve(df_shots, df_points):\n",
    "\n",
    "    df_shots = df_shots[df_shots['__source_file__'].isin(df_points['__source_file__'])] # UPDATE: Temporary fix\n",
    "\n",
    "    combined = pd.merge(df_shots, df_points[['Point', 'Game', 'Set', 'Point Winner', 'Match Server', '__source_file__']], on=['Point', 'Game', 'Set', '__source_file__'], how='left')\n",
    "\n",
    "    serves = combined[(combined['Stroke'] == 'Serve') & (combined['Match Server'] == 'host')] # Added Player Name Filter\n",
    "    serves_in = serves[serves['Result'] == 'In'].copy()\n",
    "\n",
    "    serves_in.loc[:, 'x_coord'] = serves_in['Bounce (x)'] * 38.2764654418\n",
    "    serves_in.loc[:, 'y_coord'] = (serves_in['Bounce (y)'] - 11.8872) * 38.2764654418\n",
    "    serves_in[['side', 'serve_zone']] = serves_in.apply(classify_zone, axis=1)\n",
    "    favorite_serve = serves_in['serve_zone'].value_counts().idxmax()\n",
    "\n",
    "    return favorite_serve"
   ]
  },
  {
   "cell_type": "code",
   "execution_count": 24,
   "id": "dcac6aa9",
   "metadata": {},
   "outputs": [
    {
     "data": {
      "text/plain": [
       "'Body'"
      ]
     },
     "execution_count": 24,
     "metadata": {},
     "output_type": "execute_result"
    }
   ],
   "source": [
    "favorite_serve(combined_data_shots, combined_data_points)"
   ]
  },
  {
   "cell_type": "markdown",
   "id": "1d95c414",
   "metadata": {},
   "source": [
    "### Best Serve (WIP)"
   ]
  },
  {
   "cell_type": "code",
   "execution_count": 25,
   "id": "14d56f9e",
   "metadata": {},
   "outputs": [],
   "source": [
    "df_shots = combined_data_shots\n",
    "df_points = combined_data_points\n",
    "\n",
    "\n",
    "df_shots = df_shots[df_shots['__source_file__'].isin(df_points['__source_file__'])] # UPDATE: Temporary fix\n",
    "\n",
    "combined = pd.merge(df_shots, df_points[['Point', 'Game', 'Set', 'Point Winner', 'Match Server', '__source_file__']], on=['Point', 'Game', 'Set', '__source_file__'], how='left')\n",
    "\n",
    "serves = combined[(combined['Stroke'] == 'Serve') & (combined['Match Server'] == 'host')] # Added Player Name Filter\n",
    "serves_in = serves[serves['Result'] == 'In'].copy()\n",
    "\n",
    "serves_in.loc[:, 'x_coord'] = serves_in['Bounce (x)'] * 38.2764654418\n",
    "serves_in.loc[:, 'y_coord'] = (serves_in['Bounce (y)'] - 11.8872) * 38.2764654418\n",
    "serves_in[['side', 'serve_zone']] = serves_in.apply(classify_zone, axis=1)\n",
    "favorite_serve = serves_in[['side', 'serve_zone', 'Point Winner']]\n"
   ]
  },
  {
   "cell_type": "markdown",
   "id": "4f6a5bf8",
   "metadata": {},
   "source": [
    "### Serve Zone Distribution Bars (Nathan??) (WIP)"
   ]
  },
  {
   "cell_type": "code",
   "execution_count": null,
   "id": "970f4d71",
   "metadata": {},
   "outputs": [],
   "source": []
  },
  {
   "cell_type": "markdown",
   "id": "23eb87d7",
   "metadata": {},
   "source": [
    "### Serve Zone Distribution Court Visual(WIP)"
   ]
  },
  {
   "cell_type": "markdown",
   "id": "e8647003",
   "metadata": {},
   "source": [
    "##### Helper Function"
   ]
  },
  {
   "cell_type": "code",
   "execution_count": 26,
   "id": "baac0eba",
   "metadata": {},
   "outputs": [],
   "source": [
    "# Helper Function: Classify Zones borrowed from swingvison_transformation.ipynb\n",
    "\n",
    "def classify_zone(df):\n",
    "    x = df['x_coord']\n",
    "    y = df['y_coord']\n",
    "    sign = x * y # if sign is pos, it's on ad side, if neg, it's deuce\n",
    "\n",
    "    if (x < -105) or (x > 105):\n",
    "        if sign > 0:\n",
    "            return 'Ad Wide'\n",
    "        else:\n",
    "            return 'Deuce Wide'\n",
    "    elif (-105 <= x <= -52.5) or (52.5 <= x <= 105):\n",
    "        if sign > 0:\n",
    "            return 'Ad Body'\n",
    "        else:\n",
    "            return 'Deuce Body'\n",
    "    elif -52.5 < x < 52.5:\n",
    "        if sign > 0:\n",
    "            return 'Ad T'\n",
    "        else:\n",
    "            return 'Deuce T'\n",
    "    else:\n",
    "        return np.nan"
   ]
  },
  {
   "cell_type": "code",
   "execution_count": null,
   "id": "58d57ac9",
   "metadata": {},
   "outputs": [],
   "source": [
    "def serve_zone_distribution(df_shots, df_points):\n",
    "\n",
    "    # only use matches with complete data\n",
    "    df_shots = df_shots[df_shots['__source_file__'].isin(df_points['__source_file__'])] # UPDATE: Temporary fix\n",
    "\n",
    "    # add column for winner of the point\n",
    "    combined = pd.merge(df_shots, df_points[['Point', 'Game', 'Set', 'Point Winner', 'Match Server', '__source_file__']], on=['Point', 'Game', 'Set', '__source_file__'], how='left')\n",
    "\n",
    "    serves = combined[(combined['Stroke'] == 'Serve') & (combined['Match Server'] == 'host')] # Added Player Name Filter\n",
    "    serves_in = serves[serves['Result'] == 'In'].copy()\n",
    "\n",
    "    # zone classification\n",
    "    serves_in.loc[:, 'x_coord'] = serves_in['Bounce (x)'] * 38.2764654418\n",
    "    serves_in.loc[:, 'y_coord'] = (serves_in['Bounce (y)'] - 11.8872) * 38.2764654418\n",
    "    serves_in['Zone'] = serves_in.apply(classify_zone, axis=1)\n",
    "\n",
    "    # get win proportions and convert to json\n",
    "    zones = serves_in.groupby('Zone')['Point Winner'].value_counts().unstack()\n",
    "    zones['Win Proportion'] = zones['host'].astype(str) + '/' + (zones['host'] + zones['guest']).astype(str)\n",
    "    zones.reset_index(inplace=True)\n",
    "    zones.columns.name = None\n",
    "    zones = zones[['Zone', 'Win Proportion']]\n",
    "    zones.to_json('serve_dist.json', orient='records')"
   ]
  },
  {
   "cell_type": "code",
   "execution_count": 28,
   "id": "8f962346",
   "metadata": {},
   "outputs": [],
   "source": [
    "serve_zone_distribution(combined_data_shots, combined_data_points)"
   ]
  },
  {
   "cell_type": "markdown",
   "id": "0cf0ca79",
   "metadata": {},
   "source": [
    "### Serve Placement (WIP)"
   ]
  },
  {
   "cell_type": "markdown",
   "id": "6bec2753",
   "metadata": {},
   "source": []
  },
  {
   "cell_type": "code",
   "execution_count": null,
   "id": "6caf1d19",
   "metadata": {},
   "outputs": [],
   "source": []
  },
  {
   "cell_type": "markdown",
   "id": "ba228c3c",
   "metadata": {},
   "source": [
    "### Serve Ratings"
   ]
  },
  {
   "cell_type": "markdown",
   "id": "daf0dedb",
   "metadata": {},
   "source": [
    "##### Helper Functions"
   ]
  },
  {
   "cell_type": "code",
   "execution_count": 63,
   "id": "2f9f9fa9",
   "metadata": {},
   "outputs": [],
   "source": [
    "# Helper Function: Grabs total of Specified Stat\n",
    "def get_total(df, stat_name):\n",
    "    rows = df[df['Stat Name'] == stat_name]\n",
    "    if rows.empty: # UPDATE Throw an error?\n",
    "        return 0\n",
    "    total = 0\n",
    "    for col in rows.columns:\n",
    "        if col.startswith('Host Set'):\n",
    "            numeric_vals = pd.to_numeric(rows[col], errors='coerce')\n",
    "            total += numeric_vals.sum()  # Ignores NaNs automatically # UPDATE: throw an error? because this means that the data is bad?\n",
    "    return total\n",
    "    # return rows"
   ]
  },
  {
   "cell_type": "code",
   "execution_count": 64,
   "id": "68194d89",
   "metadata": {},
   "outputs": [],
   "source": [
    "# Helper Function: Calculate Service Games Won Percentage\n",
    "\n",
    "def calculate_service_games_won(df):\n",
    "    # Filter the DataFrame for host server and non-draw game winner\n",
    "    host_service_games = df[(df['Server'] == 'host') & (df['Game Winner'] != 'draw')]\n",
    "    \n",
    "    # Filter for games where host won\n",
    "    host_service_games_won = host_service_games[host_service_games['Game Winner'] == 'host']\n",
    "    \n",
    "    service_games_won_percentage = len(host_service_games_won) / len(host_service_games) \n",
    "    \n",
    "    return service_games_won_percentage"
   ]
  },
  {
   "cell_type": "code",
   "execution_count": 65,
   "id": "39863cd1",
   "metadata": {},
   "outputs": [],
   "source": [
    "# Helper Function: Calculate Double Faults\n",
    "\n",
    "def calculate_double_faults(df):\n",
    "    double_fault_total = df[(df['Match Server'] == 'host') & \n",
    "                                   (df['Detail'] == 'Double Fault')].shape[0]\n",
    "    return double_fault_total"
   ]
  },
  {
   "cell_type": "markdown",
   "id": "48783183",
   "metadata": {},
   "source": [
    "##### Serve Rating Calculation"
   ]
  },
  {
   "cell_type": "code",
   "execution_count": 66,
   "id": "926c1da0",
   "metadata": {},
   "outputs": [],
   "source": [
    "# Total Matches in dataset\n",
    "total_matches = len(combined_data_stats.groupby('__source_file__'))\n",
    "\n",
    "# 1st Serve In Percentage\n",
    "first_serve_in_percentage_rating = ((get_total(combined_data_stats, '1st Serves In') / get_total(combined_data_stats, '1st Serves')) * 100).round(1)\n",
    "\n",
    "# 1st Serve Points Won Percentage\n",
    "first_serve_won_percentage_rating = ((get_total(combined_data_stats, '1st Serves Won') / get_total(combined_data_stats, '1st Serves In')) * 100).round(1)\n",
    "\n",
    "# 2nd Serve Points Won Percentage\n",
    "second_serve_won_percentage_rating = ((get_total(combined_data_stats, '2nd Serves Won') / get_total(combined_data_stats, '2nd Serves In')) * 100).round(1)\n",
    "\n",
    "# Service Games Won Percentage\n",
    "service_games_won_percentage_rating = round(calculate_service_games_won(combined_data_games) * 100, 1)\n",
    "\n",
    "# Average Aces per Match Percentagae\n",
    "aces_average_rating = ((get_total(combined_data_stats, 'Aces') / total_matches)).round(1)\n",
    "\n",
    "# Average Double Faults per Match Percentage\n",
    "doubleFaults_average_rating = round(calculate_double_faults(combined_data_points) / total_matches, 1)"
   ]
  },
  {
   "cell_type": "code",
   "execution_count": 68,
   "id": "a78c695b",
   "metadata": {},
   "outputs": [
    {
     "name": "stdout",
     "output_type": "stream",
     "text": [
      "First Serve In %: 71.7%\n",
      "First Serve Points Won %: 65.1%\n",
      "Second Serve Points Won %: 55.2%\n",
      "Service Games Won %: 71.1%\n",
      "Aces per Match: 0.5\n",
      "Double Faults per Match: 1.4\n",
      "Serve Rating: 261.7\n"
     ]
    }
   ],
   "source": [
    "# Calculate Serve Rating\n",
    "serve_rating = round(first_serve_in_percentage_rating + first_serve_won_percentage_rating + second_serve_won_percentage_rating + service_games_won_percentage_rating - doubleFaults_average_rating, 1)\n",
    "\n",
    "# Print All Calculations\n",
    "print(f\"First Serve In %: {first_serve_in_percentage_rating}%\")\n",
    "print(f\"First Serve Points Won %: {first_serve_won_percentage_rating}%\")\n",
    "print(f\"Second Serve Points Won %: {second_serve_won_percentage_rating}%\")\n",
    "print(f\"Service Games Won %: {service_games_won_percentage_rating}%\")\n",
    "print(f\"Aces per Match: {aces_average_rating}\")\n",
    "print(f\"Double Faults per Match: {doubleFaults_average_rating}\")\n",
    "print(f\"Serve Rating: {serve_rating}\")"
   ]
  },
  {
   "cell_type": "code",
   "execution_count": null,
   "id": "ddd3aa09",
   "metadata": {},
   "outputs": [],
   "source": []
  },
  {
   "cell_type": "code",
   "execution_count": null,
   "id": "45dec823",
   "metadata": {},
   "outputs": [],
   "source": []
  },
  {
   "cell_type": "markdown",
   "id": "fae25f92",
   "metadata": {},
   "source": [
    "### Output CSV"
   ]
  },
  {
   "cell_type": "code",
   "execution_count": 83,
   "id": "4aab3b59",
   "metadata": {},
   "outputs": [
    {
     "data": {
      "text/plain": [
       "131"
      ]
     },
     "execution_count": 83,
     "metadata": {},
     "output_type": "execute_result"
    }
   ],
   "source": [
    "min, sec\n",
    "average_games_held\n",
    "breakpoints_saved_percentage\n",
    "average_aces\n",
    "average_double_faults\n",
    "fastest_serve"
   ]
  },
  {
   "cell_type": "code",
   "execution_count": null,
   "id": "086374b5",
   "metadata": {},
   "outputs": [],
   "source": []
  }
 ],
 "metadata": {
  "kernelspec": {
   "display_name": "base",
   "language": "python",
   "name": "python3"
  },
  "language_info": {
   "codemirror_mode": {
    "name": "ipython",
    "version": 3
   },
   "file_extension": ".py",
   "mimetype": "text/x-python",
   "name": "python",
   "nbconvert_exporter": "python",
   "pygments_lexer": "ipython3",
   "version": "3.11.5"
  }
 },
 "nbformat": 4,
 "nbformat_minor": 5
}
