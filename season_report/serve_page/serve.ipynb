{
 "cells": [
  {
   "cell_type": "markdown",
   "id": "17301c1d",
   "metadata": {},
   "source": [
    "# Serve Statistics Notebook"
   ]
  },
  {
   "cell_type": "markdown",
   "id": "8849fc5c",
   "metadata": {},
   "source": [
    "### Load Packages"
   ]
  },
  {
   "cell_type": "markdown",
   "id": "8849fc5c",
   "metadata": {},
   "source": [
    "### Load Packages"
   ]
  },
  {
   "cell_type": "code",
   "execution_count": 3,
   "id": "1de2a1dd",
   "metadata": {},
   "outputs": [],
   "source": [
    "import pandas as pd\n",
    "import ipywidgets as widgets\n",
    "from IPython.display import display"
   ]
  },
  {
   "cell_type": "markdown",
   "id": "faf99d05",
   "metadata": {},
   "source": [
    "### Read Data"
   ]
  },
  {
   "cell_type": "code",
   "execution_count": 4,
   "id": "259f386a",
   "metadata": {},
   "outputs": [
    {
     "data": {
      "application/vnd.jupyter.widget-view+json": {
       "model_id": "f9a595ee532f461ea602c84affb4911b",
       "version_major": 2,
       "version_minor": 0
      },
      "text/plain": [
       "Dropdown(description='Category:', options=('-- Select --', 'Rudy Quan', 'Emon Van Loben Sels', 'Kaylan Bigun',…"
      ]
     },
     "metadata": {},
     "output_type": "display_data"
    }
   ],
   "source": [
    "# Dropdown with a non-valid default option\n",
    "choose_player_dropdown = widgets.Dropdown(\n",
    "    options=['-- Select --', 'Rudy Quan', 'Emon Van Loben Sels', 'Kaylan Bigun', 'Alexander Hoogmartens', \n",
    "             'Spencer Johnson', 'Aadarsh Tripathi', 'Giacomo Revelli', 'Gianluca Ballotta'],\n",
    "    value='-- Select --',\n",
    "    description='Category:'\n",
    ")\n",
    "\n",
    "display(choose_player_dropdown)"
   ]
  },
  {
   "cell_type": "code",
   "execution_count": 5,
   "id": "0b43605d",
   "metadata": {},
   "outputs": [],
   "source": [
    "# Check selection before proceeding\n",
    "if choose_player_dropdown.value == '-- Select --':\n",
    "    raise ValueError(\"Please choose a valid category from the dropdown menu in the previous cell before proceeding.\")\n",
    "\n",
    "# If valid, use the value\n",
    "player_name = choose_player_dropdown.value"
   ]
  },
  {
   "cell_type": "code",
   "execution_count": 6,
   "id": "89bfbdb6",
   "metadata": {},
   "outputs": [],
   "source": [
    "combined_data_shots = pd.read_excel(f'../../data/mens/{player_name}/combined.xlsx', sheet_name='Shots')\n",
    "combined_data_points = pd.read_excel(f'../../data/mens/{player_name}/combined.xlsx', sheet_name='Points')\n",
    "combined_data_games = pd.read_excel(f'../../data/mens/{player_name}/combined.xlsx', sheet_name='Games')\n",
    "combined_data_sets = pd.read_excel(f'../../data/mens/{player_name}/combined.xlsx', sheet_name='Sets')\n",
    "combined_data_stats = pd.read_excel(f'../../data/mens/{player_name}/combined.xlsx', sheet_name='Stats')"
   ]
  },
  {
   "cell_type": "code",
   "execution_count": 7,
   "id": "f9d30a4c",
   "metadata": {},
   "outputs": [],
   "source": [
    "# Subset 2024-2025 Season Matches!\n",
    "mens_results = pd.read_csv('../../data/mens/mens_results.csv')[:229]\n",
    "\n",
    "# Change Date Format\n",
    "mens_results['Date'] = pd.to_datetime(mens_results['Date'])\n",
    "\n",
    "# Function to Filter by Player and School Matches Only\n",
    "def filter_player(data, player_name):\n",
    "\n",
    "    # Filter for player_name\n",
    "    data = data[(data['Player1'] == player_name) | (data['Player2'] == player_name)]\n",
    "\n",
    "    # Filter for only school events\n",
    "    data = data[data['Event Name'].str.startswith(('Dual Match', '2024 ITA', '2024-25 NCAA Division'))]\n",
    "    return data\n",
    "\n",
    "\n",
    "mens_results_player = filter_player(mens_results, player_name)"
   ]
  },
  {
   "cell_type": "code",
   "execution_count": 8,
   "id": "c057d418",
   "metadata": {},
   "outputs": [
    {
     "data": {
      "text/html": [
       "<div>\n",
       "<style scoped>\n",
       "    .dataframe tbody tr th:only-of-type {\n",
       "        vertical-align: middle;\n",
       "    }\n",
       "\n",
       "    .dataframe tbody tr th {\n",
       "        vertical-align: top;\n",
       "    }\n",
       "\n",
       "    .dataframe thead th {\n",
       "        text-align: right;\n",
       "    }\n",
       "</style>\n",
       "<table border=\"1\" class=\"dataframe\">\n",
       "  <thead>\n",
       "    <tr style=\"text-align: right;\">\n",
       "      <th></th>\n",
       "      <th>Event Name</th>\n",
       "      <th>Date</th>\n",
       "      <th>Player1</th>\n",
       "      <th>Player2</th>\n",
       "      <th>Player1 UTR</th>\n",
       "      <th>Player2 UTR</th>\n",
       "      <th>Score</th>\n",
       "    </tr>\n",
       "  </thead>\n",
       "  <tbody>\n",
       "    <tr>\n",
       "      <th>5</th>\n",
       "      <td>Dual Match: University of California, Los Ange...</td>\n",
       "      <td>2025-05-15</td>\n",
       "      <td>Timo Legout</td>\n",
       "      <td>Rudy Quan</td>\n",
       "      <td>14.23</td>\n",
       "      <td>13.59</td>\n",
       "      <td>7-5, 6-2</td>\n",
       "    </tr>\n",
       "    <tr>\n",
       "      <th>6</th>\n",
       "      <td>Dual Match: University of Southern California ...</td>\n",
       "      <td>2025-05-08</td>\n",
       "      <td>Rudy Quan</td>\n",
       "      <td>Makk Peter</td>\n",
       "      <td>13.59</td>\n",
       "      <td>13.79</td>\n",
       "      <td>7-6(4), 3-6, 3-3</td>\n",
       "    </tr>\n",
       "    <tr>\n",
       "      <th>14</th>\n",
       "      <td>Dual Match: University of California, Los Ange...</td>\n",
       "      <td>2025-05-02</td>\n",
       "      <td>Carl Overbeck</td>\n",
       "      <td>Rudy Quan</td>\n",
       "      <td>13.48</td>\n",
       "      <td>13.59</td>\n",
       "      <td>5-7, 7-5, 6-3</td>\n",
       "    </tr>\n",
       "    <tr>\n",
       "      <th>18</th>\n",
       "      <td>Dual Match: University of California, Santa Ba...</td>\n",
       "      <td>2025-05-01</td>\n",
       "      <td>Rudy Quan</td>\n",
       "      <td>Gianluca Brunkow</td>\n",
       "      <td>13.59</td>\n",
       "      <td>13.00</td>\n",
       "      <td>5-7, 6-2, 0-1</td>\n",
       "    </tr>\n",
       "    <tr>\n",
       "      <th>27</th>\n",
       "      <td>Dual Match: University of California, Los Ange...</td>\n",
       "      <td>2025-04-26</td>\n",
       "      <td>Aidan Kim</td>\n",
       "      <td>Rudy Quan</td>\n",
       "      <td>13.74</td>\n",
       "      <td>13.59</td>\n",
       "      <td>7-6(3), 6-2</td>\n",
       "    </tr>\n",
       "    <tr>\n",
       "      <th>33</th>\n",
       "      <td>Dual Match: Michigan State University vs Unive...</td>\n",
       "      <td>2025-04-25</td>\n",
       "      <td>Rudy Quan</td>\n",
       "      <td>Aristotelis Thanos</td>\n",
       "      <td>13.59</td>\n",
       "      <td>13.67</td>\n",
       "      <td>4-6, 3-1</td>\n",
       "    </tr>\n",
       "    <tr>\n",
       "      <th>36</th>\n",
       "      <td>Dual Match: University of Michigan vs Universi...</td>\n",
       "      <td>2025-04-24</td>\n",
       "      <td>Rudy Quan</td>\n",
       "      <td>William Cooksey</td>\n",
       "      <td>13.59</td>\n",
       "      <td>12.00</td>\n",
       "      <td>6-3, 5-6</td>\n",
       "    </tr>\n",
       "    <tr>\n",
       "      <th>46</th>\n",
       "      <td>Dual Match: University of California, Los Ange...</td>\n",
       "      <td>2025-04-19</td>\n",
       "      <td>Rudy Quan</td>\n",
       "      <td>Calvin MUELLER</td>\n",
       "      <td>13.59</td>\n",
       "      <td>13.00</td>\n",
       "      <td>3-6, 6-3, 6-1</td>\n",
       "    </tr>\n",
       "    <tr>\n",
       "      <th>52</th>\n",
       "      <td>Dual Match: University of California, Los Ange...</td>\n",
       "      <td>2025-04-17</td>\n",
       "      <td>Michael Minasyan</td>\n",
       "      <td>Rudy Quan</td>\n",
       "      <td>12.00</td>\n",
       "      <td>13.59</td>\n",
       "      <td>2-6, 6-3</td>\n",
       "    </tr>\n",
       "    <tr>\n",
       "      <th>55</th>\n",
       "      <td>Dual Match: Michigan State University vs Unive...</td>\n",
       "      <td>2025-04-12</td>\n",
       "      <td>Rudy Quan</td>\n",
       "      <td>Ozan Baris</td>\n",
       "      <td>13.59</td>\n",
       "      <td>13.66</td>\n",
       "      <td>6-1, 6-2</td>\n",
       "    </tr>\n",
       "    <tr>\n",
       "      <th>60</th>\n",
       "      <td>Dual Match: University of California, Los Ange...</td>\n",
       "      <td>2025-04-10</td>\n",
       "      <td>Rudy Quan</td>\n",
       "      <td>William Cooksey</td>\n",
       "      <td>13.59</td>\n",
       "      <td>12.00</td>\n",
       "      <td>6-3, 6-3</td>\n",
       "    </tr>\n",
       "    <tr>\n",
       "      <th>69</th>\n",
       "      <td>Dual Match: University of California, Los Ange...</td>\n",
       "      <td>2025-04-05</td>\n",
       "      <td>Rudy Quan</td>\n",
       "      <td>Charl Morgan</td>\n",
       "      <td>13.59</td>\n",
       "      <td>12.00</td>\n",
       "      <td>6-3, 6-3</td>\n",
       "    </tr>\n",
       "    <tr>\n",
       "      <th>70</th>\n",
       "      <td>Dual Match: Ohio State University vs Universit...</td>\n",
       "      <td>2025-04-03</td>\n",
       "      <td>Alexander Bernard</td>\n",
       "      <td>Rudy Quan</td>\n",
       "      <td>13.31</td>\n",
       "      <td>13.59</td>\n",
       "      <td>7-6(5), 0-6</td>\n",
       "    </tr>\n",
       "    <tr>\n",
       "      <th>75</th>\n",
       "      <td>Dual Match: University of California, Los Ange...</td>\n",
       "      <td>2025-04-03</td>\n",
       "      <td>Alexander Bernard</td>\n",
       "      <td>Rudy Quan</td>\n",
       "      <td>13.31</td>\n",
       "      <td>13.59</td>\n",
       "      <td>7-6(5), 0-6, 3-1</td>\n",
       "    </tr>\n",
       "    <tr>\n",
       "      <th>78</th>\n",
       "      <td>Dual Match: University of California, Los Ange...</td>\n",
       "      <td>2025-03-31</td>\n",
       "      <td>Makk Peter</td>\n",
       "      <td>Rudy Quan</td>\n",
       "      <td>13.79</td>\n",
       "      <td>13.59</td>\n",
       "      <td>6-4, 6-4</td>\n",
       "    </tr>\n",
       "    <tr>\n",
       "      <th>85</th>\n",
       "      <td>Dual Match: University of Washington vs Univer...</td>\n",
       "      <td>2025-03-29</td>\n",
       "      <td>Rudy Quan</td>\n",
       "      <td>Cesar BOUCHELAGHEM</td>\n",
       "      <td>13.59</td>\n",
       "      <td>13.51</td>\n",
       "      <td>6-4, 4-4</td>\n",
       "    </tr>\n",
       "    <tr>\n",
       "      <th>94</th>\n",
       "      <td>Dual Match: University of Oregon vs University...</td>\n",
       "      <td>2025-03-28</td>\n",
       "      <td>Rudy Quan</td>\n",
       "      <td>Lenn Luemkemann</td>\n",
       "      <td>13.59</td>\n",
       "      <td>12.00</td>\n",
       "      <td>6-3, 5-3</td>\n",
       "    </tr>\n",
       "    <tr>\n",
       "      <th>100</th>\n",
       "      <td>Dual Match: University of California, Los Ange...</td>\n",
       "      <td>2025-03-22</td>\n",
       "      <td>Saiprakash Goli</td>\n",
       "      <td>Rudy Quan</td>\n",
       "      <td>12.00</td>\n",
       "      <td>13.59</td>\n",
       "      <td>7-5, 3-3</td>\n",
       "    </tr>\n",
       "    <tr>\n",
       "      <th>107</th>\n",
       "      <td>Dual Match: University of California, Los Ange...</td>\n",
       "      <td>2025-03-20</td>\n",
       "      <td>Kenta Miyoshi</td>\n",
       "      <td>Rudy Quan</td>\n",
       "      <td>13.97</td>\n",
       "      <td>13.59</td>\n",
       "      <td>7-6(5), 5-1</td>\n",
       "    </tr>\n",
       "    <tr>\n",
       "      <th>112</th>\n",
       "      <td>Dual Match: Purdue University vs University of...</td>\n",
       "      <td>2025-03-08</td>\n",
       "      <td>Rudy Quan</td>\n",
       "      <td>Aleksa KRIVOKAPIC</td>\n",
       "      <td>13.59</td>\n",
       "      <td>12.00</td>\n",
       "      <td>4-6, 6-3, 1-0(3)</td>\n",
       "    </tr>\n",
       "    <tr>\n",
       "      <th>118</th>\n",
       "      <td>Dual Match: Indiana University vs University o...</td>\n",
       "      <td>2025-03-06</td>\n",
       "      <td>Rudy Quan</td>\n",
       "      <td>Deacon Thomas</td>\n",
       "      <td>13.59</td>\n",
       "      <td>12.00</td>\n",
       "      <td>6-2, 6-4</td>\n",
       "    </tr>\n",
       "    <tr>\n",
       "      <th>129</th>\n",
       "      <td>Dual Match: University of Southern California ...</td>\n",
       "      <td>2025-02-21</td>\n",
       "      <td>Rudy Quan</td>\n",
       "      <td>Makk Peter</td>\n",
       "      <td>13.59</td>\n",
       "      <td>13.79</td>\n",
       "      <td>6-2, 6-3</td>\n",
       "    </tr>\n",
       "    <tr>\n",
       "      <th>130</th>\n",
       "      <td>Dual Match: Pepperdine University vs Universit...</td>\n",
       "      <td>2025-02-15</td>\n",
       "      <td>Edward Winter</td>\n",
       "      <td>Rudy Quan</td>\n",
       "      <td>13.52</td>\n",
       "      <td>13.59</td>\n",
       "      <td>4-6, 6-0, 6-2</td>\n",
       "    </tr>\n",
       "    <tr>\n",
       "      <th>142</th>\n",
       "      <td>Dual Match: University of California, Berkeley...</td>\n",
       "      <td>2025-01-31</td>\n",
       "      <td>Carl Overbeck</td>\n",
       "      <td>Rudy Quan</td>\n",
       "      <td>13.48</td>\n",
       "      <td>13.59</td>\n",
       "      <td>6-7(7), 6-3, 6-4</td>\n",
       "    </tr>\n",
       "    <tr>\n",
       "      <th>150</th>\n",
       "      <td>Dual Match: University of Georgia vs Universit...</td>\n",
       "      <td>2025-01-25</td>\n",
       "      <td>Rudy Quan</td>\n",
       "      <td>Ryan Colby</td>\n",
       "      <td>13.59</td>\n",
       "      <td>13.30</td>\n",
       "      <td>6-2, 6-3</td>\n",
       "    </tr>\n",
       "    <tr>\n",
       "      <th>161</th>\n",
       "      <td>Dual Match: University of California, Los Ange...</td>\n",
       "      <td>2025-01-24</td>\n",
       "      <td>Jerry Roddick</td>\n",
       "      <td>Rudy Quan</td>\n",
       "      <td>13.00</td>\n",
       "      <td>13.59</td>\n",
       "      <td>6-3, 2-6, 6-3</td>\n",
       "    </tr>\n",
       "    <tr>\n",
       "      <th>167</th>\n",
       "      <td>Dual Match: University of San Diego vs Univers...</td>\n",
       "      <td>2025-01-19</td>\n",
       "      <td>Rudy Quan</td>\n",
       "      <td>Iiro Vasa</td>\n",
       "      <td>13.59</td>\n",
       "      <td>12.90</td>\n",
       "      <td>6-3, 7-6(5)</td>\n",
       "    </tr>\n",
       "    <tr>\n",
       "      <th>173</th>\n",
       "      <td>Dual Match: University of California, Los Ange...</td>\n",
       "      <td>2025-01-16</td>\n",
       "      <td>Rudy Quan</td>\n",
       "      <td>Andy Nguyen</td>\n",
       "      <td>13.59</td>\n",
       "      <td>13.18</td>\n",
       "      <td>6-4, 6-3</td>\n",
       "    </tr>\n",
       "  </tbody>\n",
       "</table>\n",
       "</div>"
      ],
      "text/plain": [
       "                                            Event Name       Date  \\\n",
       "5    Dual Match: University of California, Los Ange... 2025-05-15   \n",
       "6    Dual Match: University of Southern California ... 2025-05-08   \n",
       "14   Dual Match: University of California, Los Ange... 2025-05-02   \n",
       "18   Dual Match: University of California, Santa Ba... 2025-05-01   \n",
       "27   Dual Match: University of California, Los Ange... 2025-04-26   \n",
       "33   Dual Match: Michigan State University vs Unive... 2025-04-25   \n",
       "36   Dual Match: University of Michigan vs Universi... 2025-04-24   \n",
       "46   Dual Match: University of California, Los Ange... 2025-04-19   \n",
       "52   Dual Match: University of California, Los Ange... 2025-04-17   \n",
       "55   Dual Match: Michigan State University vs Unive... 2025-04-12   \n",
       "60   Dual Match: University of California, Los Ange... 2025-04-10   \n",
       "69   Dual Match: University of California, Los Ange... 2025-04-05   \n",
       "70   Dual Match: Ohio State University vs Universit... 2025-04-03   \n",
       "75   Dual Match: University of California, Los Ange... 2025-04-03   \n",
       "78   Dual Match: University of California, Los Ange... 2025-03-31   \n",
       "85   Dual Match: University of Washington vs Univer... 2025-03-29   \n",
       "94   Dual Match: University of Oregon vs University... 2025-03-28   \n",
       "100  Dual Match: University of California, Los Ange... 2025-03-22   \n",
       "107  Dual Match: University of California, Los Ange... 2025-03-20   \n",
       "112  Dual Match: Purdue University vs University of... 2025-03-08   \n",
       "118  Dual Match: Indiana University vs University o... 2025-03-06   \n",
       "129  Dual Match: University of Southern California ... 2025-02-21   \n",
       "130  Dual Match: Pepperdine University vs Universit... 2025-02-15   \n",
       "142  Dual Match: University of California, Berkeley... 2025-01-31   \n",
       "150  Dual Match: University of Georgia vs Universit... 2025-01-25   \n",
       "161  Dual Match: University of California, Los Ange... 2025-01-24   \n",
       "167  Dual Match: University of San Diego vs Univers... 2025-01-19   \n",
       "173  Dual Match: University of California, Los Ange... 2025-01-16   \n",
       "\n",
       "               Player1             Player2  Player1 UTR  Player2 UTR  \\\n",
       "5          Timo Legout           Rudy Quan        14.23        13.59   \n",
       "6            Rudy Quan          Makk Peter        13.59        13.79   \n",
       "14       Carl Overbeck           Rudy Quan        13.48        13.59   \n",
       "18           Rudy Quan    Gianluca Brunkow        13.59        13.00   \n",
       "27           Aidan Kim           Rudy Quan        13.74        13.59   \n",
       "33           Rudy Quan  Aristotelis Thanos        13.59        13.67   \n",
       "36           Rudy Quan     William Cooksey        13.59        12.00   \n",
       "46           Rudy Quan      Calvin MUELLER        13.59        13.00   \n",
       "52    Michael Minasyan           Rudy Quan        12.00        13.59   \n",
       "55           Rudy Quan          Ozan Baris        13.59        13.66   \n",
       "60           Rudy Quan     William Cooksey        13.59        12.00   \n",
       "69           Rudy Quan        Charl Morgan        13.59        12.00   \n",
       "70   Alexander Bernard           Rudy Quan        13.31        13.59   \n",
       "75   Alexander Bernard           Rudy Quan        13.31        13.59   \n",
       "78          Makk Peter           Rudy Quan        13.79        13.59   \n",
       "85           Rudy Quan  Cesar BOUCHELAGHEM        13.59        13.51   \n",
       "94           Rudy Quan     Lenn Luemkemann        13.59        12.00   \n",
       "100    Saiprakash Goli           Rudy Quan        12.00        13.59   \n",
       "107      Kenta Miyoshi           Rudy Quan        13.97        13.59   \n",
       "112          Rudy Quan   Aleksa KRIVOKAPIC        13.59        12.00   \n",
       "118          Rudy Quan       Deacon Thomas        13.59        12.00   \n",
       "129          Rudy Quan          Makk Peter        13.59        13.79   \n",
       "130      Edward Winter           Rudy Quan        13.52        13.59   \n",
       "142      Carl Overbeck           Rudy Quan        13.48        13.59   \n",
       "150          Rudy Quan          Ryan Colby        13.59        13.30   \n",
       "161      Jerry Roddick           Rudy Quan        13.00        13.59   \n",
       "167          Rudy Quan           Iiro Vasa        13.59        12.90   \n",
       "173          Rudy Quan         Andy Nguyen        13.59        13.18   \n",
       "\n",
       "                Score  \n",
       "5            7-5, 6-2  \n",
       "6    7-6(4), 3-6, 3-3  \n",
       "14      5-7, 7-5, 6-3  \n",
       "18      5-7, 6-2, 0-1  \n",
       "27        7-6(3), 6-2  \n",
       "33           4-6, 3-1  \n",
       "36           6-3, 5-6  \n",
       "46      3-6, 6-3, 6-1  \n",
       "52           2-6, 6-3  \n",
       "55           6-1, 6-2  \n",
       "60           6-3, 6-3  \n",
       "69           6-3, 6-3  \n",
       "70        7-6(5), 0-6  \n",
       "75   7-6(5), 0-6, 3-1  \n",
       "78           6-4, 6-4  \n",
       "85           6-4, 4-4  \n",
       "94           6-3, 5-3  \n",
       "100          7-5, 3-3  \n",
       "107       7-6(5), 5-1  \n",
       "112  4-6, 6-3, 1-0(3)  \n",
       "118          6-2, 6-4  \n",
       "129          6-2, 6-3  \n",
       "130     4-6, 6-0, 6-2  \n",
       "142  6-7(7), 6-3, 6-4  \n",
       "150          6-2, 6-3  \n",
       "161     6-3, 2-6, 6-3  \n",
       "167       6-3, 7-6(5)  \n",
       "173          6-4, 6-3  "
      ]
     },
     "execution_count": 8,
     "metadata": {},
     "output_type": "execute_result"
    }
   ],
   "source": [
    "mens_results_player"
   ]
  },
  {
   "cell_type": "markdown",
   "id": "ff368fb7",
   "metadata": {},
   "source": [
    "### Average Service Game Duration"
   ]
  },
  {
   "cell_type": "code",
   "execution_count": 9,
   "id": "ad09defa",
   "metadata": {},
   "outputs": [],
   "source": [
    "def average_service_time(data):\n",
    "\n",
    "    # Use combined_data_games \n",
    "    # Subset 'Server' column name for only host (host is always UCLA player)\n",
    "    # find the mean of the 'Duration' Column\n",
    "\n",
    "    avg_seconds = data[data['Server'] == 'host']['Duration'].mean() # Automatically coerces NA\n",
    "    total = int(round(avg_seconds))\n",
    "    mins, secs = divmod(total, 60)    \n",
    "\n",
    "    return f\"{mins}:{secs:02d}\""
   ]
  },
  {
   "cell_type": "code",
   "execution_count": 10,
   "id": "9cdfae6e",
   "metadata": {},
   "outputs": [
    {
     "data": {
      "text/plain": [
       "'4:18'"
      ]
     },
     "execution_count": 10,
     "metadata": {},
     "output_type": "execute_result"
    }
   ],
   "source": [
    "# Output Average Service Game Duration\n",
    "avg_service_game_duration = average_service_time(combined_data_games)\n",
    "avg_service_game_duration"
   ]
  },
  {
   "cell_type": "markdown",
   "id": "b4397236",
   "metadata": {},
   "source": [
    "### Average Games Held Percentage"
   ]
  },
  {
   "cell_type": "code",
   "execution_count": 11,
   "id": "39b65e39",
   "metadata": {},
   "outputs": [],
   "source": [
    "def service_games_won_percentage(df):\n",
    "    \n",
    "    # Subset Dataframe to only be UCLA Player serving\n",
    "    service_games = df[df[\"Server\"] == \"host\"]\n",
    "\n",
    "    # Find the percentage of the \"Game Winner\" column everytime the value is \"host\"\n",
    "    percentage = service_games[\"Game Winner\"].value_counts(normalize=True).get('host', 0) * 100\n",
    "\n",
    "    # Round and make number into an integer\n",
    "    percentage = int(round(percentage, 0))\n",
    "\n",
    "    return percentage"
   ]
  },
  {
   "cell_type": "code",
   "execution_count": 12,
   "id": "8ad85bda",
   "metadata": {},
   "outputs": [
    {
     "data": {
      "text/plain": [
       "69"
      ]
     },
     "execution_count": 12,
     "metadata": {},
     "output_type": "execute_result"
    }
   ],
   "source": [
    "average_games_held = service_games_won_percentage(combined_data_games)\n",
    "average_games_held"
   ]
  },
  {
   "cell_type": "markdown",
   "id": "232588fa",
   "metadata": {},
   "source": [
    "### Average Breakpoints Saved"
   ]
  },
  {
   "cell_type": "code",
   "execution_count": 13,
   "id": "9f2d7ce6",
   "metadata": {},
   "outputs": [],
   "source": [
    "def breakpoints_saved_function(data):\n",
    "\n",
    "    # Filter Data\n",
    "    filtered_data = data[(data['Match Server'] == 'host') & \n",
    "                         (data['Break Point'] == True)\n",
    "                         ].copy()\n",
    "\n",
    "    percentage = (filtered_data['Point Winner'].value_counts(normalize=True).get('host', 0) * 100).round(2)\n",
    "\n",
    "    return percentage"
   ]
  },
  {
   "cell_type": "code",
   "execution_count": 14,
   "id": "5a808779",
   "metadata": {},
   "outputs": [
    {
     "data": {
      "text/plain": [
       "50.0"
      ]
     },
     "execution_count": 14,
     "metadata": {},
     "output_type": "execute_result"
    }
   ],
   "source": [
    "breakpoints_saved_percentage = breakpoints_saved_function(combined_data_points)\n",
    "breakpoints_saved_percentage"
   ]
  },
  {
   "cell_type": "markdown",
   "id": "a63c1b9b",
   "metadata": {},
   "source": [
    "### Average Aces"
   ]
  },
  {
   "cell_type": "code",
   "execution_count": 38,
   "id": "c43cdc2f",
   "metadata": {},
   "outputs": [],
   "source": [
    "def average_aces(df):\n",
    "\n",
    "    # Filter for the row where 'Stat Name' is 'Aces'\n",
    "    aces_row = df[df['Stat Name'] == 'Aces']\n",
    "\n",
    "    if aces_row.empty:\n",
    "        print(\"No 'Aces' row found.\")\n",
    "        return None\n",
    "    \n",
    "    # Columns that contain the per-set values\n",
    "    set_columns = [col for col in df.columns if 'Host Set' in col]\n",
    "\n",
    "    # Extract ace counts per match from those columns\n",
    "    aces_per_match = aces_row[set_columns].sum(axis=1)\n",
    "    \n",
    "    # Calculate and return the average\n",
    "    average = aces_per_match.mean()\n",
    "    return round(average, 1)"
   ]
  },
  {
   "cell_type": "code",
   "execution_count": 39,
   "id": "cd3ec4eb",
   "metadata": {},
   "outputs": [
    {
     "data": {
      "text/plain": [
       "0.5"
      ]
     },
     "execution_count": 39,
     "metadata": {},
     "output_type": "execute_result"
    }
   ],
   "source": [
    "# Output Average Aces\n",
    "average_aces = average_aces(combined_data_stats)\n",
    "average_aces"
   ]
  },
  {
   "cell_type": "markdown",
   "id": "b51dc0fa",
   "metadata": {},
   "source": [
    "### Average Double Faults"
   ]
  },
  {
   "cell_type": "code",
   "execution_count": 91,
   "id": "6e3dca23",
   "metadata": {},
   "outputs": [],
   "source": [
    "def average_doubleFaults(df):\n",
    "\n",
    "    # Filter only rows with Stat Name = '2nd Serves' and '2nd Serves In'\n",
    "    second_serves = df[df['Stat Name'].str.strip() == '2nd Serves'].copy()\n",
    "    second_serves_in = df[df['Stat Name'].str.strip() == '2nd Serves In'].copy()\n",
    "\n",
    "    set_columns = [col for col in df.columns if 'Host Set' in col]\n",
    "\n",
    "    second_serves_vals = second_serves[set_columns].sum(axis=1).reset_index(drop=True)\n",
    "    second_serves_in_vals = second_serves_in[set_columns].sum(axis=1).reset_index(drop=True)\n",
    "    average_double_faults = (second_serves_vals - second_serves_in_vals).mean()\n",
    "\n",
    "    # Return average\n",
    "    return average_double_faults"
   ]
  },
  {
   "cell_type": "code",
   "execution_count": 92,
   "id": "121f093f",
   "metadata": {},
   "outputs": [
    {
     "data": {
      "text/plain": [
       "1.3636363636363635"
      ]
     },
     "execution_count": 92,
     "metadata": {},
     "output_type": "execute_result"
    }
   ],
   "source": [
    "average_double_faults = average_doubleFaults(combined_data_stats)\n",
    "average_double_faults"
   ]
  },
  {
   "cell_type": "code",
   "execution_count": null,
   "id": "092911bd",
   "metadata": {},
   "outputs": [],
   "source": []
  },
  {
   "cell_type": "code",
   "execution_count": null,
   "id": "e1c58e4f",
   "metadata": {},
   "outputs": [],
   "source": []
  },
  {
   "cell_type": "markdown",
   "id": "23eb87d7",
   "metadata": {},
   "source": [
    "### Serve Zone Distribution"
   ]
  },
  {
   "cell_type": "markdown",
   "id": "e8647003",
   "metadata": {},
   "source": [
    "##### Helper Function"
   ]
  },
  {
   "cell_type": "code",
   "execution_count": 52,
   "id": "baac0eba",
   "metadata": {},
   "outputs": [],
   "source": [
    "# Helper Function: Classify Zones borrowed from swingvison_transformation.ipynb\n",
    "\n",
    "def classify_zone(df):\n",
    "    x = df['x_coord']\n",
    "    y = df['y_coord']\n",
    "    sign = x * y # if sign is pos, it's on ad side, if neg, it's deuce\n",
    "\n",
    "    if (x < -105) or (x > 105):\n",
    "        if sign > 0:\n",
    "            return 'Ad Wide'\n",
    "        else:\n",
    "            return 'Deuce Wide'\n",
    "    elif (-105 <= x <= -52.5) or (52.5 <= x <= 105):\n",
    "        if sign > 0:\n",
    "            return 'Ad Body'\n",
    "        else:\n",
    "            return 'Deuce Body'\n",
    "    elif -52.5 < x < 52.5:\n",
    "        if sign > 0:\n",
    "            return 'Ad T'\n",
    "        else:\n",
    "            return 'Deuce T'\n",
    "    else:\n",
    "        return np.nan"
   ]
  },
  {
   "cell_type": "code",
   "execution_count": 59,
   "id": "58d57ac9",
   "metadata": {},
   "outputs": [],
   "source": [
    "def serve_zone_distribution(df_shots, df_points):\n",
    "\n",
    "    # only use matches with complete data\n",
    "    df_shots = df_shots[df_shots['__source_file__'].isin(df_points['__source_file__'])] # UPDATE: Temporary fix\n",
    "\n",
    "    # add column for winner of the point\n",
    "    combined = pd.merge(df_shots, df_points[['Point', 'Game', 'Set', 'Point Winner', 'Match Server', '__source_file__']], on=['Point', 'Game', 'Set', '__source_file__'], how='left')\n",
    "\n",
    "    serves = combined[(combined['Stroke'] == 'Serve') & (combined['Match Server'] == 'host')] # Added Player Name Filter\n",
    "    serves_in = serves[serves['Result'] == 'In'].copy()\n",
    "\n",
    "    # zone classification\n",
    "    serves_in.loc[:, 'x_coord'] = serves_in['Bounce (x)'] * 38.2764654418\n",
    "    serves_in.loc[:, 'y_coord'] = (serves_in['Bounce (y)'] - 11.8872) * 38.2764654418\n",
    "    serves_in['Zone'] = serves_in.apply(classify_zone, axis=1)\n",
    "\n",
    "    # get win proportions and convert to json\n",
    "    zones = serves_in.groupby('Zone')['Point Winner'].value_counts().unstack()\n",
    "    zones['Win Proportion'] = zones['host'].astype(str) + '/' + (zones['host'] + zones['guest']).astype(str)\n",
    "    zones.reset_index(inplace=True)\n",
    "    zones.columns.name = None\n",
    "    zones = zones[['Zone', 'Win Proportion']]\n",
    "    zones.to_json('serve_dist.json', orient='records')"
   ]
  },
  {
   "cell_type": "code",
   "execution_count": 60,
   "id": "8f962346",
   "metadata": {},
   "outputs": [],
   "source": [
    "serve_zone_distribution(combined_data_shots, combined_data_points)"
   ]
  },
  {
   "cell_type": "code",
   "execution_count": null,
   "id": "0cf0ca79",
   "metadata": {},
   "outputs": [],
   "source": []
  }
 ],
 "metadata": {
  "kernelspec": {
   "display_name": "base",
   "language": "python",
   "name": "python3"
  },
  "language_info": {
   "codemirror_mode": {
    "name": "ipython",
    "version": 3
   },
   "file_extension": ".py",
   "mimetype": "text/x-python",
   "name": "python",
   "nbconvert_exporter": "python",
   "pygments_lexer": "ipython3",
   "version": "3.11.5"
  }
 },
 "nbformat": 4,
 "nbformat_minor": 5
}
