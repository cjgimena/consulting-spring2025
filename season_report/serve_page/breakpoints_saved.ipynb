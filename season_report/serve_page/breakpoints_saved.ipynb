{
 "cells": [
  {
   "cell_type": "markdown",
   "id": "bd2db041",
   "metadata": {},
   "source": [
    "### Breakpoints Saved Function"
   ]
  },
  {
   "cell_type": "code",
   "execution_count": 9,
   "id": "2050bf93",
   "metadata": {},
   "outputs": [
    {
     "name": "stdout",
     "output_type": "stream",
     "text": [
      "Breakpoints saved by Rudy Quan: ('Rudy Quan', 50.0)%\n"
     ]
    }
   ],
   "source": [
    "import pandas as pd\n",
    "import os\n",
    "\n",
    "player_name = 'Rudy Quan'\n",
    "combined_data_shots = pd.read_excel(f'/Users/chloechoe/Desktop/tc/consulting-spring2025/data/mens/{player_name}/combined.xlsx', sheet_name='Shots')\n",
    "combined_data_points = pd.read_excel(f'/Users/chloechoe/Desktop/tc/consulting-spring2025/data/mens/{player_name}/combined.xlsx', sheet_name='Points')\n",
    "combined_data_sets = pd.read_excel(f'/Users/chloechoe/Desktop/tc/consulting-spring2025/data/mens/{player_name}/combined.xlsx', sheet_name='Sets')\n",
    "\n",
    "def breakpoints_saved_function():\n",
    "    filtered_data = combined_data_points[\n",
    "        (combined_data_points['Match Server'] == 'host') & \n",
    "        (combined_data_points['Break Point'] == True)\n",
    "    ].copy()\n",
    "\n",
    "    filtered_data['Breakpoint Saved'] = (filtered_data['Point Winner'] == 'host').astype(int)\n",
    "\n",
    "    # total breakpoints and saved breakpoints\n",
    "    total_saved = filtered_data['Breakpoint Saved'].sum()\n",
    "    total_breakpoints = len(filtered_data)\n",
    "\n",
    "    percentage_saved = (total_saved / total_breakpoints) * 100 if total_breakpoints > 0 else 0\n",
    "\n",
    "    return player_name, percentage_saved\n",
    "\n",
    "# Example usage\n",
    "print(f'Breakpoints saved by {player_name}:', f'{breakpoints_saved_function()}%')\n",
    "\n"
   ]
  },
  {
   "cell_type": "code",
   "execution_count": null,
   "id": "5ff4dde3",
   "metadata": {},
   "outputs": [],
   "source": []
  }
 ],
 "metadata": {
  "kernelspec": {
   "display_name": "base",
   "language": "python",
   "name": "python3"
  },
  "language_info": {
   "codemirror_mode": {
    "name": "ipython",
    "version": 3
   },
   "file_extension": ".py",
   "mimetype": "text/x-python",
   "name": "python",
   "nbconvert_exporter": "python",
   "pygments_lexer": "ipython3",
   "version": "3.12.7"
  }
 },
 "nbformat": 4,
 "nbformat_minor": 5
}
