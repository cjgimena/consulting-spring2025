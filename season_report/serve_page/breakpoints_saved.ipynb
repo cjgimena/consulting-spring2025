{
 "cells": [
  {
   "cell_type": "markdown",
   "id": "bd2db041",
   "metadata": {},
   "source": [
    "### Breakpoints Saved Function"
   ]
  },
  {
   "cell_type": "code",
   "execution_count": 1,
   "id": "2050bf93",
   "metadata": {},
   "outputs": [
    {
     "name": "stdout",
     "output_type": "stream",
     "text": [
      "Breakpoints saved by Rudy Quan: 45\n"
     ]
    }
   ],
   "source": [
    "import pandas as pd\n",
    "import os\n",
    "\n",
    "player_name = 'Rudy Quan' \n",
    "combined_data_shots = pd.read_excel(f'/Users/chloechoe/Desktop/tc/consulting-spring2025/data/mens/{player_name}/combined.xlsx', sheet_name='Shots')\n",
    "combined_data_points = pd.read_excel(f'/Users/chloechoe/Desktop/tc/consulting-spring2025/data/mens/{player_name}/combined.xlsx', sheet_name='Points')\n",
    "combined_data_sets = pd.read_excel(f'/Users/chloechoe/Desktop/tc/consulting-spring2025/data/mens/{player_name}/combined.xlsx', sheet_name='Sets')\n",
    "\n",
    "def breakpoints_saved_function():\n",
    "    # Calculate breakpoints saved using .apply()\n",
    "    combined_data_points['Breakpoint Saved'] = combined_data_points.apply(\n",
    "    lambda row: 1 if row['Break Point'] and row['Match Server'] == row['Point Winner'] else 0, axis=1)\n",
    "\n",
    "    # Sum the breakpoints saved\n",
    "    total_saved = combined_data_points['Breakpoint Saved'].sum()\n",
    "\n",
    "    return total_saved\n",
    "\n",
    "# Example usage\n",
    "print(f'Breakpoints saved by {player_name}:', breakpoints_saved_function())"
   ]
  },
  {
   "cell_type": "code",
   "execution_count": null,
   "id": "5ff4dde3",
   "metadata": {},
   "outputs": [],
   "source": []
  }
 ],
 "metadata": {
  "kernelspec": {
   "display_name": "base",
   "language": "python",
   "name": "python3"
  },
  "language_info": {
   "codemirror_mode": {
    "name": "ipython",
    "version": 3
   },
   "file_extension": ".py",
   "mimetype": "text/x-python",
   "name": "python",
   "nbconvert_exporter": "python",
   "pygments_lexer": "ipython3",
   "version": "3.12.7"
  }
 },
 "nbformat": 4,
 "nbformat_minor": 5
}
