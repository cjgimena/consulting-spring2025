{
 "cells": [
  {
   "cell_type": "code",
   "execution_count": 4,
   "id": "f3996edd",
   "metadata": {},
   "outputs": [
    {
     "name": "stdout",
     "output_type": "stream",
     "text": [
      "69.23076923076923\n"
     ]
    }
   ],
   "source": [
    "import pandas as pd\n",
    "\n",
    "def service_games_won_percentage():\n",
    "    path = \"../../data/mens/Rudy Quan/combined.xlsx\"\n",
    "    df = pd.read_excel(path, sheet_name=\"Games\")  \n",
    "\n",
    "    service_games = df[df[\"Server\"] == \"host\"]\n",
    "\n",
    "    won_service_games = service_games[service_games[\"Game Winner\"] == \"host\"]\n",
    "\n",
    "    if len(service_games) == 0:\n",
    "        return 0  \n",
    "    percentage_won = (len(won_service_games) / len(service_games)) * 100\n",
    "\n",
    "    return percentage_won\n",
    "print(service_games_won_percentage())\n"
   ]
  },
  {
   "cell_type": "markdown",
   "id": "0fede2a4",
   "metadata": {},
   "source": [
    "### Cj Work"
   ]
  },
  {
   "cell_type": "code",
   "execution_count": 8,
   "id": "2dc0a27d",
   "metadata": {},
   "outputs": [],
   "source": [
    "path = \"../../data/mens/Rudy Quan/combined.xlsx\"\n",
    "df = pd.read_excel(path, sheet_name=\"Games\")  \n",
    "\n",
    "# View All rows\n",
    "pd.set_option('display.max_rows', None)\n"
   ]
  },
  {
   "cell_type": "code",
   "execution_count": null,
   "id": "78a53303",
   "metadata": {},
   "outputs": [
    {
     "data": {
      "text/plain": [
       "69"
      ]
     },
     "execution_count": 24,
     "metadata": {},
     "output_type": "execute_result"
    }
   ],
   "source": [
    "service_games = df[df[\"Server\"] == \"host\"]\n",
    "service_games\n",
    "percentage = service_games[\"Game Winner\"].value_counts(normalize=True).get('host', 0) * 100\n",
    "percentage = int(round(percentage, 0))\n",
    "percentage"
   ]
  },
  {
   "cell_type": "code",
   "execution_count": null,
   "id": "2e4235db",
   "metadata": {},
   "outputs": [],
   "source": [
    "won_service_games = service_games[service_games[\"Game Winner\"] == \"host\"]\n"
   ]
  },
  {
   "cell_type": "code",
   "execution_count": null,
   "id": "90e96b1d",
   "metadata": {},
   "outputs": [],
   "source": [
    "def service_games_won_percentage(df):\n",
    "    \n",
    "    # Subset Dataframe to only be UCLA Player serving\n",
    "    service_games = df[df[\"Server\"] == \"host\"]\n",
    "\n",
    "    # Find the percentage of the \"Game Winner\" column everytime the value is \"host\"\n",
    "    percentage = service_games[\"Game Winner\"].value_counts(normalize=True).get('host', 0) * 100\n",
    "\n",
    "    # Round and make number into an integer\n",
    "    percentage = int(round(percentage, 0))\n",
    "\n",
    "    return percentage"
   ]
  },
  {
   "cell_type": "code",
   "execution_count": 26,
   "id": "2061078c",
   "metadata": {},
   "outputs": [],
   "source": [
    "player_name = 'Rudy Quan'\n",
    "combined_data_games = pd.read_excel(f'../../data/mens/{player_name}/combined.xlsx', sheet_name='Games')"
   ]
  },
  {
   "cell_type": "code",
   "execution_count": 27,
   "id": "101e5aa2",
   "metadata": {},
   "outputs": [
    {
     "data": {
      "text/plain": [
       "69"
      ]
     },
     "execution_count": 27,
     "metadata": {},
     "output_type": "execute_result"
    }
   ],
   "source": [
    "service_games_won_percentage(combined_data_games)"
   ]
  }
 ],
 "metadata": {
  "kernelspec": {
   "display_name": "base",
   "language": "python",
   "name": "python3"
  },
  "language_info": {
   "codemirror_mode": {
    "name": "ipython",
    "version": 3
   },
   "file_extension": ".py",
   "mimetype": "text/x-python",
   "name": "python",
   "nbconvert_exporter": "python",
   "pygments_lexer": "ipython3",
   "version": "3.11.5"
  }
 },
 "nbformat": 4,
 "nbformat_minor": 5
}
