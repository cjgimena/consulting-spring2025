{
 "cells": [
  {
   "cell_type": "markdown",
   "id": "ff7b0e85",
   "metadata": {},
   "source": [
    "# Serve Placement"
   ]
  },
  {
   "cell_type": "markdown",
   "id": "24a25cd1",
   "metadata": {},
   "source": [
    "function to create json files for serve placement visuals\n",
    "\n",
    "data for each serve, its outcome, placement, and serve zone data"
   ]
  },
  {
   "cell_type": "code",
   "execution_count": 1,
   "id": "dad13cb4",
   "metadata": {},
   "outputs": [],
   "source": [
    "import pandas as pd\n",
    "import numpy as np"
   ]
  },
  {
   "cell_type": "code",
   "execution_count": 2,
   "id": "e69eeffe",
   "metadata": {},
   "outputs": [],
   "source": [
    "# splits zone into two columns\n",
    "def classify_zone_split(df):\n",
    "    x = df['x']\n",
    "    y = df['y']\n",
    "    sign = x * y # if sign is pos, it's on ad side, if neg, it's deuce\n",
    "\n",
    "    if (x < -105) or (x > 105):\n",
    "        if sign > 0:\n",
    "            return pd.Series(['Ad', 'Wide'])\n",
    "        else:\n",
    "            return pd.Series(['Deuce', 'Wide'])\n",
    "    elif (-105 <= x <= -52.5) or (52.5 <= x <= 105):\n",
    "        if sign > 0:\n",
    "            return pd.Series(['Ad', 'Body'])\n",
    "        else:\n",
    "            return pd.Series(['Deuce', 'Body'])\n",
    "    elif -52.5 < x < 52.5:\n",
    "        if sign > 0:\n",
    "            return pd.Series(['Ad', 'T'])\n",
    "        else:\n",
    "            return pd.Series(['Deuce', 'T'])\n",
    "    else:\n",
    "        return pd.Series([np.nan, np.nan])"
   ]
  },
  {
   "cell_type": "code",
   "execution_count": 3,
   "id": "1a3cfd7e",
   "metadata": {},
   "outputs": [],
   "source": [
    "def generate_placement_jsons(df_shots, df_points):\n",
    "    # only use matches with complete data\n",
    "    df_shots = df_shots[df_shots['__source_file__'].isin(df_points['__source_file__'])]\n",
    "\n",
    "    # add column for winner of the point\n",
    "    combined = pd.merge(df_shots, df_points[['Point', 'Game', 'Set', 'Point Winner', 'Match Server', 'Detail', '__source_file__']], on=['Point', 'Game', 'Set', '__source_file__'], how='left')\n",
    "\n",
    "    serves = combined[(combined['Stroke'] == 'Serve') & (combined['Match Server'] == 'host')]\n",
    "    serves_in = serves[serves['Result'] == 'In'].copy()\n",
    "\n",
    "    # zone classification\n",
    "    serves_in.loc[:, 'x'] = serves_in['Bounce (x)'] * 38.2764654418\n",
    "    serves_in.loc[:, 'y'] = (serves_in['Bounce (y)'] - 11.8872) * 38.2764654418\n",
    "    serves_in[['side', 'serveInPlacement']] = serves_in.apply(classify_zone_split, axis=1)\n",
    "\n",
    "    # modify coordinates based on the y-value\n",
    "    serves_in['x'] = np.where(serves_in['y'] < 0, -serves_in['x'], serves_in['x'])\n",
    "    serves_in['y'] = np.where(serves_in['y'] < 0, -serves_in['y'], serves_in['y'])\n",
    "\n",
    "    # add serve outcome\n",
    "    serves_in['serveOutcome'] = serves_in['Point Winner'].apply(lambda x: 'Won' if x == 'host' else 'Lost')\n",
    "    serves_in['serveOutcome'] = np.where(serves_in['Detail'] == 'Ace', 'Ace', serves_in['serveOutcome'])\n",
    "\n",
    "    # rename some columns to match json\n",
    "    serves_in = serves_in.rename(columns={'Point': 'pointNumber', 'Player': 'serverName'})\n",
    "\n",
    "    # only get required columns\n",
    "    placement = serves_in[['pointNumber', 'serverName', 'x', 'y', 'side', 'serveInPlacement', 'serveOutcome']]\n",
    "    placement.to_json('serve_place.json', orient='records') # save json\n",
    "\n",
    "\n",
    "\n",
    "    # LABELS JSON\n",
    "\n",
    "    # group by side and serveInPlacement, and calculate count and serves won\n",
    "    distribution = serves_in.groupby(['side', 'serveInPlacement']).agg(\n",
    "        count=('pointNumber', 'size'),\n",
    "        serves_won=('Point Winner', lambda x: (x == 'host').sum())\n",
    "    ).reset_index()\n",
    "\n",
    "    # calculate the win percentage (proportion)\n",
    "    distribution['proportion'] = distribution['serves_won'] / distribution['count']\n",
    "\n",
    "    # find the min and max proportions\n",
    "    min_proportion = distribution['proportion'].min()\n",
    "    max_proportion = distribution['proportion'].max()\n",
    "\n",
    "    # create labels df and determine if each value is max, min, or neither\n",
    "    labels = distribution.copy()\n",
    "    labels['proportion_label'] = (labels['proportion'] * 100).round(1).astype(str) + \"%\"\n",
    "    labels['count_label'] = labels['count']\n",
    "\n",
    "    labels['x'] = np.where(\n",
    "        (labels['side'] == 'Ad') & (labels['serveInPlacement'] == 'Wide'), 131.25,\n",
    "        np.where(\n",
    "            (labels['side'] == 'Ad') & (labels['serveInPlacement'] == 'Body'), 78.75,\n",
    "            np.where(\n",
    "                (labels['side'] == 'Ad') & (labels['serveInPlacement'] == 'T'), 26.25,\n",
    "                np.where(\n",
    "                    (labels['side'] == 'Deuce') & (labels['serveInPlacement'] == 'T'), -26.25,\n",
    "                    np.where(\n",
    "                        (labels['side'] == 'Deuce') & (labels['serveInPlacement'] == 'Body'), -78.75,\n",
    "                        np.where(\n",
    "                            (labels['side'] == 'Deuce') & (labels['serveInPlacement'] == 'Wide'), -131.25,\n",
    "                            np.nan\n",
    "                        )\n",
    "                    )\n",
    "                )\n",
    "            )\n",
    "        )\n",
    "    )\n",
    "\n",
    "    # determine max/min status\n",
    "    labels['max_min'] = np.where(\n",
    "        labels['proportion'] == max_proportion, \"max\",\n",
    "        np.where(labels['proportion'] == min_proportion, \"min\", \"no\")\n",
    "    )\n",
    "\n",
    "    # save labels to json\n",
    "    labels.to_json('serve_place_labels.json', orient='records')\n",
    "\n",
    "    return"
   ]
  },
  {
   "cell_type": "code",
   "execution_count": 4,
   "id": "30aaf89d",
   "metadata": {},
   "outputs": [],
   "source": [
    "player = \"Rudy Quan\"\n",
    "path = f\"../../data/mens/{player}/combined.xlsx\"\n",
    "df_shots = pd.read_excel(path, sheet_name=\"Shots\")\n",
    "df_points = pd.read_excel(path, sheet_name=\"Points\")\n",
    "generate_placement_jsons(df_shots, df_points)"
   ]
  },
  {
   "cell_type": "code",
   "execution_count": null,
   "id": "78ecd402",
   "metadata": {},
   "outputs": [],
   "source": []
  }
 ],
 "metadata": {
  "kernelspec": {
   "display_name": "base",
   "language": "python",
   "name": "python3"
  },
  "language_info": {
   "codemirror_mode": {
    "name": "ipython",
    "version": 3
   },
   "file_extension": ".py",
   "mimetype": "text/x-python",
   "name": "python",
   "nbconvert_exporter": "python",
   "pygments_lexer": "ipython3",
   "version": "3.11.5"
  }
 },
 "nbformat": 4,
 "nbformat_minor": 5
}
