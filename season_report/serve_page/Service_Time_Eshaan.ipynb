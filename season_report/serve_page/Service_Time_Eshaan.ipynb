{
 "cells": [
  {
   "cell_type": "code",
   "execution_count": null,
   "metadata": {},
   "outputs": [
    {
     "data": {
      "text/plain": [
       "'25:50'"
      ]
     },
     "execution_count": 3,
     "metadata": {},
     "output_type": "execute_result"
    }
   ],
   "source": [
    "import pandas as pd\n",
    "import os\n",
    "\n",
    "def average_service_time(file_path):\n",
    "    \"\"\"\n",
    "    Reads the 'Settings' and 'Games' sheets of the combined.xlsx at file_path,\n",
    "    identifies which side (host/guest) the UCLA player is in each match,\n",
    "    sums the durations of only those games where that side served,\n",
    "    and returns the average serve-time per match as an \"M:SS\" string.\n",
    "    \"\"\"\n",
    "    # Infer player name from the parent folder\n",
    "    player = os.path.basename(os.path.dirname(file_path))\n",
    "    \n",
    "    # Load sheets\n",
    "    xls      = pd.ExcelFile(file_path)\n",
    "    settings = xls.parse('Settings')\n",
    "    games    = xls.parse('Games')\n",
    "    \n",
    "    # Clean up Settings: get one Host/Guest pair per match file\n",
    "    settings_clean = (\n",
    "        settings\n",
    "        .groupby('__source_file__', as_index=False)\n",
    "        .agg({'Host Team':'first', 'Guest Team':'first'})\n",
    "    )\n",
    "    \n",
    "    # Collect total serve-time (in seconds) per match\n",
    "    serve_totals = []\n",
    "    for _, row in settings_clean.iterrows():\n",
    "        match_file = row['__source_file__']\n",
    "        host       = row['Host Team']\n",
    "        guest      = row['Guest Team']\n",
    "        \n",
    "        # Determine which side UCLA player is\n",
    "        if host  == player:\n",
    "            side = 'host'\n",
    "        elif guest == player:\n",
    "            side = 'guest'\n",
    "        else:\n",
    "            # Player not in this match\n",
    "            continue\n",
    "        \n",
    "        # Filter games for this match & side\n",
    "        dfm = games[\n",
    "            (games['__source_file__'] == match_file) &\n",
    "            (games['Server']           == side)\n",
    "        ].copy()\n",
    "        \n",
    "        # Convert Duration to numeric, drop missing\n",
    "        dfm['Duration'] = pd.to_numeric(dfm['Duration'], errors='coerce')\n",
    "        dfm = dfm[dfm['Duration'].notna()]\n",
    "        \n",
    "        # Sum up total seconds for this match\n",
    "        serve_totals.append(dfm['Duration'].sum())\n",
    "    \n",
    "    if not serve_totals:\n",
    "        return None\n",
    "    \n",
    "    # Compute the average seconds, then format as M:SS\n",
    "    avg_seconds = sum(serve_totals) / len(serve_totals)\n",
    "    total = int(round(avg_seconds))\n",
    "    mins, secs = divmod(total, 60)\n",
    "    return f\"{mins}:{secs:02d}\"\n",
    "    \n",
    "\n",
    "# Example usage:\n",
    "path = \"/Users/eshaan/Desktop/Tennis Scouting/consulting-spring2025/data/mens/Rudy Quan/combined.xlsx\"\n",
    "avg = average_service_time(path)  \n",
    "avg\n",
    "\n",
    "\n",
    "\n"
   ]
  }
 ],
 "metadata": {
  "kernelspec": {
   "display_name": "Python 3",
   "language": "python",
   "name": "python3"
  },
  "language_info": {
   "codemirror_mode": {
    "name": "ipython",
    "version": 3
   },
   "file_extension": ".py",
   "mimetype": "text/x-python",
   "name": "python",
   "nbconvert_exporter": "python",
   "pygments_lexer": "ipython3",
   "version": "3.12.7"
  }
 },
 "nbformat": 4,
 "nbformat_minor": 2
}
