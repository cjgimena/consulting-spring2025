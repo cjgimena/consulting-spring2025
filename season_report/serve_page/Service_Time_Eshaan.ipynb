{
 "cells": [
  {
   "cell_type": "code",
   "execution_count": null,
   "metadata": {},
   "outputs": [
    {
     "data": {
      "text/plain": [
       "'11:01'"
      ]
     },
     "execution_count": 21,
     "metadata": {},
     "output_type": "execute_result"
    }
   ],
   "source": [
    "import pandas as pd\n",
    "import os\n",
    "\n",
    "def average_service_time(file_path):\n",
    "    \"\"\"\n",
    "    Given the path to a combined.xlsx for a UCLA player (e.g. \"…/Rudy Quan/combined.xlsx\"),\n",
    "    infers the player name, sums the total duration of points they served in each match,\n",
    "    and returns the average serve-time per match as an \"M:SS\" string.\n",
    "    \"\"\"\n",
    "    # 1) Infer player name from the folder\n",
    "    player = os.path.basename(os.path.dirname(file_path)).lower()\n",
    "\n",
    "    # 2) Load data\n",
    "    points_df = pd.read_excel(file_path, sheet_name=\"Points\")\n",
    "    shots_df  = pd.read_excel(file_path, sheet_name=\"Shots\")\n",
    "\n",
    "    # 3) Determine first shot of each point (the server)\n",
    "    first_shots = (\n",
    "        shots_df\n",
    "        .sort_values(\"Start Time\")\n",
    "        .groupby([\"__source_file__\", \"Set\", \"Game\", \"Point\"], as_index=False)\n",
    "        .first()[[\"__source_file__\", \"Set\", \"Game\", \"Point\", \"Player\"]]\n",
    "        .rename(columns={\"Player\": \"Server\"})\n",
    "    )\n",
    "    merged = points_df.merge(first_shots, on=[\"__source_file__\", \"Set\", \"Game\", \"Point\"], how=\"left\")\n",
    "\n",
    "    # 4) Figure out which side (Host/Guest) is the player in each match\n",
    "    mask = merged[\"Server\"].str.lower() == player\n",
    "    host_map = {\n",
    "        m: grp[\"Match Server\"].iloc[0]\n",
    "        for m, grp in merged[mask].groupby(\"__source_file__\")\n",
    "    }\n",
    "\n",
    "    # 5) Sum serve-point durations per match\n",
    "    totals = []\n",
    "    for match_file, side in host_map.items():\n",
    "        dfm = merged[\n",
    "            (merged[\"__source_file__\"] == match_file) &\n",
    "            (merged[\"Match Server\"]     == side)\n",
    "        ].copy()\n",
    "        dfm[\"Duration\"] = pd.to_numeric(dfm[\"Duration\"], errors=\"coerce\")\n",
    "        dfm = dfm[dfm[\"Duration\"] < 10000]\n",
    "        totals.append(dfm[\"Duration\"].sum())\n",
    "\n",
    "    # 6) Compute average and format\n",
    "    if not totals:\n",
    "        return None\n",
    "    avg_sec = sum(totals) / len(totals)\n",
    "    mins, secs = divmod(int(round(avg_sec)), 60)\n",
    "    return f\"{mins}:{secs:02d}\"\n",
    "\n",
    "\n",
    "\n",
    "\n",
    "avg = average_service_time(\"/Users/eshaan/Desktop/Tennis Scouting/consulting-spring2025/data/mens/Rudy Quan/combined.xlsx\")\n",
    "avg\n"
   ]
  },
  {
   "cell_type": "code",
   "execution_count": null,
   "metadata": {},
   "outputs": [],
   "source": []
  }
 ],
 "metadata": {
  "kernelspec": {
   "display_name": "Python 3",
   "language": "python",
   "name": "python3"
  },
  "language_info": {
   "codemirror_mode": {
    "name": "ipython",
    "version": 3
   },
   "file_extension": ".py",
   "mimetype": "text/x-python",
   "name": "python",
   "nbconvert_exporter": "python",
   "pygments_lexer": "ipython3",
   "version": "3.12.7"
  }
 },
 "nbformat": 4,
 "nbformat_minor": 2
}
