{
 "cells": [
  {
   "cell_type": "code",
   "execution_count": null,
   "id": "f3996edd",
   "metadata": {},
   "outputs": [
    {
     "name": "stdout",
     "output_type": "stream",
     "text": [
      "69.23076923076923\n"
     ]
    }
   ],
   "source": [
    "import pandas as pd\n",
    "\n",
    "def service_games_won_percentage():\n",
    "    path = \"~/Documents/tennisconsulting/consulting-spring2025/data/mens/Rudy Quan/combined.xlsx\"\n",
    "    df = pd.read_excel(path, sheet_name=\"Games\")  \n",
    "\n",
    "    service_games = df[df[\"Server\"] == \"host\"]\n",
    "\n",
    "    won_service_games = service_games[service_games[\"Game Winner\"] == \"host\"]\n",
    "\n",
    "    if len(service_games) == 0:\n",
    "        return 0  \n",
    "    percentage_won = (len(won_service_games) / len(service_games)) * 100\n",
    "\n",
    "    return percentage_won\n",
    "print(service_games_won_percentage())\n"
   ]
  }
 ],
 "metadata": {
  "kernelspec": {
   "display_name": "base",
   "language": "python",
   "name": "python3"
  },
  "language_info": {
   "codemirror_mode": {
    "name": "ipython",
    "version": 3
   },
   "file_extension": ".py",
   "mimetype": "text/x-python",
   "name": "python",
   "nbconvert_exporter": "python",
   "pygments_lexer": "ipython3",
   "version": "3.12.7"
  }
 },
 "nbformat": 4,
 "nbformat_minor": 5
}
