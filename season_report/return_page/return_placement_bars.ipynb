{
 "cells": [
  {
   "cell_type": "code",
   "execution_count": null,
   "id": "83e371b2",
   "metadata": {},
   "outputs": [],
   "source": [
    "## Shot == 2\n",
    "## Separate by Side\n",
    "## Split up court into thirds\n"
   ]
  },
  {
   "cell_type": "code",
   "execution_count": null,
   "id": "f5318982",
   "metadata": {},
   "outputs": [],
   "source": []
  }
 ],
 "metadata": {
  "kernelspec": {
   "display_name": "Python 3",
   "language": "python",
   "name": "python3"
  },
  "language_info": {
   "name": "python",
   "version": "3.13.3"
  }
 },
 "nbformat": 4,
 "nbformat_minor": 5
}
