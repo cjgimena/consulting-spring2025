{
 "cells": [
  {
   "cell_type": "markdown",
   "id": "d5686a9b",
   "metadata": {},
   "source": [
    "# First/Second Return Contact Position"
   ]
  },
  {
   "cell_type": "markdown",
   "id": "a76ff5f2",
   "metadata": {},
   "source": [
    "function to create json files for the return contact visual"
   ]
  },
  {
   "cell_type": "code",
   "execution_count": 1,
   "id": "970c7781",
   "metadata": {},
   "outputs": [],
   "source": [
    "import pandas as pd"
   ]
  },
  {
   "cell_type": "code",
   "execution_count": 38,
   "id": "2fc5ff58",
   "metadata": {},
   "outputs": [],
   "source": [
    "pd.set_option('display.max_columns', None)"
   ]
  },
  {
   "cell_type": "code",
   "execution_count": 74,
   "id": "06c8db2c",
   "metadata": {},
   "outputs": [],
   "source": [
    "def generate_return_contact_jsons(df_shots, df_points, player):\n",
    "\n",
    "    # only use matches with complete data\n",
    "    df_shots = df_shots[df_shots['__source_file__'].isin(df_points['__source_file__'])]\n",
    "\n",
    "    # add column for winner of the point\n",
    "    combined = pd.merge(df_shots, df_points[['Point', 'Game', 'Set', 'Point Winner', 'Match Server', 'Detail', '__source_file__']], on=['Point', 'Game', 'Set', '__source_file__'], how='left')\n",
    "\n",
    "    # only get UCLA player returns that are in\n",
    "    # should we only get the results that are in or no?\n",
    "    returns_ucla = combined[(combined['Player'] == player) & (combined['Shot'] == 2) & (combined['Result'] == 'In')]\n",
    "    returns_ucla = returns_ucla[['Player', 'Hit (x)', 'Hit (y)', 'Point Winner', 'Stroke']].copy() # keep relevant columns\n",
    "\n",
    "    # transforming shot contact data\n",
    "    returns_ucla['shotContactX'] = returns_ucla['Hit (x)'] * 38.2764654418\n",
    "    returns_ucla['shotContactY'] = (returns_ucla['Hit (y)'] - 11.8872) * 38.2764654418\n",
    "    returns_ucla.drop(columns=['Hit (x)', 'Hit (y)'], inplace=True)\n",
    "    # transform point winner\n",
    "    returns_ucla['pointWonBy'] = returns_ucla['Point Winner'].apply(lambda x: player if x == 'host' else 'opponent') # dont need opponents name\n",
    "    returns_ucla.drop(columns=['Point Winner'], inplace=True)\n",
    "    # rename Stroke col and drop any non forehand backhand stroke\n",
    "    returns_ucla.rename(columns={'Stroke': 'shotFhBh'}, inplace=True)\n",
    "    returns_ucla = returns_ucla[returns_ucla['shotFhBh'].isin(['Forehand', 'Backhand'])]\n",
    "    # rename Player column to shotHitBy\n",
    "    returns_ucla.rename(columns={'Player': 'shotHitBy'}, inplace=True)\n",
    "\n",
    "    # classify contact depth\n",
    "    returns_ucla['shotContactY'] = returns_ucla['shotContactY'].apply(lambda y: -y if y > 0 else y)\n",
    "    returns_ucla['depth'] = returns_ucla['shotContactY'].apply(\n",
    "        lambda y: 'short' if y >= -455 else 'mid' if -455 > y > -490 else 'deep'\n",
    "    )\n",
    "\n",
    "    # save to json\n",
    "    returns_ucla.to_json('ret_contact.json', orient='records')\n",
    "\n",
    "\n",
    "\n",
    "    # creating distribution json\n",
    "\n",
    "    distribution = returns_ucla.groupby('depth').apply(\n",
    "        lambda df: pd.Series({\n",
    "            'freq': len(df),\n",
    "            'win_percentage': int((df['pointWonBy'] == df['shotHitBy']).mean() * 100)\n",
    "        }),\n",
    "        include_groups=False\n",
    "    ).reset_index()\n",
    "\n",
    "    # getting max and min win percentages\n",
    "    max_win_percentage = distribution['win_percentage'].max()\n",
    "    min_win_percentage = distribution['win_percentage'].min()\n",
    "    distribution['maxMin'] = distribution['win_percentage'].apply(\n",
    "        lambda x: 'max' if x == max_win_percentage else 'min' if x == min_win_percentage else 'no'\n",
    "    )\n",
    "\n",
    "    distribution['win_percentage'] = distribution['win_percentage'].astype(str) + '%'\n",
    "\n",
    "    y_mapping = {\n",
    "        'short': {'y': -420},\n",
    "        'mid': {'y': -475},\n",
    "        'deep': {'y': -515}\n",
    "    }\n",
    "    distribution['y'] = distribution['depth'].map(lambda d: y_mapping[d]['y'])\n",
    "\n",
    "    # save to json\n",
    "    distribution.to_json('ret_contact_dist.json', orient='records')\n",
    "\n",
    "    return"
   ]
  },
  {
   "cell_type": "code",
   "execution_count": null,
   "id": "4c26e2a0",
   "metadata": {},
   "outputs": [],
   "source": [
    "player = \"Rudy Quan\"\n",
    "path = f\"../../data/mens/{player}/combined.xlsx\"\n",
    "df_shots = pd.read_excel(path, sheet_name=\"Shots\")\n",
    "df_points = pd.read_excel(path, sheet_name=\"Points\")"
   ]
  },
  {
   "cell_type": "code",
   "execution_count": 76,
   "id": "3fec0a6c",
   "metadata": {},
   "outputs": [],
   "source": [
    "generate_return_contact_jsons(df_shots, df_points, player)"
   ]
  }
 ],
 "metadata": {
  "kernelspec": {
   "display_name": "blog_loneliness",
   "language": "python",
   "name": "python3"
  },
  "language_info": {
   "codemirror_mode": {
    "name": "ipython",
    "version": 3
   },
   "file_extension": ".py",
   "mimetype": "text/x-python",
   "name": "python",
   "nbconvert_exporter": "python",
   "pygments_lexer": "ipython3",
   "version": "3.12.5"
  }
 },
 "nbformat": 4,
 "nbformat_minor": 5
}
