{
 "cells": [
  {
   "cell_type": "code",
   "execution_count": 1,
   "id": "b9182925",
   "metadata": {},
   "outputs": [],
   "source": [
    "import pandas as pd\n",
    "import os\n",
    "\n",
    "def average_return_time(file_path):\n",
    "    \"\"\"\n",
    "    Reads the 'Settings' and 'Games' sheets of the combined.xlsx at file_path,\n",
    "    identifies which side (host/guest) the UCLA player is in each match,\n",
    "    sums the durations of only those games where that side returned (i.e., did NOT serve),\n",
    "    and returns the average return-game time per match as an \"M:SS\" string.\n",
    "    \"\"\"\n",
    "    # Infer player name from the parent folder\n",
    "    player = os.path.basename(os.path.dirname(file_path))\n",
    "    \n",
    "    # Load sheets\n",
    "    xls      = pd.ExcelFile(file_path)\n",
    "    settings = xls.parse('Settings')\n",
    "    games    = xls.parse('Games')\n",
    "    \n",
    "    # Clean up Settings: get one Host/Guest pair per match file\n",
    "    settings_clean = (\n",
    "        settings\n",
    "        .groupby('__source_file__', as_index=False)\n",
    "        .agg({'Host Team':'first', 'Guest Team':'first'})\n",
    "    )\n",
    "    \n",
    "    # Collect total return-time (in seconds) per match\n",
    "    return_totals = []\n",
    "    for _, row in settings_clean.iterrows():\n",
    "        match_file = row['__source_file__']\n",
    "        host       = row['Host Team']\n",
    "        guest      = row['Guest Team']\n",
    "        \n",
    "        # Determine which side UCLA player is\n",
    "        if host  == player:\n",
    "            side = 'host'\n",
    "        elif guest == player:\n",
    "            side = 'guest'\n",
    "        else:\n",
    "            # Player not in this match\n",
    "            continue\n",
    "        \n",
    "        # Filter games for this match where the player did NOT serve (i.e., was returning)\n",
    "        dfm = games[\n",
    "            (games['__source_file__'] == match_file) &\n",
    "            (games['Server']          != side)\n",
    "        ].copy()\n",
    "        \n",
    "        # Convert Duration to numeric, drop missing\n",
    "        dfm['Duration'] = pd.to_numeric(dfm['Duration'], errors='coerce')\n",
    "        dfm = dfm[dfm['Duration'].notna()]\n",
    "        \n",
    "        # Sum up total seconds for this match\n",
    "        return_totals.append(dfm['Duration'].sum())\n",
    "    \n",
    "    if not return_totals:\n",
    "        return None\n",
    "    \n",
    "    # Compute the average seconds, then format as M:SS\n",
    "    avg_seconds = sum(return_totals) / len(return_totals)\n",
    "    total = int(round(avg_seconds))\n",
    "    mins, secs = divmod(total, 60)\n",
    "    return f\"{mins}:{secs:02d}\"\n"
   ]
  },
  {
   "cell_type": "code",
   "execution_count": null,
   "id": "9419e75a",
   "metadata": {},
   "outputs": [],
   "source": [
    "path = \"/Users/robm7/OneDrive/Desktop/consulting-spring2025/data/mens/Rudy Quan/combined.xlsx\"\n",
    "avg_return = average_return_time(path)\n",
    "print(avg_return)\n"
   ]
  }
 ],
 "metadata": {
  "kernelspec": {
   "display_name": "Python 3",
   "language": "python",
   "name": "python3"
  },
  "language_info": {
   "codemirror_mode": {
    "name": "ipython",
    "version": 3
   },
   "file_extension": ".py",
   "mimetype": "text/x-python",
   "name": "python",
   "nbconvert_exporter": "python",
   "pygments_lexer": "ipython3",
   "version": "3.11.9"
  }
 },
 "nbformat": 4,
 "nbformat_minor": 5
}
