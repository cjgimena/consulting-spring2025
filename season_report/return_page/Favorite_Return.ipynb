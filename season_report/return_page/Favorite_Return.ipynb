{
 "cells": [
  {
   "cell_type": "code",
   "execution_count": 5,
   "id": "cb0655b4",
   "metadata": {},
   "outputs": [
    {
     "name": "stdout",
     "output_type": "stream",
     "text": [
      "Rudy's favorite return direction is: Middle\n"
     ]
    }
   ],
   "source": [
    "import pandas as pd\n",
    "\n",
    "def fav_return():\n",
    "    path = \"~/Documents/tennisconsulting/consulting-spring2025/data/mens/Rudy Quan/combined.xlsx\"\n",
    "    df = pd.read_excel(path, sheet_name=\"Shots\")  # changed to read_excel\n",
    "    Rudy_Return_df = df[\n",
    "        (df[\"Player\"] == \"Rudy Quan\") &\n",
    "        (df[\"Shot\"] == 2) &\n",
    "        (df[\"Type\"] == \"return\") &\n",
    "        (df[\"Result\"] == \"In\")\n",
    "    ].copy()\n",
    "\n",
    "    def classify_return_direction(row):\n",
    "        x = row[\"Bounce (x)\"]\n",
    "        side = row[\"Hit Side\"]\n",
    "        zone = row[\"Hit Zone\"]\n",
    "        \n",
    "        if -1.67 <= x <= 1.67:\n",
    "            return \"Middle\"\n",
    "        \n",
    "        if side == \"far\":\n",
    "            if zone == \"ad\":\n",
    "                if x < -1.67:\n",
    "                    return \"Cross Court\"\n",
    "                elif x > 1.67:\n",
    "                    return \"Down the Line\"\n",
    "            elif zone == \"deuce\":\n",
    "                if x < -1.67:\n",
    "                    return \"Down the Line\"\n",
    "                elif x > 1.67:\n",
    "                    return \"Cross Court\"\n",
    "        \n",
    "        elif side == \"near\":\n",
    "            if zone == \"ad\":\n",
    "                if x < -1.67:\n",
    "                    return \"Down the Line\"\n",
    "                elif x > 1.67:\n",
    "                    return \"Cross Court\"\n",
    "            elif zone == \"deuce\":\n",
    "                if x < -1.67:\n",
    "                    return \"Cross Court\"\n",
    "                elif x > 1.67:\n",
    "                    return \"Down the Line\"\n",
    "        \n",
    "        return \"Unknown\"\n",
    "\n",
    "    # Classify each return\n",
    "    Rudy_Return_df[\"Return Direction\"] = Rudy_Return_df.apply(classify_return_direction, axis=1)\n",
    "\n",
    "    # Count and find favorite\n",
    "    counts = Rudy_Return_df[\"Return Direction\"].value_counts()\n",
    "    favorite = counts.idxmax()\n",
    "\n",
    "    print(f\"Rudy's favorite return direction is: {favorite}\")\n",
    "\n",
    "fav_return()"
   ]
  }
 ],
 "metadata": {
  "kernelspec": {
   "display_name": "base",
   "language": "python",
   "name": "python3"
  },
  "language_info": {
   "codemirror_mode": {
    "name": "ipython",
    "version": 3
   },
   "file_extension": ".py",
   "mimetype": "text/x-python",
   "name": "python",
   "nbconvert_exporter": "python",
   "pygments_lexer": "ipython3",
   "version": "3.12.7"
  }
 },
 "nbformat": 4,
 "nbformat_minor": 5
}
