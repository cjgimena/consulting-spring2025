{
 "cells": [
  {
   "cell_type": "code",
   "execution_count": 2,
   "id": "6f6d9e4f",
   "metadata": {},
   "outputs": [
    {
     "name": "stdout",
     "output_type": "stream",
     "text": [
      "    ReturnStroke ReturnType  PointsWon\n",
      "0   First Return   Backhand        222\n",
      "3  Second Return   Forehand        191\n",
      "1   First Return   Forehand        162\n",
      "2  Second Return   Backhand         98\n"
     ]
    }
   ],
   "source": [
    "import pandas as pd\n",
    "\n",
    "def load_shots_data(player_name):\n",
    "    file_path = f\"../../data/mens/{player_name}/combined.xlsx\"\n",
    "    xls = pd.ExcelFile(file_path)\n",
    "    return xls.parse('Shots')\n",
    "\n",
    "def best_return_strokes(data, player_name):\n",
    "    returns = data[(data['Player'] == player_name) & (data['Shot'].isin([2, 3]))].copy()\n",
    "    returns = returns[returns['Stroke'].isin(['Forehand', 'Backhand'])]\n",
    "    returns['ReturnType'] = returns['Stroke']\n",
    "    last_shots = (\n",
    "        data.sort_values(['__source_file__', 'Point', 'Shot'])\n",
    "        .groupby(['__source_file__', 'Point'])\n",
    "        .last()\n",
    "        .reset_index()\n",
    "        [['__source_file__', 'Point', 'Player']]\n",
    "        .rename(columns={'Player': 'PointWinner'})\n",
    "    )\n",
    "    returns = returns.merge(last_shots, on=['__source_file__', 'Point'], how='left')\n",
    "    returns['PointWon'] = returns['PointWinner'] == player_name\n",
    "    stroke_labels = {2: 'First Return', 3: 'Second Return'}\n",
    "    returns['ReturnStroke'] = returns['Shot'].map(stroke_labels)\n",
    "    summary = (\n",
    "        returns.groupby(['ReturnStroke', 'ReturnType'])['PointWon']\n",
    "        .sum()\n",
    "        .reset_index()\n",
    "        .rename(columns={'PointWon': 'PointsWon'})\n",
    "        .sort_values(by='PointsWon', ascending=False)\n",
    "    )\n",
    "    return summary\n",
    "\n",
    "# Load and run\n",
    "player_name = \"Rudy Quan\"\n",
    "shots_df = load_shots_data(player_name)\n",
    "summary_df_labeled = best_return_strokes(shots_df, player_name)\n",
    "print(summary_df_labeled)"
   ]
  },
  {
   "cell_type": "code",
   "execution_count": null,
   "id": "2a002386",
   "metadata": {},
   "outputs": [],
   "source": []
  }
 ],
 "metadata": {
  "kernelspec": {
   "display_name": "base",
   "language": "python",
   "name": "python3"
  },
  "language_info": {
   "codemirror_mode": {
    "name": "ipython",
    "version": 3
   },
   "file_extension": ".py",
   "mimetype": "text/x-python",
   "name": "python",
   "nbconvert_exporter": "python",
   "pygments_lexer": "ipython3",
   "version": "3.12.7"
  }
 },
 "nbformat": 4,
 "nbformat_minor": 5
}
