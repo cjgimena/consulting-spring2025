{
 "cells": [
  {
   "cell_type": "code",
   "execution_count": 4,
   "metadata": {},
   "outputs": [
    {
     "data": {
      "text/plain": [
       "'/Users/stephaniepham/Desktop/consulting-spring2025/season_report/return_page'"
      ]
     },
     "execution_count": 4,
     "metadata": {},
     "output_type": "execute_result"
    }
   ],
   "source": [
    "import pandas as pd\n",
    "import re \n",
    "import os\n",
    "\n",
    "os.getcwd() # Print current working directory"
   ]
  },
  {
   "cell_type": "markdown",
   "metadata": {},
   "source": [
    "Read Data"
   ]
  },
  {
   "cell_type": "code",
   "execution_count": 5,
   "metadata": {},
   "outputs": [
    {
     "data": {
      "text/plain": [
       "'/Users/stephaniepham/Desktop/consulting-spring2025'"
      ]
     },
     "execution_count": 5,
     "metadata": {},
     "output_type": "execute_result"
    }
   ],
   "source": [
    "os.chdir('../..') # go back two directories\n",
    "os.getcwd()"
   ]
  },
  {
   "cell_type": "code",
   "execution_count": 7,
   "metadata": {},
   "outputs": [],
   "source": [
    "# USER INPUT: Specify Player!\n",
    "player_name = 'Rudy Quan'\n",
    "# player_name = 'Kaylan Bigun'\n",
    "# # player_name = 'Emon Van Loben Sels'\n",
    "# player_name = 'Alexander Hoogmartens'\n",
    "# player_name = 'Spencer Johnson'\n",
    "# player_name = 'Aadarsh Tripathi'\n",
    "# player_name = 'Giacomo Revelli'\n",
    "# player_name = 'Gianluca Ballotta'"
   ]
  },
  {
   "cell_type": "code",
   "execution_count": 14,
   "metadata": {},
   "outputs": [],
   "source": [
    "combined_data_shots = pd.read_excel(f'data/mens/{player_name}/combined.xlsx', sheet_name='Shots')\n",
    "combined_data_points = pd.read_excel(f'data/mens/{player_name}/combined.xlsx', sheet_name='Points')\n",
    "combined_data_games = pd.read_excel(f'data/mens/{player_name}/combined.xlsx', sheet_name='Games')\n",
    "combined_data_sets = pd.read_excel(f'data/mens/{player_name}/combined.xlsx', sheet_name='Sets')"
   ]
  },
  {
   "cell_type": "code",
   "execution_count": 15,
   "metadata": {},
   "outputs": [],
   "source": [
    "# Subset 2024-2025 Season Matches!\n",
    "mens_results = pd.read_csv('data/mens/mens_results.csv')[:229]\n",
    "\n",
    "# Change Date Format\n",
    "mens_results['Date'] = pd.to_datetime(mens_results['Date'])\n",
    "\n",
    "\n",
    "def filter_player(data, player_name):\n",
    "\n",
    "    # Filter for player_name\n",
    "    data = data[(data['Player1'] == player_name) | (data['Player2'] == player_name)]\n",
    "\n",
    "    # Filter for only school events\n",
    "    data = data[data['Event Name'].str.startswith(('Dual Match', '2024 ITA', '2024-25 NCAA Division'))]\n",
    "    return data\n",
    "\n",
    "mens_results_player = filter_player(mens_results, player_name)"
   ]
  },
  {
   "cell_type": "code",
   "execution_count": null,
   "metadata": {},
   "outputs": [],
   "source": [
    "mens_results_player"
   ]
  },
  {
   "cell_type": "markdown",
   "metadata": {},
   "source": [
    "Percent of return wins function"
   ]
  },
  {
   "cell_type": "code",
   "execution_count": 34,
   "metadata": {},
   "outputs": [],
   "source": [
    "combined = combined_data_shots.merge(combined_data_points[['Point', 'Game', 'Set', 'Point Winner', 'Match Server', '__source_file__']], \n",
    "                          how = 'left', \n",
    "                          on = ['Set', 'Game', 'Point', '__source_file__']).head()"
   ]
  },
  {
   "cell_type": "code",
   "execution_count": 35,
   "metadata": {},
   "outputs": [
    {
     "name": "stderr",
     "output_type": "stream",
     "text": [
      "/var/folders/34/3tzw75991p3c8fn18hp027b00000gn/T/ipykernel_25386/1269744280.py:5: SettingWithCopyWarning: \n",
      "A value is trying to be set on a copy of a slice from a DataFrame.\n",
      "Try using .loc[row_indexer,col_indexer] = value instead\n",
      "\n",
      "See the caveats in the documentation: https://pandas.pydata.org/pandas-docs/stable/user_guide/indexing.html#returning-a-view-versus-a-copy\n",
      "  returns['ReturnerSide'] = returns['Match Server'].apply(\n",
      "/var/folders/34/3tzw75991p3c8fn18hp027b00000gn/T/ipykernel_25386/1269744280.py:8: SettingWithCopyWarning: \n",
      "A value is trying to be set on a copy of a slice from a DataFrame.\n",
      "Try using .loc[row_indexer,col_indexer] = value instead\n",
      "\n",
      "See the caveats in the documentation: https://pandas.pydata.org/pandas-docs/stable/user_guide/indexing.html#returning-a-view-versus-a-copy\n",
      "  returns['ReturnWon'] = returns['Point Winner'] == returns['ReturnerSide']\n"
     ]
    },
    {
     "data": {
      "text/plain": [
       "np.float64(0.0)"
      ]
     },
     "execution_count": 35,
     "metadata": {},
     "output_type": "execute_result"
    }
   ],
   "source": [
    "def return_wins_percent(data):\n",
    "    #find all of the players return games\n",
    "    returns = combined[(combined['Player'] == player_name) & (combined['Type'] == 'return')]\n",
    "    #makes a new column for the point winner and determines whether host or guest was returning\n",
    "    returns['ReturnerSide'] = returns['Match Server'].apply(\n",
    "        lambda s: 'Guest' if s == 'Host' else 'Host'\n",
    "    )\n",
    "    returns['ReturnWon'] = returns['Point Winner'] == returns['ReturnerSide']\n",
    "\n",
    "    #Compute percentage\n",
    "    if len(returns) == 0:\n",
    "        return 0.0\n",
    "    pct = returns['ReturnWon'].mean() * 100\n",
    "    return round(pct, 2)\n",
    "\n",
    "return_wins_percent(mens_results_player)\n"
   ]
  }
 ],
 "metadata": {
  "kernelspec": {
   "display_name": "Python 3",
   "language": "python",
   "name": "python3"
  },
  "language_info": {
   "codemirror_mode": {
    "name": "ipython",
    "version": 3
   },
   "file_extension": ".py",
   "mimetype": "text/x-python",
   "name": "python",
   "nbconvert_exporter": "python",
   "pygments_lexer": "ipython3",
   "version": "3.13.2"
  }
 },
 "nbformat": 4,
 "nbformat_minor": 2
}
