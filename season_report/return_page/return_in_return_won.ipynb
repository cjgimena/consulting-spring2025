{
 "cells": [
  {
   "cell_type": "code",
   "execution_count": 20,
   "metadata": {},
   "outputs": [],
   "source": [
    "import pandas as pd\n",
    "import re"
   ]
  },
  {
   "cell_type": "markdown",
   "metadata": {},
   "source": [
    "Read Data\n"
   ]
  },
  {
   "cell_type": "code",
   "execution_count": 21,
   "metadata": {},
   "outputs": [],
   "source": [
    "player_name = 'Rudy Quan'"
   ]
  },
  {
   "cell_type": "code",
   "execution_count": 22,
   "metadata": {},
   "outputs": [],
   "source": [
    "pd.set_option('display.max_rows', None)"
   ]
  },
  {
   "cell_type": "code",
   "execution_count": 23,
   "metadata": {},
   "outputs": [],
   "source": [
    "combined_data_shots = pd.read_excel(f'../../data/mens/{player_name}/combined.xlsx', sheet_name='Shots')\n",
    "combined_data_points = pd.read_excel(f'../../data/mens/{player_name}/combined.xlsx', sheet_name='Points')\n",
    "combined_data_games = pd.read_excel(f'../../data/mens/{player_name}/combined.xlsx', sheet_name='Games')\n",
    "combined_data_sets = pd.read_excel(f'../../data/mens/{player_name}/combined.xlsx', sheet_name='Sets')"
   ]
  },
  {
   "cell_type": "code",
   "execution_count": 51,
   "metadata": {},
   "outputs": [
    {
     "data": {
      "text/plain": [
       "np.float64(80.36)"
      ]
     },
     "execution_count": 51,
     "metadata": {},
     "output_type": "execute_result"
    }
   ],
   "source": [
    "def return_in(data):\n",
    "    rudy_returns = combined_data_shots[(combined_data_shots['Player'] == player_name) & ((combined_data_shots['Type'] == 'return') | (combined_data_shots['Type'] == 'return_plus_one'))]\n",
    "    rudy_returns_in = rudy_returns['Result'] == \"In\"\n",
    "    percent = (rudy_returns['Result'] == \"In\").mean() * 100\n",
    "    return round(percent, 2)\n",
    "\n",
    "return_in('data/mens/{player_name}/combined.xlsx')"
   ]
  },
  {
   "cell_type": "code",
   "execution_count": 54,
   "metadata": {},
   "outputs": [],
   "source": [
    "combined_data_shots_merged = combined_data_shots.merge(combined_data_points[['Point', 'Game', 'Set', 'Point Winner', '__source_file__']], \n",
    "                          how = 'left', \n",
    "                          on = ['Set', 'Game', 'Point', '__source_file__'])\n",
    "\n"
   ]
  },
  {
   "cell_type": "code",
   "execution_count": 59,
   "metadata": {},
   "outputs": [
    {
     "data": {
      "text/plain": [
       "np.float64(25.851703406813627)"
      ]
     },
     "execution_count": 59,
     "metadata": {},
     "output_type": "execute_result"
    }
   ],
   "source": [
    "def return_won(data):\n",
    "    rudy_returns = combined_data_shots_merged[(combined_data_shots_merged['Player'] == player_name) & ((combined_data_shots_merged['Type'] == 'return') | (combined_data_shots_merged['Type'] == \"return_plus_one\"))]\n",
    "    return (rudy_returns['Point Winner'] == 'host').mean() * 100\n",
    "\n",
    "return_won('data/mens/{player_name}/combined.xlsx')\n"
   ]
  }
 ],
 "metadata": {
  "kernelspec": {
   "display_name": "Python 3",
   "language": "python",
   "name": "python3"
  },
  "language_info": {
   "codemirror_mode": {
    "name": "ipython",
    "version": 3
   },
   "file_extension": ".py",
   "mimetype": "text/x-python",
   "name": "python",
   "nbconvert_exporter": "python",
   "pygments_lexer": "ipython3",
   "version": "3.12.7"
  }
 },
 "nbformat": 4,
 "nbformat_minor": 2
}
