{
 "cells": [
  {
   "cell_type": "code",
   "execution_count": 1,
   "metadata": {},
   "outputs": [],
   "source": [
    "import pandas as pd\n",
    "import re"
   ]
  },
  {
   "cell_type": "markdown",
   "metadata": {},
   "source": [
    "Read Data\n"
   ]
  },
  {
   "cell_type": "code",
   "execution_count": 2,
   "metadata": {},
   "outputs": [],
   "source": [
    "player_name = 'Rudy Quan'"
   ]
  },
  {
   "cell_type": "code",
   "execution_count": 3,
   "metadata": {},
   "outputs": [],
   "source": [
    "pd.set_option('display.max_rows', None)"
   ]
  },
  {
   "cell_type": "code",
   "execution_count": 4,
   "metadata": {},
   "outputs": [],
   "source": [
    "combined_data_shots = pd.read_excel(f'../../data/mens/{player_name}/combined.xlsx', sheet_name='Shots')\n",
    "combined_data_points = pd.read_excel(f'../../data/mens/{player_name}/combined.xlsx', sheet_name='Points')\n",
    "combined_data_games = pd.read_excel(f'../../data/mens/{player_name}/combined.xlsx', sheet_name='Games')\n",
    "combined_data_sets = pd.read_excel(f'../../data/mens/{player_name}/combined.xlsx', sheet_name='Sets')"
   ]
  },
  {
   "cell_type": "code",
   "execution_count": 48,
   "metadata": {},
   "outputs": [
    {
     "data": {
      "text/plain": [
       "(np.float64(74.67), np.float64(82.27))"
      ]
     },
     "execution_count": 48,
     "metadata": {},
     "output_type": "execute_result"
    }
   ],
   "source": [
    "def return_in(data):\n",
    "    shots = pd.read_excel(data, sheet_name='Shots')\n",
    "    points = pd.read_excel(data, sheet_name='Points')\n",
    "\n",
    "    combined = shots.merge(\n",
    "        points[['Point', 'Game', 'Set', 'Serve State', '__source_file__']], \n",
    "        how='left', \n",
    "        on=['Set', 'Game', 'Point', '__source_file__']\n",
    "    )\n",
    "\n",
    "    returns = combined[\n",
    "    (combined['Player'] == player_name) &\n",
    "    (\n",
    "        (combined['Type'] == 'return') |\n",
    "        (combined['Type'] == 'first_return') |\n",
    "        (combined['Type'] == 'second_return')\n",
    "    )\n",
    "]\n",
    "\n",
    "\n",
    "\n",
    "    first_returns = returns[(returns['Serve State'] == \"first\")]\n",
    "    second_returns = returns[(returns['Serve State'] == \"second\")]\n",
    "\n",
    "\n",
    "    first_percent = round((first_returns['Result'] == \"In\").dropna().mean() * 100, 2)\n",
    "    second_percent = round((second_returns['Result'] == \"In\").dropna().mean() * 100, 2)\n",
    "\n",
    "    return first_percent, second_percent\n",
    "\n",
    "\n",
    "return_in(f'../../data/mens/{player_name}/combined.xlsx')\n"
   ]
  },
  {
   "cell_type": "code",
   "execution_count": 52,
   "metadata": {},
   "outputs": [
    {
     "data": {
      "text/plain": [
       "(np.float64(43.23), np.float64(63.12))"
      ]
     },
     "execution_count": 52,
     "metadata": {},
     "output_type": "execute_result"
    }
   ],
   "source": [
    "def return_won(data):\n",
    "    shots = pd.read_excel(data, sheet_name='Shots')\n",
    "    points = pd.read_excel(data, sheet_name='Points')\n",
    "\n",
    "    combined = shots.merge(\n",
    "        points[['Point', 'Game', 'Set', 'Point Winner', 'Match Server', 'Serve State', '__source_file__']],\n",
    "        how='left',\n",
    "        on=['Set', 'Game', 'Point', '__source_file__']\n",
    "    )\n",
    "\n",
    "\n",
    "    returns = combined[\n",
    "        (combined['Player'] == player_name) &\n",
    "        (combined['Type'].isin(['return', 'first_return', 'second_return']))\n",
    "    ].copy()\n",
    "\n",
    "\n",
    "    returns['Serve State'] = returns['Serve State'].astype(str).str.lower().str.strip()\n",
    "\n",
    "\n",
    "    first_returns = returns[returns['Serve State'] == 'first']\n",
    "    second_returns = returns[returns['Serve State'] == 'second']\n",
    "\n",
    "\n",
    "    first_percent = round((first_returns['Point Winner'] == 'host').mean() * 100, 2)\n",
    "    second_percent = round((second_returns['Point Winner'] == 'host').mean() * 100, 2)\n",
    "\n",
    "    return first_percent, second_percent\n",
    "\n",
    "\n",
    "return_won(f'../../data/mens/{player_name}/combined.xlsx')\n"
   ]
  }
 ],
 "metadata": {
  "kernelspec": {
   "display_name": "Python 3",
   "language": "python",
   "name": "python3"
  },
  "language_info": {
   "codemirror_mode": {
    "name": "ipython",
    "version": 3
   },
   "file_extension": ".py",
   "mimetype": "text/x-python",
   "name": "python",
   "nbconvert_exporter": "python",
   "pygments_lexer": "ipython3",
   "version": "3.12.7"
  }
 },
 "nbformat": 4,
 "nbformat_minor": 2
}
