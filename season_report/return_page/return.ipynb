{
 "cells": [
  {
   "cell_type": "markdown",
   "id": "1ce6f3c3",
   "metadata": {},
   "source": [
    "# Return Statistics Notebook"
   ]
  },
  {
   "cell_type": "markdown",
   "id": "f5ff0fd0",
   "metadata": {},
   "source": [
    "### Load Packages"
   ]
  },
  {
   "cell_type": "code",
   "execution_count": 8,
   "id": "da1882d6",
   "metadata": {},
   "outputs": [],
   "source": [
    "import pandas as pd\n",
    "import numpy as np\n",
    "import os\n",
    "import json\n",
    "import ipywidgets as widgets\n",
    "from IPython.display import display"
   ]
  },
  {
   "cell_type": "markdown",
   "id": "a44ad437",
   "metadata": {},
   "source": [
    "### Create Data Folder"
   ]
  },
  {
   "cell_type": "code",
   "execution_count": 9,
   "id": "a44fd62e",
   "metadata": {},
   "outputs": [],
   "source": [
    "def create_data_folder():\n",
    "    # Define the folder name\n",
    "    folder_name = \"data\"\n",
    "    \n",
    "    # Check if the folder exists\n",
    "    if not os.path.exists(folder_name):\n",
    "        os.makedirs(folder_name)\n",
    "        print(f\"Folder '{folder_name}' created.\")\n",
    "    else:\n",
    "        print(f\"Folder '{folder_name}' already exists.\")"
   ]
  },
  {
   "cell_type": "code",
   "execution_count": 10,
   "id": "62eb7d9a",
   "metadata": {},
   "outputs": [
    {
     "name": "stdout",
     "output_type": "stream",
     "text": [
      "Folder 'data' already exists.\n"
     ]
    }
   ],
   "source": [
    "create_data_folder()"
   ]
  },
  {
   "cell_type": "markdown",
   "id": "c7ba9695",
   "metadata": {},
   "source": [
    "### Read Data"
   ]
  },
  {
   "cell_type": "code",
   "execution_count": 11,
   "id": "6e515374",
   "metadata": {},
   "outputs": [
    {
     "data": {
      "application/vnd.jupyter.widget-view+json": {
       "model_id": "6f77c9e2fe024052a38281338b3b58ea",
       "version_major": 2,
       "version_minor": 0
      },
      "text/plain": [
       "Dropdown(description='Category:', options=('-- Select --', 'Rudy Quan', 'Emon Van Loben Sels', 'Kaylan Bigun',…"
      ]
     },
     "metadata": {},
     "output_type": "display_data"
    }
   ],
   "source": [
    "# Dropdown with a non-valid default option\n",
    "choose_player_dropdown = widgets.Dropdown(\n",
    "    options=['-- Select --', 'Rudy Quan', 'Emon Van Loben Sels', 'Kaylan Bigun', 'Alexander Hoogmartens', \n",
    "             'Spencer Johnson', 'Aadarsh Tripathi', 'Giacomo Revelli', 'Gianluca Ballotta'],\n",
    "    value='-- Select --',\n",
    "    description='Category:'\n",
    ")\n",
    "\n",
    "display(choose_player_dropdown)"
   ]
  },
  {
   "cell_type": "code",
   "execution_count": 12,
   "id": "b04349e1",
   "metadata": {},
   "outputs": [],
   "source": [
    "# Check selection before proceeding\n",
    "if choose_player_dropdown.value == '-- Select --':\n",
    "    raise ValueError(\"Please choose a valid category from the dropdown menu in the previous cell before proceeding.\")\n",
    "\n",
    "# If valid, use the value\n",
    "player_name = choose_player_dropdown.value"
   ]
  },
  {
   "cell_type": "code",
   "execution_count": 13,
   "id": "8725b763",
   "metadata": {},
   "outputs": [],
   "source": [
    "combined_data_shots = pd.read_excel(f'../../data/mens/{player_name}/combined.xlsx', sheet_name='Shots')\n",
    "combined_data_points = pd.read_excel(f'../../data/mens/{player_name}/combined.xlsx', sheet_name='Points')\n",
    "combined_data_games = pd.read_excel(f'../../data/mens/{player_name}/combined.xlsx', sheet_name='Games')\n",
    "combined_data_sets = pd.read_excel(f'../../data/mens/{player_name}/combined.xlsx', sheet_name='Sets')\n",
    "combined_data_stats = pd.read_excel(f'../../data/mens/{player_name}/combined.xlsx', sheet_name='Stats')"
   ]
  },
  {
   "cell_type": "markdown",
   "id": "571e5c19",
   "metadata": {},
   "source": [
    "### Fastest Return"
   ]
  },
  {
   "cell_type": "code",
   "execution_count": 20,
   "id": "a75cc537",
   "metadata": {},
   "outputs": [],
   "source": [
    "def fastest_return(data):\n",
    "    max_return = data[data['Type'].isin(['first_return', 'second_return'])]['Speed (MPH)'].max() # return_serve is a return after a serve that was classified as out\n",
    "    return int(round(max_return, 0))"
   ]
  },
  {
   "cell_type": "code",
   "execution_count": 21,
   "id": "fd385a4a",
   "metadata": {},
   "outputs": [
    {
     "data": {
      "text/plain": [
       "90"
      ]
     },
     "execution_count": 21,
     "metadata": {},
     "output_type": "execute_result"
    }
   ],
   "source": [
    "fastest_return = fastest_return(combined_data_shots)\n",
    "fastest_return"
   ]
  },
  {
   "cell_type": "markdown",
   "id": "e91ea2f3",
   "metadata": {},
   "source": [
    "### Favorite Return"
   ]
  },
  {
   "cell_type": "code",
   "execution_count": null,
   "id": "cc603d21",
   "metadata": {},
   "outputs": [],
   "source": []
  }
 ],
 "metadata": {
  "kernelspec": {
   "display_name": "venv",
   "language": "python",
   "name": "python3"
  },
  "language_info": {
   "codemirror_mode": {
    "name": "ipython",
    "version": 3
   },
   "file_extension": ".py",
   "mimetype": "text/x-python",
   "name": "python",
   "nbconvert_exporter": "python",
   "pygments_lexer": "ipython3",
   "version": "3.13.5"
  }
 },
 "nbformat": 4,
 "nbformat_minor": 5
}
