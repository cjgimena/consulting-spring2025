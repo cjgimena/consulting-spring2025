{
 "cells": [
  {
   "cell_type": "markdown",
   "id": "dd6d67ed",
   "metadata": {},
   "source": [
    "# Week 4: Python + Some More Pandas"
   ]
  },
  {
   "cell_type": "markdown",
   "id": "6bcb4ed6",
   "metadata": {},
   "source": []
  },
  {
   "cell_type": "markdown",
   "id": "62464923",
   "metadata": {},
   "source": [
    "Select your Kernel!"
   ]
  },
  {
   "cell_type": "markdown",
   "id": "11af9e94",
   "metadata": {},
   "source": [
    "### 1 - Imports"
   ]
  },
  {
   "cell_type": "code",
   "execution_count": 2,
   "id": "fc29c26d",
   "metadata": {},
   "outputs": [],
   "source": [
    "import pandas as pd\n",
    "\n",
    "data = {\n",
    "    'Name': ['Zophie', 'Alice', 'Bob', 'Charlie', 'Max', 'Milo', 'Luna', 'Bella'],\n",
    "    'Age': [7, 5, 3, 2, 5, 3, 2, 5],\n",
    "    'Color': ['Gray', 'Black', 'Brown', 'White', 'Black', 'Brown', 'White', 'Black'],\n",
    "    'Owner': ['Charles', 'Charles', 'Cj', 'Cj', 'Cj', 'Charles', 'Cj', 'Charles'],\n",
    "    'Type': ['Cat', 'Cat', 'Dog', 'Dog', 'Dog', 'Cat', 'Dog', 'Cat']\n",
    "}\n"
   ]
  },
  {
   "cell_type": "markdown",
   "id": "f46e666b",
   "metadata": {},
   "source": [
    "### 2 - Python Control Flow"
   ]
  },
  {
   "cell_type": "code",
   "execution_count": 3,
   "id": "c8f9bf4e",
   "metadata": {},
   "outputs": [
    {
     "name": "stdout",
     "output_type": "stream",
     "text": [
      "1\n",
      "2\n",
      "3\n",
      "4\n",
      "5\n",
      "6\n",
      "7\n",
      "8\n",
      "9\n",
      "-4\n",
      "-2\n",
      "0\n",
      "2\n",
      "4\n",
      "6\n",
      "8\n",
      "10\n",
      "12\n",
      "14\n",
      "16\n",
      "18\n",
      "20\n",
      "22\n",
      "24\n",
      "26\n",
      "28\n",
      "30\n",
      "32\n",
      "34\n",
      "36\n",
      "38\n",
      "40\n"
     ]
    }
   ],
   "source": [
    "# Example For Loop\n",
    "\n",
    "for i in range(1,10,1):\n",
    "    print(i)\n",
    "    \n",
    "# Write a for loop to print even numbers between -4 to 40\n",
    "for i in range(-4, 41, 2):\n",
    "    print(i)"
   ]
  },
  {
   "cell_type": "code",
   "execution_count": 4,
   "id": "13c8f435",
   "metadata": {},
   "outputs": [
    {
     "data": {
      "text/plain": [
       "0       Zophie is Older than 4\n",
       "1        Alice is Older than 4\n",
       "2        Bob is Younger than 4\n",
       "3    Charlie is Younger than 4\n",
       "4          Max is Older than 4\n",
       "5       Milo is Younger than 4\n",
       "6       Luna is Younger than 4\n",
       "7        Bella is Older than 4\n",
       "dtype: object"
      ]
     },
     "execution_count": 4,
     "metadata": {},
     "output_type": "execute_result"
    }
   ],
   "source": [
    "# Example if/else if/else clause\n",
    "\n",
    "# g = int(input(\"Enter a number\"))\n",
    "\n",
    "# if g < 0:\n",
    "#     print(\"Neg\")\n",
    "# elif g < 10:\n",
    "#     print(\"Small\")\n",
    "# else:\n",
    "#     print(\"Large asf!\")\n",
    "    \n",
    "# Write an for + if/else clause that checks if pets are older/younger than 4\n",
    "# Note that length of data isn't len(data) but len(data['Name])\n",
    "\n",
    "\n",
    "# Do the same by converting to a dataframe and using \n",
    "df = pd.DataFrame(data)\n",
    "\n",
    "\n",
    "\n",
    "df['statement'] = df['Age'].apply(lambda x: 'Older than 4' if x > 4 else 'Younger than 4')\n",
    "df['Name'] + ' is ' + df['statement']"
   ]
  },
  {
   "cell_type": "code",
   "execution_count": null,
   "id": "9d01e305",
   "metadata": {},
   "outputs": [],
   "source": []
  },
  {
   "cell_type": "code",
   "execution_count": 5,
   "id": "5027e7ef",
   "metadata": {},
   "outputs": [
    {
     "name": "stdout",
     "output_type": "stream",
     "text": [
      "I love CJ!\n",
      "I love CJ!\n",
      "I love CJ!\n",
      "I love CJ!\n",
      "I love CJ!\n",
      "I love CJ!\n",
      "I love CJ!\n",
      "I love CJ!\n",
      "I love CJ!\n",
      "I love CJ!\n"
     ]
    }
   ],
   "source": [
    "# Example While Loop\n",
    "i = 0\n",
    "\n",
    "while i < 10:\n",
    "    print(\"I love CJ!\")\n",
    "    i = i + 1\n",
    "\n",
    "colors = list(df['Color'])\n",
    "# Create a while loop that goes through colors until it gets to white, then prints out index\n",
    "\n",
    "i = 0\n",
    "\n"
   ]
  },
  {
   "cell_type": "code",
   "execution_count": 6,
   "id": "d084952b",
   "metadata": {},
   "outputs": [
    {
     "data": {
      "text/plain": [
       "['Gray', 'Black', 'Brown', 'White', 'Black', 'Brown', 'White', 'Black']"
      ]
     },
     "execution_count": 6,
     "metadata": {},
     "output_type": "execute_result"
    }
   ],
   "source": [
    "colors"
   ]
  },
  {
   "cell_type": "code",
   "execution_count": 7,
   "id": "81123c46",
   "metadata": {},
   "outputs": [
    {
     "name": "stdout",
     "output_type": "stream",
     "text": [
      "Gray\n",
      "Black\n",
      "Brown\n",
      "Found White at index 3\n"
     ]
    }
   ],
   "source": [
    "while i < len(colors):\n",
    "    if colors[i] == 'White':\n",
    "        print(f\"Found White at index {i}\")\n",
    "        break\n",
    "    print(colors[i])\n",
    "    i += 1"
   ]
  },
  {
   "cell_type": "code",
   "execution_count": 8,
   "id": "c46754c7",
   "metadata": {},
   "outputs": [
    {
     "data": {
      "text/plain": [
       "[1, 4, 9, 16, 25, 36, 49, 64, 81]"
      ]
     },
     "execution_count": 8,
     "metadata": {},
     "output_type": "execute_result"
    }
   ],
   "source": [
    "# Example List Comprehension\n",
    "\n",
    "bops = [x for x in range(1,10)]\n",
    "bops\n",
    "\n",
    "# Example map\n",
    "\n",
    "top = list(map(lambda x: x**2, bops))\n",
    "top\n",
    "\n",
    "# Redo top but use a named function instead of lambda\n"
   ]
  },
  {
   "cell_type": "markdown",
   "id": "a9cfa2d9",
   "metadata": {},
   "source": [
    "3 - Pandas"
   ]
  },
  {
   "cell_type": "code",
   "execution_count": 9,
   "id": "cec11f98",
   "metadata": {},
   "outputs": [
    {
     "name": "stdout",
     "output_type": "stream",
     "text": [
      "       Full Name    First   Last\n",
      "0  Charlie Brown  Charlie  Brown\n",
      "1    Alice Smith    Alice  Smith\n"
     ]
    },
    {
     "data": {
      "text/plain": [
       "['Kaylan', 'Bigun']"
      ]
     },
     "execution_count": 9,
     "metadata": {},
     "output_type": "execute_result"
    }
   ],
   "source": [
    "# Example of .split()\n",
    "df = pd.DataFrame({'Full Name': ['Charlie Brown', 'Alice Smith']})\n",
    "df[['First', 'Last']] = df['Full Name'].str.split(' ', expand=True)\n",
    "print(df)\n",
    "\n",
    "\n",
    "name = \"Kaylan Bigun\"\n",
    "\n",
    "name.split(\" \")"
   ]
  },
  {
   "cell_type": "code",
   "execution_count": 10,
   "id": "7eea0c92",
   "metadata": {},
   "outputs": [
    {
     "name": "stdout",
     "output_type": "stream",
     "text": [
      "      Name\n",
      "0    Alice\n",
      "2  Charlie\n"
     ]
    }
   ],
   "source": [
    "# Example of .isin()\n",
    "df = pd.DataFrame({'Name': ['Alice', 'Bob', 'Charlie']})\n",
    "mask = df['Name'].isin(['Alice', 'Charlie'])\n",
    "# print(mask)\n",
    "print(df[mask])"
   ]
  },
  {
   "cell_type": "code",
   "execution_count": 11,
   "id": "04a29fca",
   "metadata": {},
   "outputs": [
    {
     "data": {
      "text/html": [
       "<div>\n",
       "<style scoped>\n",
       "    .dataframe tbody tr th:only-of-type {\n",
       "        vertical-align: middle;\n",
       "    }\n",
       "\n",
       "    .dataframe tbody tr th {\n",
       "        vertical-align: top;\n",
       "    }\n",
       "\n",
       "    .dataframe thead th {\n",
       "        text-align: right;\n",
       "    }\n",
       "</style>\n",
       "<table border=\"1\" class=\"dataframe\">\n",
       "  <thead>\n",
       "    <tr style=\"text-align: right;\">\n",
       "      <th></th>\n",
       "      <th>ID</th>\n",
       "      <th>Name</th>\n",
       "    </tr>\n",
       "  </thead>\n",
       "  <tbody>\n",
       "    <tr>\n",
       "      <th>0</th>\n",
       "      <td>1</td>\n",
       "      <td>Alice</td>\n",
       "    </tr>\n",
       "    <tr>\n",
       "      <th>1</th>\n",
       "      <td>2</td>\n",
       "      <td>Bob</td>\n",
       "    </tr>\n",
       "    <tr>\n",
       "      <th>2</th>\n",
       "      <td>3</td>\n",
       "      <td>Charlie</td>\n",
       "    </tr>\n",
       "  </tbody>\n",
       "</table>\n",
       "</div>"
      ],
      "text/plain": [
       "   ID     Name\n",
       "0   1    Alice\n",
       "1   2      Bob\n",
       "2   3  Charlie"
      ]
     },
     "metadata": {},
     "output_type": "display_data"
    },
    {
     "data": {
      "text/html": [
       "<div>\n",
       "<style scoped>\n",
       "    .dataframe tbody tr th:only-of-type {\n",
       "        vertical-align: middle;\n",
       "    }\n",
       "\n",
       "    .dataframe tbody tr th {\n",
       "        vertical-align: top;\n",
       "    }\n",
       "\n",
       "    .dataframe thead th {\n",
       "        text-align: right;\n",
       "    }\n",
       "</style>\n",
       "<table border=\"1\" class=\"dataframe\">\n",
       "  <thead>\n",
       "    <tr style=\"text-align: right;\">\n",
       "      <th></th>\n",
       "      <th>ID</th>\n",
       "      <th>Age</th>\n",
       "    </tr>\n",
       "  </thead>\n",
       "  <tbody>\n",
       "    <tr>\n",
       "      <th>0</th>\n",
       "      <td>2</td>\n",
       "      <td>30</td>\n",
       "    </tr>\n",
       "    <tr>\n",
       "      <th>1</th>\n",
       "      <td>3</td>\n",
       "      <td>25</td>\n",
       "    </tr>\n",
       "    <tr>\n",
       "      <th>2</th>\n",
       "      <td>4</td>\n",
       "      <td>40</td>\n",
       "    </tr>\n",
       "  </tbody>\n",
       "</table>\n",
       "</div>"
      ],
      "text/plain": [
       "   ID  Age\n",
       "0   2   30\n",
       "1   3   25\n",
       "2   4   40"
      ]
     },
     "metadata": {},
     "output_type": "display_data"
    }
   ],
   "source": [
    "# Example of .merge()\n",
    "df1 = pd.DataFrame({'ID': [1, 2, 3], \n",
    "                    'Name': ['Alice', 'Bob', 'Charlie']})\n",
    "df2 = pd.DataFrame({'ID': [2, 3, 4], \n",
    "                    'Age': [30, 25, 40]})\n",
    "display(df1)\n",
    "display(df2)"
   ]
  },
  {
   "cell_type": "code",
   "execution_count": null,
   "id": "8969e0e9",
   "metadata": {},
   "outputs": [
    {
     "data": {
      "text/html": [
       "<div>\n",
       "<style scoped>\n",
       "    .dataframe tbody tr th:only-of-type {\n",
       "        vertical-align: middle;\n",
       "    }\n",
       "\n",
       "    .dataframe tbody tr th {\n",
       "        vertical-align: top;\n",
       "    }\n",
       "\n",
       "    .dataframe thead th {\n",
       "        text-align: right;\n",
       "    }\n",
       "</style>\n",
       "<table border=\"1\" class=\"dataframe\">\n",
       "  <thead>\n",
       "    <tr style=\"text-align: right;\">\n",
       "      <th></th>\n",
       "      <th>ID</th>\n",
       "      <th>Name</th>\n",
       "      <th>Age</th>\n",
       "    </tr>\n",
       "  </thead>\n",
       "  <tbody>\n",
       "    <tr>\n",
       "      <th>0</th>\n",
       "      <td>2</td>\n",
       "      <td>Bob</td>\n",
       "      <td>30</td>\n",
       "    </tr>\n",
       "    <tr>\n",
       "      <th>1</th>\n",
       "      <td>3</td>\n",
       "      <td>Charlie</td>\n",
       "      <td>25</td>\n",
       "    </tr>\n",
       "  </tbody>\n",
       "</table>\n",
       "</div>"
      ],
      "text/plain": [
       "   ID     Name  Age\n",
       "0   2      Bob   30\n",
       "1   3  Charlie   25"
      ]
     },
     "execution_count": 13,
     "metadata": {},
     "output_type": "execute_result"
    }
   ],
   "source": [
    "pd.merge(df1, df2, on='ID', how='inner')\n"
   ]
  },
  {
   "cell_type": "markdown",
   "id": "fb19092d",
   "metadata": {},
   "source": []
  },
  {
   "cell_type": "code",
   "execution_count": 56,
   "id": "9ac8664b",
   "metadata": {},
   "outputs": [
    {
     "data": {
      "text/html": [
       "<div>\n",
       "<style scoped>\n",
       "    .dataframe tbody tr th:only-of-type {\n",
       "        vertical-align: middle;\n",
       "    }\n",
       "\n",
       "    .dataframe tbody tr th {\n",
       "        vertical-align: top;\n",
       "    }\n",
       "\n",
       "    .dataframe thead th {\n",
       "        text-align: right;\n",
       "    }\n",
       "</style>\n",
       "<table border=\"1\" class=\"dataframe\">\n",
       "  <thead>\n",
       "    <tr style=\"text-align: right;\">\n",
       "      <th></th>\n",
       "      <th>ID</th>\n",
       "      <th>Name</th>\n",
       "      <th>Age</th>\n",
       "    </tr>\n",
       "  </thead>\n",
       "  <tbody>\n",
       "    <tr>\n",
       "      <th>0</th>\n",
       "      <td>1</td>\n",
       "      <td>Alice</td>\n",
       "      <td>NaN</td>\n",
       "    </tr>\n",
       "    <tr>\n",
       "      <th>1</th>\n",
       "      <td>2</td>\n",
       "      <td>Bob</td>\n",
       "      <td>30.0</td>\n",
       "    </tr>\n",
       "    <tr>\n",
       "      <th>2</th>\n",
       "      <td>3</td>\n",
       "      <td>Charlie</td>\n",
       "      <td>25.0</td>\n",
       "    </tr>\n",
       "    <tr>\n",
       "      <th>3</th>\n",
       "      <td>4</td>\n",
       "      <td>NaN</td>\n",
       "      <td>40.0</td>\n",
       "    </tr>\n",
       "  </tbody>\n",
       "</table>\n",
       "</div>"
      ],
      "text/plain": [
       "   ID     Name   Age\n",
       "0   1    Alice   NaN\n",
       "1   2      Bob  30.0\n",
       "2   3  Charlie  25.0\n",
       "3   4      NaN  40.0"
      ]
     },
     "execution_count": 56,
     "metadata": {},
     "output_type": "execute_result"
    }
   ],
   "source": [
    "pd.merge(df1, df2, on='ID', how='outer')\n"
   ]
  },
  {
   "cell_type": "code",
   "execution_count": 57,
   "id": "038118aa",
   "metadata": {},
   "outputs": [
    {
     "data": {
      "text/html": [
       "<div>\n",
       "<style scoped>\n",
       "    .dataframe tbody tr th:only-of-type {\n",
       "        vertical-align: middle;\n",
       "    }\n",
       "\n",
       "    .dataframe tbody tr th {\n",
       "        vertical-align: top;\n",
       "    }\n",
       "\n",
       "    .dataframe thead th {\n",
       "        text-align: right;\n",
       "    }\n",
       "</style>\n",
       "<table border=\"1\" class=\"dataframe\">\n",
       "  <thead>\n",
       "    <tr style=\"text-align: right;\">\n",
       "      <th></th>\n",
       "      <th>ID</th>\n",
       "      <th>Name</th>\n",
       "      <th>Age</th>\n",
       "    </tr>\n",
       "  </thead>\n",
       "  <tbody>\n",
       "    <tr>\n",
       "      <th>0</th>\n",
       "      <td>1</td>\n",
       "      <td>Alice</td>\n",
       "      <td>NaN</td>\n",
       "    </tr>\n",
       "    <tr>\n",
       "      <th>1</th>\n",
       "      <td>2</td>\n",
       "      <td>Bob</td>\n",
       "      <td>30.0</td>\n",
       "    </tr>\n",
       "    <tr>\n",
       "      <th>2</th>\n",
       "      <td>3</td>\n",
       "      <td>Charlie</td>\n",
       "      <td>25.0</td>\n",
       "    </tr>\n",
       "  </tbody>\n",
       "</table>\n",
       "</div>"
      ],
      "text/plain": [
       "   ID     Name   Age\n",
       "0   1    Alice   NaN\n",
       "1   2      Bob  30.0\n",
       "2   3  Charlie  25.0"
      ]
     },
     "execution_count": 57,
     "metadata": {},
     "output_type": "execute_result"
    }
   ],
   "source": [
    "pd.merge(df1, df2, on='ID', how='left')\n"
   ]
  },
  {
   "cell_type": "code",
   "execution_count": 58,
   "id": "cd4be7d4",
   "metadata": {},
   "outputs": [
    {
     "data": {
      "text/html": [
       "<div>\n",
       "<style scoped>\n",
       "    .dataframe tbody tr th:only-of-type {\n",
       "        vertical-align: middle;\n",
       "    }\n",
       "\n",
       "    .dataframe tbody tr th {\n",
       "        vertical-align: top;\n",
       "    }\n",
       "\n",
       "    .dataframe thead th {\n",
       "        text-align: right;\n",
       "    }\n",
       "</style>\n",
       "<table border=\"1\" class=\"dataframe\">\n",
       "  <thead>\n",
       "    <tr style=\"text-align: right;\">\n",
       "      <th></th>\n",
       "      <th>ID</th>\n",
       "      <th>Name</th>\n",
       "      <th>Age</th>\n",
       "    </tr>\n",
       "  </thead>\n",
       "  <tbody>\n",
       "    <tr>\n",
       "      <th>0</th>\n",
       "      <td>2</td>\n",
       "      <td>Bob</td>\n",
       "      <td>30</td>\n",
       "    </tr>\n",
       "    <tr>\n",
       "      <th>1</th>\n",
       "      <td>3</td>\n",
       "      <td>Charlie</td>\n",
       "      <td>25</td>\n",
       "    </tr>\n",
       "    <tr>\n",
       "      <th>2</th>\n",
       "      <td>4</td>\n",
       "      <td>NaN</td>\n",
       "      <td>40</td>\n",
       "    </tr>\n",
       "  </tbody>\n",
       "</table>\n",
       "</div>"
      ],
      "text/plain": [
       "   ID     Name  Age\n",
       "0   2      Bob   30\n",
       "1   3  Charlie   25\n",
       "2   4      NaN   40"
      ]
     },
     "execution_count": 58,
     "metadata": {},
     "output_type": "execute_result"
    }
   ],
   "source": [
    "pd.merge(df1, df2, on='ID', how='right')\n"
   ]
  },
  {
   "cell_type": "code",
   "execution_count": 59,
   "id": "1d4598e1",
   "metadata": {},
   "outputs": [],
   "source": [
    "# Use all three!\n",
    "customers = pd.DataFrame({\n",
    "    'FullName': ['Alice Johnson', 'Bob Smith', 'Charlie Brown'],\n",
    "    'Phone': ['555-1234', '555-5678', '555-9999'],\n",
    "    'Email': ['alice@email.com', 'bob@email.com', 'charlie@email.com']\n",
    "})\n",
    "\n",
    "appointments = pd.DataFrame({\n",
    "    'Owner': ['Bob Smith', 'Charlie Brown', 'Dana White'],\n",
    "    'Pet': ['Rex', 'Whiskers', 'Bubbles'],\n",
    "    'Date': ['2025-04-23', '2025-04-24', '2025-04-25']\n",
    "})\n",
    "\n",
    "# create a df that splits customers names, filters only customers with appointments, then merges\n"
   ]
  },
  {
   "cell_type": "code",
   "execution_count": null,
   "id": "fc13753c",
   "metadata": {},
   "outputs": [],
   "source": []
  },
  {
   "cell_type": "code",
   "execution_count": null,
   "id": "c82dc788",
   "metadata": {},
   "outputs": [],
   "source": []
  }
 ],
 "metadata": {
  "kernelspec": {
   "display_name": "base",
   "language": "python",
   "name": "python3"
  },
  "language_info": {
   "codemirror_mode": {
    "name": "ipython",
    "version": 3
   },
   "file_extension": ".py",
   "mimetype": "text/x-python",
   "name": "python",
   "nbconvert_exporter": "python",
   "pygments_lexer": "ipython3",
   "version": "3.11.5"
  }
 },
 "nbformat": 4,
 "nbformat_minor": 5
}
