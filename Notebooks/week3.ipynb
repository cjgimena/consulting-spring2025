{
 "cells": [
  {
   "cell_type": "markdown",
   "id": "9bbca74e",
   "metadata": {},
   "source": [
    "## Week 3: Jupyter Notebook - Pandas GroupBy, Apply, and Create Your Own Functions\n",
    "Make sure to select your Kernel before starting!"
   ]
  },
  {
   "cell_type": "markdown",
   "id": "e320c0b8",
   "metadata": {},
   "source": [
    "### Import Pandas Library/Package\n",
    "`import pandas as pd`"
   ]
  },
  {
   "cell_type": "code",
   "execution_count": null,
   "id": "26feb058",
   "metadata": {},
   "outputs": [],
   "source": []
  },
  {
   "cell_type": "markdown",
   "id": "a739f17f",
   "metadata": {},
   "source": [
    "### Optional: Displaying your Dataframe\n",
    "Don't use for big datasets"
   ]
  },
  {
   "cell_type": "code",
   "execution_count": null,
   "id": "ddffc98d",
   "metadata": {},
   "outputs": [],
   "source": [
    "pd.set_option(\"display.max_columns\", None)  # Show all columns\n",
    "pd.set_option(\"display.max_rows\", None)     # Show all rows"
   ]
  },
  {
   "cell_type": "markdown",
   "id": "fda1c012",
   "metadata": {},
   "source": [
    "### GroupBy Functions\n",
    "`df.groupby()`"
   ]
  },
  {
   "cell_type": "markdown",
   "id": "f1d04444",
   "metadata": {},
   "source": [
    "Create own dataset"
   ]
  },
  {
   "cell_type": "code",
   "execution_count": null,
   "id": "27eb9110",
   "metadata": {},
   "outputs": [],
   "source": [
    "data = {\n",
    "    'Name': ['Zophie', 'Alice', 'Bob', 'Charlie', 'Max', 'Milo', 'Luna', 'Bella'],\n",
    "    'Age': [7, 5, 3, 2, 5, 3, 2, 5],\n",
    "    'Color': ['Gray', 'Black', 'Brown', 'White', 'Black', 'Brown', 'White', 'Black'],\n",
    "    'Owner': ['Charles', 'Charles', 'Cj', 'Cj', 'Cj', 'Charles', 'Cj', 'Charles'],\n",
    "    'Type': ['Cat', 'Cat', 'Dog', 'Dog', 'Dog', 'Cat', 'Dog', 'Cat']\n",
    "}\n",
    "\n",
    "# Create DataFrame "
   ]
  },
  {
   "cell_type": "markdown",
   "id": "09b20a08",
   "metadata": {},
   "source": [
    "Count how many pets of each color each owner has\n",
    "\n",
    "`.size()`"
   ]
  },
  {
   "cell_type": "code",
   "execution_count": null,
   "id": "3dbad118",
   "metadata": {},
   "outputs": [],
   "source": [
    "# Group By Owner and Color "
   ]
  },
  {
   "cell_type": "markdown",
   "id": "3faba005",
   "metadata": {},
   "source": [
    "### Read In Datasets\n",
    "`pd.read_csv()`\n",
    "\n",
    "Read in the file from the data folder called `Shot_Visuals_KaylanBigun_NathanTrouve.csv`\n",
    "\n"
   ]
  },
  {
   "cell_type": "code",
   "execution_count": null,
   "id": "b14cf9f9",
   "metadata": {},
   "outputs": [],
   "source": [
    "# Read data and create df variable\n",
    "\n",
    "# Print the head of the object\n"
   ]
  },
  {
   "cell_type": "markdown",
   "id": "2160e517",
   "metadata": {},
   "source": [
    "##### Create Sample dataframe\n",
    "- save as `sample_df`\n",
    "- First 3 points"
   ]
  },
  {
   "cell_type": "code",
   "execution_count": null,
   "id": "bd140538",
   "metadata": {},
   "outputs": [],
   "source": [
    "# sample_df and first 3 points \n",
    "sample_df = df.head(11) \n",
    "sample_df \n",
    "\n",
    "df[0:11]"
   ]
  },
  {
   "cell_type": "markdown",
   "id": "b276e26b",
   "metadata": {},
   "source": [
    "Group By `pointNumber` and subset the columns `pointStartTime`\n",
    "\n",
    "Use the `.first()` function to grab the first value\n"
   ]
  },
  {
   "cell_type": "code",
   "execution_count": null,
   "id": "b97ff386",
   "metadata": {},
   "outputs": [],
   "source": [
    "sample_df.groupby('pointNumber')[\"pointStartTime\"].first()"
   ]
  },
  {
   "cell_type": "markdown",
   "id": "a8969b5b",
   "metadata": {},
   "source": [
    "Use the `.last()` function to grab the last value\n"
   ]
  },
  {
   "cell_type": "code",
   "execution_count": null,
   "id": "ea64c8c4",
   "metadata": {},
   "outputs": [],
   "source": []
  },
  {
   "cell_type": "markdown",
   "id": "3ffea2ec",
   "metadata": {},
   "source": [
    "### Create your own functions\n",
    "\n",
    "`def function()`\n"
   ]
  },
  {
   "cell_type": "code",
   "execution_count": null,
   "id": "59a183b6",
   "metadata": {},
   "outputs": [],
   "source": [
    "# set a variable x = 2\n",
    "\n",
    "# print variable x \n",
    "\n"
   ]
  },
  {
   "cell_type": "code",
   "execution_count": null,
   "id": "31066638",
   "metadata": {},
   "outputs": [],
   "source": []
  },
  {
   "cell_type": "code",
   "execution_count": null,
   "id": "01d2c0fd",
   "metadata": {},
   "outputs": [],
   "source": [
    "# Create a function that takes a variable x and returns x + 1\n"
   ]
  },
  {
   "cell_type": "code",
   "execution_count": null,
   "id": "2f26c2b0",
   "metadata": {},
   "outputs": [],
   "source": []
  },
  {
   "cell_type": "markdown",
   "id": "8ca41290",
   "metadata": {},
   "source": [
    "##### Personalize your function name and add multiple arguments"
   ]
  },
  {
   "cell_type": "code",
   "execution_count": null,
   "id": "e2023c4c",
   "metadata": {},
   "outputs": [],
   "source": []
  },
  {
   "cell_type": "code",
   "execution_count": null,
   "id": "68d89bfc",
   "metadata": {},
   "outputs": [],
   "source": [
    "# print function and arguments \n"
   ]
  },
  {
   "cell_type": "markdown",
   "id": "cf219453",
   "metadata": {},
   "source": [
    "### Apply Functions\n",
    "`.apply()`"
   ]
  },
  {
   "cell_type": "code",
   "execution_count": null,
   "id": "95b76f34",
   "metadata": {},
   "outputs": [],
   "source": [
    "# Use the pets dataset for this example \n"
   ]
  },
  {
   "cell_type": "code",
   "execution_count": null,
   "id": "b637e241",
   "metadata": {},
   "outputs": [],
   "source": [
    "# Add 1 to the Age column of the pets dataset \n"
   ]
  },
  {
   "cell_type": "code",
   "execution_count": null,
   "id": "c4cba87a",
   "metadata": {},
   "outputs": [],
   "source": [
    "# same as creating your own function\n",
    "\n"
   ]
  },
  {
   "cell_type": "code",
   "execution_count": null,
   "id": "6dfddb7a",
   "metadata": {},
   "outputs": [],
   "source": [
    "# Also use the summarizing functions (mean, max, mean) \n"
   ]
  },
  {
   "cell_type": "code",
   "execution_count": null,
   "id": "95375ba9",
   "metadata": {},
   "outputs": [],
   "source": []
  },
  {
   "cell_type": "code",
   "execution_count": null,
   "id": "ffd0a003",
   "metadata": {},
   "outputs": [],
   "source": [
    "# But the same as this \n"
   ]
  },
  {
   "cell_type": "markdown",
   "id": "b1549884",
   "metadata": {},
   "source": [
    "But if you notice this code below gives us the same as our `plus_one()` function"
   ]
  },
  {
   "cell_type": "code",
   "execution_count": null,
   "id": "e501747d",
   "metadata": {},
   "outputs": [],
   "source": []
  },
  {
   "cell_type": "markdown",
   "id": "417a5639",
   "metadata": {},
   "source": [
    "Use case is in the conditional statements!!"
   ]
  },
  {
   "cell_type": "code",
   "execution_count": null,
   "id": "5b744ef4",
   "metadata": {},
   "outputs": [],
   "source": [
    "# create a function that classifies 5 years and younger as 'young' and everything above 'old' \n"
   ]
  },
  {
   "cell_type": "markdown",
   "id": "9f253cbf",
   "metadata": {},
   "source": [
    "Create a new Column called duration in `new_df`\n",
    "- using the apply function **row-rise**"
   ]
  },
  {
   "cell_type": "code",
   "execution_count": null,
   "id": "4c702cbe",
   "metadata": {},
   "outputs": [],
   "source": [
    "# new_df \n",
    "\n"
   ]
  },
  {
   "cell_type": "code",
   "execution_count": null,
   "id": "4d078bec",
   "metadata": {},
   "outputs": [],
   "source": []
  },
  {
   "cell_type": "code",
   "execution_count": null,
   "id": "9bd981dc",
   "metadata": {},
   "outputs": [],
   "source": []
  },
  {
   "cell_type": "markdown",
   "id": "3466ddd7",
   "metadata": {},
   "source": [
    "But as you notice this function could be simplified to..."
   ]
  },
  {
   "cell_type": "code",
   "execution_count": null,
   "id": "92f31594",
   "metadata": {},
   "outputs": [],
   "source": []
  },
  {
   "cell_type": "markdown",
   "id": "80a68c4c",
   "metadata": {},
   "source": [
    "### Problems to Practice Yourself!!\n",
    "\n",
    "#### Problem 1: From the `(playsight)kaylan_usc.xlsx` dataset, classify the speed of the ball\n",
    "- More than 110: **Fast**\n",
    "- Less than 110 and greater than 70: **Regular**\n",
    "- Less than 70: **Slow**\n"
   ]
  },
  {
   "cell_type": "code",
   "execution_count": null,
   "id": "884b32ce",
   "metadata": {},
   "outputs": [],
   "source": []
  },
  {
   "cell_type": "markdown",
   "id": "365e0305",
   "metadata": {},
   "source": [
    "#### Problem 2: From the `Shot_Visuals_KaylanBigun_NathanTrouve.csv` dataset, create a new column called \"shot_depth\"\n",
    "- Use the image below to classify shots as deep, short, and long\n",
    "- Create a function that takes the arguments `shotLocationX` and `shotLocationY` to create the outputs **short**, **deep**, and **long**"
   ]
  },
  {
   "cell_type": "code",
   "execution_count": null,
   "id": "57bb43eb",
   "metadata": {},
   "outputs": [],
   "source": [
    "from IPython.display import Image\n",
    "\n",
    "Image(filename='images/court_dimensions.jpg', width=250)\n",
    "\n",
    "# IN RELATION TO THIS DATASET'S COORDINATES\n",
    "\n",
    "# Origin is at the center of the court\n",
    "# 455 is the top of the court, -455 is the bottom of the court\n",
    "# -210 is the left side of the court, 210 is the right side of the court"
   ]
  },
  {
   "cell_type": "code",
   "execution_count": null,
   "id": "24858c73",
   "metadata": {},
   "outputs": [],
   "source": []
  },
  {
   "cell_type": "code",
   "execution_count": null,
   "id": "cd09cbb7",
   "metadata": {},
   "outputs": [],
   "source": []
  },
  {
   "cell_type": "code",
   "execution_count": null,
   "id": "7d0cc6c7",
   "metadata": {},
   "outputs": [],
   "source": []
  }
 ],
 "metadata": {
  "kernelspec": {
   "display_name": "base",
   "language": "python",
   "name": "python3"
  },
  "language_info": {
   "codemirror_mode": {
    "name": "ipython",
    "version": 3
   },
   "file_extension": ".py",
   "mimetype": "text/x-python",
   "name": "python",
   "nbconvert_exporter": "python",
   "pygments_lexer": "ipython3",
   "version": "3.11.5"
  }
 },
 "nbformat": 4,
 "nbformat_minor": 5
}
