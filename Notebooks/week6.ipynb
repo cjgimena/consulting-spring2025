{
 "cells": [
  {
   "cell_type": "markdown",
   "id": "9bbca74e",
   "metadata": {},
   "source": [
    "## Week 5: Jupyter Notebook - Pandas GroupBy, Apply, and Create Your Own Functions\n",
    "Make sure to select your Kernel before starting!"
   ]
  },
  {
   "cell_type": "markdown",
   "id": "e320c0b8",
   "metadata": {},
   "source": [
    "### Import Pandas Library/Package\n",
    "`import pandas as pd`"
   ]
  },
  {
   "cell_type": "code",
   "execution_count": null,
   "id": "26feb058",
   "metadata": {},
   "outputs": [],
   "source": [
    "import pandas as pd"
   ]
  },
  {
   "cell_type": "markdown",
   "id": "a739f17f",
   "metadata": {},
   "source": [
    "### Optional: Displaying your Dataframe\n",
    "Don't use for big datasets"
   ]
  },
  {
   "cell_type": "code",
   "execution_count": null,
   "id": "ddffc98d",
   "metadata": {},
   "outputs": [],
   "source": [
    "pd.set_option(\"display.max_columns\", None)  # Show all columns\n",
    "pd.set_option(\"display.max_rows\", None)     # Show all rows"
   ]
  },
  {
   "cell_type": "markdown",
   "id": "8476d5b5",
   "metadata": {},
   "source": [
    "### Spliting Strings!\n",
    "`.split()`"
   ]
  },
  {
   "cell_type": "code",
   "execution_count": null,
   "id": "1f0e755e",
   "metadata": {},
   "outputs": [],
   "source": [
    "# Create a string\n",
    "string = \"Hi my name is Cj\"\n",
    "\n",
    "# Set the delimeter/seperator\n",
    "\n",
    "\n",
    "# Use the .split() function\n"
   ]
  },
  {
   "cell_type": "code",
   "execution_count": null,
   "id": "75297b3f",
   "metadata": {},
   "outputs": [],
   "source": [
    "# Assign output to variable\n",
    "\n",
    "\n",
    "# Grab the \"Cj\" from the list (using indexing)\n",
    "\n"
   ]
  },
  {
   "cell_type": "code",
   "execution_count": null,
   "id": "989ee9ef",
   "metadata": {},
   "outputs": [],
   "source": [
    "# Assign Value to variable\n"
   ]
  },
  {
   "cell_type": "code",
   "execution_count": null,
   "id": "cc51d0e8",
   "metadata": {},
   "outputs": [],
   "source": [
    "# Grab the the \"6\" from the first set score\n"
   ]
  },
  {
   "cell_type": "code",
   "execution_count": null,
   "id": "b7d9c67d",
   "metadata": {},
   "outputs": [],
   "source": []
  },
  {
   "cell_type": "markdown",
   "id": "e596d5df",
   "metadata": {},
   "source": [
    "#### Using this in a DataFrame (with our data)"
   ]
  },
  {
   "cell_type": "code",
   "execution_count": null,
   "id": "331ef150",
   "metadata": {},
   "outputs": [],
   "source": [
    "# Read in the (playsight)kaylan_usc.xlsx, Shots sheet\n",
    "os.chdir(\"..\")  # Move up one directory\n",
    "df = pd.read_excel('data/practice/(playsight)kaylan_usc.xlsx', sheet_name='Shots')\n",
    "df.head()"
   ]
  },
  {
   "cell_type": "code",
   "execution_count": null,
   "id": "c79cad29",
   "metadata": {},
   "outputs": [],
   "source": []
  },
  {
   "cell_type": "code",
   "execution_count": null,
   "id": "21066751",
   "metadata": {},
   "outputs": [],
   "source": []
  },
  {
   "cell_type": "markdown",
   "id": "dae1b108",
   "metadata": {},
   "source": [
    "#### Pandas split Function\n",
    "`.str.split()`"
   ]
  },
  {
   "cell_type": "code",
   "execution_count": null,
   "id": "ca87642a",
   "metadata": {},
   "outputs": [],
   "source": []
  },
  {
   "cell_type": "code",
   "execution_count": null,
   "id": "5c7cf218",
   "metadata": {},
   "outputs": [],
   "source": []
  },
  {
   "cell_type": "markdown",
   "id": "21190142",
   "metadata": {},
   "source": [
    "### What is in what?\n",
    "`in`"
   ]
  },
  {
   "cell_type": "code",
   "execution_count": null,
   "id": "b5eb07c3",
   "metadata": {},
   "outputs": [],
   "source": [
    "name"
   ]
  },
  {
   "cell_type": "code",
   "execution_count": null,
   "id": "da446dd7",
   "metadata": {},
   "outputs": [],
   "source": [
    "string2 = \"Cj is so cool, I like Cj\"\n",
    "\n",
    "# Use the in operator to ouput a boolean to check string2"
   ]
  },
  {
   "cell_type": "code",
   "execution_count": null,
   "id": "4c47dcef",
   "metadata": {},
   "outputs": [],
   "source": [
    "# Also use with if statements\n",
    "\n",
    "item = \"banana\"\n",
    "if item in [\"apple\", \"banana\", \"cherry\"]: # using if statement\n",
    "    print(\"Found!\")"
   ]
  },
  {
   "cell_type": "markdown",
   "id": "e1d3b909",
   "metadata": {},
   "source": [
    "#### Using this in a DataFrame (with our data)"
   ]
  },
  {
   "cell_type": "code",
   "execution_count": null,
   "id": "db69968b",
   "metadata": {},
   "outputs": [],
   "source": [
    "df.head()"
   ]
  },
  {
   "cell_type": "code",
   "execution_count": null,
   "id": "0c516acc",
   "metadata": {},
   "outputs": [],
   "source": [
    "'serve' in df['Type']"
   ]
  },
  {
   "cell_type": "code",
   "execution_count": null,
   "id": "d834b9c3",
   "metadata": {},
   "outputs": [],
   "source": [
    "'serve' in df['Type'][0] # we must iterate through the whole dataframe if we want to find all the cells in with serve\n",
    "                         # how do we do it without iterating through the whole datagrame"
   ]
  },
  {
   "cell_type": "markdown",
   "id": "ac56f749",
   "metadata": {},
   "source": [
    "`.isin()`"
   ]
  },
  {
   "cell_type": "code",
   "execution_count": null,
   "id": "6180782c",
   "metadata": {},
   "outputs": [],
   "source": [
    "# Check all the unique values in the \"Type\" column\n"
   ]
  },
  {
   "cell_type": "code",
   "execution_count": null,
   "id": "dbd7ccd2",
   "metadata": {},
   "outputs": [],
   "source": []
  },
  {
   "cell_type": "markdown",
   "id": "42220a77",
   "metadata": {},
   "source": [
    "### Joining/Merging DataFrames\n",
    "`.merge()`"
   ]
  },
  {
   "cell_type": "code",
   "execution_count": null,
   "id": "ece89ede",
   "metadata": {},
   "outputs": [],
   "source": [
    "df1 = pd.DataFrame({'ID': [1, 2, 3], \n",
    "                    'Name': ['Alice', 'Bob', 'Charlie']})\n",
    "\n",
    "df2 = pd.DataFrame({'ID': [2, 3, 4, 5], \n",
    "                    'Age': [30, 25, 40, 15]})\n",
    "display(df1)\n",
    "display(df2)"
   ]
  },
  {
   "cell_type": "code",
   "execution_count": null,
   "id": "47a6d4d7",
   "metadata": {},
   "outputs": [],
   "source": [
    "# Merge the two dataframes on the ID column\n",
    "\n",
    "\n",
    "# Same as specifying the how argument to 'inner'\n"
   ]
  },
  {
   "cell_type": "code",
   "execution_count": null,
   "id": "10ad2e29",
   "metadata": {},
   "outputs": [],
   "source": [
    "# how = 'outer'\n"
   ]
  },
  {
   "cell_type": "code",
   "execution_count": null,
   "id": "a3c63a7c",
   "metadata": {},
   "outputs": [],
   "source": [
    "# merge by how = 'left'\n",
    "pd.merge(df1, df2, on='ID', how='left')\n"
   ]
  },
  {
   "cell_type": "code",
   "execution_count": null,
   "id": "c60294e5",
   "metadata": {},
   "outputs": [],
   "source": [
    "# merge by how = 'right'\n",
    "pd.merge(df1, df2, on='ID', how='right')"
   ]
  },
  {
   "cell_type": "markdown",
   "id": "8d1ac104",
   "metadata": {},
   "source": [
    "#### Using this in a DataFrame (with our data)"
   ]
  },
  {
   "cell_type": "code",
   "execution_count": null,
   "id": "c4186f17",
   "metadata": {},
   "outputs": [],
   "source": [
    "shots = pd.read_excel('data/practice/(playsight)kaylan_usc.xlsx', sheet_name='Shots')\n",
    "points = pd.read_excel('data/practice/(playsight)kaylan_usc.xlsx', sheet_name='Points')\n",
    "games = pd.read_excel('data/practice/(playsight)kaylan_usc.xlsx', sheet_name='Games')\n",
    "sets = pd.read_excel('data/practice/(playsight)kaylan_usc.xlsx', sheet_name='Sets')"
   ]
  },
  {
   "cell_type": "code",
   "execution_count": null,
   "id": "86e0ac6f",
   "metadata": {},
   "outputs": [],
   "source": [
    "# create sample_shots to grab the first 3 points\n"
   ]
  },
  {
   "cell_type": "code",
   "execution_count": null,
   "id": "30df1141",
   "metadata": {},
   "outputs": [],
   "source": [
    "# create sample_points to grab the first 3 points\n"
   ]
  },
  {
   "cell_type": "markdown",
   "id": "40ff530c",
   "metadata": {},
   "source": [
    "#### What if I wanted to add scores to my shots sheet?"
   ]
  },
  {
   "cell_type": "code",
   "execution_count": null,
   "id": "b9c56da7",
   "metadata": {},
   "outputs": [],
   "source": [
    "def create_point_score(server, host_score, guest_score):\n",
    "    # create a function\n",
    "    \n",
    "# sample_points['Point Score'] = sample_points.apply()"
   ]
  },
  {
   "cell_type": "code",
   "execution_count": null,
   "id": "9b6c5fc8",
   "metadata": {},
   "outputs": [],
   "source": [
    "sample_points"
   ]
  },
  {
   "cell_type": "code",
   "execution_count": null,
   "id": "a3305e0b",
   "metadata": {},
   "outputs": [],
   "source": [
    "sample_points_subset = sample_points[['Point', 'Game', 'Set', 'Point Winner', 'Detail', 'Break Point', 'Set Point', 'Point Score']].copy()\n",
    "sample_points_subset"
   ]
  },
  {
   "cell_type": "code",
   "execution_count": null,
   "id": "0faeb0d9",
   "metadata": {},
   "outputs": [],
   "source": [
    "sample_shots.merge(sample_points_subset, on = ['Point']) # notice how we have a \"Game_y\" and \"Set_y\" column"
   ]
  },
  {
   "cell_type": "code",
   "execution_count": null,
   "id": "2bab3794",
   "metadata": {},
   "outputs": [],
   "source": [
    "# How to fix? Specify all the keys in your \"on\" argument\n",
    "\n",
    "# print dataset\n",
    "\n",
    "# now my dataset has the additonal columns after the \"Video Time\" column"
   ]
  },
  {
   "cell_type": "code",
   "execution_count": null,
   "id": "0f75d1ea",
   "metadata": {},
   "outputs": [],
   "source": [
    "# compare to original sample_shots dataset\n",
    "\n",
    "sample_shots"
   ]
  },
  {
   "cell_type": "markdown",
   "id": "7deebc3b",
   "metadata": {},
   "source": [
    "### Using this on the whole Dataset"
   ]
  },
  {
   "cell_type": "code",
   "execution_count": null,
   "id": "1a9cf88f",
   "metadata": {},
   "outputs": [],
   "source": [
    "def create_point_score(server, host_score, guest_score):\n",
    "    if server == 'host':\n",
    "        return f\"{host_score}-{guest_score}\"\n",
    "    else:\n",
    "        return f\"{guest_score}-{host_score}\"\n",
    "    \n",
    "points['Point Score'] = points.apply(lambda x: \n",
    "                                                   create_point_score(x['Match Server'], x['Host Game Score'], x['Guest Game Score']),\n",
    "                                                   axis=1)"
   ]
  },
  {
   "cell_type": "code",
   "execution_count": null,
   "id": "12bbab93",
   "metadata": {},
   "outputs": [],
   "source": [
    "points.head(20)"
   ]
  },
  {
   "cell_type": "code",
   "execution_count": null,
   "id": "54188b4b",
   "metadata": {},
   "outputs": [],
   "source": [
    "points_subset = points[['Point', 'Game', 'Set', 'Point Winner', 'Detail', 'Break Point', 'Set Point', 'Point Score']].copy()"
   ]
  },
  {
   "cell_type": "code",
   "execution_count": null,
   "id": "d306cfad",
   "metadata": {},
   "outputs": [],
   "source": [
    "shots.merge(points_subset, on = ['Point', 'Game', 'Set']) # notice how we have a \"Game_y\" and \"Set_y\" column"
   ]
  },
  {
   "cell_type": "code",
   "execution_count": null,
   "id": "76aa9bd3",
   "metadata": {},
   "outputs": [],
   "source": []
  }
 ],
 "metadata": {
  "kernelspec": {
   "display_name": "base",
   "language": "python",
   "name": "python3"
  },
  "language_info": {
   "codemirror_mode": {
    "name": "ipython",
    "version": 3
   },
   "file_extension": ".py",
   "mimetype": "text/x-python",
   "name": "python",
   "nbconvert_exporter": "python",
   "pygments_lexer": "ipython3",
   "version": "3.11.5"
  }
 },
 "nbformat": 4,
 "nbformat_minor": 5
}
